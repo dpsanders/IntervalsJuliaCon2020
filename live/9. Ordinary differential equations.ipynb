{
 "cells": [
  {
   "cell_type": "markdown",
   "metadata": {},
   "source": [
    "# 9. Ordinary differential equations: Guaranteed enclosures"
   ]
  },
  {
   "cell_type": "markdown",
   "metadata": {},
   "source": [
    "We end by discussing initial ideas about how interval methods can give guaranteed enclosures of solutions to initial-value problems for ordinary differential equations (ODEs)."
   ]
  },
  {
   "cell_type": "markdown",
   "metadata": {},
   "source": [
    "Consider the ODE\n",
    "\n",
    "$$ \\dot{y} = f(y) = y^2$$\n",
    "\n",
    "with initial condition $y(t=0) = y_0$,\n",
    "where $y_0$ is an *interval*. We can think of this as un uncertain initial condition.\n",
    "\n",
    "The solution of this equation is a function $t \\mapsto y(t)$, where $y(t)$ is itself an interval. We want to find a guaranteed enclosure $Y(t)$ of $y(t)$ for *any* $t$ up to some final $h$.\n",
    "\n",
    "First we set up the problem."
   ]
  },
  {
   "cell_type": "code",
   "execution_count": 1,
   "metadata": {},
   "outputs": [],
   "source": [
    "using IntervalArithmetic"
   ]
  },
  {
   "cell_type": "code",
   "execution_count": 2,
   "metadata": {},
   "outputs": [
    {
     "data": {
      "text/plain": [
       "f (generic function with 1 method)"
      ]
     },
     "execution_count": 2,
     "metadata": {},
     "output_type": "execute_result"
    }
   ],
   "source": [
    "f(y) = y^2"
   ]
  },
  {
   "cell_type": "code",
   "execution_count": 3,
   "metadata": {},
   "outputs": [
    {
     "data": {
      "text/plain": [
       "[1, 1.01001]"
      ]
     },
     "execution_count": 3,
     "metadata": {},
     "output_type": "execute_result"
    }
   ],
   "source": [
    "y0 = 1..1.01"
   ]
  },
  {
   "cell_type": "markdown",
   "metadata": {},
   "source": [
    "## Guaranteed Euler step"
   ]
  },
  {
   "cell_type": "markdown",
   "metadata": {},
   "source": [
    "The simplest standard numerical method for ODEs is the **Euler method**, which gives an approximation"
   ]
  },
  {
   "cell_type": "markdown",
   "metadata": {},
   "source": [
    "$y(h) \\simeq y_0 + h \\, f(y_0)$."
   ]
  },
  {
   "cell_type": "markdown",
   "metadata": {},
   "source": [
    "This is an *uncontrolled* approximation, i.e. we are unable to find a rigorous bound that we can calculate for the error made. \n",
    "\n",
    "Using interval arithmetic we can find such a bound with a clever bootstrapping idea, as follows."
   ]
  },
  {
   "cell_type": "markdown",
   "metadata": {},
   "source": [
    "We need to impose a bound somewhere, since we know that if we don't the differential equation could explode to infinity.\n",
    "\n",
    "Fix some interval $A$ containing $y_0$. We will try to flow for a time $h$ such that $y(t)$ *is guaranteed to remain inside the box $A$* for all $t \\in [0, h]$. This excludes finite-time blow-up.\n",
    "\n",
    "If $f$ is \"sufficiently nice\" (e.g. Lipschitz) then we know that there exists a solution for some small enough $h$."
   ]
  },
  {
   "cell_type": "markdown",
   "metadata": {},
   "source": [
    "For example, let's take"
   ]
  },
  {
   "cell_type": "code",
   "execution_count": 4,
   "metadata": {},
   "outputs": [
    {
     "data": {
      "text/plain": [
       "true"
      ]
     },
     "execution_count": 4,
     "metadata": {},
     "output_type": "execute_result"
    }
   ],
   "source": [
    "A = 0.5..10\n",
    "\n",
    "y0 ⊆ A"
   ]
  },
  {
   "cell_type": "markdown",
   "metadata": {},
   "source": [
    "Suppose we were able to rigorously bound $\\dot{y}$ for all times $t \\in [0,h]$ such that $m \\le \\dot{y}(t) \\le M$. Then we would have bounds on the solution too:\n",
    "\n",
    "$$y_0 + m \\, h \\le y(t) \\le y_0 + M \\, h$$\n",
    "\n",
    "for all $t \\in [0,h]$.\n",
    "\n",
    "In terms of intervals, if $\\dot{y} \\in B := [m, M]$ then $y(t) \\subseteq y_0 + h \\, B$, where $B$ is the *b*ound on the derivative."
   ]
  },
  {
   "cell_type": "markdown",
   "metadata": {},
   "source": [
    "Since $\\dot{y}(t) = f(y(t))$, we can obtain such a bound using interval arithmetic: if $y(t)$ is guaranteed to remain inside $A$ for all $t \\in [0, h]$, then $\\dot{y}(t) \\in f(A)$ for all $t \\in [0, h]$ !\n",
    "\n",
    "\n",
    "(Note that if we do not have a bound for $y(t)$, then we cannot bound $\\dot{y}$.)\n",
    "\n",
    "So take $B := f(A)$ and then fix $h$ such that $y_0 + h f(A) \\subseteq A$:"
   ]
  },
  {
   "cell_type": "code",
   "execution_count": 5,
   "metadata": {},
   "outputs": [
    {
     "data": {
      "text/plain": [
       "[1.25, 101.011]"
      ]
     },
     "execution_count": 5,
     "metadata": {},
     "output_type": "execute_result"
    }
   ],
   "source": [
    "h = interval(1.0)   # initial guess for h\n",
    "\n",
    "y0 + h * f(A)"
   ]
  },
  {
   "cell_type": "code",
   "execution_count": 6,
   "metadata": {},
   "outputs": [
    {
     "data": {
      "text/plain": [
       "false"
      ]
     },
     "execution_count": 6,
     "metadata": {},
     "output_type": "execute_result"
    }
   ],
   "source": [
    "y0 + h*f(A) ⊆ A"
   ]
  },
  {
   "cell_type": "markdown",
   "metadata": {},
   "source": [
    "#### Exercise \n",
    "\n",
    "1. Find a value of $h$ for which this inequality holds."
   ]
  },
  {
   "cell_type": "markdown",
   "metadata": {},
   "source": [
    "Works for 0.0625"
   ]
  },
  {
   "cell_type": "code",
   "execution_count": 8,
   "metadata": {},
   "outputs": [
    {
     "data": {
      "text/plain": [
       "0.0625"
      ]
     },
     "execution_count": 8,
     "metadata": {},
     "output_type": "execute_result"
    }
   ],
   "source": [
    "h = 0.0625"
   ]
  },
  {
   "cell_type": "markdown",
   "metadata": {},
   "source": [
    "We now have a guaranteed inclusion $Y(t)$ for $y(t)$, for all $t \\in [0,h]$:"
   ]
  },
  {
   "cell_type": "code",
   "execution_count": 9,
   "metadata": {},
   "outputs": [
    {
     "data": {
      "text/plain": [
       "true"
      ]
     },
     "execution_count": 9,
     "metadata": {},
     "output_type": "execute_result"
    }
   ],
   "source": [
    "y0 + h*f(A) ⊆ A"
   ]
  },
  {
   "cell_type": "code",
   "execution_count": 10,
   "metadata": {},
   "outputs": [
    {
     "data": {
      "text/plain": [
       "Y (generic function with 1 method)"
      ]
     },
     "execution_count": 10,
     "metadata": {},
     "output_type": "execute_result"
    }
   ],
   "source": [
    "Y(t) = y0 + t*f(A)  "
   ]
  },
  {
   "cell_type": "markdown",
   "metadata": {},
   "source": [
    "In particular,"
   ]
  },
  {
   "cell_type": "code",
   "execution_count": 11,
   "metadata": {},
   "outputs": [
    {
     "data": {
      "text/plain": [
       "[1.01562, 7.26001]"
      ]
     },
     "execution_count": 11,
     "metadata": {},
     "output_type": "execute_result"
    }
   ],
   "source": [
    "Y(h)"
   ]
  },
  {
   "cell_type": "markdown",
   "metadata": {},
   "source": [
    "(Note that $f(A)$ gives an estimate of the Lipschitz constant of the function $y$ over the set $A$.)"
   ]
  },
  {
   "cell_type": "markdown",
   "metadata": {},
   "source": [
    "$Y(t)$ is a cone that increases as a function of $t$. Hence the set of values of $y$ covered in the evolution until time $t$ is contained in the hull $H_1 := y_0 \\sqcup Y(h)$:"
   ]
  },
  {
   "cell_type": "code",
   "execution_count": 18,
   "metadata": {},
   "outputs": [
    {
     "data": {
      "text/plain": [
       "[1, 7.26001]"
      ]
     },
     "execution_count": 18,
     "metadata": {},
     "output_type": "execute_result"
    }
   ],
   "source": [
    "⊔ = hull   # alias for union\n",
    "H = y0 ⊔ Y(h)"
   ]
  },
  {
   "cell_type": "markdown",
   "metadata": {},
   "source": [
    "An alternative point of view is to think of this as $y_0 + [0,h] \\times f(A)$, which gives the same result:"
   ]
  },
  {
   "cell_type": "code",
   "execution_count": 13,
   "metadata": {},
   "outputs": [],
   "source": [
    "IntervalArithmetic.hull(a, b) = hull(interval(a), interval(b))"
   ]
  },
  {
   "cell_type": "code",
   "execution_count": 14,
   "metadata": {},
   "outputs": [
    {
     "data": {
      "text/plain": [
       "[1, 7.26001]"
      ]
     },
     "execution_count": 14,
     "metadata": {},
     "output_type": "execute_result"
    }
   ],
   "source": [
    "H1 = y0 + hull(0, h)*f(A)"
   ]
  },
  {
   "cell_type": "markdown",
   "metadata": {},
   "source": [
    "So we have the inclusion\n",
    "$y(t) \\in H_1$ for all $t \\in [0,h]$. This is *smaller* than $A$, so we can use it to get a better bound:"
   ]
  },
  {
   "cell_type": "code",
   "execution_count": 15,
   "metadata": {},
   "outputs": [
    {
     "data": {
      "text/plain": [
       "[1, 4.30423]"
      ]
     },
     "execution_count": 15,
     "metadata": {},
     "output_type": "execute_result"
    }
   ],
   "source": [
    "H2 = y0 + hull(0, h)*f(H1)"
   ]
  },
  {
   "cell_type": "markdown",
   "metadata": {},
   "source": [
    "#### Exercise\n",
    "\n",
    "1. Repeat this until you reach convergence. You can use the `dist` function to calculate the distance between two intervals."
   ]
  },
  {
   "cell_type": "markdown",
   "metadata": {},
   "source": [
    "Let's solve the ODE accurately and compare with this:"
   ]
  },
  {
   "cell_type": "code",
   "execution_count": 16,
   "metadata": {},
   "outputs": [
    {
     "name": "stderr",
     "output_type": "stream",
     "text": [
      "┌ Info: Precompiling DifferentialEquations [0c46a032-eb83-5123-abaf-570d42b7fbaa]\n",
      "└ @ Base loading.jl:1278\n"
     ]
    }
   ],
   "source": [
    "using DifferentialEquations"
   ]
  },
  {
   "cell_type": "code",
   "execution_count": null,
   "metadata": {},
   "outputs": [],
   "source": [
    "g(u, p, t) = u^2\n",
    "\n",
    "tspan = (0.0, h.hi)"
   ]
  },
  {
   "cell_type": "markdown",
   "metadata": {},
   "source": [
    "Plot solutions from initial conditions in y0:"
   ]
  },
  {
   "cell_type": "code",
   "execution_count": null,
   "metadata": {},
   "outputs": [],
   "source": [
    "using Plots"
   ]
  },
  {
   "cell_type": "code",
   "execution_count": null,
   "metadata": {},
   "outputs": [],
   "source": [
    "function plot_solutions!(g, y0)\n",
    "\n",
    "    for u0 in range(y0.lo, y0.hi, length=10)\n",
    "\n",
    "        prob = ODEProblem(g, u0, tspan)\n",
    "        sol = solve(prob, Tsit5(), reltol=1e-8, abstol=1e-8)\n",
    "\n",
    "        plot!(sol)\n",
    "    end\n",
    "end"
   ]
  },
  {
   "cell_type": "code",
   "execution_count": null,
   "metadata": {},
   "outputs": [],
   "source": [
    "plot(leg=false)\n",
    "\n",
    "plot_solutions!(g, y0)\n",
    "plot!()"
   ]
  },
  {
   "cell_type": "markdown",
   "metadata": {},
   "source": [
    "The box with vertical component $H$ must enclose all the trajectories:"
   ]
  },
  {
   "cell_type": "code",
   "execution_count": null,
   "metadata": {},
   "outputs": [],
   "source": [
    "plot!(IntervalBox(hull(0, h), H))"
   ]
  },
  {
   "cell_type": "markdown",
   "metadata": {},
   "source": [
    "We can also calculate the bounds for different $t$:"
   ]
  },
  {
   "cell_type": "code",
   "execution_count": null,
   "metadata": {},
   "outputs": [],
   "source": [
    "plot(leg=false)\n",
    "plot_solutions!(g, y0)"
   ]
  },
  {
   "cell_type": "code",
   "execution_count": null,
   "metadata": {},
   "outputs": [],
   "source": [
    "Y(t) = y0 + t*f(H)  "
   ]
  },
  {
   "cell_type": "code",
   "execution_count": null,
   "metadata": {},
   "outputs": [],
   "source": [
    "for t in mince(hull(0, h), 10)\n",
    "    plot!(IntervalBox(t, Y(t)), c=:blue, alpha=0.3)\n",
    "end\n",
    "\n",
    "plot!()"
   ]
  },
  {
   "cell_type": "markdown",
   "metadata": {},
   "source": [
    "(We could also just draw the cone.)"
   ]
  },
  {
   "cell_type": "markdown",
   "metadata": {},
   "source": [
    "We can now continue with the next step starting from initial condition $Y(h)$."
   ]
  },
  {
   "cell_type": "markdown",
   "metadata": {},
   "source": [
    "Note that we are enclosing the function $y(t)$, as in notebook 2; the difference here is that we are constructing the enclosures of the previously unknown function as we go."
   ]
  },
  {
   "cell_type": "markdown",
   "metadata": {},
   "source": [
    "There is a major issue with this method: the intervals always expand over time. However the dynamics may contract instead and we would not be able to capture that."
   ]
  },
  {
   "cell_type": "markdown",
   "metadata": {},
   "source": [
    "## Taylor method"
   ]
  },
  {
   "cell_type": "markdown",
   "metadata": {},
   "source": [
    "Here we have effectively carried out an interval Euler method. We can vastly improve the approximation by using higher-order Taylor expansions of the solution $y(t)$ in powers of $t$."
   ]
  },
  {
   "cell_type": "code",
   "execution_count": null,
   "metadata": {},
   "outputs": [],
   "source": []
  }
 ],
 "metadata": {
  "kernelspec": {
   "display_name": "Julia 1.5.0-beta1",
   "language": "julia",
   "name": "julia-1.5"
  },
  "language_info": {
   "file_extension": ".jl",
   "mimetype": "application/julia",
   "name": "julia",
   "version": "1.5.0"
  }
 },
 "nbformat": 4,
 "nbformat_minor": 4
}
