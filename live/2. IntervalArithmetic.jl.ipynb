{
 "cells": [
  {
   "cell_type": "markdown",
   "metadata": {},
   "source": [
    "## 2. The IntervalArithmetic.jl package"
   ]
  },
  {
   "cell_type": "markdown",
   "metadata": {},
   "source": [
    "Now that we have covered some basic ideas of interval arithmetic, you should be able, in principle, to implement each operation. But guaranteeing that the results are rounded correctly, getting all the corner cases right, with generic code, all while achieving high performance, is non-trivial.\n",
    "\n",
    "Together with Luis Benet (ICF-UNAM, Mexico) we have been developing the `IntervalArithmetic.jl` package since 2014. Within the next couple of months we expect it to be compliant with the IEEE-1788 Standard document, which specifies how interval arithmetic packages should behave. It passes a large, independently-developed test suite, ITF1788. \n",
    "\n",
    "In order to get to some of the interesting applications of these methods, we will now switch to using the `IntervalArithmetic.jl` package that we have been developing "
   ]
  },
  {
   "cell_type": "markdown",
   "metadata": {},
   "source": [
    "As usual, we install the package with"
   ]
  },
  {
   "cell_type": "code",
   "execution_count": null,
   "metadata": {},
   "outputs": [],
   "source": [
    "] add IntervalArithmetic"
   ]
  },
  {
   "cell_type": "markdown",
   "metadata": {},
   "source": [
    "and load it with"
   ]
  },
  {
   "cell_type": "code",
   "execution_count": 1,
   "metadata": {},
   "outputs": [],
   "source": [
    "using IntervalArithmetic"
   ]
  },
  {
   "cell_type": "markdown",
   "metadata": {},
   "source": [
    "This is a complete implementation of interval arithmetic that is very fast for `Float64` intervals, but also allows other floating-point types, in particular `BigFloat` (which are slow, because `BigFloat`s are slow)."
   ]
  },
  {
   "cell_type": "markdown",
   "metadata": {},
   "source": [
    "The two main ways to create an interval are as follows:"
   ]
  },
  {
   "cell_type": "code",
   "execution_count": 2,
   "metadata": {},
   "outputs": [
    {
     "data": {
      "text/plain": [
       "[0.1, 0.3]"
      ]
     },
     "execution_count": 2,
     "metadata": {},
     "output_type": "execute_result"
    }
   ],
   "source": [
    "X1 = interval(0.1, 0.3)  # note: lower-case `i`"
   ]
  },
  {
   "cell_type": "code",
   "execution_count": 3,
   "metadata": {},
   "outputs": [
    {
     "data": {
      "text/plain": [
       "Interval{Float64}"
      ]
     },
     "execution_count": 3,
     "metadata": {},
     "output_type": "execute_result"
    }
   ],
   "source": [
    "typeof(X1)"
   ]
  },
  {
   "cell_type": "code",
   "execution_count": 4,
   "metadata": {},
   "outputs": [
    {
     "ename": "ArgumentError",
     "evalue": "ArgumentError: `[0.3, 0.1]` is not a valid interval. Need `a ≤ b` to construct `interval(a, b)`.",
     "output_type": "error",
     "traceback": [
      "ArgumentError: `[0.3, 0.1]` is not a valid interval. Need `a ≤ b` to construct `interval(a, b)`.",
      "",
      "Stacktrace:",
      " [1] interval(::Float64, ::Float64) at /Users/dpsanders/.julia/packages/IntervalArithmetic/sRFlx/src/intervals/intervals.jl:111",
      " [2] top-level scope at In[4]:1"
     ]
    }
   ],
   "source": [
    "interval(0.3, 0.1)"
   ]
  },
  {
   "cell_type": "code",
   "execution_count": 5,
   "metadata": {},
   "outputs": [
    {
     "data": {
      "text/plain": [
       "[0.0999999, 0.300001]"
      ]
     },
     "execution_count": 5,
     "metadata": {},
     "output_type": "execute_result"
    }
   ],
   "source": [
    "X2 = 0.1..0.3    # .. operator"
   ]
  },
  {
   "cell_type": "code",
   "execution_count": null,
   "metadata": {},
   "outputs": [],
   "source": []
  },
  {
   "cell_type": "markdown",
   "metadata": {},
   "source": [
    "Note that these give slightly different results: the `..` operator currently tries to be \"clever\" and guess \"what you really meant\": in this case you supposedly \"really meant\" the true real number 0.1, not the floating-point number `0.1`. However, we are strongly considering removing this perhaps-too-clever behaviour."
   ]
  },
  {
   "cell_type": "markdown",
   "metadata": {},
   "source": [
    "All the standard arithmetic and elementary functions have methods defined for intervals. For example:"
   ]
  },
  {
   "cell_type": "code",
   "execution_count": 6,
   "metadata": {},
   "outputs": [
    {
     "data": {
      "text/plain": [
       "[0.199999, 0.600001]"
      ]
     },
     "execution_count": 6,
     "metadata": {},
     "output_type": "execute_result"
    }
   ],
   "source": [
    "X1 + X2"
   ]
  },
  {
   "cell_type": "markdown",
   "metadata": {},
   "source": [
    "This means that you can use standard Julia functions with intervals as follows:"
   ]
  },
  {
   "cell_type": "code",
   "execution_count": 7,
   "metadata": {},
   "outputs": [
    {
     "data": {
      "text/plain": [
       "f (generic function with 1 method)"
      ]
     },
     "execution_count": 7,
     "metadata": {},
     "output_type": "execute_result"
    }
   ],
   "source": [
    "f(x) = x^2 + 2x"
   ]
  },
  {
   "cell_type": "code",
   "execution_count": 8,
   "metadata": {},
   "outputs": [
    {
     "data": {
      "text/plain": [
       "[-1, 1]"
      ]
     },
     "execution_count": 8,
     "metadata": {},
     "output_type": "execute_result"
    }
   ],
   "source": [
    "X = -1..1"
   ]
  },
  {
   "cell_type": "code",
   "execution_count": 9,
   "metadata": {},
   "outputs": [
    {
     "data": {
      "text/plain": [
       "[-2, 3]"
      ]
     },
     "execution_count": 9,
     "metadata": {},
     "output_type": "execute_result"
    }
   ],
   "source": [
    "f(X)"
   ]
  },
  {
   "cell_type": "markdown",
   "metadata": {},
   "source": [
    "By the fundamental theorem of interval arithmetic, this result is guaranteed to be an enclosure of the true range of the function over the set. However, in this case, even for such an apparently simple function, it turns out to be an *over*-approximation."
   ]
  },
  {
   "cell_type": "markdown",
   "metadata": {},
   "source": [
    "#### Exercise"
   ]
  },
  {
   "cell_type": "markdown",
   "metadata": {},
   "source": [
    "1. Define functions `f1` and `f2` giving equivalent algebraic versions of the function (by factorising etc.). Do they give better or worse ranges? Can you find the exact range?"
   ]
  },
  {
   "cell_type": "code",
   "execution_count": 10,
   "metadata": {},
   "outputs": [
    {
     "data": {
      "text/plain": [
       "([-3, 3], [-1, 3])"
      ]
     },
     "execution_count": 10,
     "metadata": {},
     "output_type": "execute_result"
    }
   ],
   "source": [
    "f1(x) = x * (x + 2)\n",
    "f2(x) = (x + 1)^2 - 1\n",
    "\n",
    "f1(X), f2(X)"
   ]
  },
  {
   "cell_type": "markdown",
   "metadata": {},
   "source": [
    "## Set operations"
   ]
  },
  {
   "cell_type": "markdown",
   "metadata": {},
   "source": [
    "Since intervals are sets, it also makes sense to define standard set operations. Since this is Julia, we can *use the correct mathematical operators* for this!"
   ]
  },
  {
   "cell_type": "code",
   "execution_count": 11,
   "metadata": {},
   "outputs": [
    {
     "data": {
      "text/plain": [
       "[2, 3]"
      ]
     },
     "execution_count": 11,
     "metadata": {},
     "output_type": "execute_result"
    }
   ],
   "source": [
    "(1..3) ∩ (2..4)  # \\cap <TAB>"
   ]
  },
  {
   "cell_type": "code",
   "execution_count": 12,
   "metadata": {},
   "outputs": [
    {
     "data": {
      "text/plain": [
       "intersect (generic function with 27 methods)"
      ]
     },
     "execution_count": 12,
     "metadata": {},
     "output_type": "execute_result"
    }
   ],
   "source": [
    "∩"
   ]
  },
  {
   "cell_type": "code",
   "execution_count": 14,
   "metadata": {},
   "outputs": [],
   "source": [
    "@edit (1..3) ∩ (2..4) "
   ]
  },
  {
   "cell_type": "code",
   "execution_count": 17,
   "metadata": {},
   "outputs": [
    {
     "data": {
      "text/plain": [
       "∅"
      ]
     },
     "execution_count": 17,
     "metadata": {},
     "output_type": "execute_result"
    }
   ],
   "source": [
    "x = emptyinterval(Float64)"
   ]
  },
  {
   "cell_type": "code",
   "execution_count": 18,
   "metadata": {},
   "outputs": [
    {
     "data": {
      "text/plain": [
       "Inf"
      ]
     },
     "execution_count": 18,
     "metadata": {},
     "output_type": "execute_result"
    }
   ],
   "source": [
    "x.lo"
   ]
  },
  {
   "cell_type": "code",
   "execution_count": 19,
   "metadata": {},
   "outputs": [
    {
     "data": {
      "text/plain": [
       "-Inf"
      ]
     },
     "execution_count": 19,
     "metadata": {},
     "output_type": "execute_result"
    }
   ],
   "source": [
    "x.hi"
   ]
  },
  {
   "cell_type": "markdown",
   "metadata": {},
   "source": [
    "This makes the code so nice to read and understandable."
   ]
  },
  {
   "cell_type": "markdown",
   "metadata": {},
   "source": [
    "#### Exercise"
   ]
  },
  {
   "cell_type": "markdown",
   "metadata": {},
   "source": [
    "How can you calculate the set difference of two intervals? What should it give you? What does it give you?"
   ]
  },
  {
   "cell_type": "code",
   "execution_count": 20,
   "metadata": {},
   "outputs": [
    {
     "data": {
      "text/plain": [
       "2-element Array{Interval{Float64},1}:\n",
       " [1, 2]\n",
       " [3, 5]"
      ]
     },
     "execution_count": 20,
     "metadata": {},
     "output_type": "execute_result"
    }
   ],
   "source": [
    "setdiff(1..5, 2..3)   "
   ]
  },
  {
   "cell_type": "markdown",
   "metadata": {},
   "source": [
    "## Kahan's example"
   ]
  },
  {
   "cell_type": "markdown",
   "metadata": {},
   "source": [
    "Let's go back to Kahan's example from the start of the last notebook."
   ]
  },
  {
   "cell_type": "code",
   "execution_count": 21,
   "metadata": {},
   "outputs": [
    {
     "data": {
      "text/plain": [
       "f (generic function with 1 method)"
      ]
     },
     "execution_count": 21,
     "metadata": {},
     "output_type": "execute_result"
    }
   ],
   "source": [
    "f(x) = (1/80) * log(abs(3*(1 - x) + 1)) + x^2 + 1"
   ]
  },
  {
   "cell_type": "markdown",
   "metadata": {},
   "source": [
    "Since all of these functions are defined for intervals, we can find an enclosure of the range of this function over a given input interval $X$ by just evaluating the function using that input interval:"
   ]
  },
  {
   "cell_type": "code",
   "execution_count": 22,
   "metadata": {},
   "outputs": [
    {
     "data": {
      "text/plain": [
       "[1.98854, 2.44001]"
      ]
     },
     "execution_count": 22,
     "metadata": {},
     "output_type": "execute_result"
    }
   ],
   "source": [
    "f(1.0..1.2)"
   ]
  },
  {
   "cell_type": "code",
   "execution_count": 23,
   "metadata": {},
   "outputs": [
    {
     "data": {
      "text/plain": [
       "2.0"
      ]
     },
     "execution_count": 23,
     "metadata": {},
     "output_type": "execute_result"
    }
   ],
   "source": [
    "f(1.0)"
   ]
  },
  {
   "cell_type": "code",
   "execution_count": 24,
   "metadata": {},
   "outputs": [
    {
     "data": {
      "text/plain": [
       "2.428546365851573"
      ]
     },
     "execution_count": 24,
     "metadata": {},
     "output_type": "execute_result"
    }
   ],
   "source": [
    "f(1.2)"
   ]
  },
  {
   "cell_type": "markdown",
   "metadata": {},
   "source": [
    "Now let's try the key region:"
   ]
  },
  {
   "cell_type": "code",
   "execution_count": 25,
   "metadata": {},
   "outputs": [
    {
     "data": {
      "text/plain": [
       "[-∞, 2.93989]"
      ]
     },
     "execution_count": 25,
     "metadata": {},
     "output_type": "execute_result"
    }
   ],
   "source": [
    "f(1.3..1.4)"
   ]
  },
  {
   "cell_type": "markdown",
   "metadata": {},
   "source": [
    "We see that interval arithmetic manages what we were previously unable to do: It warns us that something weird *might* be happening in this interval. But note that since this is only guaranteed to be an *over*-approximation, it does not guarantee that the range actually goes all the way to $-\\infty$; that is something you can work out only by analytical means."
   ]
  },
  {
   "cell_type": "markdown",
   "metadata": {},
   "source": [
    "## Improving enclosures: Bounding functions"
   ]
  },
  {
   "cell_type": "markdown",
   "metadata": {},
   "source": [
    "How can we improve an *over*-estimate of a range? It turns out that we can decrease the amount of over-estimation by simply splitting up the initial interval into pieces. This is sometimes called **mincing** the interval."
   ]
  },
  {
   "cell_type": "code",
   "execution_count": 26,
   "metadata": {},
   "outputs": [],
   "source": [
    "using Plots"
   ]
  },
  {
   "cell_type": "code",
   "execution_count": 29,
   "metadata": {},
   "outputs": [
    {
     "data": {
      "image/svg+xml": [
       "<?xml version=\"1.0\" encoding=\"utf-8\"?>\n",
       "<svg xmlns=\"http://www.w3.org/2000/svg\" xmlns:xlink=\"http://www.w3.org/1999/xlink\" width=\"600\" height=\"400\" viewBox=\"0 0 2400 1600\">\n",
       "<defs>\n",
       "  <clipPath id=\"clip230\">\n",
       "    <rect x=\"0\" y=\"0\" width=\"2400\" height=\"1600\"/>\n",
       "  </clipPath>\n",
       "</defs>\n",
       "<path clip-path=\"url(#clip230)\" d=\"\n",
       "M0 1600 L2400 1600 L2400 0 L0 0  Z\n",
       "  \" fill=\"#ffffff\" fill-rule=\"evenodd\" fill-opacity=\"1\"/>\n",
       "<defs>\n",
       "  <clipPath id=\"clip231\">\n",
       "    <rect x=\"480\" y=\"0\" width=\"1681\" height=\"1600\"/>\n",
       "  </clipPath>\n",
       "</defs>\n",
       "<path clip-path=\"url(#clip230)\" d=\"\n",
       "M538.003 1486.45 L1977.21 1486.45 L1977.21 47.2441 L538.003 47.2441  Z\n",
       "  \" fill=\"#ffffff\" fill-rule=\"evenodd\" fill-opacity=\"1\"/>\n",
       "<defs>\n",
       "  <clipPath id=\"clip232\">\n",
       "    <rect x=\"538\" y=\"47\" width=\"1440\" height=\"1440\"/>\n",
       "  </clipPath>\n",
       "</defs>\n",
       "<polyline clip-path=\"url(#clip232)\" style=\"stroke:#000000; stroke-width:2; stroke-opacity:0.1; fill:none\" points=\"\n",
       "  538.003,1486.45 538.003,47.2441 \n",
       "  \"/>\n",
       "<polyline clip-path=\"url(#clip232)\" style=\"stroke:#000000; stroke-width:2; stroke-opacity:0.1; fill:none\" points=\"\n",
       "  897.804,1486.45 897.804,47.2441 \n",
       "  \"/>\n",
       "<polyline clip-path=\"url(#clip232)\" style=\"stroke:#000000; stroke-width:2; stroke-opacity:0.1; fill:none\" points=\"\n",
       "  1257.61,1486.45 1257.61,47.2441 \n",
       "  \"/>\n",
       "<polyline clip-path=\"url(#clip232)\" style=\"stroke:#000000; stroke-width:2; stroke-opacity:0.1; fill:none\" points=\"\n",
       "  1617.41,1486.45 1617.41,47.2441 \n",
       "  \"/>\n",
       "<polyline clip-path=\"url(#clip232)\" style=\"stroke:#000000; stroke-width:2; stroke-opacity:0.1; fill:none\" points=\"\n",
       "  1977.21,1486.45 1977.21,47.2441 \n",
       "  \"/>\n",
       "<polyline clip-path=\"url(#clip232)\" style=\"stroke:#000000; stroke-width:2; stroke-opacity:0.1; fill:none\" points=\"\n",
       "  538.003,1486.45 1977.21,1486.45 \n",
       "  \"/>\n",
       "<polyline clip-path=\"url(#clip232)\" style=\"stroke:#000000; stroke-width:2; stroke-opacity:0.1; fill:none\" points=\"\n",
       "  538.003,1126.65 1977.21,1126.65 \n",
       "  \"/>\n",
       "<polyline clip-path=\"url(#clip232)\" style=\"stroke:#000000; stroke-width:2; stroke-opacity:0.1; fill:none\" points=\"\n",
       "  538.003,766.846 1977.21,766.846 \n",
       "  \"/>\n",
       "<polyline clip-path=\"url(#clip232)\" style=\"stroke:#000000; stroke-width:2; stroke-opacity:0.1; fill:none\" points=\"\n",
       "  538.003,407.045 1977.21,407.045 \n",
       "  \"/>\n",
       "<polyline clip-path=\"url(#clip232)\" style=\"stroke:#000000; stroke-width:2; stroke-opacity:0.1; fill:none\" points=\"\n",
       "  538.003,47.2441 1977.21,47.2441 \n",
       "  \"/>\n",
       "<polyline clip-path=\"url(#clip230)\" style=\"stroke:#000000; stroke-width:4; stroke-opacity:1; fill:none\" points=\"\n",
       "  538.003,1486.45 1977.21,1486.45 \n",
       "  \"/>\n",
       "<polyline clip-path=\"url(#clip230)\" style=\"stroke:#000000; stroke-width:4; stroke-opacity:1; fill:none\" points=\"\n",
       "  538.003,1486.45 538.003,47.2441 \n",
       "  \"/>\n",
       "<polyline clip-path=\"url(#clip230)\" style=\"stroke:#000000; stroke-width:4; stroke-opacity:1; fill:none\" points=\"\n",
       "  538.003,1486.45 538.003,1469.18 \n",
       "  \"/>\n",
       "<polyline clip-path=\"url(#clip230)\" style=\"stroke:#000000; stroke-width:4; stroke-opacity:1; fill:none\" points=\"\n",
       "  897.804,1486.45 897.804,1469.18 \n",
       "  \"/>\n",
       "<polyline clip-path=\"url(#clip230)\" style=\"stroke:#000000; stroke-width:4; stroke-opacity:1; fill:none\" points=\"\n",
       "  1257.61,1486.45 1257.61,1469.18 \n",
       "  \"/>\n",
       "<polyline clip-path=\"url(#clip230)\" style=\"stroke:#000000; stroke-width:4; stroke-opacity:1; fill:none\" points=\"\n",
       "  1617.41,1486.45 1617.41,1469.18 \n",
       "  \"/>\n",
       "<polyline clip-path=\"url(#clip230)\" style=\"stroke:#000000; stroke-width:4; stroke-opacity:1; fill:none\" points=\"\n",
       "  1977.21,1486.45 1977.21,1469.18 \n",
       "  \"/>\n",
       "<polyline clip-path=\"url(#clip230)\" style=\"stroke:#000000; stroke-width:4; stroke-opacity:1; fill:none\" points=\"\n",
       "  538.003,1486.45 555.274,1486.45 \n",
       "  \"/>\n",
       "<polyline clip-path=\"url(#clip230)\" style=\"stroke:#000000; stroke-width:4; stroke-opacity:1; fill:none\" points=\"\n",
       "  538.003,1126.65 555.274,1126.65 \n",
       "  \"/>\n",
       "<polyline clip-path=\"url(#clip230)\" style=\"stroke:#000000; stroke-width:4; stroke-opacity:1; fill:none\" points=\"\n",
       "  538.003,766.846 555.274,766.846 \n",
       "  \"/>\n",
       "<polyline clip-path=\"url(#clip230)\" style=\"stroke:#000000; stroke-width:4; stroke-opacity:1; fill:none\" points=\"\n",
       "  538.003,407.045 555.274,407.045 \n",
       "  \"/>\n",
       "<polyline clip-path=\"url(#clip230)\" style=\"stroke:#000000; stroke-width:4; stroke-opacity:1; fill:none\" points=\"\n",
       "  538.003,47.2441 555.274,47.2441 \n",
       "  \"/>\n",
       "<path clip-path=\"url(#clip230)\" d=\"M 0 0 M500.272 1525.04 L512.749 1525.04 L512.749 1528.83 L500.272 1528.83 L500.272 1525.04 Z\" fill=\"#000000\" fill-rule=\"evenodd\" fill-opacity=\"1\" /><path clip-path=\"url(#clip230)\" d=\"M 0 0 M517.865 1505.36 L536.221 1505.36 L536.221 1509.3 L522.147 1509.3 L522.147 1517.77 Q523.166 1517.42 524.184 1517.26 Q525.203 1517.07 526.221 1517.07 Q532.008 1517.07 535.388 1520.24 Q538.767 1523.42 538.767 1528.83 Q538.767 1534.41 535.295 1537.51 Q531.823 1540.59 525.503 1540.59 Q523.328 1540.59 521.059 1540.22 Q518.814 1539.85 516.406 1539.11 L516.406 1534.41 Q518.49 1535.54 520.712 1536.1 Q522.934 1536.66 525.411 1536.66 Q529.415 1536.66 531.753 1534.55 Q534.091 1532.44 534.091 1528.83 Q534.091 1525.22 531.753 1523.11 Q529.415 1521.01 525.411 1521.01 Q523.536 1521.01 521.661 1521.42 Q519.809 1521.84 517.865 1522.72 L517.865 1505.36 Z\" fill=\"#000000\" fill-rule=\"evenodd\" fill-opacity=\"1\" /><path clip-path=\"url(#clip230)\" d=\"M 0 0 M543.837 1534.04 L548.721 1534.04 L548.721 1539.92 L543.837 1539.92 L543.837 1534.04 Z\" fill=\"#000000\" fill-rule=\"evenodd\" fill-opacity=\"1\" /><path clip-path=\"url(#clip230)\" d=\"M 0 0 M563.79 1508.44 Q560.179 1508.44 558.351 1512 Q556.545 1515.55 556.545 1522.67 Q556.545 1529.78 558.351 1533.35 Q560.179 1536.89 563.79 1536.89 Q567.425 1536.89 569.23 1533.35 Q571.059 1529.78 571.059 1522.67 Q571.059 1515.55 569.23 1512 Q567.425 1508.44 563.79 1508.44 M563.79 1504.73 Q569.6 1504.73 572.656 1509.34 Q575.735 1513.92 575.735 1522.67 Q575.735 1531.4 572.656 1536.01 Q569.6 1540.59 563.79 1540.59 Q557.98 1540.59 554.901 1536.01 Q551.846 1531.4 551.846 1522.67 Q551.846 1513.92 554.901 1509.34 Q557.98 1504.73 563.79 1504.73 Z\" fill=\"#000000\" fill-rule=\"evenodd\" fill-opacity=\"1\" /><path clip-path=\"url(#clip230)\" d=\"M 0 0 M860.872 1525.04 L873.348 1525.04 L873.348 1528.83 L860.872 1528.83 L860.872 1525.04 Z\" fill=\"#000000\" fill-rule=\"evenodd\" fill-opacity=\"1\" /><path clip-path=\"url(#clip230)\" d=\"M 0 0 M882.446 1535.98 L898.765 1535.98 L898.765 1539.92 L876.821 1539.92 L876.821 1535.98 Q879.483 1533.23 884.066 1528.6 Q888.672 1523.95 889.853 1522.61 Q892.098 1520.08 892.978 1518.35 Q893.881 1516.59 893.881 1514.9 Q893.881 1512.14 891.936 1510.41 Q890.015 1508.67 886.913 1508.67 Q884.714 1508.67 882.26 1509.43 Q879.83 1510.2 877.052 1511.75 L877.052 1507.03 Q879.876 1505.89 882.33 1505.31 Q884.784 1504.73 886.821 1504.73 Q892.191 1504.73 895.385 1507.42 Q898.58 1510.11 898.58 1514.6 Q898.58 1516.73 897.77 1518.65 Q896.983 1520.54 894.876 1523.14 Q894.297 1523.81 891.196 1527.03 Q888.094 1530.22 882.446 1535.98 Z\" fill=\"#000000\" fill-rule=\"evenodd\" fill-opacity=\"1\" /><path clip-path=\"url(#clip230)\" d=\"M 0 0 M903.834 1534.04 L908.719 1534.04 L908.719 1539.92 L903.834 1539.92 L903.834 1534.04 Z\" fill=\"#000000\" fill-rule=\"evenodd\" fill-opacity=\"1\" /><path clip-path=\"url(#clip230)\" d=\"M 0 0 M913.834 1505.36 L932.191 1505.36 L932.191 1509.3 L918.117 1509.3 L918.117 1517.77 Q919.135 1517.42 920.154 1517.26 Q921.172 1517.07 922.191 1517.07 Q927.978 1517.07 931.357 1520.24 Q934.737 1523.42 934.737 1528.83 Q934.737 1534.41 931.265 1537.51 Q927.793 1540.59 921.473 1540.59 Q919.297 1540.59 917.029 1540.22 Q914.783 1539.85 912.376 1539.11 L912.376 1534.41 Q914.459 1535.54 916.682 1536.1 Q918.904 1536.66 921.381 1536.66 Q925.385 1536.66 927.723 1534.55 Q930.061 1532.44 930.061 1528.83 Q930.061 1525.22 927.723 1523.11 Q925.385 1521.01 921.381 1521.01 Q919.506 1521.01 917.631 1521.42 Q915.779 1521.84 913.834 1522.72 L913.834 1505.36 Z\" fill=\"#000000\" fill-rule=\"evenodd\" fill-opacity=\"1\" /><path clip-path=\"url(#clip230)\" d=\"M 0 0 M1239.12 1508.44 Q1235.51 1508.44 1233.68 1512 Q1231.88 1515.55 1231.88 1522.67 Q1231.88 1529.78 1233.68 1533.35 Q1235.51 1536.89 1239.12 1536.89 Q1242.76 1536.89 1244.56 1533.35 Q1246.39 1529.78 1246.39 1522.67 Q1246.39 1515.55 1244.56 1512 Q1242.76 1508.44 1239.12 1508.44 M1239.12 1504.73 Q1244.93 1504.73 1247.99 1509.34 Q1251.07 1513.92 1251.07 1522.67 Q1251.07 1531.4 1247.99 1536.01 Q1244.93 1540.59 1239.12 1540.59 Q1233.31 1540.59 1230.23 1536.01 Q1227.18 1531.4 1227.18 1522.67 Q1227.18 1513.92 1230.23 1509.34 Q1233.31 1504.73 1239.12 1504.73 Z\" fill=\"#000000\" fill-rule=\"evenodd\" fill-opacity=\"1\" /><path clip-path=\"url(#clip230)\" d=\"M 0 0 M1256.14 1534.04 L1261.02 1534.04 L1261.02 1539.92 L1256.14 1539.92 L1256.14 1534.04 Z\" fill=\"#000000\" fill-rule=\"evenodd\" fill-opacity=\"1\" /><path clip-path=\"url(#clip230)\" d=\"M 0 0 M1276.09 1508.44 Q1272.48 1508.44 1270.65 1512 Q1268.84 1515.55 1268.84 1522.67 Q1268.84 1529.78 1270.65 1533.35 Q1272.48 1536.89 1276.09 1536.89 Q1279.72 1536.89 1281.53 1533.35 Q1283.36 1529.78 1283.36 1522.67 Q1283.36 1515.55 1281.53 1512 Q1279.72 1508.44 1276.09 1508.44 M1276.09 1504.73 Q1281.9 1504.73 1284.95 1509.34 Q1288.03 1513.92 1288.03 1522.67 Q1288.03 1531.4 1284.95 1536.01 Q1281.9 1540.59 1276.09 1540.59 Q1270.28 1540.59 1267.2 1536.01 Q1264.14 1531.4 1264.14 1522.67 Q1264.14 1513.92 1267.2 1509.34 Q1270.28 1504.73 1276.09 1504.73 Z\" fill=\"#000000\" fill-rule=\"evenodd\" fill-opacity=\"1\" /><path clip-path=\"url(#clip230)\" d=\"M 0 0 M1594.07 1535.98 L1610.39 1535.98 L1610.39 1539.92 L1588.45 1539.92 L1588.45 1535.98 Q1591.11 1533.23 1595.69 1528.6 Q1600.3 1523.95 1601.48 1522.61 Q1603.73 1520.08 1604.61 1518.35 Q1605.51 1516.59 1605.51 1514.9 Q1605.51 1512.14 1603.56 1510.41 Q1601.64 1508.67 1598.54 1508.67 Q1596.34 1508.67 1593.89 1509.43 Q1591.46 1510.2 1588.68 1511.75 L1588.68 1507.03 Q1591.5 1505.89 1593.96 1505.31 Q1596.41 1504.73 1598.45 1504.73 Q1603.82 1504.73 1607.01 1507.42 Q1610.21 1510.11 1610.21 1514.6 Q1610.21 1516.73 1609.4 1518.65 Q1608.61 1520.54 1606.5 1523.14 Q1605.92 1523.81 1602.82 1527.03 Q1599.72 1530.22 1594.07 1535.98 Z\" fill=\"#000000\" fill-rule=\"evenodd\" fill-opacity=\"1\" /><path clip-path=\"url(#clip230)\" d=\"M 0 0 M1615.46 1534.04 L1620.35 1534.04 L1620.35 1539.92 L1615.46 1539.92 L1615.46 1534.04 Z\" fill=\"#000000\" fill-rule=\"evenodd\" fill-opacity=\"1\" /><path clip-path=\"url(#clip230)\" d=\"M 0 0 M1625.46 1505.36 L1643.82 1505.36 L1643.82 1509.3 L1629.74 1509.3 L1629.74 1517.77 Q1630.76 1517.42 1631.78 1517.26 Q1632.8 1517.07 1633.82 1517.07 Q1639.61 1517.07 1642.98 1520.24 Q1646.36 1523.42 1646.36 1528.83 Q1646.36 1534.41 1642.89 1537.51 Q1639.42 1540.59 1633.1 1540.59 Q1630.92 1540.59 1628.66 1540.22 Q1626.41 1539.85 1624 1539.11 L1624 1534.41 Q1626.09 1535.54 1628.31 1536.1 Q1630.53 1536.66 1633.01 1536.66 Q1637.01 1536.66 1639.35 1534.55 Q1641.69 1532.44 1641.69 1528.83 Q1641.69 1525.22 1639.35 1523.11 Q1637.01 1521.01 1633.01 1521.01 Q1631.13 1521.01 1629.26 1521.42 Q1627.41 1521.84 1625.46 1522.72 L1625.46 1505.36 Z\" fill=\"#000000\" fill-rule=\"evenodd\" fill-opacity=\"1\" /><path clip-path=\"url(#clip230)\" d=\"M 0 0 M1949 1505.36 L1967.36 1505.36 L1967.36 1509.3 L1953.28 1509.3 L1953.28 1517.77 Q1954.3 1517.42 1955.32 1517.26 Q1956.34 1517.07 1957.36 1517.07 Q1963.14 1517.07 1966.52 1520.24 Q1969.9 1523.42 1969.9 1528.83 Q1969.9 1534.41 1966.43 1537.51 Q1962.96 1540.59 1956.64 1540.59 Q1954.46 1540.59 1952.2 1540.22 Q1949.95 1539.85 1947.54 1539.11 L1947.54 1534.41 Q1949.63 1535.54 1951.85 1536.1 Q1954.07 1536.66 1956.55 1536.66 Q1960.55 1536.66 1962.89 1534.55 Q1965.23 1532.44 1965.23 1528.83 Q1965.23 1525.22 1962.89 1523.11 Q1960.55 1521.01 1956.55 1521.01 Q1954.67 1521.01 1952.8 1521.42 Q1950.95 1521.84 1949 1522.72 L1949 1505.36 Z\" fill=\"#000000\" fill-rule=\"evenodd\" fill-opacity=\"1\" /><path clip-path=\"url(#clip230)\" d=\"M 0 0 M1974.97 1534.04 L1979.86 1534.04 L1979.86 1539.92 L1974.97 1539.92 L1974.97 1534.04 Z\" fill=\"#000000\" fill-rule=\"evenodd\" fill-opacity=\"1\" /><path clip-path=\"url(#clip230)\" d=\"M 0 0 M1994.93 1508.44 Q1991.32 1508.44 1989.49 1512 Q1987.68 1515.55 1987.68 1522.67 Q1987.68 1529.78 1989.49 1533.35 Q1991.32 1536.89 1994.93 1536.89 Q1998.56 1536.89 2000.37 1533.35 Q2002.2 1529.78 2002.2 1522.67 Q2002.2 1515.55 2000.37 1512 Q1998.56 1508.44 1994.93 1508.44 M1994.93 1504.73 Q2000.74 1504.73 2003.79 1509.34 Q2006.87 1513.92 2006.87 1522.67 Q2006.87 1531.4 2003.79 1536.01 Q2000.74 1540.59 1994.93 1540.59 Q1989.12 1540.59 1986.04 1536.01 Q1982.98 1531.4 1982.98 1522.67 Q1982.98 1513.92 1986.04 1509.34 Q1989.12 1504.73 1994.93 1504.73 Z\" fill=\"#000000\" fill-rule=\"evenodd\" fill-opacity=\"1\" /><path clip-path=\"url(#clip230)\" d=\"M 0 0 M438.541 1488.84 L451.018 1488.84 L451.018 1492.64 L438.541 1492.64 L438.541 1488.84 Z\" fill=\"#000000\" fill-rule=\"evenodd\" fill-opacity=\"1\" /><path clip-path=\"url(#clip230)\" d=\"M 0 0 M456.133 1469.17 L474.49 1469.17 L474.49 1473.1 L460.416 1473.1 L460.416 1481.58 Q461.434 1481.23 462.453 1481.07 Q463.471 1480.88 464.49 1480.88 Q470.277 1480.88 473.656 1484.05 Q477.036 1487.22 477.036 1492.64 Q477.036 1498.22 473.564 1501.32 Q470.092 1504.4 463.772 1504.4 Q461.596 1504.4 459.328 1504.03 Q457.082 1503.66 454.675 1502.92 L454.675 1498.22 Q456.758 1499.35 458.981 1499.91 Q461.203 1500.46 463.68 1500.46 Q467.684 1500.46 470.022 1498.36 Q472.36 1496.25 472.36 1492.64 Q472.36 1489.03 470.022 1486.92 Q467.684 1484.82 463.68 1484.82 Q461.805 1484.82 459.93 1485.23 Q458.078 1485.65 456.133 1486.53 L456.133 1469.17 Z\" fill=\"#000000\" fill-rule=\"evenodd\" fill-opacity=\"1\" /><path clip-path=\"url(#clip230)\" d=\"M 0 0 M482.105 1497.85 L486.99 1497.85 L486.99 1503.73 L482.105 1503.73 L482.105 1497.85 Z\" fill=\"#000000\" fill-rule=\"evenodd\" fill-opacity=\"1\" /><path clip-path=\"url(#clip230)\" d=\"M 0 0 M502.059 1472.25 Q498.448 1472.25 496.619 1475.81 Q494.814 1479.35 494.814 1486.48 Q494.814 1493.59 496.619 1497.15 Q498.448 1500.7 502.059 1500.7 Q505.693 1500.7 507.499 1497.15 Q509.328 1493.59 509.328 1486.48 Q509.328 1479.35 507.499 1475.81 Q505.693 1472.25 502.059 1472.25 M502.059 1468.54 Q507.869 1468.54 510.925 1473.15 Q514.003 1477.73 514.003 1486.48 Q514.003 1495.21 510.925 1499.82 Q507.869 1504.4 502.059 1504.4 Q496.249 1504.4 493.17 1499.82 Q490.115 1495.21 490.115 1486.48 Q490.115 1477.73 493.17 1473.15 Q496.249 1468.54 502.059 1468.54 Z\" fill=\"#000000\" fill-rule=\"evenodd\" fill-opacity=\"1\" /><path clip-path=\"url(#clip230)\" d=\"M 0 0 M440.138 1129.04 L452.615 1129.04 L452.615 1132.84 L440.138 1132.84 L440.138 1129.04 Z\" fill=\"#000000\" fill-rule=\"evenodd\" fill-opacity=\"1\" /><path clip-path=\"url(#clip230)\" d=\"M 0 0 M461.712 1139.99 L478.031 1139.99 L478.031 1143.93 L456.087 1143.93 L456.087 1139.99 Q458.749 1137.24 463.332 1132.61 Q467.939 1127.95 469.119 1126.61 Q471.365 1124.09 472.244 1122.35 Q473.147 1120.59 473.147 1118.9 Q473.147 1116.15 471.203 1114.41 Q469.281 1112.68 466.18 1112.68 Q463.981 1112.68 461.527 1113.44 Q459.096 1114.2 456.319 1115.76 L456.319 1111.03 Q459.143 1109.9 461.596 1109.32 Q464.05 1108.74 466.087 1108.74 Q471.457 1108.74 474.652 1111.43 Q477.846 1114.11 477.846 1118.6 Q477.846 1120.73 477.036 1122.65 Q476.249 1124.55 474.143 1127.14 Q473.564 1127.82 470.462 1131.03 Q467.36 1134.23 461.712 1139.99 Z\" fill=\"#000000\" fill-rule=\"evenodd\" fill-opacity=\"1\" /><path clip-path=\"url(#clip230)\" d=\"M 0 0 M483.101 1138.05 L487.985 1138.05 L487.985 1143.93 L483.101 1143.93 L483.101 1138.05 Z\" fill=\"#000000\" fill-rule=\"evenodd\" fill-opacity=\"1\" /><path clip-path=\"url(#clip230)\" d=\"M 0 0 M493.101 1109.37 L511.457 1109.37 L511.457 1113.3 L497.383 1113.3 L497.383 1121.77 Q498.402 1121.43 499.42 1121.27 Q500.439 1121.08 501.457 1121.08 Q507.244 1121.08 510.624 1124.25 Q514.003 1127.42 514.003 1132.84 Q514.003 1138.42 510.531 1141.52 Q507.059 1144.6 500.74 1144.6 Q498.564 1144.6 496.295 1144.23 Q494.05 1143.86 491.642 1143.12 L491.642 1138.42 Q493.726 1139.55 495.948 1140.11 Q498.17 1140.66 500.647 1140.66 Q504.652 1140.66 506.99 1138.56 Q509.328 1136.45 509.328 1132.84 Q509.328 1129.23 506.99 1127.12 Q504.652 1125.01 500.647 1125.01 Q498.772 1125.01 496.897 1125.43 Q495.045 1125.85 493.101 1126.73 L493.101 1109.37 Z\" fill=\"#000000\" fill-rule=\"evenodd\" fill-opacity=\"1\" /><path clip-path=\"url(#clip230)\" d=\"M 0 0 M465.092 752.645 Q461.481 752.645 459.652 756.209 Q457.846 759.751 457.846 766.881 Q457.846 773.987 459.652 777.552 Q461.481 781.094 465.092 781.094 Q468.726 781.094 470.531 777.552 Q472.36 773.987 472.36 766.881 Q472.36 759.751 470.531 756.209 Q468.726 752.645 465.092 752.645 M465.092 748.941 Q470.902 748.941 473.957 753.547 Q477.036 758.131 477.036 766.881 Q477.036 775.608 473.957 780.214 Q470.902 784.797 465.092 784.797 Q459.281 784.797 456.203 780.214 Q453.147 775.608 453.147 766.881 Q453.147 758.131 456.203 753.547 Q459.281 748.941 465.092 748.941 Z\" fill=\"#000000\" fill-rule=\"evenodd\" fill-opacity=\"1\" /><path clip-path=\"url(#clip230)\" d=\"M 0 0 M482.105 778.246 L486.99 778.246 L486.99 784.126 L482.105 784.126 L482.105 778.246 Z\" fill=\"#000000\" fill-rule=\"evenodd\" fill-opacity=\"1\" /><path clip-path=\"url(#clip230)\" d=\"M 0 0 M502.059 752.645 Q498.448 752.645 496.619 756.209 Q494.814 759.751 494.814 766.881 Q494.814 773.987 496.619 777.552 Q498.448 781.094 502.059 781.094 Q505.693 781.094 507.499 777.552 Q509.328 773.987 509.328 766.881 Q509.328 759.751 507.499 756.209 Q505.693 752.645 502.059 752.645 M502.059 748.941 Q507.869 748.941 510.925 753.547 Q514.003 758.131 514.003 766.881 Q514.003 775.608 510.925 780.214 Q507.869 784.797 502.059 784.797 Q496.249 784.797 493.17 780.214 Q490.115 775.608 490.115 766.881 Q490.115 758.131 493.17 753.547 Q496.249 748.941 502.059 748.941 Z\" fill=\"#000000\" fill-rule=\"evenodd\" fill-opacity=\"1\" /><path clip-path=\"url(#clip230)\" d=\"M 0 0 M461.712 420.39 L478.031 420.39 L478.031 424.325 L456.087 424.325 L456.087 420.39 Q458.749 417.635 463.332 413.006 Q467.939 408.353 469.119 407.01 Q471.365 404.487 472.244 402.751 Q473.147 400.992 473.147 399.302 Q473.147 396.547 471.203 394.811 Q469.281 393.075 466.18 393.075 Q463.981 393.075 461.527 393.839 Q459.096 394.603 456.319 396.154 L456.319 391.432 Q459.143 390.297 461.596 389.719 Q464.05 389.14 466.087 389.14 Q471.457 389.14 474.652 391.825 Q477.846 394.51 477.846 399.001 Q477.846 401.131 477.036 403.052 Q476.249 404.95 474.143 407.543 Q473.564 408.214 470.462 411.432 Q467.36 414.626 461.712 420.39 Z\" fill=\"#000000\" fill-rule=\"evenodd\" fill-opacity=\"1\" /><path clip-path=\"url(#clip230)\" d=\"M 0 0 M483.101 418.445 L487.985 418.445 L487.985 424.325 L483.101 424.325 L483.101 418.445 Z\" fill=\"#000000\" fill-rule=\"evenodd\" fill-opacity=\"1\" /><path clip-path=\"url(#clip230)\" d=\"M 0 0 M493.101 389.765 L511.457 389.765 L511.457 393.7 L497.383 393.7 L497.383 402.172 Q498.402 401.825 499.42 401.663 Q500.439 401.478 501.457 401.478 Q507.244 401.478 510.624 404.649 Q514.003 407.82 514.003 413.237 Q514.003 418.816 510.531 421.918 Q507.059 424.996 500.74 424.996 Q498.564 424.996 496.295 424.626 Q494.05 424.256 491.642 423.515 L491.642 418.816 Q493.726 419.95 495.948 420.506 Q498.17 421.061 500.647 421.061 Q504.652 421.061 506.99 418.955 Q509.328 416.848 509.328 413.237 Q509.328 409.626 506.99 407.52 Q504.652 405.413 500.647 405.413 Q498.772 405.413 496.897 405.83 Q495.045 406.246 493.101 407.126 L493.101 389.765 Z\" fill=\"#000000\" fill-rule=\"evenodd\" fill-opacity=\"1\" /><path clip-path=\"url(#clip230)\" d=\"M 0 0 M456.133 29.9641 L474.49 29.9641 L474.49 33.8993 L460.416 33.8993 L460.416 42.3714 Q461.434 42.0242 462.453 41.8622 Q463.471 41.677 464.49 41.677 Q470.277 41.677 473.656 44.8483 Q477.036 48.0196 477.036 53.4362 Q477.036 59.0149 473.564 62.1167 Q470.092 65.1954 463.772 65.1954 Q461.596 65.1954 459.328 64.825 Q457.082 64.4547 454.675 63.7139 L454.675 59.0149 Q456.758 60.1491 458.981 60.7047 Q461.203 61.2602 463.68 61.2602 Q467.684 61.2602 470.022 59.1538 Q472.36 57.0473 472.36 53.4362 Q472.36 49.8251 470.022 47.7186 Q467.684 45.6122 463.68 45.6122 Q461.805 45.6122 459.93 46.0288 Q458.078 46.4455 456.133 47.3251 L456.133 29.9641 Z\" fill=\"#000000\" fill-rule=\"evenodd\" fill-opacity=\"1\" /><path clip-path=\"url(#clip230)\" d=\"M 0 0 M482.105 58.6445 L486.99 58.6445 L486.99 64.5241 L482.105 64.5241 L482.105 58.6445 Z\" fill=\"#000000\" fill-rule=\"evenodd\" fill-opacity=\"1\" /><path clip-path=\"url(#clip230)\" d=\"M 0 0 M502.059 33.0428 Q498.448 33.0428 496.619 36.6076 Q494.814 40.1492 494.814 47.2788 Q494.814 54.3853 496.619 57.9501 Q498.448 61.4917 502.059 61.4917 Q505.693 61.4917 507.499 57.9501 Q509.328 54.3853 509.328 47.2788 Q509.328 40.1492 507.499 36.6076 Q505.693 33.0428 502.059 33.0428 M502.059 29.3391 Q507.869 29.3391 510.925 33.9456 Q514.003 38.5289 514.003 47.2788 Q514.003 56.0056 510.925 60.6121 Q507.869 65.1954 502.059 65.1954 Q496.249 65.1954 493.17 60.6121 Q490.115 56.0056 490.115 47.2788 Q490.115 38.5289 493.17 33.9456 Q496.249 29.3391 502.059 29.3391 Z\" fill=\"#000000\" fill-rule=\"evenodd\" fill-opacity=\"1\" /><path clip-path=\"url(#clip232)\" d=\"\n",
       "M1401.53 335.085 L1545.45 335.085 L1545.45 191.164 L1401.53 191.164 L1401.53 335.085  Z\n",
       "  \" fill=\"#009af9\" fill-rule=\"evenodd\" fill-opacity=\"0.5\"/>\n",
       "<polyline clip-path=\"url(#clip232)\" style=\"stroke:#000000; stroke-width:4; stroke-opacity:0.5; fill:none\" points=\"\n",
       "  1401.53,335.085 1545.45,335.085 1545.45,191.164 1401.53,191.164 1401.53,335.085 \n",
       "  \"/>\n",
       "<path clip-path=\"url(#clip230)\" d=\"\n",
       "M1718.3 216.178 L1929.23 216.178 L1929.23 95.2176 L1718.3 95.2176  Z\n",
       "  \" fill=\"#ffffff\" fill-rule=\"evenodd\" fill-opacity=\"1\"/>\n",
       "<polyline clip-path=\"url(#clip230)\" style=\"stroke:#000000; stroke-width:4; stroke-opacity:1; fill:none\" points=\"\n",
       "  1718.3,216.178 1929.23,216.178 1929.23,95.2176 1718.3,95.2176 1718.3,216.178 \n",
       "  \"/>\n",
       "<path clip-path=\"url(#clip230)\" d=\"\n",
       "M1734.3 179.89 L1830.24 179.89 L1830.24 131.506 L1734.3 131.506 L1734.3 179.89  Z\n",
       "  \" fill=\"#009af9\" fill-rule=\"evenodd\" fill-opacity=\"0.5\"/>\n",
       "<polyline clip-path=\"url(#clip230)\" style=\"stroke:#000000; stroke-width:4; stroke-opacity:1; fill:none\" points=\"\n",
       "  1734.3,179.89 1830.24,179.89 1830.24,131.506 1734.3,131.506 1734.3,179.89 \n",
       "  \"/>\n",
       "<path clip-path=\"url(#clip230)\" d=\"M 0 0 M1860.08 175.385 Q1858.27 180.015 1856.56 181.427 Q1854.84 182.839 1851.97 182.839 L1848.57 182.839 L1848.57 179.274 L1851.07 179.274 Q1852.83 179.274 1853.8 178.44 Q1854.77 177.607 1855.96 174.505 L1856.72 172.561 L1846.23 147.052 L1850.75 147.052 L1858.85 167.329 L1866.95 147.052 L1871.46 147.052 L1860.08 175.385 Z\" fill=\"#000000\" fill-rule=\"evenodd\" fill-opacity=\"1\" /><path clip-path=\"url(#clip230)\" d=\"M 0 0 M1877.34 169.042 L1884.98 169.042 L1884.98 142.677 L1876.67 144.343 L1876.67 140.084 L1884.94 138.418 L1889.61 138.418 L1889.61 169.042 L1897.25 169.042 L1897.25 172.978 L1877.34 172.978 L1877.34 169.042 Z\" fill=\"#000000\" fill-rule=\"evenodd\" fill-opacity=\"1\" /></svg>\n"
      ]
     },
     "execution_count": 29,
     "metadata": {},
     "output_type": "execute_result"
    }
   ],
   "source": [
    "plot(IntervalBox(1..2, 3..4), ratio=1, xlim=(-5, 5), ylim=(-5, 5))"
   ]
  },
  {
   "cell_type": "markdown",
   "metadata": {},
   "source": [
    "#### Exercise\n",
    "\n",
    "1. Write a function `mymince` to split a given interval $X$ into $N$ equal-sized pieces.\n",
    "\n",
    "\n",
    "2. For the function $f(x) = x^2 + 2x$ visualize the input and output intervals.\n",
    "\n",
    "\n",
    "3. Make this into an interactive visualization with `Interact.jl` where you vary the number $N$ of sub-intervals.s\n",
    "\n",
    "\n",
    "4. Apply this to the Kahan function. You will need to check for infinity and cut off the result at a finite value."
   ]
  },
  {
   "cell_type": "code",
   "execution_count": 33,
   "metadata": {},
   "outputs": [
    {
     "data": {
      "text/plain": [
       "[-3, 3]"
      ]
     },
     "execution_count": 33,
     "metadata": {},
     "output_type": "execute_result"
    }
   ],
   "source": [
    "X = -3..3"
   ]
  },
  {
   "cell_type": "code",
   "execution_count": 36,
   "metadata": {},
   "outputs": [
    {
     "data": {
      "text/plain": [
       "f (generic function with 1 method)"
      ]
     },
     "execution_count": 36,
     "metadata": {},
     "output_type": "execute_result"
    }
   ],
   "source": [
    "f(x) = x^2 + 2x"
   ]
  },
  {
   "cell_type": "code",
   "execution_count": 38,
   "metadata": {},
   "outputs": [
    {
     "data": {
      "image/svg+xml": [
       "<?xml version=\"1.0\" encoding=\"utf-8\"?>\n",
       "<svg xmlns=\"http://www.w3.org/2000/svg\" xmlns:xlink=\"http://www.w3.org/1999/xlink\" width=\"600\" height=\"400\" viewBox=\"0 0 2400 1600\">\n",
       "<defs>\n",
       "  <clipPath id=\"clip470\">\n",
       "    <rect x=\"0\" y=\"0\" width=\"2400\" height=\"1600\"/>\n",
       "  </clipPath>\n",
       "</defs>\n",
       "<path clip-path=\"url(#clip470)\" d=\"\n",
       "M0 1600 L2400 1600 L2400 0 L0 0  Z\n",
       "  \" fill=\"#ffffff\" fill-rule=\"evenodd\" fill-opacity=\"1\"/>\n",
       "<defs>\n",
       "  <clipPath id=\"clip471\">\n",
       "    <rect x=\"480\" y=\"0\" width=\"1681\" height=\"1600\"/>\n",
       "  </clipPath>\n",
       "</defs>\n",
       "<path clip-path=\"url(#clip470)\" d=\"\n",
       "M136.76 1486.45 L2352.76 1486.45 L2352.76 47.2441 L136.76 47.2441  Z\n",
       "  \" fill=\"#ffffff\" fill-rule=\"evenodd\" fill-opacity=\"1\"/>\n",
       "<defs>\n",
       "  <clipPath id=\"clip472\">\n",
       "    <rect x=\"136\" y=\"47\" width=\"2217\" height=\"1440\"/>\n",
       "  </clipPath>\n",
       "</defs>\n",
       "<polyline clip-path=\"url(#clip472)\" style=\"stroke:#000000; stroke-width:2; stroke-opacity:0.1; fill:none\" points=\"\n",
       "  408.533,1486.45 408.533,47.2441 \n",
       "  \"/>\n",
       "<polyline clip-path=\"url(#clip472)\" style=\"stroke:#000000; stroke-width:2; stroke-opacity:0.1; fill:none\" points=\"\n",
       "  826.646,1486.45 826.646,47.2441 \n",
       "  \"/>\n",
       "<polyline clip-path=\"url(#clip472)\" style=\"stroke:#000000; stroke-width:2; stroke-opacity:0.1; fill:none\" points=\"\n",
       "  1244.76,1486.45 1244.76,47.2441 \n",
       "  \"/>\n",
       "<polyline clip-path=\"url(#clip472)\" style=\"stroke:#000000; stroke-width:2; stroke-opacity:0.1; fill:none\" points=\"\n",
       "  1662.87,1486.45 1662.87,47.2441 \n",
       "  \"/>\n",
       "<polyline clip-path=\"url(#clip472)\" style=\"stroke:#000000; stroke-width:2; stroke-opacity:0.1; fill:none\" points=\"\n",
       "  2080.98,1486.45 2080.98,47.2441 \n",
       "  \"/>\n",
       "<polyline clip-path=\"url(#clip472)\" style=\"stroke:#000000; stroke-width:2; stroke-opacity:0.1; fill:none\" points=\"\n",
       "  136.76,1247.02 2352.76,1247.02 \n",
       "  \"/>\n",
       "<polyline clip-path=\"url(#clip472)\" style=\"stroke:#000000; stroke-width:2; stroke-opacity:0.1; fill:none\" points=\"\n",
       "  136.76,915.866 2352.76,915.866 \n",
       "  \"/>\n",
       "<polyline clip-path=\"url(#clip472)\" style=\"stroke:#000000; stroke-width:2; stroke-opacity:0.1; fill:none\" points=\"\n",
       "  136.76,584.71 2352.76,584.71 \n",
       "  \"/>\n",
       "<polyline clip-path=\"url(#clip472)\" style=\"stroke:#000000; stroke-width:2; stroke-opacity:0.1; fill:none\" points=\"\n",
       "  136.76,253.554 2352.76,253.554 \n",
       "  \"/>\n",
       "<polyline clip-path=\"url(#clip470)\" style=\"stroke:#000000; stroke-width:4; stroke-opacity:1; fill:none\" points=\"\n",
       "  136.76,1486.45 2352.76,1486.45 \n",
       "  \"/>\n",
       "<polyline clip-path=\"url(#clip470)\" style=\"stroke:#000000; stroke-width:4; stroke-opacity:1; fill:none\" points=\"\n",
       "  136.76,1486.45 136.76,47.2441 \n",
       "  \"/>\n",
       "<polyline clip-path=\"url(#clip470)\" style=\"stroke:#000000; stroke-width:4; stroke-opacity:1; fill:none\" points=\"\n",
       "  408.533,1486.45 408.533,1469.18 \n",
       "  \"/>\n",
       "<polyline clip-path=\"url(#clip470)\" style=\"stroke:#000000; stroke-width:4; stroke-opacity:1; fill:none\" points=\"\n",
       "  826.646,1486.45 826.646,1469.18 \n",
       "  \"/>\n",
       "<polyline clip-path=\"url(#clip470)\" style=\"stroke:#000000; stroke-width:4; stroke-opacity:1; fill:none\" points=\"\n",
       "  1244.76,1486.45 1244.76,1469.18 \n",
       "  \"/>\n",
       "<polyline clip-path=\"url(#clip470)\" style=\"stroke:#000000; stroke-width:4; stroke-opacity:1; fill:none\" points=\"\n",
       "  1662.87,1486.45 1662.87,1469.18 \n",
       "  \"/>\n",
       "<polyline clip-path=\"url(#clip470)\" style=\"stroke:#000000; stroke-width:4; stroke-opacity:1; fill:none\" points=\"\n",
       "  2080.98,1486.45 2080.98,1469.18 \n",
       "  \"/>\n",
       "<polyline clip-path=\"url(#clip470)\" style=\"stroke:#000000; stroke-width:4; stroke-opacity:1; fill:none\" points=\"\n",
       "  136.76,1247.02 163.352,1247.02 \n",
       "  \"/>\n",
       "<polyline clip-path=\"url(#clip470)\" style=\"stroke:#000000; stroke-width:4; stroke-opacity:1; fill:none\" points=\"\n",
       "  136.76,915.866 163.352,915.866 \n",
       "  \"/>\n",
       "<polyline clip-path=\"url(#clip470)\" style=\"stroke:#000000; stroke-width:4; stroke-opacity:1; fill:none\" points=\"\n",
       "  136.76,584.71 163.352,584.71 \n",
       "  \"/>\n",
       "<polyline clip-path=\"url(#clip470)\" style=\"stroke:#000000; stroke-width:4; stroke-opacity:1; fill:none\" points=\"\n",
       "  136.76,253.554 163.352,253.554 \n",
       "  \"/>\n",
       "<path clip-path=\"url(#clip470)\" d=\"M 0 0 M388.545 1525.04 L401.022 1525.04 L401.022 1528.83 L388.545 1528.83 L388.545 1525.04 Z\" fill=\"#000000\" fill-rule=\"evenodd\" fill-opacity=\"1\" /><path clip-path=\"url(#clip470)\" d=\"M 0 0 M418.938 1509.43 L407.133 1527.88 L418.938 1527.88 L418.938 1509.43 M417.712 1505.36 L423.591 1505.36 L423.591 1527.88 L428.522 1527.88 L428.522 1531.77 L423.591 1531.77 L423.591 1539.92 L418.938 1539.92 L418.938 1531.77 L403.337 1531.77 L403.337 1527.26 L417.712 1505.36 Z\" fill=\"#000000\" fill-rule=\"evenodd\" fill-opacity=\"1\" /><path clip-path=\"url(#clip470)\" d=\"M 0 0 M807.699 1525.04 L820.176 1525.04 L820.176 1528.83 L807.699 1528.83 L807.699 1525.04 Z\" fill=\"#000000\" fill-rule=\"evenodd\" fill-opacity=\"1\" /><path clip-path=\"url(#clip470)\" d=\"M 0 0 M829.273 1535.98 L845.592 1535.98 L845.592 1539.92 L823.648 1539.92 L823.648 1535.98 Q826.31 1533.23 830.893 1528.6 Q835.5 1523.95 836.68 1522.61 Q838.926 1520.08 839.805 1518.35 Q840.708 1516.59 840.708 1514.9 Q840.708 1512.14 838.764 1510.41 Q836.842 1508.67 833.741 1508.67 Q831.542 1508.67 829.088 1509.43 Q826.657 1510.2 823.88 1511.75 L823.88 1507.03 Q826.704 1505.89 829.157 1505.31 Q831.611 1504.73 833.648 1504.73 Q839.018 1504.73 842.213 1507.42 Q845.407 1510.11 845.407 1514.6 Q845.407 1516.73 844.597 1518.65 Q843.81 1520.54 841.704 1523.14 Q841.125 1523.81 838.023 1527.03 Q834.921 1530.22 829.273 1535.98 Z\" fill=\"#000000\" fill-rule=\"evenodd\" fill-opacity=\"1\" /><path clip-path=\"url(#clip470)\" d=\"M 0 0 M1244.76 1508.44 Q1241.15 1508.44 1239.32 1512 Q1237.51 1515.55 1237.51 1522.67 Q1237.51 1529.78 1239.32 1533.35 Q1241.15 1536.89 1244.76 1536.89 Q1248.39 1536.89 1250.2 1533.35 Q1252.03 1529.78 1252.03 1522.67 Q1252.03 1515.55 1250.2 1512 Q1248.39 1508.44 1244.76 1508.44 M1244.76 1504.73 Q1250.57 1504.73 1253.62 1509.34 Q1256.7 1513.92 1256.7 1522.67 Q1256.7 1531.4 1253.62 1536.01 Q1250.57 1540.59 1244.76 1540.59 Q1238.95 1540.59 1235.87 1536.01 Q1232.81 1531.4 1232.81 1522.67 Q1232.81 1513.92 1235.87 1509.34 Q1238.95 1504.73 1244.76 1504.73 Z\" fill=\"#000000\" fill-rule=\"evenodd\" fill-opacity=\"1\" /><path clip-path=\"url(#clip470)\" d=\"M 0 0 M1657.52 1535.98 L1673.84 1535.98 L1673.84 1539.92 L1651.9 1539.92 L1651.9 1535.98 Q1654.56 1533.23 1659.14 1528.6 Q1663.75 1523.95 1664.93 1522.61 Q1667.18 1520.08 1668.06 1518.35 Q1668.96 1516.59 1668.96 1514.9 Q1668.96 1512.14 1667.01 1510.41 Q1665.09 1508.67 1661.99 1508.67 Q1659.79 1508.67 1657.34 1509.43 Q1654.91 1510.2 1652.13 1511.75 L1652.13 1507.03 Q1654.95 1505.89 1657.41 1505.31 Q1659.86 1504.73 1661.9 1504.73 Q1667.27 1504.73 1670.46 1507.42 Q1673.66 1510.11 1673.66 1514.6 Q1673.66 1516.73 1672.85 1518.65 Q1672.06 1520.54 1669.95 1523.14 Q1669.38 1523.81 1666.27 1527.03 Q1663.17 1530.22 1657.52 1535.98 Z\" fill=\"#000000\" fill-rule=\"evenodd\" fill-opacity=\"1\" /><path clip-path=\"url(#clip470)\" d=\"M 0 0 M2083.99 1509.43 L2072.19 1527.88 L2083.99 1527.88 L2083.99 1509.43 M2082.77 1505.36 L2088.64 1505.36 L2088.64 1527.88 L2093.58 1527.88 L2093.58 1531.77 L2088.64 1531.77 L2088.64 1539.92 L2083.99 1539.92 L2083.99 1531.77 L2068.39 1531.77 L2068.39 1527.26 L2082.77 1505.36 Z\" fill=\"#000000\" fill-rule=\"evenodd\" fill-opacity=\"1\" /><path clip-path=\"url(#clip470)\" d=\"M 0 0 M100.816 1232.82 Q97.2049 1232.82 95.3762 1236.39 Q93.5707 1239.93 93.5707 1247.06 Q93.5707 1254.16 95.3762 1257.73 Q97.2049 1261.27 100.816 1261.27 Q104.45 1261.27 106.256 1257.73 Q108.084 1254.16 108.084 1247.06 Q108.084 1239.93 106.256 1236.39 Q104.45 1232.82 100.816 1232.82 M100.816 1229.12 Q106.626 1229.12 109.682 1233.72 Q112.76 1238.31 112.76 1247.06 Q112.76 1255.78 109.682 1260.39 Q106.626 1264.97 100.816 1264.97 Q95.0058 1264.97 91.9272 1260.39 Q88.8716 1255.78 88.8716 1247.06 Q88.8716 1238.31 91.9272 1233.72 Q95.0058 1229.12 100.816 1229.12 Z\" fill=\"#000000\" fill-rule=\"evenodd\" fill-opacity=\"1\" /><path clip-path=\"url(#clip470)\" d=\"M 0 0 M65.8393 929.211 L73.4782 929.211 L73.4782 902.845 L65.168 904.512 L65.168 900.253 L73.4319 898.586 L78.1078 898.586 L78.1078 929.211 L85.7466 929.211 L85.7466 933.146 L65.8393 933.146 L65.8393 929.211 Z\" fill=\"#000000\" fill-rule=\"evenodd\" fill-opacity=\"1\" /><path clip-path=\"url(#clip470)\" d=\"M 0 0 M100.816 901.665 Q97.2049 901.665 95.3762 905.23 Q93.5707 908.771 93.5707 915.901 Q93.5707 923.007 95.3762 926.572 Q97.2049 930.114 100.816 930.114 Q104.45 930.114 106.256 926.572 Q108.084 923.007 108.084 915.901 Q108.084 908.771 106.256 905.23 Q104.45 901.665 100.816 901.665 M100.816 897.961 Q106.626 897.961 109.682 902.568 Q112.76 907.151 112.76 915.901 Q112.76 924.628 109.682 929.234 Q106.626 933.817 100.816 933.817 Q95.0058 933.817 91.9272 929.234 Q88.8716 924.628 88.8716 915.901 Q88.8716 907.151 91.9272 902.568 Q95.0058 897.961 100.816 897.961 Z\" fill=\"#000000\" fill-rule=\"evenodd\" fill-opacity=\"1\" /><path clip-path=\"url(#clip470)\" d=\"M 0 0 M69.4273 598.055 L85.7466 598.055 L85.7466 601.99 L63.8023 601.99 L63.8023 598.055 Q66.4643 595.3 71.0476 590.671 Q75.6541 586.018 76.8346 584.675 Q79.08 582.152 79.9596 580.416 Q80.8624 578.657 80.8624 576.967 Q80.8624 574.213 78.918 572.476 Q76.9967 570.74 73.8948 570.74 Q71.6958 570.74 69.2421 571.504 Q66.8115 572.268 64.0338 573.819 L64.0338 569.097 Q66.8578 567.963 69.3115 567.384 Q71.7652 566.805 73.8023 566.805 Q79.1726 566.805 82.367 569.49 Q85.5614 572.176 85.5614 576.666 Q85.5614 578.796 84.7513 580.717 Q83.9642 582.615 81.8578 585.208 Q81.2791 585.879 78.1772 589.097 Q75.0754 592.291 69.4273 598.055 Z\" fill=\"#000000\" fill-rule=\"evenodd\" fill-opacity=\"1\" /><path clip-path=\"url(#clip470)\" d=\"M 0 0 M100.816 570.509 Q97.2049 570.509 95.3762 574.074 Q93.5707 577.615 93.5707 584.745 Q93.5707 591.851 95.3762 595.416 Q97.2049 598.958 100.816 598.958 Q104.45 598.958 106.256 595.416 Q108.084 591.851 108.084 584.745 Q108.084 577.615 106.256 574.074 Q104.45 570.509 100.816 570.509 M100.816 566.805 Q106.626 566.805 109.682 571.412 Q112.76 575.995 112.76 584.745 Q112.76 593.472 109.682 598.078 Q106.626 602.662 100.816 602.662 Q95.0058 602.662 91.9272 598.078 Q88.8716 593.472 88.8716 584.745 Q88.8716 575.995 91.9272 571.412 Q95.0058 566.805 100.816 566.805 Z\" fill=\"#000000\" fill-rule=\"evenodd\" fill-opacity=\"1\" /><path clip-path=\"url(#clip470)\" d=\"M 0 0 M78.617 252.2 Q81.9735 252.918 83.8485 255.186 Q85.7466 257.455 85.7466 260.788 Q85.7466 265.904 82.2281 268.705 Q78.7096 271.506 72.2282 271.506 Q70.0523 271.506 67.7375 271.066 Q65.4458 270.649 62.9921 269.793 L62.9921 265.279 Q64.9366 266.413 67.2514 266.992 Q69.5662 267.57 72.0893 267.57 Q76.4874 267.57 78.7791 265.834 Q81.0939 264.098 81.0939 260.788 Q81.0939 257.732 78.9411 256.02 Q76.8115 254.283 72.9921 254.283 L68.9643 254.283 L68.9643 250.441 L73.1773 250.441 Q76.6263 250.441 78.455 249.075 Q80.2837 247.686 80.2837 245.094 Q80.2837 242.432 78.3856 241.02 Q76.5106 239.584 72.9921 239.584 Q71.0708 239.584 68.8717 240.001 Q66.6727 240.418 64.0338 241.297 L64.0338 237.131 Q66.6958 236.39 69.0106 236.02 Q71.3486 235.649 73.4087 235.649 Q78.7328 235.649 81.8346 238.08 Q84.9365 240.487 84.9365 244.608 Q84.9365 247.478 83.2929 249.469 Q81.6494 251.436 78.617 252.2 Z\" fill=\"#000000\" fill-rule=\"evenodd\" fill-opacity=\"1\" /><path clip-path=\"url(#clip470)\" d=\"M 0 0 M100.816 239.353 Q97.2049 239.353 95.3762 242.918 Q93.5707 246.459 93.5707 253.589 Q93.5707 260.695 95.3762 264.26 Q97.2049 267.802 100.816 267.802 Q104.45 267.802 106.256 264.26 Q108.084 260.695 108.084 253.589 Q108.084 246.459 106.256 242.918 Q104.45 239.353 100.816 239.353 M100.816 235.649 Q106.626 235.649 109.682 240.256 Q112.76 244.839 112.76 253.589 Q112.76 262.316 109.682 266.922 Q106.626 271.506 100.816 271.506 Q95.0058 271.506 91.9272 266.922 Q88.8716 262.316 88.8716 253.589 Q88.8716 244.839 91.9272 240.256 Q95.0058 235.649 100.816 235.649 Z\" fill=\"#000000\" fill-rule=\"evenodd\" fill-opacity=\"1\" /><polyline clip-path=\"url(#clip472)\" style=\"stroke:#009af9; stroke-width:4; stroke-opacity:1; fill:none\" points=\"\n",
       "  199.477,750.288 209.685,763.145 219.893,775.844 314.281,885.786 408.669,982.226 465.392,1033.69 522.116,1080.27 570.074,1115.86 618.033,1147.96 722.226,1205.68 \n",
       "  818.283,1244.32 869.775,1259.28 921.267,1270.22 980.925,1277.86 1040.58,1280.12 1093.6,1277.6 1146.62,1270.82 1193.11,1261.36 1239.6,1248.64 1340.98,1209.52 \n",
       "  1442.95,1154.47 1499.33,1117.27 1555.7,1075.25 1609.34,1030.8 1662.98,981.991 1774.53,866.529 1868.42,754.717 1925.74,679.895 1983.06,600.094 2036.94,520.539 \n",
       "  2090.83,436.584 2177.15,292.911 2263.47,137.946 2276.75,113.095 2290.04,87.9763 \n",
       "  \"/>\n",
       "<path clip-path=\"url(#clip472)\" d=\"\n",
       "M617.59 1445.72 L1871.93 1445.72 L1871.93 750.288 L617.59 750.288 L617.59 1445.72  Z\n",
       "  \" fill=\"#e26f46\" fill-rule=\"evenodd\" fill-opacity=\"0.5\"/>\n",
       "<polyline clip-path=\"url(#clip472)\" style=\"stroke:#000000; stroke-width:4; stroke-opacity:0.5; fill:none\" points=\"\n",
       "  617.59,1445.72 1871.93,1445.72 1871.93,750.288 617.59,750.288 617.59,1445.72 \n",
       "  \"/>\n",
       "<path clip-path=\"url(#clip470)\" d=\"\n",
       "M1981.65 276.658 L2278.89 276.658 L2278.89 95.2176 L1981.65 95.2176  Z\n",
       "  \" fill=\"#ffffff\" fill-rule=\"evenodd\" fill-opacity=\"1\"/>\n",
       "<polyline clip-path=\"url(#clip470)\" style=\"stroke:#000000; stroke-width:4; stroke-opacity:1; fill:none\" points=\"\n",
       "  1981.65,276.658 2278.89,276.658 2278.89,95.2176 1981.65,95.2176 1981.65,276.658 \n",
       "  \"/>\n",
       "<polyline clip-path=\"url(#clip470)\" style=\"stroke:#009af9; stroke-width:4; stroke-opacity:1; fill:none\" points=\"\n",
       "  2006.27,155.698 2154,155.698 \n",
       "  \"/>\n",
       "<path clip-path=\"url(#clip470)\" d=\"M 0 0 M2192.47 175.385 Q2190.66 180.015 2188.95 181.427 Q2187.24 182.839 2184.37 182.839 L2180.96 182.839 L2180.96 179.274 L2183.46 179.274 Q2185.22 179.274 2186.2 178.44 Q2187.17 177.607 2188.35 174.505 L2189.11 172.561 L2178.63 147.052 L2183.14 147.052 L2191.24 167.329 L2199.34 147.052 L2203.86 147.052 L2192.47 175.385 Z\" fill=\"#000000\" fill-rule=\"evenodd\" fill-opacity=\"1\" /><path clip-path=\"url(#clip470)\" d=\"M 0 0 M2209.74 169.042 L2217.38 169.042 L2217.38 142.677 L2209.07 144.343 L2209.07 140.084 L2217.33 138.418 L2222.01 138.418 L2222.01 169.042 L2229.65 169.042 L2229.65 172.978 L2209.74 172.978 L2209.74 169.042 Z\" fill=\"#000000\" fill-rule=\"evenodd\" fill-opacity=\"1\" /><path clip-path=\"url(#clip470)\" d=\"\n",
       "M2006.27 240.37 L2154 240.37 L2154 191.986 L2006.27 191.986 L2006.27 240.37  Z\n",
       "  \" fill=\"#e26f46\" fill-rule=\"evenodd\" fill-opacity=\"0.5\"/>\n",
       "<polyline clip-path=\"url(#clip470)\" style=\"stroke:#000000; stroke-width:4; stroke-opacity:1; fill:none\" points=\"\n",
       "  2006.27,240.37 2154,240.37 2154,191.986 2006.27,191.986 2006.27,240.37 \n",
       "  \"/>\n",
       "<path clip-path=\"url(#clip470)\" d=\"M 0 0 M2192.47 235.865 Q2190.66 240.495 2188.95 241.907 Q2187.24 243.319 2184.37 243.319 L2180.96 243.319 L2180.96 239.754 L2183.46 239.754 Q2185.22 239.754 2186.2 238.92 Q2187.17 238.087 2188.35 234.985 L2189.11 233.041 L2178.63 207.532 L2183.14 207.532 L2191.24 227.809 L2199.34 207.532 L2203.86 207.532 L2192.47 235.865 Z\" fill=\"#000000\" fill-rule=\"evenodd\" fill-opacity=\"1\" /><path clip-path=\"url(#clip470)\" d=\"M 0 0 M2212.96 229.522 L2229.27 229.522 L2229.27 233.458 L2207.33 233.458 L2207.33 229.522 Q2209.99 226.768 2214.58 222.138 Q2219.18 217.485 2220.36 216.143 Q2222.61 213.62 2223.49 211.884 Q2224.39 210.124 2224.39 208.435 Q2224.39 205.68 2222.45 203.944 Q2220.52 202.208 2217.42 202.208 Q2215.22 202.208 2212.77 202.972 Q2210.34 203.735 2207.56 205.286 L2207.56 200.564 Q2210.39 199.43 2212.84 198.851 Q2215.29 198.273 2217.33 198.273 Q2222.7 198.273 2225.9 200.958 Q2229.09 203.643 2229.09 208.134 Q2229.09 210.263 2228.28 212.185 Q2227.49 214.083 2225.39 216.675 Q2224.81 217.347 2221.71 220.564 Q2218.6 223.759 2212.96 229.522 Z\" fill=\"#000000\" fill-rule=\"evenodd\" fill-opacity=\"1\" /></svg>\n"
      ]
     },
     "execution_count": 38,
     "metadata": {},
     "output_type": "execute_result"
    }
   ],
   "source": [
    "plot(f, -5, 5)\n",
    "plot!(IntervalBox(X, f(X)))"
   ]
  },
  {
   "cell_type": "code",
   "execution_count": 40,
   "metadata": {},
   "outputs": [
    {
     "data": {
      "text/plain": [
       "10-element Array{Interval{Float64},1}:\n",
       " [-3, -2.39999]\n",
       "     [-2.4, -1.8]\n",
       "     [-1.80001, -1.19999]\n",
       "     [-1.2, -0.599999]\n",
       "     [-0.6, 0]\n",
       "   [0, 0.6]\n",
       "      [0.599999, 1.2]\n",
       "      [1.19999, 1.80001]\n",
       "      [1.8, 2.4]\n",
       "      [2.39999, 3]"
      ]
     },
     "execution_count": 40,
     "metadata": {},
     "output_type": "execute_result"
    }
   ],
   "source": [
    "Xs = mince(X, 10)"
   ]
  },
  {
   "cell_type": "code",
   "execution_count": 41,
   "metadata": {},
   "outputs": [
    {
     "data": {
      "text/plain": [
       "10-element Array{Interval{Float64},1}:\n",
       "   [-0.240001, 4.20001]\n",
       "   [-1.56001, 2.16]\n",
       "   [-2.16001, 0.840001]\n",
       "   [-2.04001, 0.24]\n",
       "   [-1.2, 0.36]\n",
       " [0, 1.56001]\n",
       "    [1.55999, 3.84]\n",
       "    [3.83999, 6.84001]\n",
       "    [6.83999, 10.5601]\n",
       "   [10.5599, 15]"
      ]
     },
     "execution_count": 41,
     "metadata": {},
     "output_type": "execute_result"
    }
   ],
   "source": [
    "f.(Xs)"
   ]
  },
  {
   "cell_type": "code",
   "execution_count": 44,
   "metadata": {},
   "outputs": [
    {
     "data": {
      "text/html": [
       "<script>\n",
       "// Immediately-invoked-function-expression to avoid global variables.\n",
       "(function() {\n",
       "    var warning_div = document.getElementById(\"webio-warning-14571528150671196363\");\n",
       "    var hide = function () {\n",
       "        var script = document.getElementById(\"webio-setup-10015748884404443987\");\n",
       "        var parent = script && script.parentElement;\n",
       "        var grandparent = parent && parent.parentElement;\n",
       "        if (grandparent) {\n",
       "            grandparent.style.display = \"none\";\n",
       "        }\n",
       "        warning_div.style.display = \"none\";\n",
       "    };\n",
       "    if (typeof Jupyter !== \"undefined\") {\n",
       "        console.log(\"WebIO detected Jupyter notebook environment.\");\n",
       "        // Jupyter notebook.\n",
       "        var extensions = (\n",
       "            Jupyter\n",
       "            && Jupyter.notebook.config.data\n",
       "            && Jupyter.notebook.config.data.load_extensions\n",
       "        );\n",
       "        if (extensions && extensions[\"webio-jupyter-notebook\"]) {\n",
       "            // Extension already loaded.\n",
       "            console.log(\"Jupyter WebIO nbextension detected; not loading ad-hoc.\");\n",
       "            hide();\n",
       "            return;\n",
       "        }\n",
       "    } else if (window.location.pathname.includes(\"/lab\")) {\n",
       "        // Guessing JupyterLa\n",
       "        console.log(\"Jupyter Lab detected; make sure the @webio/jupyter-lab-provider labextension is installed.\");\n",
       "        hide();\n",
       "        return;\n",
       "    }\n",
       "})();\n",
       "\n",
       "</script>\n",
       "<p\n",
       "    id=\"webio-warning-14571528150671196363\"\n",
       "    class=\"output_text output_stderr\"\n",
       "    style=\"padding: 1em; font-weight: bold;\"\n",
       ">\n",
       "    Unable to load WebIO. Please make sure WebIO works for your Jupyter client.\n",
       "    For troubleshooting, please see <a href=\"https://juliagizmos.github.io/WebIO.jl/latest/providers/ijulia/\">\n",
       "    the WebIO/IJulia documentation</a>.\n",
       "    <!-- TODO: link to installation docs. -->\n",
       "</p>\n"
      ],
      "text/plain": [
       "HTML{String}(\"<script>\\n// Immediately-invoked-function-expression to avoid global variables.\\n(function() {\\n    var warning_div = document.getElementById(\\\"webio-warning-14571528150671196363\\\");\\n    var hide = function () {\\n        var script = document.getElementById(\\\"webio-setup-10015748884404443987\\\");\\n        var parent = script && script.parentElement;\\n        var grandparent = parent && parent.parentElement;\\n        if (grandparent) {\\n            grandparent.style.display = \\\"none\\\";\\n        }\\n        warning_div.style.display = \\\"none\\\";\\n    };\\n    if (typeof Jupyter !== \\\"undefined\\\") {\\n        console.log(\\\"WebIO detected Jupyter notebook environment.\\\");\\n        // Jupyter notebook.\\n        var extensions = (\\n            Jupyter\\n            && Jupyter.notebook.config.data\\n            && Jupyter.notebook.config.data.load_extensions\\n        );\\n        if (extensions && extensions[\\\"webio-jupyter-notebook\\\"]) {\\n            // Extension already loaded.\\n            console.log(\\\"Jupyter WebIO nbextension detected; not loading ad-hoc.\\\");\\n            hide();\\n            return;\\n        }\\n    } else if (window.location.pathname.includes(\\\"/lab\\\")) {\\n        // Guessing JupyterLa\\n        console.log(\\\"Jupyter Lab detected; make sure the @webio/jupyter-lab-provider labextension is installed.\\\");\\n        hide();\\n        return;\\n    }\\n})();\\n\\n</script>\\n<p\\n    id=\\\"webio-warning-14571528150671196363\\\"\\n    class=\\\"output_text output_stderr\\\"\\n    style=\\\"padding: 1em; font-weight: bold;\\\"\\n>\\n    Unable to load WebIO. Please make sure WebIO works for your Jupyter client.\\n    For troubleshooting, please see <a href=\\\"https://juliagizmos.github.io/WebIO.jl/latest/providers/ijulia/\\\">\\n    the WebIO/IJulia documentation</a>.\\n    <!-- TODO: link to installation docs. -->\\n</p>\\n\")"
      ]
     },
     "metadata": {},
     "output_type": "display_data"
    }
   ],
   "source": [
    "using Interact"
   ]
  },
  {
   "cell_type": "code",
   "execution_count": 47,
   "metadata": {},
   "outputs": [
    {
     "data": {
      "application/vnd.webio.node+json": {
       "children": [
        {
         "children": [
          {
           "children": [
            {
             "children": [
              {
               "children": [
                {
                 "children": [
                  "N"
                 ],
                 "instanceArgs": {
                  "namespace": "html",
                  "tag": "label"
                 },
                 "nodeType": "DOM",
                 "props": {
                  "className": "interact ",
                  "style": {
                   "padding": "5px 10px 0px 10px"
                  }
                 },
                 "type": "node"
                }
               ],
               "instanceArgs": {
                "namespace": "html",
                "tag": "div"
               },
               "nodeType": "DOM",
               "props": {
                "className": "interact-flex-row-left"
               },
               "type": "node"
              },
              {
               "children": [
                {
                 "children": [],
                 "instanceArgs": {
                  "namespace": "html",
                  "tag": "input"
                 },
                 "nodeType": "DOM",
                 "props": {
                  "attributes": {
                   "data-bind": "numericValue: index, valueUpdate: 'input', event: {change: function (){this.changes(this.changes()+1)}}",
                   "orient": "horizontal",
                   "type": "range"
                  },
                  "className": "slider slider is-fullwidth",
                  "max": 100,
                  "min": 1,
                  "step": 1,
                  "style": {}
                 },
                 "type": "node"
                }
               ],
               "instanceArgs": {
                "namespace": "html",
                "tag": "div"
               },
               "nodeType": "DOM",
               "props": {
                "className": "interact-flex-row-center"
               },
               "type": "node"
              },
              {
               "children": [
                {
                 "children": [],
                 "instanceArgs": {
                  "namespace": "html",
                  "tag": "p"
                 },
                 "nodeType": "DOM",
                 "props": {
                  "attributes": {
                   "data-bind": "text: formatted_val"
                  }
                 },
                 "type": "node"
                }
               ],
               "instanceArgs": {
                "namespace": "html",
                "tag": "div"
               },
               "nodeType": "DOM",
               "props": {
                "className": "interact-flex-row-right"
               },
               "type": "node"
              }
             ],
             "instanceArgs": {
              "namespace": "html",
              "tag": "div"
             },
             "nodeType": "DOM",
             "props": {
              "className": "interact-flex-row interact-widget"
             },
             "type": "node"
            }
           ],
           "instanceArgs": {
            "handlers": {
             "changes": [
              "(function (val){return (val!=this.model[\"changes\"]()) ? (this.valueFromJulia[\"changes\"]=true, this.model[\"changes\"](val)) : undefined})"
             ],
             "index": [
              "(function (val){return (val!=this.model[\"index\"]()) ? (this.valueFromJulia[\"index\"]=true, this.model[\"index\"](val)) : undefined})"
             ]
            },
            "id": "2452752760793113435",
            "imports": {
             "data": [
              {
               "name": "knockout",
               "type": "js",
               "url": "/assetserver/800fa077652c804a9c5f68b6c1e29c6c61f85df7-knockout.js"
              },
              {
               "name": "knockout_punches",
               "type": "js",
               "url": "/assetserver/81e3f253b58efa296c3c65b00e2bf7b25de6cca9-knockout_punches.js"
              },
              {
               "name": null,
               "type": "js",
               "url": "/assetserver/38c7b7ee795732e2c471bdda6df9ada295c4b257-all.js"
              },
              {
               "name": null,
               "type": "css",
               "url": "/assetserver/2a11ce0f191ac94586e3b11f276141d74e4232e4-style.css"
              },
              {
               "name": null,
               "type": "css",
               "url": "/assetserver/9354074556c360cc537db1e8b0f0283e19c8ea9d-bulma_confined.min.css"
              }
             ],
             "type": "async_block"
            },
            "mount_callbacks": [
             "function () {\n    var handler = (function (ko, koPunches) {\n    ko.punches.enableAll();\n    ko.bindingHandlers.numericValue = {\n        init: function(element, valueAccessor, allBindings, data, context) {\n            var stringified = ko.observable(ko.unwrap(valueAccessor()));\n            stringified.subscribe(function(value) {\n                var val = parseFloat(value);\n                if (!isNaN(val)) {\n                    valueAccessor()(val);\n                }\n            });\n            valueAccessor().subscribe(function(value) {\n                var str = JSON.stringify(value);\n                if ((str == \"0\") && ([\"-0\", \"-0.\"].indexOf(stringified()) >= 0))\n                     return;\n                 if ([\"null\", \"\"].indexOf(str) >= 0)\n                     return;\n                stringified(str);\n            });\n            ko.applyBindingsToNode(\n                element,\n                {\n                    value: stringified,\n                    valueUpdate: allBindings.get('valueUpdate'),\n                },\n                context,\n            );\n        }\n    };\n    var json_data = {\"formatted_vals\":[\"1\",\"2\",\"3\",\"4\",\"5\",\"6\",\"7\",\"8\",\"9\",\"10\",\"11\",\"12\",\"13\",\"14\",\"15\",\"16\",\"17\",\"18\",\"19\",\"20\",\"21\",\"22\",\"23\",\"24\",\"25\",\"26\",\"27\",\"28\",\"29\",\"30\",\"31\",\"32\",\"33\",\"34\",\"35\",\"36\",\"37\",\"38\",\"39\",\"40\",\"41\",\"42\",\"43\",\"44\",\"45\",\"46\",\"47\",\"48\",\"49\",\"50\",\"51\",\"52\",\"53\",\"54\",\"55\",\"56\",\"57\",\"58\",\"59\",\"60\",\"61\",\"62\",\"63\",\"64\",\"65\",\"66\",\"67\",\"68\",\"69\",\"70\",\"71\",\"72\",\"73\",\"74\",\"75\",\"76\",\"77\",\"78\",\"79\",\"80\",\"81\",\"82\",\"83\",\"84\",\"85\",\"86\",\"87\",\"88\",\"89\",\"90\",\"91\",\"92\",\"93\",\"94\",\"95\",\"96\",\"97\",\"98\",\"99\",\"100\"],\"changes\":WebIO.getval({\"name\":\"changes\",\"scope\":\"2452752760793113435\",\"id\":\"1582346011846543928\",\"type\":\"observable\"}),\"index\":WebIO.getval({\"name\":\"index\",\"scope\":\"2452752760793113435\",\"id\":\"4904240259624211723\",\"type\":\"observable\"})};\n    var self = this;\n    function AppViewModel() {\n        for (var key in json_data) {\n            var el = json_data[key];\n            this[key] = Array.isArray(el) ? ko.observableArray(el) : ko.observable(el);\n        }\n        \n        [this[\"formatted_val\"]=ko.computed(    function(){\n        return this.formatted_vals()[parseInt(this.index())-(1)];\n    }\n,this)]\n        [this[\"changes\"].subscribe((function (val){!(this.valueFromJulia[\"changes\"]) ? (WebIO.setval({\"name\":\"changes\",\"scope\":\"2452752760793113435\",\"id\":\"1582346011846543928\",\"type\":\"observable\"},val)) : undefined; return this.valueFromJulia[\"changes\"]=false}),self),this[\"index\"].subscribe((function (val){!(this.valueFromJulia[\"index\"]) ? (WebIO.setval({\"name\":\"index\",\"scope\":\"2452752760793113435\",\"id\":\"4904240259624211723\",\"type\":\"observable\"},val)) : undefined; return this.valueFromJulia[\"index\"]=false}),self)]\n        \n    }\n    self.model = new AppViewModel();\n    self.valueFromJulia = {};\n    for (var key in json_data) {\n        self.valueFromJulia[key] = false;\n    }\n    ko.applyBindings(self.model, self.dom);\n}\n);\n    (WebIO.importBlock({\"data\":[{\"name\":\"knockout\",\"type\":\"js\",\"url\":\"/assetserver/800fa077652c804a9c5f68b6c1e29c6c61f85df7-knockout.js\"},{\"name\":\"knockout_punches\",\"type\":\"js\",\"url\":\"/assetserver/81e3f253b58efa296c3c65b00e2bf7b25de6cca9-knockout_punches.js\"}],\"type\":\"async_block\"})).then((imports) => handler.apply(this, imports));\n}\n"
            ],
            "observables": {
             "changes": {
              "id": "1582346011846543928",
              "sync": false,
              "value": 0
             },
             "index": {
              "id": "4904240259624211723",
              "sync": true,
              "value": 50
             }
            },
            "systemjs_options": null
           },
           "nodeType": "Scope",
           "props": {},
           "type": "node"
          }
         ],
         "instanceArgs": {
          "namespace": "html",
          "tag": "div"
         },
         "nodeType": "DOM",
         "props": {
          "className": "field interact-widget"
         },
         "type": "node"
        },
        {
         "children": [
          {
           "children": [],
           "instanceArgs": {
            "id": "12867422609748101767",
            "name": "obs-node"
           },
           "nodeType": "ObservableNode",
           "props": {},
           "type": "node"
          }
         ],
         "instanceArgs": {
          "handlers": {},
          "id": "16392645886361213451",
          "imports": {
           "data": [],
           "type": "async_block"
          },
          "mount_callbacks": [],
          "observables": {
           "obs-node": {
            "id": "12867422609748101767",
            "sync": false,
            "value": {
             "children": [
              {
               "children": [],
               "instanceArgs": {
                "namespace": "html",
                "tag": "div"
               },
               "nodeType": "DOM",
               "props": {
                "setInnerHtml": "<?xml version=\"1.0\" encoding=\"utf-8\"?>\n<svg xmlns=\"http://www.w3.org/2000/svg\" xmlns:xlink=\"http://www.w3.org/1999/xlink\" width=\"600\" height=\"400\" viewBox=\"0 0 2400 1600\">\n<defs>\n  <clipPath id=\"clip750\">\n    <rect x=\"0\" y=\"0\" width=\"2400\" height=\"1600\"/>\n  </clipPath>\n</defs>\n<path clip-path=\"url(#clip750)\" d=\"\nM0 1600 L2400 1600 L2400 0 L0 0  Z\n  \" fill=\"#ffffff\" fill-rule=\"evenodd\" fill-opacity=\"1\"/>\n<defs>\n  <clipPath id=\"clip751\">\n    <rect x=\"480\" y=\"0\" width=\"1681\" height=\"1600\"/>\n  </clipPath>\n</defs>\n<path clip-path=\"url(#clip750)\" d=\"\nM152.27 1486.45 L2352.76 1486.45 L2352.76 47.2441 L152.27 47.2441  Z\n  \" fill=\"#ffffff\" fill-rule=\"evenodd\" fill-opacity=\"1\"/>\n<defs>\n  <clipPath id=\"clip752\">\n    <rect x=\"152\" y=\"47\" width=\"2201\" height=\"1440\"/>\n  </clipPath>\n</defs>\n<polyline clip-path=\"url(#clip752)\" style=\"stroke:#000000; stroke-width:2; stroke-opacity:0.1; fill:none\" points=\"\n  422.141,1486.45 422.141,47.2441 \n  \"/>\n<polyline clip-path=\"url(#clip752)\" style=\"stroke:#000000; stroke-width:2; stroke-opacity:0.1; fill:none\" points=\"\n  837.327,1486.45 837.327,47.2441 \n  \"/>\n<polyline clip-path=\"url(#clip752)\" style=\"stroke:#000000; stroke-width:2; stroke-opacity:0.1; fill:none\" points=\"\n  1252.51,1486.45 1252.51,47.2441 \n  \"/>\n<polyline clip-path=\"url(#clip752)\" style=\"stroke:#000000; stroke-width:2; stroke-opacity:0.1; fill:none\" points=\"\n  1667.7,1486.45 1667.7,47.2441 \n  \"/>\n<polyline clip-path=\"url(#clip752)\" style=\"stroke:#000000; stroke-width:2; stroke-opacity:0.1; fill:none\" points=\"\n  2082.88,1486.45 2082.88,47.2441 \n  \"/>\n<polyline clip-path=\"url(#clip752)\" style=\"stroke:#000000; stroke-width:2; stroke-opacity:0.1; fill:none\" points=\"\n  152.27,1486.45 2352.76,1486.45 \n  \"/>\n<polyline clip-path=\"url(#clip752)\" style=\"stroke:#000000; stroke-width:2; stroke-opacity:0.1; fill:none\" points=\"\n  152.27,1006.71 2352.76,1006.71 \n  \"/>\n<polyline clip-path=\"url(#clip752)\" style=\"stroke:#000000; stroke-width:2; stroke-opacity:0.1; fill:none\" points=\"\n  152.27,526.979 2352.76,526.979 \n  \"/>\n<polyline clip-path=\"url(#clip752)\" style=\"stroke:#000000; stroke-width:2; stroke-opacity:0.1; fill:none\" points=\"\n  152.27,47.2441 2352.76,47.2441 \n  \"/>\n<polyline clip-path=\"url(#clip750)\" style=\"stroke:#000000; stroke-width:4; stroke-opacity:1; fill:none\" points=\"\n  152.27,1486.45 2352.76,1486.45 \n  \"/>\n<polyline clip-path=\"url(#clip750)\" style=\"stroke:#000000; stroke-width:4; stroke-opacity:1; fill:none\" points=\"\n  152.27,1486.45 152.27,47.2441 \n  \"/>\n<polyline clip-path=\"url(#clip750)\" style=\"stroke:#000000; stroke-width:4; stroke-opacity:1; fill:none\" points=\"\n  422.141,1486.45 422.141,1469.18 \n  \"/>\n<polyline clip-path=\"url(#clip750)\" style=\"stroke:#000000; stroke-width:4; stroke-opacity:1; fill:none\" points=\"\n  837.327,1486.45 837.327,1469.18 \n  \"/>\n<polyline clip-path=\"url(#clip750)\" style=\"stroke:#000000; stroke-width:4; stroke-opacity:1; fill:none\" points=\"\n  1252.51,1486.45 1252.51,1469.18 \n  \"/>\n<polyline clip-path=\"url(#clip750)\" style=\"stroke:#000000; stroke-width:4; stroke-opacity:1; fill:none\" points=\"\n  1667.7,1486.45 1667.7,1469.18 \n  \"/>\n<polyline clip-path=\"url(#clip750)\" style=\"stroke:#000000; stroke-width:4; stroke-opacity:1; fill:none\" points=\"\n  2082.88,1486.45 2082.88,1469.18 \n  \"/>\n<polyline clip-path=\"url(#clip750)\" style=\"stroke:#000000; stroke-width:4; stroke-opacity:1; fill:none\" points=\"\n  152.27,1486.45 178.675,1486.45 \n  \"/>\n<polyline clip-path=\"url(#clip750)\" style=\"stroke:#000000; stroke-width:4; stroke-opacity:1; fill:none\" points=\"\n  152.27,1006.71 178.675,1006.71 \n  \"/>\n<polyline clip-path=\"url(#clip750)\" style=\"stroke:#000000; stroke-width:4; stroke-opacity:1; fill:none\" points=\"\n  152.27,526.979 178.675,526.979 \n  \"/>\n<polyline clip-path=\"url(#clip750)\" style=\"stroke:#000000; stroke-width:4; stroke-opacity:1; fill:none\" points=\"\n  152.27,47.2441 178.675,47.2441 \n  \"/>\n<path clip-path=\"url(#clip750)\" d=\"M 0 0 M402.152 1525.04 L414.629 1525.04 L414.629 1528.83 L402.152 1528.83 L402.152 1525.04 Z\" fill=\"#000000\" fill-rule=\"evenodd\" fill-opacity=\"1\" /><path clip-path=\"url(#clip750)\" d=\"M 0 0 M432.546 1509.43 L420.74 1527.88 L432.546 1527.88 L432.546 1509.43 M431.319 1505.36 L437.198 1505.36 L437.198 1527.88 L442.129 1527.88 L442.129 1531.77 L437.198 1531.77 L437.198 1539.92 L432.546 1539.92 L432.546 1531.77 L416.944 1531.77 L416.944 1527.26 L431.319 1505.36 Z\" fill=\"#000000\" fill-rule=\"evenodd\" fill-opacity=\"1\" /><path clip-path=\"url(#clip750)\" d=\"M 0 0 M818.38 1525.04 L830.857 1525.04 L830.857 1528.83 L818.38 1528.83 L818.38 1525.04 Z\" fill=\"#000000\" fill-rule=\"evenodd\" fill-opacity=\"1\" /><path clip-path=\"url(#clip750)\" d=\"M 0 0 M839.954 1535.98 L856.273 1535.98 L856.273 1539.92 L834.329 1539.92 L834.329 1535.98 Q836.991 1533.23 841.574 1528.6 Q846.181 1523.95 847.361 1522.61 Q849.607 1520.08 850.486 1518.35 Q851.389 1516.59 851.389 1514.9 Q851.389 1512.14 849.445 1510.41 Q847.523 1508.67 844.421 1508.67 Q842.222 1508.67 839.769 1509.43 Q837.338 1510.2 834.56 1511.75 L834.56 1507.03 Q837.384 1505.89 839.838 1505.31 Q842.292 1504.73 844.329 1504.73 Q849.699 1504.73 852.894 1507.42 Q856.088 1510.11 856.088 1514.6 Q856.088 1516.73 855.278 1518.65 Q854.491 1520.54 852.384 1523.14 Q851.806 1523.81 848.704 1527.03 Q845.602 1530.22 839.954 1535.98 Z\" fill=\"#000000\" fill-rule=\"evenodd\" fill-opacity=\"1\" /><path clip-path=\"url(#clip750)\" d=\"M 0 0 M1252.51 1508.44 Q1248.9 1508.44 1247.07 1512 Q1245.27 1515.55 1245.27 1522.67 Q1245.27 1529.78 1247.07 1533.35 Q1248.9 1536.89 1252.51 1536.89 Q1256.15 1536.89 1257.95 1533.35 Q1259.78 1529.78 1259.78 1522.67 Q1259.78 1515.55 1257.95 1512 Q1256.15 1508.44 1252.51 1508.44 M1252.51 1504.73 Q1258.32 1504.73 1261.38 1509.34 Q1264.46 1513.92 1264.46 1522.67 Q1264.46 1531.4 1261.38 1536.01 Q1258.32 1540.59 1252.51 1540.59 Q1246.7 1540.59 1243.62 1536.01 Q1240.57 1531.4 1240.57 1522.67 Q1240.57 1513.92 1243.62 1509.34 Q1246.7 1504.73 1252.51 1504.73 Z\" fill=\"#000000\" fill-rule=\"evenodd\" fill-opacity=\"1\" /><path clip-path=\"url(#clip750)\" d=\"M 0 0 M1662.35 1535.98 L1678.67 1535.98 L1678.67 1539.92 L1656.73 1539.92 L1656.73 1535.98 Q1659.39 1533.23 1663.97 1528.6 Q1668.58 1523.95 1669.76 1522.61 Q1672 1520.08 1672.88 1518.35 Q1673.79 1516.59 1673.79 1514.9 Q1673.79 1512.14 1671.84 1510.41 Q1669.92 1508.67 1666.82 1508.67 Q1664.62 1508.67 1662.17 1509.43 Q1659.74 1510.2 1656.96 1511.75 L1656.96 1507.03 Q1659.78 1505.89 1662.24 1505.31 Q1664.69 1504.73 1666.73 1504.73 Q1672.1 1504.73 1675.29 1507.42 Q1678.49 1510.11 1678.49 1514.6 Q1678.49 1516.73 1677.68 1518.65 Q1676.89 1520.54 1674.78 1523.14 Q1674.2 1523.81 1671.1 1527.03 Q1668 1530.22 1662.35 1535.98 Z\" fill=\"#000000\" fill-rule=\"evenodd\" fill-opacity=\"1\" /><path clip-path=\"url(#clip750)\" d=\"M 0 0 M2085.89 1509.43 L2074.09 1527.88 L2085.89 1527.88 L2085.89 1509.43 M2084.67 1505.36 L2090.55 1505.36 L2090.55 1527.88 L2095.48 1527.88 L2095.48 1531.77 L2090.55 1531.77 L2090.55 1539.92 L2085.89 1539.92 L2085.89 1531.77 L2070.29 1531.77 L2070.29 1527.26 L2084.67 1505.36 Z\" fill=\"#000000\" fill-rule=\"evenodd\" fill-opacity=\"1\" /><path clip-path=\"url(#clip750)\" d=\"M 0 0 M62.9921 1488.84 L75.4689 1488.84 L75.4689 1492.64 L62.9921 1492.64 L62.9921 1488.84 Z\" fill=\"#000000\" fill-rule=\"evenodd\" fill-opacity=\"1\" /><path clip-path=\"url(#clip750)\" d=\"M 0 0 M81.3485 1499.79 L88.9874 1499.79 L88.9874 1473.43 L80.6772 1475.09 L80.6772 1470.83 L88.9411 1469.17 L93.617 1469.17 L93.617 1499.79 L101.256 1499.79 L101.256 1503.73 L81.3485 1503.73 L81.3485 1499.79 Z\" fill=\"#000000\" fill-rule=\"evenodd\" fill-opacity=\"1\" /><path clip-path=\"url(#clip750)\" d=\"M 0 0 M116.325 1472.25 Q112.714 1472.25 110.885 1475.81 Q109.08 1479.35 109.08 1486.48 Q109.08 1493.59 110.885 1497.15 Q112.714 1500.7 116.325 1500.7 Q119.959 1500.7 121.765 1497.15 Q123.594 1493.59 123.594 1486.48 Q123.594 1479.35 121.765 1475.81 Q119.959 1472.25 116.325 1472.25 M116.325 1468.54 Q122.135 1468.54 125.191 1473.15 Q128.27 1477.73 128.27 1486.48 Q128.27 1495.21 125.191 1499.82 Q122.135 1504.4 116.325 1504.4 Q110.515 1504.4 107.436 1499.82 Q104.381 1495.21 104.381 1486.48 Q104.381 1477.73 107.436 1473.15 Q110.515 1468.54 116.325 1468.54 Z\" fill=\"#000000\" fill-rule=\"evenodd\" fill-opacity=\"1\" /><path clip-path=\"url(#clip750)\" d=\"M 0 0 M116.325 992.512 Q112.714 992.512 110.885 996.077 Q109.08 999.618 109.08 1006.75 Q109.08 1013.85 110.885 1017.42 Q112.714 1020.96 116.325 1020.96 Q119.959 1020.96 121.765 1017.42 Q123.594 1013.85 123.594 1006.75 Q123.594 999.618 121.765 996.077 Q119.959 992.512 116.325 992.512 M116.325 988.808 Q122.135 988.808 125.191 993.415 Q128.27 997.998 128.27 1006.75 Q128.27 1015.47 125.191 1020.08 Q122.135 1024.66 116.325 1024.66 Q110.515 1024.66 107.436 1020.08 Q104.381 1015.47 104.381 1006.75 Q104.381 997.998 107.436 993.415 Q110.515 988.808 116.325 988.808 Z\" fill=\"#000000\" fill-rule=\"evenodd\" fill-opacity=\"1\" /><path clip-path=\"url(#clip750)\" d=\"M 0 0 M81.3485 540.324 L88.9874 540.324 L88.9874 513.958 L80.6772 515.625 L80.6772 511.365 L88.9411 509.699 L93.617 509.699 L93.617 540.324 L101.256 540.324 L101.256 544.259 L81.3485 544.259 L81.3485 540.324 Z\" fill=\"#000000\" fill-rule=\"evenodd\" fill-opacity=\"1\" /><path clip-path=\"url(#clip750)\" d=\"M 0 0 M116.325 512.777 Q112.714 512.777 110.885 516.342 Q109.08 519.884 109.08 527.013 Q109.08 534.12 110.885 537.685 Q112.714 541.226 116.325 541.226 Q119.959 541.226 121.765 537.685 Q123.594 534.12 123.594 527.013 Q123.594 519.884 121.765 516.342 Q119.959 512.777 116.325 512.777 M116.325 509.074 Q122.135 509.074 125.191 513.68 Q128.27 518.263 128.27 527.013 Q128.27 535.74 125.191 540.347 Q122.135 544.93 116.325 544.93 Q110.515 544.93 107.436 540.347 Q104.381 535.74 104.381 527.013 Q104.381 518.263 107.436 513.68 Q110.515 509.074 116.325 509.074 Z\" fill=\"#000000\" fill-rule=\"evenodd\" fill-opacity=\"1\" /><path clip-path=\"url(#clip750)\" d=\"M 0 0 M84.9365 60.5889 L101.256 60.5889 L101.256 64.5241 L79.3115 64.5241 L79.3115 60.5889 Q81.9735 57.8343 86.5568 53.2047 Q91.1633 48.552 92.3438 47.2094 Q94.5892 44.6862 95.4688 42.9501 Q96.3716 41.1909 96.3716 39.5011 Q96.3716 36.7465 94.4271 35.0104 Q92.5059 33.2743 89.404 33.2743 Q87.205 33.2743 84.7513 34.0381 Q82.3207 34.802 79.543 36.3529 L79.543 31.6308 Q82.367 30.4965 84.8207 29.9178 Q87.2744 29.3391 89.3114 29.3391 Q94.6818 29.3391 97.8762 32.0243 Q101.071 34.7094 101.071 39.2002 Q101.071 41.3298 100.26 43.2511 Q99.4734 45.1492 97.3669 47.7418 Q96.7882 48.4131 93.6864 51.6306 Q90.5846 54.8251 84.9365 60.5889 Z\" fill=\"#000000\" fill-rule=\"evenodd\" fill-opacity=\"1\" /><path clip-path=\"url(#clip750)\" d=\"M 0 0 M116.325 33.0428 Q112.714 33.0428 110.885 36.6076 Q109.08 40.1492 109.08 47.2788 Q109.08 54.3853 110.885 57.9501 Q112.714 61.4917 116.325 61.4917 Q119.959 61.4917 121.765 57.9501 Q123.594 54.3853 123.594 47.2788 Q123.594 40.1492 121.765 36.6076 Q119.959 33.0428 116.325 33.0428 M116.325 29.3391 Q122.135 29.3391 125.191 33.9456 Q128.27 38.5289 128.27 47.2788 Q128.27 56.0056 125.191 60.6121 Q122.135 65.1954 116.325 65.1954 Q110.515 65.1954 107.436 60.6121 Q104.381 56.0056 104.381 47.2788 Q104.381 38.5289 107.436 33.9456 Q110.515 29.3391 116.325 29.3391 Z\" fill=\"#000000\" fill-rule=\"evenodd\" fill-opacity=\"1\" /><polyline clip-path=\"url(#clip752)\" style=\"stroke:#009af9; stroke-width:4; stroke-opacity:1; fill:none\" points=\"\n  214.547,287.111 224.684,305.737 234.821,324.134 328.548,483.402 422.275,623.112 478.602,697.664 534.928,765.151 582.551,816.7 630.174,863.2 733.638,946.821 \n  829.023,1002.8 880.154,1024.47 931.285,1040.31 990.526,1051.39 1049.77,1054.66 1102.41,1051.01 1155.06,1041.18 1201.22,1027.49 1247.39,1009.05 1348.06,952.392 \n  1449.32,872.633 1505.3,818.741 1561.28,757.873 1614.55,693.481 1667.81,622.772 1778.57,455.505 1871.81,293.527 1928.73,185.135 1985.65,69.5298 2039.15,-45.7193 \n  2092.66,-167.342 2178.38,-375.476 2264.09,-599.969 2277.29,-635.969 2290.48,-672.358 \n  \"/>\n<path clip-path=\"url(#clip752)\" d=\"\nM629.734 896.643 L654.645 896.643 L654.645 851.279 L629.734 851.279 L629.734 896.643  Z\n  \" fill=\"#e26f46\" fill-rule=\"evenodd\" fill-opacity=\"0.5\"/>\n<polyline clip-path=\"url(#clip752)\" style=\"stroke:#000000; stroke-width:4; stroke-opacity:0.5; fill:none\" points=\"\n  629.734,896.643 654.645,896.643 654.645,851.279 629.734,851.279 629.734,896.643 \n  \"/>\n<path clip-path=\"url(#clip752)\" d=\"\nM654.645 917.598 L679.556 917.598 L679.556 873.616 L654.645 873.616 L654.645 917.598  Z\n  \" fill=\"#e26f46\" fill-rule=\"evenodd\" fill-opacity=\"0.5\"/>\n<polyline clip-path=\"url(#clip752)\" style=\"stroke:#000000; stroke-width:4; stroke-opacity:0.5; fill:none\" points=\"\n  654.645,917.598 679.556,917.598 679.556,873.616 654.645,873.616 654.645,917.598 \n  \"/>\n<path clip-path=\"url(#clip752)\" d=\"\nM679.556 937.171 L704.467 937.171 L704.467 894.571 L679.556 894.571 L679.556 937.171  Z\n  \" fill=\"#e26f46\" fill-rule=\"evenodd\" fill-opacity=\"0.5\"/>\n<polyline clip-path=\"url(#clip752)\" style=\"stroke:#000000; stroke-width:4; stroke-opacity:0.5; fill:none\" points=\"\n  679.556,937.171 704.467,937.171 704.467,894.571 679.556,894.571 679.556,937.171 \n  \"/>\n<path clip-path=\"url(#clip752)\" d=\"\nM704.467 955.362 L729.378 955.362 L729.378 914.144 L704.467 914.144 L704.467 955.362  Z\n  \" fill=\"#e26f46\" fill-rule=\"evenodd\" fill-opacity=\"0.5\"/>\n<polyline clip-path=\"url(#clip752)\" style=\"stroke:#000000; stroke-width:4; stroke-opacity:0.5; fill:none\" points=\"\n  704.467,955.362 729.378,955.362 729.378,914.144 704.467,914.144 704.467,955.362 \n  \"/>\n<path clip-path=\"url(#clip752)\" d=\"\nM729.378 972.172 L754.289 972.172 L754.289 932.335 L729.378 932.335 L729.378 972.172  Z\n  \" fill=\"#e26f46\" fill-rule=\"evenodd\" fill-opacity=\"0.5\"/>\n<polyline clip-path=\"url(#clip752)\" style=\"stroke:#000000; stroke-width:4; stroke-opacity:0.5; fill:none\" points=\"\n  729.378,972.172 754.289,972.172 754.289,932.335 729.378,932.335 729.378,972.172 \n  \"/>\n<path clip-path=\"url(#clip752)\" d=\"\nM754.289 987.601 L779.201 987.601 L779.201 949.145 L754.289 949.145 L754.289 987.601  Z\n  \" fill=\"#e26f46\" fill-rule=\"evenodd\" fill-opacity=\"0.5\"/>\n<polyline clip-path=\"url(#clip752)\" style=\"stroke:#000000; stroke-width:4; stroke-opacity:0.5; fill:none\" points=\"\n  754.289,987.601 779.201,987.601 779.201,949.145 754.289,949.145 754.289,987.601 \n  \"/>\n<path clip-path=\"url(#clip752)\" d=\"\nM779.201 1001.65 L804.112 1001.65 L804.112 964.573 L779.201 964.573 L779.201 1001.65  Z\n  \" fill=\"#e26f46\" fill-rule=\"evenodd\" fill-opacity=\"0.5\"/>\n<polyline clip-path=\"url(#clip752)\" style=\"stroke:#000000; stroke-width:4; stroke-opacity:0.5; fill:none\" points=\"\n  779.201,1001.65 804.112,1001.65 804.112,964.573 779.201,964.573 779.201,1001.65 \n  \"/>\n<path clip-path=\"url(#clip752)\" d=\"\nM804.112 1014.31 L829.023 1014.31 L829.023 978.62 L804.112 978.62 L804.112 1014.31  Z\n  \" fill=\"#e26f46\" fill-rule=\"evenodd\" fill-opacity=\"0.5\"/>\n<polyline clip-path=\"url(#clip752)\" style=\"stroke:#000000; stroke-width:4; stroke-opacity:0.5; fill:none\" points=\"\n  804.112,1014.31 829.023,1014.31 829.023,978.62 804.112,978.62 804.112,1014.31 \n  \"/>\n<path clip-path=\"url(#clip752)\" d=\"\nM829.023 1025.6 L853.934 1025.6 L853.934 991.285 L829.023 991.285 L829.023 1025.6  Z\n  \" fill=\"#e26f46\" fill-rule=\"evenodd\" fill-opacity=\"0.5\"/>\n<polyline clip-path=\"url(#clip752)\" style=\"stroke:#000000; stroke-width:4; stroke-opacity:0.5; fill:none\" points=\"\n  829.023,1025.6 853.934,1025.6 853.934,991.285 829.023,991.285 829.023,1025.6 \n  \"/>\n<path clip-path=\"url(#clip752)\" d=\"\nM853.934 1035.5 L878.845 1035.5 L878.845 1002.57 L853.934 1002.57 L853.934 1035.5  Z\n  \" fill=\"#e26f46\" fill-rule=\"evenodd\" fill-opacity=\"0.5\"/>\n<polyline clip-path=\"url(#clip752)\" style=\"stroke:#000000; stroke-width:4; stroke-opacity:0.5; fill:none\" points=\"\n  853.934,1035.5 878.845,1035.5 878.845,1002.57 853.934,1002.57 853.934,1035.5 \n  \"/>\n<path clip-path=\"url(#clip752)\" d=\"\nM878.845 1044.02 L903.756 1044.02 L903.756 1012.47 L878.845 1012.47 L878.845 1044.02  Z\n  \" fill=\"#e26f46\" fill-rule=\"evenodd\" fill-opacity=\"0.5\"/>\n<polyline clip-path=\"url(#clip752)\" style=\"stroke:#000000; stroke-width:4; stroke-opacity:0.5; fill:none\" points=\"\n  878.845,1044.02 903.756,1044.02 903.756,1012.47 878.845,1012.47 878.845,1044.02 \n  \"/>\n<path clip-path=\"url(#clip752)\" d=\"\nM903.756 1051.16 L928.668 1051.16 L928.668 1020.99 L903.756 1020.99 L903.756 1051.16  Z\n  \" fill=\"#e26f46\" fill-rule=\"evenodd\" fill-opacity=\"0.5\"/>\n<polyline clip-path=\"url(#clip752)\" style=\"stroke:#000000; stroke-width:4; stroke-opacity:0.5; fill:none\" points=\"\n  903.756,1051.16 928.668,1051.16 928.668,1020.99 903.756,1020.99 903.756,1051.16 \n  \"/>\n<path clip-path=\"url(#clip752)\" d=\"\nM928.668 1056.91 L953.579 1056.91 L953.579 1028.13 L928.668 1028.13 L928.668 1056.91  Z\n  \" fill=\"#e26f46\" fill-rule=\"evenodd\" fill-opacity=\"0.5\"/>\n<polyline clip-path=\"url(#clip752)\" style=\"stroke:#000000; stroke-width:4; stroke-opacity:0.5; fill:none\" points=\"\n  928.668,1056.91 953.579,1056.91 953.579,1028.13 928.668,1028.13 928.668,1056.91 \n  \"/>\n<path clip-path=\"url(#clip752)\" d=\"\nM953.579 1061.29 L978.49 1061.29 L978.49 1033.89 L953.579 1033.89 L953.579 1061.29  Z\n  \" fill=\"#e26f46\" fill-rule=\"evenodd\" fill-opacity=\"0.5\"/>\n<polyline clip-path=\"url(#clip752)\" style=\"stroke:#000000; stroke-width:4; stroke-opacity:0.5; fill:none\" points=\"\n  953.579,1061.29 978.49,1061.29 978.49,1033.89 953.579,1033.89 953.579,1061.29 \n  \"/>\n<path clip-path=\"url(#clip752)\" d=\"\nM978.49 1064.28 L1003.4 1064.28 L1003.4 1038.26 L978.49 1038.26 L978.49 1064.28  Z\n  \" fill=\"#e26f46\" fill-rule=\"evenodd\" fill-opacity=\"0.5\"/>\n<polyline clip-path=\"url(#clip752)\" style=\"stroke:#000000; stroke-width:4; stroke-opacity:0.5; fill:none\" points=\"\n  978.49,1064.28 1003.4,1064.28 1003.4,1038.26 978.49,1038.26 978.49,1064.28 \n  \"/>\n<path clip-path=\"url(#clip752)\" d=\"\nM1003.4 1065.89 L1028.31 1065.89 L1028.31 1041.25 L1003.4 1041.25 L1003.4 1065.89  Z\n  \" fill=\"#e26f46\" fill-rule=\"evenodd\" fill-opacity=\"0.5\"/>\n<polyline clip-path=\"url(#clip752)\" style=\"stroke:#000000; stroke-width:4; stroke-opacity:0.5; fill:none\" points=\"\n  1003.4,1065.89 1028.31,1065.89 1028.31,1041.25 1003.4,1041.25 1003.4,1065.89 \n  \"/>\n<path clip-path=\"url(#clip752)\" d=\"\nM1028.31 1066.12 L1053.22 1066.12 L1053.22 1042.87 L1028.31 1042.87 L1028.31 1066.12  Z\n  \" fill=\"#e26f46\" fill-rule=\"evenodd\" fill-opacity=\"0.5\"/>\n<polyline clip-path=\"url(#clip752)\" style=\"stroke:#000000; stroke-width:4; stroke-opacity:0.5; fill:none\" points=\"\n  1028.31,1066.12 1053.22,1066.12 1053.22,1042.87 1028.31,1042.87 1028.31,1066.12 \n  \"/>\n<path clip-path=\"url(#clip752)\" d=\"\nM1053.22 1064.97 L1078.13 1064.97 L1078.13 1043.1 L1053.22 1043.1 L1053.22 1064.97  Z\n  \" fill=\"#e26f46\" fill-rule=\"evenodd\" fill-opacity=\"0.5\"/>\n<polyline clip-path=\"url(#clip752)\" style=\"stroke:#000000; stroke-width:4; stroke-opacity:0.5; fill:none\" points=\"\n  1053.22,1064.97 1078.13,1064.97 1078.13,1043.1 1053.22,1043.1 1053.22,1064.97 \n  \"/>\n<path clip-path=\"url(#clip752)\" d=\"\nM1078.13 1062.44 L1103.05 1062.44 L1103.05 1041.94 L1078.13 1041.94 L1078.13 1062.44  Z\n  \" fill=\"#e26f46\" fill-rule=\"evenodd\" fill-opacity=\"0.5\"/>\n<polyline clip-path=\"url(#clip752)\" style=\"stroke:#000000; stroke-width:4; stroke-opacity:0.5; fill:none\" points=\"\n  1078.13,1062.44 1103.05,1062.44 1103.05,1041.94 1078.13,1041.94 1078.13,1062.44 \n  \"/>\n<path clip-path=\"url(#clip752)\" d=\"\nM1103.05 1058.52 L1127.96 1058.52 L1127.96 1039.41 L1103.05 1039.41 L1103.05 1058.52  Z\n  \" fill=\"#e26f46\" fill-rule=\"evenodd\" fill-opacity=\"0.5\"/>\n<polyline clip-path=\"url(#clip752)\" style=\"stroke:#000000; stroke-width:4; stroke-opacity:0.5; fill:none\" points=\"\n  1103.05,1058.52 1127.96,1058.52 1127.96,1039.41 1103.05,1039.41 1103.05,1058.52 \n  \"/>\n<path clip-path=\"url(#clip752)\" d=\"\nM1127.96 1053.23 L1152.87 1053.23 L1152.87 1035.5 L1127.96 1035.5 L1127.96 1053.23  Z\n  \" fill=\"#e26f46\" fill-rule=\"evenodd\" fill-opacity=\"0.5\"/>\n<polyline clip-path=\"url(#clip752)\" style=\"stroke:#000000; stroke-width:4; stroke-opacity:0.5; fill:none\" points=\"\n  1127.96,1053.23 1152.87,1053.23 1152.87,1035.5 1127.96,1035.5 1127.96,1053.23 \n  \"/>\n<path clip-path=\"url(#clip752)\" d=\"\nM1152.87 1046.55 L1177.78 1046.55 L1177.78 1030.2 L1152.87 1030.2 L1152.87 1046.55  Z\n  \" fill=\"#e26f46\" fill-rule=\"evenodd\" fill-opacity=\"0.5\"/>\n<polyline clip-path=\"url(#clip752)\" style=\"stroke:#000000; stroke-width:4; stroke-opacity:0.5; fill:none\" points=\"\n  1152.87,1046.55 1177.78,1046.55 1177.78,1030.2 1152.87,1030.2 1152.87,1046.55 \n  \"/>\n<path clip-path=\"url(#clip752)\" d=\"\nM1177.78 1038.49 L1202.69 1038.49 L1202.69 1023.52 L1177.78 1023.52 L1177.78 1038.49  Z\n  \" fill=\"#e26f46\" fill-rule=\"evenodd\" fill-opacity=\"0.5\"/>\n<polyline clip-path=\"url(#clip752)\" style=\"stroke:#000000; stroke-width:4; stroke-opacity:0.5; fill:none\" points=\"\n  1177.78,1038.49 1202.69,1038.49 1202.69,1023.52 1177.78,1023.52 1177.78,1038.49 \n  \"/>\n<path clip-path=\"url(#clip752)\" d=\"\nM1202.69 1029.05 L1227.6 1029.05 L1227.6 1015.46 L1202.69 1015.46 L1202.69 1029.05  Z\n  \" fill=\"#e26f46\" fill-rule=\"evenodd\" fill-opacity=\"0.5\"/>\n<polyline clip-path=\"url(#clip752)\" style=\"stroke:#000000; stroke-width:4; stroke-opacity:0.5; fill:none\" points=\"\n  1202.69,1029.05 1227.6,1029.05 1227.6,1015.46 1202.69,1015.46 1202.69,1029.05 \n  \"/>\n<path clip-path=\"url(#clip752)\" d=\"\nM1227.6 1018.23 L1252.51 1018.23 L1252.51 1006.02 L1227.6 1006.02 L1227.6 1018.23  Z\n  \" fill=\"#e26f46\" fill-rule=\"evenodd\" fill-opacity=\"0.5\"/>\n<polyline clip-path=\"url(#clip752)\" style=\"stroke:#000000; stroke-width:4; stroke-opacity:0.5; fill:none\" points=\"\n  1227.6,1018.23 1252.51,1018.23 1252.51,1006.02 1227.6,1006.02 1227.6,1018.23 \n  \"/>\n<path clip-path=\"url(#clip752)\" d=\"\nM1252.51 1006.71 L1277.42 1006.71 L1277.42 994.509 L1252.51 994.509 L1252.51 1006.71  Z\n  \" fill=\"#e26f46\" fill-rule=\"evenodd\" fill-opacity=\"0.5\"/>\n<polyline clip-path=\"url(#clip752)\" style=\"stroke:#000000; stroke-width:4; stroke-opacity:0.5; fill:none\" points=\"\n  1252.51,1006.71 1277.42,1006.71 1277.42,994.509 1252.51,994.509 1252.51,1006.71 \n  \"/>\n<path clip-path=\"url(#clip752)\" d=\"\nM1277.42 994.509 L1302.34 994.509 L1302.34 980.923 L1277.42 980.923 L1277.42 994.509  Z\n  \" fill=\"#e26f46\" fill-rule=\"evenodd\" fill-opacity=\"0.5\"/>\n<polyline clip-path=\"url(#clip752)\" style=\"stroke:#000000; stroke-width:4; stroke-opacity:0.5; fill:none\" points=\"\n  1277.42,994.509 1302.34,994.509 1302.34,980.923 1277.42,980.923 1277.42,994.509 \n  \"/>\n<path clip-path=\"url(#clip752)\" d=\"\nM1302.34 980.923 L1327.25 980.923 L1327.25 965.955 L1302.34 965.955 L1302.34 980.923  Z\n  \" fill=\"#e26f46\" fill-rule=\"evenodd\" fill-opacity=\"0.5\"/>\n<polyline clip-path=\"url(#clip752)\" style=\"stroke:#000000; stroke-width:4; stroke-opacity:0.5; fill:none\" points=\"\n  1302.34,980.923 1327.25,980.923 1327.25,965.955 1302.34,965.955 1302.34,980.923 \n  \"/>\n<path clip-path=\"url(#clip752)\" d=\"\nM1327.25 965.955 L1352.16 965.955 L1352.16 949.606 L1327.25 949.606 L1327.25 965.955  Z\n  \" fill=\"#e26f46\" fill-rule=\"evenodd\" fill-opacity=\"0.5\"/>\n<polyline clip-path=\"url(#clip752)\" style=\"stroke:#000000; stroke-width:4; stroke-opacity:0.5; fill:none\" points=\"\n  1327.25,965.955 1352.16,965.955 1352.16,949.606 1327.25,949.606 1327.25,965.955 \n  \"/>\n<path clip-path=\"url(#clip752)\" d=\"\nM1352.16 949.606 L1377.07 949.606 L1377.07 931.875 L1352.16 931.875 L1352.16 949.606  Z\n  \" fill=\"#e26f46\" fill-rule=\"evenodd\" fill-opacity=\"0.5\"/>\n<polyline clip-path=\"url(#clip752)\" style=\"stroke:#000000; stroke-width:4; stroke-opacity:0.5; fill:none\" points=\"\n  1352.16,949.606 1377.07,949.606 1377.07,931.875 1352.16,931.875 1352.16,949.606 \n  \"/>\n<path clip-path=\"url(#clip752)\" d=\"\nM1377.07 931.875 L1401.98 931.875 L1401.98 912.762 L1377.07 912.762 L1377.07 931.875  Z\n  \" fill=\"#e26f46\" fill-rule=\"evenodd\" fill-opacity=\"0.5\"/>\n<polyline clip-path=\"url(#clip752)\" style=\"stroke:#000000; stroke-width:4; stroke-opacity:0.5; fill:none\" points=\"\n  1377.07,931.875 1401.98,931.875 1401.98,912.762 1377.07,912.762 1377.07,931.875 \n  \"/>\n<path clip-path=\"url(#clip752)\" d=\"\nM1401.98 912.762 L1426.89 912.762 L1426.89 892.268 L1401.98 892.268 L1401.98 912.762  Z\n  \" fill=\"#e26f46\" fill-rule=\"evenodd\" fill-opacity=\"0.5\"/>\n<polyline clip-path=\"url(#clip752)\" style=\"stroke:#000000; stroke-width:4; stroke-opacity:0.5; fill:none\" points=\"\n  1401.98,912.762 1426.89,912.762 1426.89,892.268 1401.98,892.268 1401.98,912.762 \n  \"/>\n<path clip-path=\"url(#clip752)\" d=\"\nM1426.89 892.268 L1451.8 892.268 L1451.8 870.392 L1426.89 870.392 L1426.89 892.268  Z\n  \" fill=\"#e26f46\" fill-rule=\"evenodd\" fill-opacity=\"0.5\"/>\n<polyline clip-path=\"url(#clip752)\" style=\"stroke:#000000; stroke-width:4; stroke-opacity:0.5; fill:none\" points=\"\n  1426.89,892.268 1451.8,892.268 1451.8,870.392 1426.89,870.392 1426.89,892.268 \n  \"/>\n<path clip-path=\"url(#clip752)\" d=\"\nM1451.8 870.392 L1476.71 870.392 L1476.71 847.134 L1451.8 847.134 L1451.8 870.392  Z\n  \" fill=\"#e26f46\" fill-rule=\"evenodd\" fill-opacity=\"0.5\"/>\n<polyline clip-path=\"url(#clip752)\" style=\"stroke:#000000; stroke-width:4; stroke-opacity:0.5; fill:none\" points=\"\n  1451.8,870.392 1476.71,870.392 1476.71,847.134 1451.8,847.134 1451.8,870.392 \n  \"/>\n<path clip-path=\"url(#clip752)\" d=\"\nM1476.71 847.134 L1501.62 847.134 L1501.62 822.495 L1476.71 822.495 L1476.71 847.134  Z\n  \" fill=\"#e26f46\" fill-rule=\"evenodd\" fill-opacity=\"0.5\"/>\n<polyline clip-path=\"url(#clip752)\" style=\"stroke:#000000; stroke-width:4; stroke-opacity:0.5; fill:none\" points=\"\n  1476.71,847.134 1501.62,847.134 1501.62,822.495 1476.71,822.495 1476.71,847.134 \n  \"/>\n<path clip-path=\"url(#clip752)\" d=\"\nM1501.62 822.495 L1526.54 822.495 L1526.54 796.474 L1501.62 796.474 L1501.62 822.495  Z\n  \" fill=\"#e26f46\" fill-rule=\"evenodd\" fill-opacity=\"0.5\"/>\n<polyline clip-path=\"url(#clip752)\" style=\"stroke:#000000; stroke-width:4; stroke-opacity:0.5; fill:none\" points=\"\n  1501.62,822.495 1526.54,822.495 1526.54,796.474 1501.62,796.474 1501.62,822.495 \n  \"/>\n<path clip-path=\"url(#clip752)\" d=\"\nM1526.54 796.474 L1551.45 796.474 L1551.45 769.072 L1526.54 769.072 L1526.54 796.474  Z\n  \" fill=\"#e26f46\" fill-rule=\"evenodd\" fill-opacity=\"0.5\"/>\n<polyline clip-path=\"url(#clip752)\" style=\"stroke:#000000; stroke-width:4; stroke-opacity:0.5; fill:none\" points=\"\n  1526.54,796.474 1551.45,796.474 1551.45,769.072 1526.54,769.072 1526.54,796.474 \n  \"/>\n<path clip-path=\"url(#clip752)\" d=\"\nM1551.45 769.072 L1576.36 769.072 L1576.36 740.288 L1551.45 740.288 L1551.45 769.072  Z\n  \" fill=\"#e26f46\" fill-rule=\"evenodd\" fill-opacity=\"0.5\"/>\n<polyline clip-path=\"url(#clip752)\" style=\"stroke:#000000; stroke-width:4; stroke-opacity:0.5; fill:none\" points=\"\n  1551.45,769.072 1576.36,769.072 1576.36,740.288 1551.45,740.288 1551.45,769.072 \n  \"/>\n<path clip-path=\"url(#clip752)\" d=\"\nM1576.36 740.288 L1601.27 740.288 L1601.27 710.122 L1576.36 710.122 L1576.36 740.288  Z\n  \" fill=\"#e26f46\" fill-rule=\"evenodd\" fill-opacity=\"0.5\"/>\n<polyline clip-path=\"url(#clip752)\" style=\"stroke:#000000; stroke-width:4; stroke-opacity:0.5; fill:none\" points=\"\n  1576.36,740.288 1601.27,740.288 1601.27,710.122 1576.36,710.122 1576.36,740.288 \n  \"/>\n<path clip-path=\"url(#clip752)\" d=\"\nM1601.27 710.122 L1626.18 710.122 L1626.18 678.575 L1601.27 678.575 L1601.27 710.122  Z\n  \" fill=\"#e26f46\" fill-rule=\"evenodd\" fill-opacity=\"0.5\"/>\n<polyline clip-path=\"url(#clip752)\" style=\"stroke:#000000; stroke-width:4; stroke-opacity:0.5; fill:none\" points=\"\n  1601.27,710.122 1626.18,710.122 1626.18,678.575 1601.27,678.575 1601.27,710.122 \n  \"/>\n<path clip-path=\"url(#clip752)\" d=\"\nM1626.18 678.575 L1651.09 678.575 L1651.09 645.646 L1626.18 645.646 L1626.18 678.575  Z\n  \" fill=\"#e26f46\" fill-rule=\"evenodd\" fill-opacity=\"0.5\"/>\n<polyline clip-path=\"url(#clip752)\" style=\"stroke:#000000; stroke-width:4; stroke-opacity:0.5; fill:none\" points=\"\n  1626.18,678.575 1651.09,678.575 1651.09,645.646 1626.18,645.646 1626.18,678.575 \n  \"/>\n<path clip-path=\"url(#clip752)\" d=\"\nM1651.09 645.646 L1676 645.646 L1676 611.335 L1651.09 611.335 L1651.09 645.646  Z\n  \" fill=\"#e26f46\" fill-rule=\"evenodd\" fill-opacity=\"0.5\"/>\n<polyline clip-path=\"url(#clip752)\" style=\"stroke:#000000; stroke-width:4; stroke-opacity:0.5; fill:none\" points=\"\n  1651.09,645.646 1676,645.646 1676,611.335 1651.09,611.335 1651.09,645.646 \n  \"/>\n<path clip-path=\"url(#clip752)\" d=\"\nM1676 611.335 L1700.91 611.335 L1700.91 575.643 L1676 575.643 L1676 611.335  Z\n  \" fill=\"#e26f46\" fill-rule=\"evenodd\" fill-opacity=\"0.5\"/>\n<polyline clip-path=\"url(#clip752)\" style=\"stroke:#000000; stroke-width:4; stroke-opacity:0.5; fill:none\" points=\"\n  1676,611.335 1700.91,611.335 1700.91,575.643 1676,575.643 1676,611.335 \n  \"/>\n<path clip-path=\"url(#clip752)\" d=\"\nM1700.91 575.643 L1725.82 575.643 L1725.82 538.569 L1700.91 538.569 L1700.91 575.643  Z\n  \" fill=\"#e26f46\" fill-rule=\"evenodd\" fill-opacity=\"0.5\"/>\n<polyline clip-path=\"url(#clip752)\" style=\"stroke:#000000; stroke-width:4; stroke-opacity:0.5; fill:none\" points=\"\n  1700.91,575.643 1725.82,575.643 1725.82,538.569 1700.91,538.569 1700.91,575.643 \n  \"/>\n<path clip-path=\"url(#clip752)\" d=\"\nM1725.82 538.569 L1750.74 538.569 L1750.74 500.114 L1725.82 500.114 L1725.82 538.569  Z\n  \" fill=\"#e26f46\" fill-rule=\"evenodd\" fill-opacity=\"0.5\"/>\n<polyline clip-path=\"url(#clip752)\" style=\"stroke:#000000; stroke-width:4; stroke-opacity:0.5; fill:none\" points=\"\n  1725.82,538.569 1750.74,538.569 1750.74,500.114 1725.82,500.114 1725.82,538.569 \n  \"/>\n<path clip-path=\"url(#clip752)\" d=\"\nM1750.74 500.114 L1775.65 500.114 L1775.65 460.276 L1750.74 460.276 L1750.74 500.114  Z\n  \" fill=\"#e26f46\" fill-rule=\"evenodd\" fill-opacity=\"0.5\"/>\n<polyline clip-path=\"url(#clip752)\" style=\"stroke:#000000; stroke-width:4; stroke-opacity:0.5; fill:none\" points=\"\n  1750.74,500.114 1775.65,500.114 1775.65,460.276 1750.74,460.276 1750.74,500.114 \n  \"/>\n<path clip-path=\"url(#clip752)\" d=\"\nM1775.65 460.276 L1800.56 460.276 L1800.56 419.058 L1775.65 419.058 L1775.65 460.276  Z\n  \" fill=\"#e26f46\" fill-rule=\"evenodd\" fill-opacity=\"0.5\"/>\n<polyline clip-path=\"url(#clip752)\" style=\"stroke:#000000; stroke-width:4; stroke-opacity:0.5; fill:none\" points=\"\n  1775.65,460.276 1800.56,460.276 1800.56,419.058 1775.65,419.058 1775.65,460.276 \n  \"/>\n<path clip-path=\"url(#clip752)\" d=\"\nM1800.56 419.058 L1825.47 419.058 L1825.47 376.457 L1800.56 376.457 L1800.56 419.058  Z\n  \" fill=\"#e26f46\" fill-rule=\"evenodd\" fill-opacity=\"0.5\"/>\n<polyline clip-path=\"url(#clip752)\" style=\"stroke:#000000; stroke-width:4; stroke-opacity:0.5; fill:none\" points=\"\n  1800.56,419.058 1825.47,419.058 1825.47,376.457 1800.56,376.457 1800.56,419.058 \n  \"/>\n<path clip-path=\"url(#clip752)\" d=\"\nM1825.47 376.457 L1850.38 376.457 L1850.38 332.475 L1825.47 332.475 L1825.47 376.457  Z\n  \" fill=\"#e26f46\" fill-rule=\"evenodd\" fill-opacity=\"0.5\"/>\n<polyline clip-path=\"url(#clip752)\" style=\"stroke:#000000; stroke-width:4; stroke-opacity:0.5; fill:none\" points=\"\n  1825.47,376.457 1850.38,376.457 1850.38,332.475 1825.47,332.475 1825.47,376.457 \n  \"/>\n<path clip-path=\"url(#clip752)\" d=\"\nM1850.38 332.475 L1875.29 332.475 L1875.29 287.111 L1850.38 287.111 L1850.38 332.475  Z\n  \" fill=\"#e26f46\" fill-rule=\"evenodd\" fill-opacity=\"0.5\"/>\n<polyline clip-path=\"url(#clip752)\" style=\"stroke:#000000; stroke-width:4; stroke-opacity:0.5; fill:none\" points=\"\n  1850.38,332.475 1875.29,332.475 1875.29,287.111 1850.38,287.111 1850.38,332.475 \n  \"/>\n<path clip-path=\"url(#clip750)\" d=\"\nM1983.89 276.658 L2279.41 276.658 L2279.41 95.2176 L1983.89 95.2176  Z\n  \" fill=\"#ffffff\" fill-rule=\"evenodd\" fill-opacity=\"1\"/>\n<polyline clip-path=\"url(#clip750)\" style=\"stroke:#000000; stroke-width:4; stroke-opacity:1; fill:none\" points=\"\n  1983.89,276.658 2279.41,276.658 2279.41,95.2176 1983.89,95.2176 1983.89,276.658 \n  \"/>\n<polyline clip-path=\"url(#clip750)\" style=\"stroke:#009af9; stroke-width:4; stroke-opacity:1; fill:none\" points=\"\n  2008.34,155.698 2155.04,155.698 \n  \"/>\n<path clip-path=\"url(#clip750)\" d=\"M 0 0 M2193.33 175.385 Q2191.53 180.015 2189.81 181.427 Q2188.1 182.839 2185.23 182.839 L2181.83 182.839 L2181.83 179.274 L2184.33 179.274 Q2186.09 179.274 2187.06 178.44 Q2188.03 177.607 2189.21 174.505 L2189.97 172.561 L2179.49 147.052 L2184 147.052 L2192.1 167.329 L2200.21 147.052 L2204.72 147.052 L2193.33 175.385 Z\" fill=\"#000000\" fill-rule=\"evenodd\" fill-opacity=\"1\" /><path clip-path=\"url(#clip750)\" d=\"M 0 0 M2210.6 169.042 L2218.24 169.042 L2218.24 142.677 L2209.93 144.343 L2209.93 140.084 L2218.19 138.418 L2222.87 138.418 L2222.87 169.042 L2230.51 169.042 L2230.51 172.978 L2210.6 172.978 L2210.6 169.042 Z\" fill=\"#000000\" fill-rule=\"evenodd\" fill-opacity=\"1\" /><path clip-path=\"url(#clip750)\" d=\"\nM2008.34 240.37 L2155.04 240.37 L2155.04 191.986 L2008.34 191.986 L2008.34 240.37  Z\n  \" fill=\"#e26f46\" fill-rule=\"evenodd\" fill-opacity=\"0.5\"/>\n<polyline clip-path=\"url(#clip750)\" style=\"stroke:#000000; stroke-width:4; stroke-opacity:1; fill:none\" points=\"\n  2008.34,240.37 2155.04,240.37 2155.04,191.986 2008.34,191.986 2008.34,240.37 \n  \"/>\n<path clip-path=\"url(#clip750)\" d=\"M 0 0 M2193.33 235.865 Q2191.53 240.495 2189.81 241.907 Q2188.1 243.319 2185.23 243.319 L2181.83 243.319 L2181.83 239.754 L2184.33 239.754 Q2186.09 239.754 2187.06 238.92 Q2188.03 238.087 2189.21 234.985 L2189.97 233.041 L2179.49 207.532 L2184 207.532 L2192.1 227.809 L2200.21 207.532 L2204.72 207.532 L2193.33 235.865 Z\" fill=\"#000000\" fill-rule=\"evenodd\" fill-opacity=\"1\" /><path clip-path=\"url(#clip750)\" d=\"M 0 0 M2213.82 229.522 L2230.14 229.522 L2230.14 233.458 L2208.19 233.458 L2208.19 229.522 Q2210.85 226.768 2215.44 222.138 Q2220.04 217.485 2221.22 216.143 Q2223.47 213.62 2224.35 211.884 Q2225.25 210.124 2225.25 208.435 Q2225.25 205.68 2223.31 203.944 Q2221.39 202.208 2218.28 202.208 Q2216.09 202.208 2213.63 202.972 Q2211.2 203.735 2208.42 205.286 L2208.42 200.564 Q2211.25 199.43 2213.7 198.851 Q2216.15 198.273 2218.19 198.273 Q2223.56 198.273 2226.76 200.958 Q2229.95 203.643 2229.95 208.134 Q2229.95 210.263 2229.14 212.185 Q2228.35 214.083 2226.25 216.675 Q2225.67 217.347 2222.57 220.564 Q2219.47 223.759 2213.82 229.522 Z\" fill=\"#000000\" fill-rule=\"evenodd\" fill-opacity=\"1\" /></svg>\n"
               },
               "type": "node"
              }
             ],
             "instanceArgs": {
              "namespace": "html",
              "tag": "div"
             },
             "nodeType": "DOM",
             "props": {
              "className": "interact-flex-row interact-widget"
             },
             "type": "node"
            }
           }
          },
          "systemjs_options": null
         },
         "nodeType": "Scope",
         "props": {},
         "type": "node"
        }
       ],
       "instanceArgs": {
        "namespace": "html",
        "tag": "div"
       },
       "nodeType": "DOM",
       "props": {},
       "type": "node"
      },
      "text/html": [
       "<div\n",
       "    class=\"webio-mountpoint\"\n",
       "    data-webio-mountpoint=\"1362092238083097403\"\n",
       ">\n",
       "    <script>\n",
       "    if (window.require && require.defined && require.defined(\"nbextensions/webio-jupyter-notebook\")) {\n",
       "        console.log(\"Jupyter WebIO extension detected, not mounting.\");\n",
       "    } else if (window.WebIO) {\n",
       "        WebIO.mount(\n",
       "            document.querySelector('[data-webio-mountpoint=\"1362092238083097403\"]'),\n",
       "            {\"props\":{},\"nodeType\":\"DOM\",\"type\":\"node\",\"instanceArgs\":{\"namespace\":\"html\",\"tag\":\"div\"},\"children\":[{\"props\":{\"className\":\"field interact-widget\"},\"nodeType\":\"DOM\",\"type\":\"node\",\"instanceArgs\":{\"namespace\":\"html\",\"tag\":\"div\"},\"children\":[{\"props\":{},\"nodeType\":\"Scope\",\"type\":\"node\",\"instanceArgs\":{\"imports\":{\"data\":[{\"name\":\"knockout\",\"type\":\"js\",\"url\":\"\\/assetserver\\/800fa077652c804a9c5f68b6c1e29c6c61f85df7-knockout.js\"},{\"name\":\"knockout_punches\",\"type\":\"js\",\"url\":\"\\/assetserver\\/81e3f253b58efa296c3c65b00e2bf7b25de6cca9-knockout_punches.js\"},{\"name\":null,\"type\":\"js\",\"url\":\"\\/assetserver\\/38c7b7ee795732e2c471bdda6df9ada295c4b257-all.js\"},{\"name\":null,\"type\":\"css\",\"url\":\"\\/assetserver\\/2a11ce0f191ac94586e3b11f276141d74e4232e4-style.css\"},{\"name\":null,\"type\":\"css\",\"url\":\"\\/assetserver\\/9354074556c360cc537db1e8b0f0283e19c8ea9d-bulma_confined.min.css\"}],\"type\":\"async_block\"},\"id\":\"2452752760793113435\",\"handlers\":{\"changes\":[\"(function (val){return (val!=this.model[\\\"changes\\\"]()) ? (this.valueFromJulia[\\\"changes\\\"]=true, this.model[\\\"changes\\\"](val)) : undefined})\"],\"index\":[\"(function (val){return (val!=this.model[\\\"index\\\"]()) ? (this.valueFromJulia[\\\"index\\\"]=true, this.model[\\\"index\\\"](val)) : undefined})\"]},\"systemjs_options\":null,\"mount_callbacks\":[\"function () {\\n    var handler = (function (ko, koPunches) {\\n    ko.punches.enableAll();\\n    ko.bindingHandlers.numericValue = {\\n        init: function(element, valueAccessor, allBindings, data, context) {\\n            var stringified = ko.observable(ko.unwrap(valueAccessor()));\\n            stringified.subscribe(function(value) {\\n                var val = parseFloat(value);\\n                if (!isNaN(val)) {\\n                    valueAccessor()(val);\\n                }\\n            });\\n            valueAccessor().subscribe(function(value) {\\n                var str = JSON.stringify(value);\\n                if ((str == \\\"0\\\") && ([\\\"-0\\\", \\\"-0.\\\"].indexOf(stringified()) >= 0))\\n                     return;\\n                 if ([\\\"null\\\", \\\"\\\"].indexOf(str) >= 0)\\n                     return;\\n                stringified(str);\\n            });\\n            ko.applyBindingsToNode(\\n                element,\\n                {\\n                    value: stringified,\\n                    valueUpdate: allBindings.get('valueUpdate'),\\n                },\\n                context,\\n            );\\n        }\\n    };\\n    var json_data = {\\\"formatted_vals\\\":[\\\"1\\\",\\\"2\\\",\\\"3\\\",\\\"4\\\",\\\"5\\\",\\\"6\\\",\\\"7\\\",\\\"8\\\",\\\"9\\\",\\\"10\\\",\\\"11\\\",\\\"12\\\",\\\"13\\\",\\\"14\\\",\\\"15\\\",\\\"16\\\",\\\"17\\\",\\\"18\\\",\\\"19\\\",\\\"20\\\",\\\"21\\\",\\\"22\\\",\\\"23\\\",\\\"24\\\",\\\"25\\\",\\\"26\\\",\\\"27\\\",\\\"28\\\",\\\"29\\\",\\\"30\\\",\\\"31\\\",\\\"32\\\",\\\"33\\\",\\\"34\\\",\\\"35\\\",\\\"36\\\",\\\"37\\\",\\\"38\\\",\\\"39\\\",\\\"40\\\",\\\"41\\\",\\\"42\\\",\\\"43\\\",\\\"44\\\",\\\"45\\\",\\\"46\\\",\\\"47\\\",\\\"48\\\",\\\"49\\\",\\\"50\\\",\\\"51\\\",\\\"52\\\",\\\"53\\\",\\\"54\\\",\\\"55\\\",\\\"56\\\",\\\"57\\\",\\\"58\\\",\\\"59\\\",\\\"60\\\",\\\"61\\\",\\\"62\\\",\\\"63\\\",\\\"64\\\",\\\"65\\\",\\\"66\\\",\\\"67\\\",\\\"68\\\",\\\"69\\\",\\\"70\\\",\\\"71\\\",\\\"72\\\",\\\"73\\\",\\\"74\\\",\\\"75\\\",\\\"76\\\",\\\"77\\\",\\\"78\\\",\\\"79\\\",\\\"80\\\",\\\"81\\\",\\\"82\\\",\\\"83\\\",\\\"84\\\",\\\"85\\\",\\\"86\\\",\\\"87\\\",\\\"88\\\",\\\"89\\\",\\\"90\\\",\\\"91\\\",\\\"92\\\",\\\"93\\\",\\\"94\\\",\\\"95\\\",\\\"96\\\",\\\"97\\\",\\\"98\\\",\\\"99\\\",\\\"100\\\"],\\\"changes\\\":WebIO.getval({\\\"name\\\":\\\"changes\\\",\\\"scope\\\":\\\"2452752760793113435\\\",\\\"id\\\":\\\"1582346011846543928\\\",\\\"type\\\":\\\"observable\\\"}),\\\"index\\\":WebIO.getval({\\\"name\\\":\\\"index\\\",\\\"scope\\\":\\\"2452752760793113435\\\",\\\"id\\\":\\\"4904240259624211723\\\",\\\"type\\\":\\\"observable\\\"})};\\n    var self = this;\\n    function AppViewModel() {\\n        for (var key in json_data) {\\n            var el = json_data[key];\\n            this[key] = Array.isArray(el) ? ko.observableArray(el) : ko.observable(el);\\n        }\\n        \\n        [this[\\\"formatted_val\\\"]=ko.computed(    function(){\\n        return this.formatted_vals()[parseInt(this.index())-(1)];\\n    }\\n,this)]\\n        [this[\\\"changes\\\"].subscribe((function (val){!(this.valueFromJulia[\\\"changes\\\"]) ? (WebIO.setval({\\\"name\\\":\\\"changes\\\",\\\"scope\\\":\\\"2452752760793113435\\\",\\\"id\\\":\\\"1582346011846543928\\\",\\\"type\\\":\\\"observable\\\"},val)) : undefined; return this.valueFromJulia[\\\"changes\\\"]=false}),self),this[\\\"index\\\"].subscribe((function (val){!(this.valueFromJulia[\\\"index\\\"]) ? (WebIO.setval({\\\"name\\\":\\\"index\\\",\\\"scope\\\":\\\"2452752760793113435\\\",\\\"id\\\":\\\"4904240259624211723\\\",\\\"type\\\":\\\"observable\\\"},val)) : undefined; return this.valueFromJulia[\\\"index\\\"]=false}),self)]\\n        \\n    }\\n    self.model = new AppViewModel();\\n    self.valueFromJulia = {};\\n    for (var key in json_data) {\\n        self.valueFromJulia[key] = false;\\n    }\\n    ko.applyBindings(self.model, self.dom);\\n}\\n);\\n    (WebIO.importBlock({\\\"data\\\":[{\\\"name\\\":\\\"knockout\\\",\\\"type\\\":\\\"js\\\",\\\"url\\\":\\\"\\/assetserver\\/800fa077652c804a9c5f68b6c1e29c6c61f85df7-knockout.js\\\"},{\\\"name\\\":\\\"knockout_punches\\\",\\\"type\\\":\\\"js\\\",\\\"url\\\":\\\"\\/assetserver\\/81e3f253b58efa296c3c65b00e2bf7b25de6cca9-knockout_punches.js\\\"}],\\\"type\\\":\\\"async_block\\\"})).then((imports) => handler.apply(this, imports));\\n}\\n\"],\"observables\":{\"changes\":{\"sync\":false,\"id\":\"1582346011846543928\",\"value\":0},\"index\":{\"sync\":true,\"id\":\"4904240259624211723\",\"value\":50}}},\"children\":[{\"props\":{\"className\":\"interact-flex-row interact-widget\"},\"nodeType\":\"DOM\",\"type\":\"node\",\"instanceArgs\":{\"namespace\":\"html\",\"tag\":\"div\"},\"children\":[{\"props\":{\"className\":\"interact-flex-row-left\"},\"nodeType\":\"DOM\",\"type\":\"node\",\"instanceArgs\":{\"namespace\":\"html\",\"tag\":\"div\"},\"children\":[{\"props\":{\"className\":\"interact \",\"style\":{\"padding\":\"5px 10px 0px 10px\"}},\"nodeType\":\"DOM\",\"type\":\"node\",\"instanceArgs\":{\"namespace\":\"html\",\"tag\":\"label\"},\"children\":[\"N\"]}]},{\"props\":{\"className\":\"interact-flex-row-center\"},\"nodeType\":\"DOM\",\"type\":\"node\",\"instanceArgs\":{\"namespace\":\"html\",\"tag\":\"div\"},\"children\":[{\"props\":{\"max\":100,\"min\":1,\"attributes\":{\"type\":\"range\",\"data-bind\":\"numericValue: index, valueUpdate: 'input', event: {change: function (){this.changes(this.changes()+1)}}\",\"orient\":\"horizontal\"},\"step\":1,\"className\":\"slider slider is-fullwidth\",\"style\":{}},\"nodeType\":\"DOM\",\"type\":\"node\",\"instanceArgs\":{\"namespace\":\"html\",\"tag\":\"input\"},\"children\":[]}]},{\"props\":{\"className\":\"interact-flex-row-right\"},\"nodeType\":\"DOM\",\"type\":\"node\",\"instanceArgs\":{\"namespace\":\"html\",\"tag\":\"div\"},\"children\":[{\"props\":{\"attributes\":{\"data-bind\":\"text: formatted_val\"}},\"nodeType\":\"DOM\",\"type\":\"node\",\"instanceArgs\":{\"namespace\":\"html\",\"tag\":\"p\"},\"children\":[]}]}]}]}]},{\"props\":{},\"nodeType\":\"Scope\",\"type\":\"node\",\"instanceArgs\":{\"imports\":{\"data\":[],\"type\":\"async_block\"},\"id\":\"10775561467895308683\",\"handlers\":{},\"systemjs_options\":null,\"mount_callbacks\":[],\"observables\":{\"obs-node\":{\"sync\":false,\"id\":\"2981020957713532985\",\"value\":{\"props\":{\"className\":\"interact-flex-row interact-widget\"},\"nodeType\":\"DOM\",\"type\":\"node\",\"instanceArgs\":{\"namespace\":\"html\",\"tag\":\"div\"},\"children\":[{\"props\":{\"setInnerHtml\":\"<?xml version=\\\"1.0\\\" encoding=\\\"utf-8\\\"?>\\n<svg xmlns=\\\"http:\\/\\/www.w3.org\\/2000\\/svg\\\" xmlns:xlink=\\\"http:\\/\\/www.w3.org\\/1999\\/xlink\\\" width=\\\"600\\\" height=\\\"400\\\" viewBox=\\\"0 0 2400 1600\\\">\\n<defs>\\n  <clipPath id=\\\"clip710\\\">\\n    <rect x=\\\"0\\\" y=\\\"0\\\" width=\\\"2400\\\" height=\\\"1600\\\"\\/>\\n  <\\/clipPath>\\n<\\/defs>\\n<path clip-path=\\\"url(#clip710)\\\" d=\\\"\\nM0 1600 L2400 1600 L2400 0 L0 0  Z\\n  \\\" fill=\\\"#ffffff\\\" fill-rule=\\\"evenodd\\\" fill-opacity=\\\"1\\\"\\/>\\n<defs>\\n  <clipPath id=\\\"clip711\\\">\\n    <rect x=\\\"480\\\" y=\\\"0\\\" width=\\\"1681\\\" height=\\\"1600\\\"\\/>\\n  <\\/clipPath>\\n<\\/defs>\\n<path clip-path=\\\"url(#clip710)\\\" d=\\\"\\nM152.27 1486.45 L2352.76 1486.45 L2352.76 47.2441 L152.27 47.2441  Z\\n  \\\" fill=\\\"#ffffff\\\" fill-rule=\\\"evenodd\\\" fill-opacity=\\\"1\\\"\\/>\\n<defs>\\n  <clipPath id=\\\"clip712\\\">\\n    <rect x=\\\"152\\\" y=\\\"47\\\" width=\\\"2201\\\" height=\\\"1440\\\"\\/>\\n  <\\/clipPath>\\n<\\/defs>\\n<polyline clip-path=\\\"url(#clip712)\\\" style=\\\"stroke:#000000; stroke-width:2; stroke-opacity:0.1; fill:none\\\" points=\\\"\\n  422.141,1486.45 422.141,47.2441 \\n  \\\"\\/>\\n<polyline clip-path=\\\"url(#clip712)\\\" style=\\\"stroke:#000000; stroke-width:2; stroke-opacity:0.1; fill:none\\\" points=\\\"\\n  837.327,1486.45 837.327,47.2441 \\n  \\\"\\/>\\n<polyline clip-path=\\\"url(#clip712)\\\" style=\\\"stroke:#000000; stroke-width:2; stroke-opacity:0.1; fill:none\\\" points=\\\"\\n  1252.51,1486.45 1252.51,47.2441 \\n  \\\"\\/>\\n<polyline clip-path=\\\"url(#clip712)\\\" style=\\\"stroke:#000000; stroke-width:2; stroke-opacity:0.1; fill:none\\\" points=\\\"\\n  1667.7,1486.45 1667.7,47.2441 \\n  \\\"\\/>\\n<polyline clip-path=\\\"url(#clip712)\\\" style=\\\"stroke:#000000; stroke-width:2; stroke-opacity:0.1; fill:none\\\" points=\\\"\\n  2082.88,1486.45 2082.88,47.2441 \\n  \\\"\\/>\\n<polyline clip-path=\\\"url(#clip712)\\\" style=\\\"stroke:#000000; stroke-width:2; stroke-opacity:0.1; fill:none\\\" points=\\\"\\n  152.27,1486.45 2352.76,1486.45 \\n  \\\"\\/>\\n<polyline clip-path=\\\"url(#clip712)\\\" style=\\\"stroke:#000000; stroke-width:2; stroke-opacity:0.1; fill:none\\\" points=\\\"\\n  152.27,1006.71 2352.76,1006.71 \\n  \\\"\\/>\\n<polyline clip-path=\\\"url(#clip712)\\\" style=\\\"stroke:#000000; stroke-width:2; stroke-opacity:0.1; fill:none\\\" points=\\\"\\n  152.27,526.979 2352.76,526.979 \\n  \\\"\\/>\\n<polyline clip-path=\\\"url(#clip712)\\\" style=\\\"stroke:#000000; stroke-width:2; stroke-opacity:0.1; fill:none\\\" points=\\\"\\n  152.27,47.2441 2352.76,47.2441 \\n  \\\"\\/>\\n<polyline clip-path=\\\"url(#clip710)\\\" style=\\\"stroke:#000000; stroke-width:4; stroke-opacity:1; fill:none\\\" points=\\\"\\n  152.27,1486.45 2352.76,1486.45 \\n  \\\"\\/>\\n<polyline clip-path=\\\"url(#clip710)\\\" style=\\\"stroke:#000000; stroke-width:4; stroke-opacity:1; fill:none\\\" points=\\\"\\n  152.27,1486.45 152.27,47.2441 \\n  \\\"\\/>\\n<polyline clip-path=\\\"url(#clip710)\\\" style=\\\"stroke:#000000; stroke-width:4; stroke-opacity:1; fill:none\\\" points=\\\"\\n  422.141,1486.45 422.141,1469.18 \\n  \\\"\\/>\\n<polyline clip-path=\\\"url(#clip710)\\\" style=\\\"stroke:#000000; stroke-width:4; stroke-opacity:1; fill:none\\\" points=\\\"\\n  837.327,1486.45 837.327,1469.18 \\n  \\\"\\/>\\n<polyline clip-path=\\\"url(#clip710)\\\" style=\\\"stroke:#000000; stroke-width:4; stroke-opacity:1; fill:none\\\" points=\\\"\\n  1252.51,1486.45 1252.51,1469.18 \\n  \\\"\\/>\\n<polyline clip-path=\\\"url(#clip710)\\\" style=\\\"stroke:#000000; stroke-width:4; stroke-opacity:1; fill:none\\\" points=\\\"\\n  1667.7,1486.45 1667.7,1469.18 \\n  \\\"\\/>\\n<polyline clip-path=\\\"url(#clip710)\\\" style=\\\"stroke:#000000; stroke-width:4; stroke-opacity:1; fill:none\\\" points=\\\"\\n  2082.88,1486.45 2082.88,1469.18 \\n  \\\"\\/>\\n<polyline clip-path=\\\"url(#clip710)\\\" style=\\\"stroke:#000000; stroke-width:4; stroke-opacity:1; fill:none\\\" points=\\\"\\n  152.27,1486.45 178.675,1486.45 \\n  \\\"\\/>\\n<polyline clip-path=\\\"url(#clip710)\\\" style=\\\"stroke:#000000; stroke-width:4; stroke-opacity:1; fill:none\\\" points=\\\"\\n  152.27,1006.71 178.675,1006.71 \\n  \\\"\\/>\\n<polyline clip-path=\\\"url(#clip710)\\\" style=\\\"stroke:#000000; stroke-width:4; stroke-opacity:1; fill:none\\\" points=\\\"\\n  152.27,526.979 178.675,526.979 \\n  \\\"\\/>\\n<polyline clip-path=\\\"url(#clip710)\\\" style=\\\"stroke:#000000; stroke-width:4; stroke-opacity:1; fill:none\\\" points=\\\"\\n  152.27,47.2441 178.675,47.2441 \\n  \\\"\\/>\\n<path clip-path=\\\"url(#clip710)\\\" d=\\\"M 0 0 M402.152 1525.04 L414.629 1525.04 L414.629 1528.83 L402.152 1528.83 L402.152 1525.04 Z\\\" fill=\\\"#000000\\\" fill-rule=\\\"evenodd\\\" fill-opacity=\\\"1\\\" \\/><path clip-path=\\\"url(#clip710)\\\" d=\\\"M 0 0 M432.546 1509.43 L420.74 1527.88 L432.546 1527.88 L432.546 1509.43 M431.319 1505.36 L437.198 1505.36 L437.198 1527.88 L442.129 1527.88 L442.129 1531.77 L437.198 1531.77 L437.198 1539.92 L432.546 1539.92 L432.546 1531.77 L416.944 1531.77 L416.944 1527.26 L431.319 1505.36 Z\\\" fill=\\\"#000000\\\" fill-rule=\\\"evenodd\\\" fill-opacity=\\\"1\\\" \\/><path clip-path=\\\"url(#clip710)\\\" d=\\\"M 0 0 M818.38 1525.04 L830.857 1525.04 L830.857 1528.83 L818.38 1528.83 L818.38 1525.04 Z\\\" fill=\\\"#000000\\\" fill-rule=\\\"evenodd\\\" fill-opacity=\\\"1\\\" \\/><path clip-path=\\\"url(#clip710)\\\" d=\\\"M 0 0 M839.954 1535.98 L856.273 1535.98 L856.273 1539.92 L834.329 1539.92 L834.329 1535.98 Q836.991 1533.23 841.574 1528.6 Q846.181 1523.95 847.361 1522.61 Q849.607 1520.08 850.486 1518.35 Q851.389 1516.59 851.389 1514.9 Q851.389 1512.14 849.445 1510.41 Q847.523 1508.67 844.421 1508.67 Q842.222 1508.67 839.769 1509.43 Q837.338 1510.2 834.56 1511.75 L834.56 1507.03 Q837.384 1505.89 839.838 1505.31 Q842.292 1504.73 844.329 1504.73 Q849.699 1504.73 852.894 1507.42 Q856.088 1510.11 856.088 1514.6 Q856.088 1516.73 855.278 1518.65 Q854.491 1520.54 852.384 1523.14 Q851.806 1523.81 848.704 1527.03 Q845.602 1530.22 839.954 1535.98 Z\\\" fill=\\\"#000000\\\" fill-rule=\\\"evenodd\\\" fill-opacity=\\\"1\\\" \\/><path clip-path=\\\"url(#clip710)\\\" d=\\\"M 0 0 M1252.51 1508.44 Q1248.9 1508.44 1247.07 1512 Q1245.27 1515.55 1245.27 1522.67 Q1245.27 1529.78 1247.07 1533.35 Q1248.9 1536.89 1252.51 1536.89 Q1256.15 1536.89 1257.95 1533.35 Q1259.78 1529.78 1259.78 1522.67 Q1259.78 1515.55 1257.95 1512 Q1256.15 1508.44 1252.51 1508.44 M1252.51 1504.73 Q1258.32 1504.73 1261.38 1509.34 Q1264.46 1513.92 1264.46 1522.67 Q1264.46 1531.4 1261.38 1536.01 Q1258.32 1540.59 1252.51 1540.59 Q1246.7 1540.59 1243.62 1536.01 Q1240.57 1531.4 1240.57 1522.67 Q1240.57 1513.92 1243.62 1509.34 Q1246.7 1504.73 1252.51 1504.73 Z\\\" fill=\\\"#000000\\\" fill-rule=\\\"evenodd\\\" fill-opacity=\\\"1\\\" \\/><path clip-path=\\\"url(#clip710)\\\" d=\\\"M 0 0 M1662.35 1535.98 L1678.67 1535.98 L1678.67 1539.92 L1656.73 1539.92 L1656.73 1535.98 Q1659.39 1533.23 1663.97 1528.6 Q1668.58 1523.95 1669.76 1522.61 Q1672 1520.08 1672.88 1518.35 Q1673.79 1516.59 1673.79 1514.9 Q1673.79 1512.14 1671.84 1510.41 Q1669.92 1508.67 1666.82 1508.67 Q1664.62 1508.67 1662.17 1509.43 Q1659.74 1510.2 1656.96 1511.75 L1656.96 1507.03 Q1659.78 1505.89 1662.24 1505.31 Q1664.69 1504.73 1666.73 1504.73 Q1672.1 1504.73 1675.29 1507.42 Q1678.49 1510.11 1678.49 1514.6 Q1678.49 1516.73 1677.68 1518.65 Q1676.89 1520.54 1674.78 1523.14 Q1674.2 1523.81 1671.1 1527.03 Q1668 1530.22 1662.35 1535.98 Z\\\" fill=\\\"#000000\\\" fill-rule=\\\"evenodd\\\" fill-opacity=\\\"1\\\" \\/><path clip-path=\\\"url(#clip710)\\\" d=\\\"M 0 0 M2085.89 1509.43 L2074.09 1527.88 L2085.89 1527.88 L2085.89 1509.43 M2084.67 1505.36 L2090.55 1505.36 L2090.55 1527.88 L2095.48 1527.88 L2095.48 1531.77 L2090.55 1531.77 L2090.55 1539.92 L2085.89 1539.92 L2085.89 1531.77 L2070.29 1531.77 L2070.29 1527.26 L2084.67 1505.36 Z\\\" fill=\\\"#000000\\\" fill-rule=\\\"evenodd\\\" fill-opacity=\\\"1\\\" \\/><path clip-path=\\\"url(#clip710)\\\" d=\\\"M 0 0 M62.9921 1488.84 L75.4689 1488.84 L75.4689 1492.64 L62.9921 1492.64 L62.9921 1488.84 Z\\\" fill=\\\"#000000\\\" fill-rule=\\\"evenodd\\\" fill-opacity=\\\"1\\\" \\/><path clip-path=\\\"url(#clip710)\\\" d=\\\"M 0 0 M81.3485 1499.79 L88.9874 1499.79 L88.9874 1473.43 L80.6772 1475.09 L80.6772 1470.83 L88.9411 1469.17 L93.617 1469.17 L93.617 1499.79 L101.256 1499.79 L101.256 1503.73 L81.3485 1503.73 L81.3485 1499.79 Z\\\" fill=\\\"#000000\\\" fill-rule=\\\"evenodd\\\" fill-opacity=\\\"1\\\" \\/><path clip-path=\\\"url(#clip710)\\\" d=\\\"M 0 0 M116.325 1472.25 Q112.714 1472.25 110.885 1475.81 Q109.08 1479.35 109.08 1486.48 Q109.08 1493.59 110.885 1497.15 Q112.714 1500.7 116.325 1500.7 Q119.959 1500.7 121.765 1497.15 Q123.594 1493.59 123.594 1486.48 Q123.594 1479.35 121.765 1475.81 Q119.959 1472.25 116.325 1472.25 M116.325 1468.54 Q122.135 1468.54 125.191 1473.15 Q128.27 1477.73 128.27 1486.48 Q128.27 1495.21 125.191 1499.82 Q122.135 1504.4 116.325 1504.4 Q110.515 1504.4 107.436 1499.82 Q104.381 1495.21 104.381 1486.48 Q104.381 1477.73 107.436 1473.15 Q110.515 1468.54 116.325 1468.54 Z\\\" fill=\\\"#000000\\\" fill-rule=\\\"evenodd\\\" fill-opacity=\\\"1\\\" \\/><path clip-path=\\\"url(#clip710)\\\" d=\\\"M 0 0 M116.325 992.512 Q112.714 992.512 110.885 996.077 Q109.08 999.618 109.08 1006.75 Q109.08 1013.85 110.885 1017.42 Q112.714 1020.96 116.325 1020.96 Q119.959 1020.96 121.765 1017.42 Q123.594 1013.85 123.594 1006.75 Q123.594 999.618 121.765 996.077 Q119.959 992.512 116.325 992.512 M116.325 988.808 Q122.135 988.808 125.191 993.415 Q128.27 997.998 128.27 1006.75 Q128.27 1015.47 125.191 1020.08 Q122.135 1024.66 116.325 1024.66 Q110.515 1024.66 107.436 1020.08 Q104.381 1015.47 104.381 1006.75 Q104.381 997.998 107.436 993.415 Q110.515 988.808 116.325 988.808 Z\\\" fill=\\\"#000000\\\" fill-rule=\\\"evenodd\\\" fill-opacity=\\\"1\\\" \\/><path clip-path=\\\"url(#clip710)\\\" d=\\\"M 0 0 M81.3485 540.324 L88.9874 540.324 L88.9874 513.958 L80.6772 515.625 L80.6772 511.365 L88.9411 509.699 L93.617 509.699 L93.617 540.324 L101.256 540.324 L101.256 544.259 L81.3485 544.259 L81.3485 540.324 Z\\\" fill=\\\"#000000\\\" fill-rule=\\\"evenodd\\\" fill-opacity=\\\"1\\\" \\/><path clip-path=\\\"url(#clip710)\\\" d=\\\"M 0 0 M116.325 512.777 Q112.714 512.777 110.885 516.342 Q109.08 519.884 109.08 527.013 Q109.08 534.12 110.885 537.685 Q112.714 541.226 116.325 541.226 Q119.959 541.226 121.765 537.685 Q123.594 534.12 123.594 527.013 Q123.594 519.884 121.765 516.342 Q119.959 512.777 116.325 512.777 M116.325 509.074 Q122.135 509.074 125.191 513.68 Q128.27 518.263 128.27 527.013 Q128.27 535.74 125.191 540.347 Q122.135 544.93 116.325 544.93 Q110.515 544.93 107.436 540.347 Q104.381 535.74 104.381 527.013 Q104.381 518.263 107.436 513.68 Q110.515 509.074 116.325 509.074 Z\\\" fill=\\\"#000000\\\" fill-rule=\\\"evenodd\\\" fill-opacity=\\\"1\\\" \\/><path clip-path=\\\"url(#clip710)\\\" d=\\\"M 0 0 M84.9365 60.5889 L101.256 60.5889 L101.256 64.5241 L79.3115 64.5241 L79.3115 60.5889 Q81.9735 57.8343 86.5568 53.2047 Q91.1633 48.552 92.3438 47.2094 Q94.5892 44.6862 95.4688 42.9501 Q96.3716 41.1909 96.3716 39.5011 Q96.3716 36.7465 94.4271 35.0104 Q92.5059 33.2743 89.404 33.2743 Q87.205 33.2743 84.7513 34.0381 Q82.3207 34.802 79.543 36.3529 L79.543 31.6308 Q82.367 30.4965 84.8207 29.9178 Q87.2744 29.3391 89.3114 29.3391 Q94.6818 29.3391 97.8762 32.0243 Q101.071 34.7094 101.071 39.2002 Q101.071 41.3298 100.26 43.2511 Q99.4734 45.1492 97.3669 47.7418 Q96.7882 48.4131 93.6864 51.6306 Q90.5846 54.8251 84.9365 60.5889 Z\\\" fill=\\\"#000000\\\" fill-rule=\\\"evenodd\\\" fill-opacity=\\\"1\\\" \\/><path clip-path=\\\"url(#clip710)\\\" d=\\\"M 0 0 M116.325 33.0428 Q112.714 33.0428 110.885 36.6076 Q109.08 40.1492 109.08 47.2788 Q109.08 54.3853 110.885 57.9501 Q112.714 61.4917 116.325 61.4917 Q119.959 61.4917 121.765 57.9501 Q123.594 54.3853 123.594 47.2788 Q123.594 40.1492 121.765 36.6076 Q119.959 33.0428 116.325 33.0428 M116.325 29.3391 Q122.135 29.3391 125.191 33.9456 Q128.27 38.5289 128.27 47.2788 Q128.27 56.0056 125.191 60.6121 Q122.135 65.1954 116.325 65.1954 Q110.515 65.1954 107.436 60.6121 Q104.381 56.0056 104.381 47.2788 Q104.381 38.5289 107.436 33.9456 Q110.515 29.3391 116.325 29.3391 Z\\\" fill=\\\"#000000\\\" fill-rule=\\\"evenodd\\\" fill-opacity=\\\"1\\\" \\/><polyline clip-path=\\\"url(#clip712)\\\" style=\\\"stroke:#009af9; stroke-width:4; stroke-opacity:1; fill:none\\\" points=\\\"\\n  214.547,287.111 224.684,305.737 234.821,324.134 328.548,483.402 422.275,623.112 478.602,697.664 534.928,765.151 582.551,816.7 630.174,863.2 733.638,946.821 \\n  829.023,1002.8 880.154,1024.47 931.285,1040.31 990.526,1051.39 1049.77,1054.66 1102.41,1051.01 1155.06,1041.18 1201.22,1027.49 1247.39,1009.05 1348.06,952.392 \\n  1449.32,872.633 1505.3,818.741 1561.28,757.873 1614.55,693.481 1667.81,622.772 1778.57,455.505 1871.81,293.527 1928.73,185.135 1985.65,69.5298 2039.15,-45.7193 \\n  2092.66,-167.342 2178.38,-375.476 2264.09,-599.969 2277.29,-635.969 2290.48,-672.358 \\n  \\\"\\/>\\n<path clip-path=\\\"url(#clip712)\\\" d=\\\"\\nM629.734 896.643 L654.645 896.643 L654.645 851.279 L629.734 851.279 L629.734 896.643  Z\\n  \\\" fill=\\\"#e26f46\\\" fill-rule=\\\"evenodd\\\" fill-opacity=\\\"0.5\\\"\\/>\\n<polyline clip-path=\\\"url(#clip712)\\\" style=\\\"stroke:#000000; stroke-width:4; stroke-opacity:0.5; fill:none\\\" points=\\\"\\n  629.734,896.643 654.645,896.643 654.645,851.279 629.734,851.279 629.734,896.643 \\n  \\\"\\/>\\n<path clip-path=\\\"url(#clip712)\\\" d=\\\"\\nM654.645 917.598 L679.556 917.598 L679.556 873.616 L654.645 873.616 L654.645 917.598  Z\\n  \\\" fill=\\\"#e26f46\\\" fill-rule=\\\"evenodd\\\" fill-opacity=\\\"0.5\\\"\\/>\\n<polyline clip-path=\\\"url(#clip712)\\\" style=\\\"stroke:#000000; stroke-width:4; stroke-opacity:0.5; fill:none\\\" points=\\\"\\n  654.645,917.598 679.556,917.598 679.556,873.616 654.645,873.616 654.645,917.598 \\n  \\\"\\/>\\n<path clip-path=\\\"url(#clip712)\\\" d=\\\"\\nM679.556 937.171 L704.467 937.171 L704.467 894.571 L679.556 894.571 L679.556 937.171  Z\\n  \\\" fill=\\\"#e26f46\\\" fill-rule=\\\"evenodd\\\" fill-opacity=\\\"0.5\\\"\\/>\\n<polyline clip-path=\\\"url(#clip712)\\\" style=\\\"stroke:#000000; stroke-width:4; stroke-opacity:0.5; fill:none\\\" points=\\\"\\n  679.556,937.171 704.467,937.171 704.467,894.571 679.556,894.571 679.556,937.171 \\n  \\\"\\/>\\n<path clip-path=\\\"url(#clip712)\\\" d=\\\"\\nM704.467 955.362 L729.378 955.362 L729.378 914.144 L704.467 914.144 L704.467 955.362  Z\\n  \\\" fill=\\\"#e26f46\\\" fill-rule=\\\"evenodd\\\" fill-opacity=\\\"0.5\\\"\\/>\\n<polyline clip-path=\\\"url(#clip712)\\\" style=\\\"stroke:#000000; stroke-width:4; stroke-opacity:0.5; fill:none\\\" points=\\\"\\n  704.467,955.362 729.378,955.362 729.378,914.144 704.467,914.144 704.467,955.362 \\n  \\\"\\/>\\n<path clip-path=\\\"url(#clip712)\\\" d=\\\"\\nM729.378 972.172 L754.289 972.172 L754.289 932.335 L729.378 932.335 L729.378 972.172  Z\\n  \\\" fill=\\\"#e26f46\\\" fill-rule=\\\"evenodd\\\" fill-opacity=\\\"0.5\\\"\\/>\\n<polyline clip-path=\\\"url(#clip712)\\\" style=\\\"stroke:#000000; stroke-width:4; stroke-opacity:0.5; fill:none\\\" points=\\\"\\n  729.378,972.172 754.289,972.172 754.289,932.335 729.378,932.335 729.378,972.172 \\n  \\\"\\/>\\n<path clip-path=\\\"url(#clip712)\\\" d=\\\"\\nM754.289 987.601 L779.201 987.601 L779.201 949.145 L754.289 949.145 L754.289 987.601  Z\\n  \\\" fill=\\\"#e26f46\\\" fill-rule=\\\"evenodd\\\" fill-opacity=\\\"0.5\\\"\\/>\\n<polyline clip-path=\\\"url(#clip712)\\\" style=\\\"stroke:#000000; stroke-width:4; stroke-opacity:0.5; fill:none\\\" points=\\\"\\n  754.289,987.601 779.201,987.601 779.201,949.145 754.289,949.145 754.289,987.601 \\n  \\\"\\/>\\n<path clip-path=\\\"url(#clip712)\\\" d=\\\"\\nM779.201 1001.65 L804.112 1001.65 L804.112 964.573 L779.201 964.573 L779.201 1001.65  Z\\n  \\\" fill=\\\"#e26f46\\\" fill-rule=\\\"evenodd\\\" fill-opacity=\\\"0.5\\\"\\/>\\n<polyline clip-path=\\\"url(#clip712)\\\" style=\\\"stroke:#000000; stroke-width:4; stroke-opacity:0.5; fill:none\\\" points=\\\"\\n  779.201,1001.65 804.112,1001.65 804.112,964.573 779.201,964.573 779.201,1001.65 \\n  \\\"\\/>\\n<path clip-path=\\\"url(#clip712)\\\" d=\\\"\\nM804.112 1014.31 L829.023 1014.31 L829.023 978.62 L804.112 978.62 L804.112 1014.31  Z\\n  \\\" fill=\\\"#e26f46\\\" fill-rule=\\\"evenodd\\\" fill-opacity=\\\"0.5\\\"\\/>\\n<polyline clip-path=\\\"url(#clip712)\\\" style=\\\"stroke:#000000; stroke-width:4; stroke-opacity:0.5; fill:none\\\" points=\\\"\\n  804.112,1014.31 829.023,1014.31 829.023,978.62 804.112,978.62 804.112,1014.31 \\n  \\\"\\/>\\n<path clip-path=\\\"url(#clip712)\\\" d=\\\"\\nM829.023 1025.6 L853.934 1025.6 L853.934 991.285 L829.023 991.285 L829.023 1025.6  Z\\n  \\\" fill=\\\"#e26f46\\\" fill-rule=\\\"evenodd\\\" fill-opacity=\\\"0.5\\\"\\/>\\n<polyline clip-path=\\\"url(#clip712)\\\" style=\\\"stroke:#000000; stroke-width:4; stroke-opacity:0.5; fill:none\\\" points=\\\"\\n  829.023,1025.6 853.934,1025.6 853.934,991.285 829.023,991.285 829.023,1025.6 \\n  \\\"\\/>\\n<path clip-path=\\\"url(#clip712)\\\" d=\\\"\\nM853.934 1035.5 L878.845 1035.5 L878.845 1002.57 L853.934 1002.57 L853.934 1035.5  Z\\n  \\\" fill=\\\"#e26f46\\\" fill-rule=\\\"evenodd\\\" fill-opacity=\\\"0.5\\\"\\/>\\n<polyline clip-path=\\\"url(#clip712)\\\" style=\\\"stroke:#000000; stroke-width:4; stroke-opacity:0.5; fill:none\\\" points=\\\"\\n  853.934,1035.5 878.845,1035.5 878.845,1002.57 853.934,1002.57 853.934,1035.5 \\n  \\\"\\/>\\n<path clip-path=\\\"url(#clip712)\\\" d=\\\"\\nM878.845 1044.02 L903.756 1044.02 L903.756 1012.47 L878.845 1012.47 L878.845 1044.02  Z\\n  \\\" fill=\\\"#e26f46\\\" fill-rule=\\\"evenodd\\\" fill-opacity=\\\"0.5\\\"\\/>\\n<polyline clip-path=\\\"url(#clip712)\\\" style=\\\"stroke:#000000; stroke-width:4; stroke-opacity:0.5; fill:none\\\" points=\\\"\\n  878.845,1044.02 903.756,1044.02 903.756,1012.47 878.845,1012.47 878.845,1044.02 \\n  \\\"\\/>\\n<path clip-path=\\\"url(#clip712)\\\" d=\\\"\\nM903.756 1051.16 L928.668 1051.16 L928.668 1020.99 L903.756 1020.99 L903.756 1051.16  Z\\n  \\\" fill=\\\"#e26f46\\\" fill-rule=\\\"evenodd\\\" fill-opacity=\\\"0.5\\\"\\/>\\n<polyline clip-path=\\\"url(#clip712)\\\" style=\\\"stroke:#000000; stroke-width:4; stroke-opacity:0.5; fill:none\\\" points=\\\"\\n  903.756,1051.16 928.668,1051.16 928.668,1020.99 903.756,1020.99 903.756,1051.16 \\n  \\\"\\/>\\n<path clip-path=\\\"url(#clip712)\\\" d=\\\"\\nM928.668 1056.91 L953.579 1056.91 L953.579 1028.13 L928.668 1028.13 L928.668 1056.91  Z\\n  \\\" fill=\\\"#e26f46\\\" fill-rule=\\\"evenodd\\\" fill-opacity=\\\"0.5\\\"\\/>\\n<polyline clip-path=\\\"url(#clip712)\\\" style=\\\"stroke:#000000; stroke-width:4; stroke-opacity:0.5; fill:none\\\" points=\\\"\\n  928.668,1056.91 953.579,1056.91 953.579,1028.13 928.668,1028.13 928.668,1056.91 \\n  \\\"\\/>\\n<path clip-path=\\\"url(#clip712)\\\" d=\\\"\\nM953.579 1061.29 L978.49 1061.29 L978.49 1033.89 L953.579 1033.89 L953.579 1061.29  Z\\n  \\\" fill=\\\"#e26f46\\\" fill-rule=\\\"evenodd\\\" fill-opacity=\\\"0.5\\\"\\/>\\n<polyline clip-path=\\\"url(#clip712)\\\" style=\\\"stroke:#000000; stroke-width:4; stroke-opacity:0.5; fill:none\\\" points=\\\"\\n  953.579,1061.29 978.49,1061.29 978.49,1033.89 953.579,1033.89 953.579,1061.29 \\n  \\\"\\/>\\n<path clip-path=\\\"url(#clip712)\\\" d=\\\"\\nM978.49 1064.28 L1003.4 1064.28 L1003.4 1038.26 L978.49 1038.26 L978.49 1064.28  Z\\n  \\\" fill=\\\"#e26f46\\\" fill-rule=\\\"evenodd\\\" fill-opacity=\\\"0.5\\\"\\/>\\n<polyline clip-path=\\\"url(#clip712)\\\" style=\\\"stroke:#000000; stroke-width:4; stroke-opacity:0.5; fill:none\\\" points=\\\"\\n  978.49,1064.28 1003.4,1064.28 1003.4,1038.26 978.49,1038.26 978.49,1064.28 \\n  \\\"\\/>\\n<path clip-path=\\\"url(#clip712)\\\" d=\\\"\\nM1003.4 1065.89 L1028.31 1065.89 L1028.31 1041.25 L1003.4 1041.25 L1003.4 1065.89  Z\\n  \\\" fill=\\\"#e26f46\\\" fill-rule=\\\"evenodd\\\" fill-opacity=\\\"0.5\\\"\\/>\\n<polyline clip-path=\\\"url(#clip712)\\\" style=\\\"stroke:#000000; stroke-width:4; stroke-opacity:0.5; fill:none\\\" points=\\\"\\n  1003.4,1065.89 1028.31,1065.89 1028.31,1041.25 1003.4,1041.25 1003.4,1065.89 \\n  \\\"\\/>\\n<path clip-path=\\\"url(#clip712)\\\" d=\\\"\\nM1028.31 1066.12 L1053.22 1066.12 L1053.22 1042.87 L1028.31 1042.87 L1028.31 1066.12  Z\\n  \\\" fill=\\\"#e26f46\\\" fill-rule=\\\"evenodd\\\" fill-opacity=\\\"0.5\\\"\\/>\\n<polyline clip-path=\\\"url(#clip712)\\\" style=\\\"stroke:#000000; stroke-width:4; stroke-opacity:0.5; fill:none\\\" points=\\\"\\n  1028.31,1066.12 1053.22,1066.12 1053.22,1042.87 1028.31,1042.87 1028.31,1066.12 \\n  \\\"\\/>\\n<path clip-path=\\\"url(#clip712)\\\" d=\\\"\\nM1053.22 1064.97 L1078.13 1064.97 L1078.13 1043.1 L1053.22 1043.1 L1053.22 1064.97  Z\\n  \\\" fill=\\\"#e26f46\\\" fill-rule=\\\"evenodd\\\" fill-opacity=\\\"0.5\\\"\\/>\\n<polyline clip-path=\\\"url(#clip712)\\\" style=\\\"stroke:#000000; stroke-width:4; stroke-opacity:0.5; fill:none\\\" points=\\\"\\n  1053.22,1064.97 1078.13,1064.97 1078.13,1043.1 1053.22,1043.1 1053.22,1064.97 \\n  \\\"\\/>\\n<path clip-path=\\\"url(#clip712)\\\" d=\\\"\\nM1078.13 1062.44 L1103.05 1062.44 L1103.05 1041.94 L1078.13 1041.94 L1078.13 1062.44  Z\\n  \\\" fill=\\\"#e26f46\\\" fill-rule=\\\"evenodd\\\" fill-opacity=\\\"0.5\\\"\\/>\\n<polyline clip-path=\\\"url(#clip712)\\\" style=\\\"stroke:#000000; stroke-width:4; stroke-opacity:0.5; fill:none\\\" points=\\\"\\n  1078.13,1062.44 1103.05,1062.44 1103.05,1041.94 1078.13,1041.94 1078.13,1062.44 \\n  \\\"\\/>\\n<path clip-path=\\\"url(#clip712)\\\" d=\\\"\\nM1103.05 1058.52 L1127.96 1058.52 L1127.96 1039.41 L1103.05 1039.41 L1103.05 1058.52  Z\\n  \\\" fill=\\\"#e26f46\\\" fill-rule=\\\"evenodd\\\" fill-opacity=\\\"0.5\\\"\\/>\\n<polyline clip-path=\\\"url(#clip712)\\\" style=\\\"stroke:#000000; stroke-width:4; stroke-opacity:0.5; fill:none\\\" points=\\\"\\n  1103.05,1058.52 1127.96,1058.52 1127.96,1039.41 1103.05,1039.41 1103.05,1058.52 \\n  \\\"\\/>\\n<path clip-path=\\\"url(#clip712)\\\" d=\\\"\\nM1127.96 1053.23 L1152.87 1053.23 L1152.87 1035.5 L1127.96 1035.5 L1127.96 1053.23  Z\\n  \\\" fill=\\\"#e26f46\\\" fill-rule=\\\"evenodd\\\" fill-opacity=\\\"0.5\\\"\\/>\\n<polyline clip-path=\\\"url(#clip712)\\\" style=\\\"stroke:#000000; stroke-width:4; stroke-opacity:0.5; fill:none\\\" points=\\\"\\n  1127.96,1053.23 1152.87,1053.23 1152.87,1035.5 1127.96,1035.5 1127.96,1053.23 \\n  \\\"\\/>\\n<path clip-path=\\\"url(#clip712)\\\" d=\\\"\\nM1152.87 1046.55 L1177.78 1046.55 L1177.78 1030.2 L1152.87 1030.2 L1152.87 1046.55  Z\\n  \\\" fill=\\\"#e26f46\\\" fill-rule=\\\"evenodd\\\" fill-opacity=\\\"0.5\\\"\\/>\\n<polyline clip-path=\\\"url(#clip712)\\\" style=\\\"stroke:#000000; stroke-width:4; stroke-opacity:0.5; fill:none\\\" points=\\\"\\n  1152.87,1046.55 1177.78,1046.55 1177.78,1030.2 1152.87,1030.2 1152.87,1046.55 \\n  \\\"\\/>\\n<path clip-path=\\\"url(#clip712)\\\" d=\\\"\\nM1177.78 1038.49 L1202.69 1038.49 L1202.69 1023.52 L1177.78 1023.52 L1177.78 1038.49  Z\\n  \\\" fill=\\\"#e26f46\\\" fill-rule=\\\"evenodd\\\" fill-opacity=\\\"0.5\\\"\\/>\\n<polyline clip-path=\\\"url(#clip712)\\\" style=\\\"stroke:#000000; stroke-width:4; stroke-opacity:0.5; fill:none\\\" points=\\\"\\n  1177.78,1038.49 1202.69,1038.49 1202.69,1023.52 1177.78,1023.52 1177.78,1038.49 \\n  \\\"\\/>\\n<path clip-path=\\\"url(#clip712)\\\" d=\\\"\\nM1202.69 1029.05 L1227.6 1029.05 L1227.6 1015.46 L1202.69 1015.46 L1202.69 1029.05  Z\\n  \\\" fill=\\\"#e26f46\\\" fill-rule=\\\"evenodd\\\" fill-opacity=\\\"0.5\\\"\\/>\\n<polyline clip-path=\\\"url(#clip712)\\\" style=\\\"stroke:#000000; stroke-width:4; stroke-opacity:0.5; fill:none\\\" points=\\\"\\n  1202.69,1029.05 1227.6,1029.05 1227.6,1015.46 1202.69,1015.46 1202.69,1029.05 \\n  \\\"\\/>\\n<path clip-path=\\\"url(#clip712)\\\" d=\\\"\\nM1227.6 1018.23 L1252.51 1018.23 L1252.51 1006.02 L1227.6 1006.02 L1227.6 1018.23  Z\\n  \\\" fill=\\\"#e26f46\\\" fill-rule=\\\"evenodd\\\" fill-opacity=\\\"0.5\\\"\\/>\\n<polyline clip-path=\\\"url(#clip712)\\\" style=\\\"stroke:#000000; stroke-width:4; stroke-opacity:0.5; fill:none\\\" points=\\\"\\n  1227.6,1018.23 1252.51,1018.23 1252.51,1006.02 1227.6,1006.02 1227.6,1018.23 \\n  \\\"\\/>\\n<path clip-path=\\\"url(#clip712)\\\" d=\\\"\\nM1252.51 1006.71 L1277.42 1006.71 L1277.42 994.509 L1252.51 994.509 L1252.51 1006.71  Z\\n  \\\" fill=\\\"#e26f46\\\" fill-rule=\\\"evenodd\\\" fill-opacity=\\\"0.5\\\"\\/>\\n<polyline clip-path=\\\"url(#clip712)\\\" style=\\\"stroke:#000000; stroke-width:4; stroke-opacity:0.5; fill:none\\\" points=\\\"\\n  1252.51,1006.71 1277.42,1006.71 1277.42,994.509 1252.51,994.509 1252.51,1006.71 \\n  \\\"\\/>\\n<path clip-path=\\\"url(#clip712)\\\" d=\\\"\\nM1277.42 994.509 L1302.34 994.509 L1302.34 980.923 L1277.42 980.923 L1277.42 994.509  Z\\n  \\\" fill=\\\"#e26f46\\\" fill-rule=\\\"evenodd\\\" fill-opacity=\\\"0.5\\\"\\/>\\n<polyline clip-path=\\\"url(#clip712)\\\" style=\\\"stroke:#000000; stroke-width:4; stroke-opacity:0.5; fill:none\\\" points=\\\"\\n  1277.42,994.509 1302.34,994.509 1302.34,980.923 1277.42,980.923 1277.42,994.509 \\n  \\\"\\/>\\n<path clip-path=\\\"url(#clip712)\\\" d=\\\"\\nM1302.34 980.923 L1327.25 980.923 L1327.25 965.955 L1302.34 965.955 L1302.34 980.923  Z\\n  \\\" fill=\\\"#e26f46\\\" fill-rule=\\\"evenodd\\\" fill-opacity=\\\"0.5\\\"\\/>\\n<polyline clip-path=\\\"url(#clip712)\\\" style=\\\"stroke:#000000; stroke-width:4; stroke-opacity:0.5; fill:none\\\" points=\\\"\\n  1302.34,980.923 1327.25,980.923 1327.25,965.955 1302.34,965.955 1302.34,980.923 \\n  \\\"\\/>\\n<path clip-path=\\\"url(#clip712)\\\" d=\\\"\\nM1327.25 965.955 L1352.16 965.955 L1352.16 949.606 L1327.25 949.606 L1327.25 965.955  Z\\n  \\\" fill=\\\"#e26f46\\\" fill-rule=\\\"evenodd\\\" fill-opacity=\\\"0.5\\\"\\/>\\n<polyline clip-path=\\\"url(#clip712)\\\" style=\\\"stroke:#000000; stroke-width:4; stroke-opacity:0.5; fill:none\\\" points=\\\"\\n  1327.25,965.955 1352.16,965.955 1352.16,949.606 1327.25,949.606 1327.25,965.955 \\n  \\\"\\/>\\n<path clip-path=\\\"url(#clip712)\\\" d=\\\"\\nM1352.16 949.606 L1377.07 949.606 L1377.07 931.875 L1352.16 931.875 L1352.16 949.606  Z\\n  \\\" fill=\\\"#e26f46\\\" fill-rule=\\\"evenodd\\\" fill-opacity=\\\"0.5\\\"\\/>\\n<polyline clip-path=\\\"url(#clip712)\\\" style=\\\"stroke:#000000; stroke-width:4; stroke-opacity:0.5; fill:none\\\" points=\\\"\\n  1352.16,949.606 1377.07,949.606 1377.07,931.875 1352.16,931.875 1352.16,949.606 \\n  \\\"\\/>\\n<path clip-path=\\\"url(#clip712)\\\" d=\\\"\\nM1377.07 931.875 L1401.98 931.875 L1401.98 912.762 L1377.07 912.762 L1377.07 931.875  Z\\n  \\\" fill=\\\"#e26f46\\\" fill-rule=\\\"evenodd\\\" fill-opacity=\\\"0.5\\\"\\/>\\n<polyline clip-path=\\\"url(#clip712)\\\" style=\\\"stroke:#000000; stroke-width:4; stroke-opacity:0.5; fill:none\\\" points=\\\"\\n  1377.07,931.875 1401.98,931.875 1401.98,912.762 1377.07,912.762 1377.07,931.875 \\n  \\\"\\/>\\n<path clip-path=\\\"url(#clip712)\\\" d=\\\"\\nM1401.98 912.762 L1426.89 912.762 L1426.89 892.268 L1401.98 892.268 L1401.98 912.762  Z\\n  \\\" fill=\\\"#e26f46\\\" fill-rule=\\\"evenodd\\\" fill-opacity=\\\"0.5\\\"\\/>\\n<polyline clip-path=\\\"url(#clip712)\\\" style=\\\"stroke:#000000; stroke-width:4; stroke-opacity:0.5; fill:none\\\" points=\\\"\\n  1401.98,912.762 1426.89,912.762 1426.89,892.268 1401.98,892.268 1401.98,912.762 \\n  \\\"\\/>\\n<path clip-path=\\\"url(#clip712)\\\" d=\\\"\\nM1426.89 892.268 L1451.8 892.268 L1451.8 870.392 L1426.89 870.392 L1426.89 892.268  Z\\n  \\\" fill=\\\"#e26f46\\\" fill-rule=\\\"evenodd\\\" fill-opacity=\\\"0.5\\\"\\/>\\n<polyline clip-path=\\\"url(#clip712)\\\" style=\\\"stroke:#000000; stroke-width:4; stroke-opacity:0.5; fill:none\\\" points=\\\"\\n  1426.89,892.268 1451.8,892.268 1451.8,870.392 1426.89,870.392 1426.89,892.268 \\n  \\\"\\/>\\n<path clip-path=\\\"url(#clip712)\\\" d=\\\"\\nM1451.8 870.392 L1476.71 870.392 L1476.71 847.134 L1451.8 847.134 L1451.8 870.392  Z\\n  \\\" fill=\\\"#e26f46\\\" fill-rule=\\\"evenodd\\\" fill-opacity=\\\"0.5\\\"\\/>\\n<polyline clip-path=\\\"url(#clip712)\\\" style=\\\"stroke:#000000; stroke-width:4; stroke-opacity:0.5; fill:none\\\" points=\\\"\\n  1451.8,870.392 1476.71,870.392 1476.71,847.134 1451.8,847.134 1451.8,870.392 \\n  \\\"\\/>\\n<path clip-path=\\\"url(#clip712)\\\" d=\\\"\\nM1476.71 847.134 L1501.62 847.134 L1501.62 822.495 L1476.71 822.495 L1476.71 847.134  Z\\n  \\\" fill=\\\"#e26f46\\\" fill-rule=\\\"evenodd\\\" fill-opacity=\\\"0.5\\\"\\/>\\n<polyline clip-path=\\\"url(#clip712)\\\" style=\\\"stroke:#000000; stroke-width:4; stroke-opacity:0.5; fill:none\\\" points=\\\"\\n  1476.71,847.134 1501.62,847.134 1501.62,822.495 1476.71,822.495 1476.71,847.134 \\n  \\\"\\/>\\n<path clip-path=\\\"url(#clip712)\\\" d=\\\"\\nM1501.62 822.495 L1526.54 822.495 L1526.54 796.474 L1501.62 796.474 L1501.62 822.495  Z\\n  \\\" fill=\\\"#e26f46\\\" fill-rule=\\\"evenodd\\\" fill-opacity=\\\"0.5\\\"\\/>\\n<polyline clip-path=\\\"url(#clip712)\\\" style=\\\"stroke:#000000; stroke-width:4; stroke-opacity:0.5; fill:none\\\" points=\\\"\\n  1501.62,822.495 1526.54,822.495 1526.54,796.474 1501.62,796.474 1501.62,822.495 \\n  \\\"\\/>\\n<path clip-path=\\\"url(#clip712)\\\" d=\\\"\\nM1526.54 796.474 L1551.45 796.474 L1551.45 769.072 L1526.54 769.072 L1526.54 796.474  Z\\n  \\\" fill=\\\"#e26f46\\\" fill-rule=\\\"evenodd\\\" fill-opacity=\\\"0.5\\\"\\/>\\n<polyline clip-path=\\\"url(#clip712)\\\" style=\\\"stroke:#000000; stroke-width:4; stroke-opacity:0.5; fill:none\\\" points=\\\"\\n  1526.54,796.474 1551.45,796.474 1551.45,769.072 1526.54,769.072 1526.54,796.474 \\n  \\\"\\/>\\n<path clip-path=\\\"url(#clip712)\\\" d=\\\"\\nM1551.45 769.072 L1576.36 769.072 L1576.36 740.288 L1551.45 740.288 L1551.45 769.072  Z\\n  \\\" fill=\\\"#e26f46\\\" fill-rule=\\\"evenodd\\\" fill-opacity=\\\"0.5\\\"\\/>\\n<polyline clip-path=\\\"url(#clip712)\\\" style=\\\"stroke:#000000; stroke-width:4; stroke-opacity:0.5; fill:none\\\" points=\\\"\\n  1551.45,769.072 1576.36,769.072 1576.36,740.288 1551.45,740.288 1551.45,769.072 \\n  \\\"\\/>\\n<path clip-path=\\\"url(#clip712)\\\" d=\\\"\\nM1576.36 740.288 L1601.27 740.288 L1601.27 710.122 L1576.36 710.122 L1576.36 740.288  Z\\n  \\\" fill=\\\"#e26f46\\\" fill-rule=\\\"evenodd\\\" fill-opacity=\\\"0.5\\\"\\/>\\n<polyline clip-path=\\\"url(#clip712)\\\" style=\\\"stroke:#000000; stroke-width:4; stroke-opacity:0.5; fill:none\\\" points=\\\"\\n  1576.36,740.288 1601.27,740.288 1601.27,710.122 1576.36,710.122 1576.36,740.288 \\n  \\\"\\/>\\n<path clip-path=\\\"url(#clip712)\\\" d=\\\"\\nM1601.27 710.122 L1626.18 710.122 L1626.18 678.575 L1601.27 678.575 L1601.27 710.122  Z\\n  \\\" fill=\\\"#e26f46\\\" fill-rule=\\\"evenodd\\\" fill-opacity=\\\"0.5\\\"\\/>\\n<polyline clip-path=\\\"url(#clip712)\\\" style=\\\"stroke:#000000; stroke-width:4; stroke-opacity:0.5; fill:none\\\" points=\\\"\\n  1601.27,710.122 1626.18,710.122 1626.18,678.575 1601.27,678.575 1601.27,710.122 \\n  \\\"\\/>\\n<path clip-path=\\\"url(#clip712)\\\" d=\\\"\\nM1626.18 678.575 L1651.09 678.575 L1651.09 645.646 L1626.18 645.646 L1626.18 678.575  Z\\n  \\\" fill=\\\"#e26f46\\\" fill-rule=\\\"evenodd\\\" fill-opacity=\\\"0.5\\\"\\/>\\n<polyline clip-path=\\\"url(#clip712)\\\" style=\\\"stroke:#000000; stroke-width:4; stroke-opacity:0.5; fill:none\\\" points=\\\"\\n  1626.18,678.575 1651.09,678.575 1651.09,645.646 1626.18,645.646 1626.18,678.575 \\n  \\\"\\/>\\n<path clip-path=\\\"url(#clip712)\\\" d=\\\"\\nM1651.09 645.646 L1676 645.646 L1676 611.335 L1651.09 611.335 L1651.09 645.646  Z\\n  \\\" fill=\\\"#e26f46\\\" fill-rule=\\\"evenodd\\\" fill-opacity=\\\"0.5\\\"\\/>\\n<polyline clip-path=\\\"url(#clip712)\\\" style=\\\"stroke:#000000; stroke-width:4; stroke-opacity:0.5; fill:none\\\" points=\\\"\\n  1651.09,645.646 1676,645.646 1676,611.335 1651.09,611.335 1651.09,645.646 \\n  \\\"\\/>\\n<path clip-path=\\\"url(#clip712)\\\" d=\\\"\\nM1676 611.335 L1700.91 611.335 L1700.91 575.643 L1676 575.643 L1676 611.335  Z\\n  \\\" fill=\\\"#e26f46\\\" fill-rule=\\\"evenodd\\\" fill-opacity=\\\"0.5\\\"\\/>\\n<polyline clip-path=\\\"url(#clip712)\\\" style=\\\"stroke:#000000; stroke-width:4; stroke-opacity:0.5; fill:none\\\" points=\\\"\\n  1676,611.335 1700.91,611.335 1700.91,575.643 1676,575.643 1676,611.335 \\n  \\\"\\/>\\n<path clip-path=\\\"url(#clip712)\\\" d=\\\"\\nM1700.91 575.643 L1725.82 575.643 L1725.82 538.569 L1700.91 538.569 L1700.91 575.643  Z\\n  \\\" fill=\\\"#e26f46\\\" fill-rule=\\\"evenodd\\\" fill-opacity=\\\"0.5\\\"\\/>\\n<polyline clip-path=\\\"url(#clip712)\\\" style=\\\"stroke:#000000; stroke-width:4; stroke-opacity:0.5; fill:none\\\" points=\\\"\\n  1700.91,575.643 1725.82,575.643 1725.82,538.569 1700.91,538.569 1700.91,575.643 \\n  \\\"\\/>\\n<path clip-path=\\\"url(#clip712)\\\" d=\\\"\\nM1725.82 538.569 L1750.74 538.569 L1750.74 500.114 L1725.82 500.114 L1725.82 538.569  Z\\n  \\\" fill=\\\"#e26f46\\\" fill-rule=\\\"evenodd\\\" fill-opacity=\\\"0.5\\\"\\/>\\n<polyline clip-path=\\\"url(#clip712)\\\" style=\\\"stroke:#000000; stroke-width:4; stroke-opacity:0.5; fill:none\\\" points=\\\"\\n  1725.82,538.569 1750.74,538.569 1750.74,500.114 1725.82,500.114 1725.82,538.569 \\n  \\\"\\/>\\n<path clip-path=\\\"url(#clip712)\\\" d=\\\"\\nM1750.74 500.114 L1775.65 500.114 L1775.65 460.276 L1750.74 460.276 L1750.74 500.114  Z\\n  \\\" fill=\\\"#e26f46\\\" fill-rule=\\\"evenodd\\\" fill-opacity=\\\"0.5\\\"\\/>\\n<polyline clip-path=\\\"url(#clip712)\\\" style=\\\"stroke:#000000; stroke-width:4; stroke-opacity:0.5; fill:none\\\" points=\\\"\\n  1750.74,500.114 1775.65,500.114 1775.65,460.276 1750.74,460.276 1750.74,500.114 \\n  \\\"\\/>\\n<path clip-path=\\\"url(#clip712)\\\" d=\\\"\\nM1775.65 460.276 L1800.56 460.276 L1800.56 419.058 L1775.65 419.058 L1775.65 460.276  Z\\n  \\\" fill=\\\"#e26f46\\\" fill-rule=\\\"evenodd\\\" fill-opacity=\\\"0.5\\\"\\/>\\n<polyline clip-path=\\\"url(#clip712)\\\" style=\\\"stroke:#000000; stroke-width:4; stroke-opacity:0.5; fill:none\\\" points=\\\"\\n  1775.65,460.276 1800.56,460.276 1800.56,419.058 1775.65,419.058 1775.65,460.276 \\n  \\\"\\/>\\n<path clip-path=\\\"url(#clip712)\\\" d=\\\"\\nM1800.56 419.058 L1825.47 419.058 L1825.47 376.457 L1800.56 376.457 L1800.56 419.058  Z\\n  \\\" fill=\\\"#e26f46\\\" fill-rule=\\\"evenodd\\\" fill-opacity=\\\"0.5\\\"\\/>\\n<polyline clip-path=\\\"url(#clip712)\\\" style=\\\"stroke:#000000; stroke-width:4; stroke-opacity:0.5; fill:none\\\" points=\\\"\\n  1800.56,419.058 1825.47,419.058 1825.47,376.457 1800.56,376.457 1800.56,419.058 \\n  \\\"\\/>\\n<path clip-path=\\\"url(#clip712)\\\" d=\\\"\\nM1825.47 376.457 L1850.38 376.457 L1850.38 332.475 L1825.47 332.475 L1825.47 376.457  Z\\n  \\\" fill=\\\"#e26f46\\\" fill-rule=\\\"evenodd\\\" fill-opacity=\\\"0.5\\\"\\/>\\n<polyline clip-path=\\\"url(#clip712)\\\" style=\\\"stroke:#000000; stroke-width:4; stroke-opacity:0.5; fill:none\\\" points=\\\"\\n  1825.47,376.457 1850.38,376.457 1850.38,332.475 1825.47,332.475 1825.47,376.457 \\n  \\\"\\/>\\n<path clip-path=\\\"url(#clip712)\\\" d=\\\"\\nM1850.38 332.475 L1875.29 332.475 L1875.29 287.111 L1850.38 287.111 L1850.38 332.475  Z\\n  \\\" fill=\\\"#e26f46\\\" fill-rule=\\\"evenodd\\\" fill-opacity=\\\"0.5\\\"\\/>\\n<polyline clip-path=\\\"url(#clip712)\\\" style=\\\"stroke:#000000; stroke-width:4; stroke-opacity:0.5; fill:none\\\" points=\\\"\\n  1850.38,332.475 1875.29,332.475 1875.29,287.111 1850.38,287.111 1850.38,332.475 \\n  \\\"\\/>\\n<path clip-path=\\\"url(#clip710)\\\" d=\\\"\\nM1983.89 276.658 L2279.41 276.658 L2279.41 95.2176 L1983.89 95.2176  Z\\n  \\\" fill=\\\"#ffffff\\\" fill-rule=\\\"evenodd\\\" fill-opacity=\\\"1\\\"\\/>\\n<polyline clip-path=\\\"url(#clip710)\\\" style=\\\"stroke:#000000; stroke-width:4; stroke-opacity:1; fill:none\\\" points=\\\"\\n  1983.89,276.658 2279.41,276.658 2279.41,95.2176 1983.89,95.2176 1983.89,276.658 \\n  \\\"\\/>\\n<polyline clip-path=\\\"url(#clip710)\\\" style=\\\"stroke:#009af9; stroke-width:4; stroke-opacity:1; fill:none\\\" points=\\\"\\n  2008.34,155.698 2155.04,155.698 \\n  \\\"\\/>\\n<path clip-path=\\\"url(#clip710)\\\" d=\\\"M 0 0 M2193.33 175.385 Q2191.53 180.015 2189.81 181.427 Q2188.1 182.839 2185.23 182.839 L2181.83 182.839 L2181.83 179.274 L2184.33 179.274 Q2186.09 179.274 2187.06 178.44 Q2188.03 177.607 2189.21 174.505 L2189.97 172.561 L2179.49 147.052 L2184 147.052 L2192.1 167.329 L2200.21 147.052 L2204.72 147.052 L2193.33 175.385 Z\\\" fill=\\\"#000000\\\" fill-rule=\\\"evenodd\\\" fill-opacity=\\\"1\\\" \\/><path clip-path=\\\"url(#clip710)\\\" d=\\\"M 0 0 M2210.6 169.042 L2218.24 169.042 L2218.24 142.677 L2209.93 144.343 L2209.93 140.084 L2218.19 138.418 L2222.87 138.418 L2222.87 169.042 L2230.51 169.042 L2230.51 172.978 L2210.6 172.978 L2210.6 169.042 Z\\\" fill=\\\"#000000\\\" fill-rule=\\\"evenodd\\\" fill-opacity=\\\"1\\\" \\/><path clip-path=\\\"url(#clip710)\\\" d=\\\"\\nM2008.34 240.37 L2155.04 240.37 L2155.04 191.986 L2008.34 191.986 L2008.34 240.37  Z\\n  \\\" fill=\\\"#e26f46\\\" fill-rule=\\\"evenodd\\\" fill-opacity=\\\"0.5\\\"\\/>\\n<polyline clip-path=\\\"url(#clip710)\\\" style=\\\"stroke:#000000; stroke-width:4; stroke-opacity:1; fill:none\\\" points=\\\"\\n  2008.34,240.37 2155.04,240.37 2155.04,191.986 2008.34,191.986 2008.34,240.37 \\n  \\\"\\/>\\n<path clip-path=\\\"url(#clip710)\\\" d=\\\"M 0 0 M2193.33 235.865 Q2191.53 240.495 2189.81 241.907 Q2188.1 243.319 2185.23 243.319 L2181.83 243.319 L2181.83 239.754 L2184.33 239.754 Q2186.09 239.754 2187.06 238.92 Q2188.03 238.087 2189.21 234.985 L2189.97 233.041 L2179.49 207.532 L2184 207.532 L2192.1 227.809 L2200.21 207.532 L2204.72 207.532 L2193.33 235.865 Z\\\" fill=\\\"#000000\\\" fill-rule=\\\"evenodd\\\" fill-opacity=\\\"1\\\" \\/><path clip-path=\\\"url(#clip710)\\\" d=\\\"M 0 0 M2213.82 229.522 L2230.14 229.522 L2230.14 233.458 L2208.19 233.458 L2208.19 229.522 Q2210.85 226.768 2215.44 222.138 Q2220.04 217.485 2221.22 216.143 Q2223.47 213.62 2224.35 211.884 Q2225.25 210.124 2225.25 208.435 Q2225.25 205.68 2223.31 203.944 Q2221.39 202.208 2218.28 202.208 Q2216.09 202.208 2213.63 202.972 Q2211.2 203.735 2208.42 205.286 L2208.42 200.564 Q2211.25 199.43 2213.7 198.851 Q2216.15 198.273 2218.19 198.273 Q2223.56 198.273 2226.76 200.958 Q2229.95 203.643 2229.95 208.134 Q2229.95 210.263 2229.14 212.185 Q2228.35 214.083 2226.25 216.675 Q2225.67 217.347 2222.57 220.564 Q2219.47 223.759 2213.82 229.522 Z\\\" fill=\\\"#000000\\\" fill-rule=\\\"evenodd\\\" fill-opacity=\\\"1\\\" \\/><\\/svg>\\n\"},\"nodeType\":\"DOM\",\"type\":\"node\",\"instanceArgs\":{\"namespace\":\"html\",\"tag\":\"div\"},\"children\":[]}]}}}},\"children\":[{\"props\":{},\"nodeType\":\"ObservableNode\",\"type\":\"node\",\"instanceArgs\":{\"id\":\"2981020957713532985\",\"name\":\"obs-node\"},\"children\":[]}]}]},\n",
       "            window,\n",
       "        );\n",
       "    } else {\n",
       "        document\n",
       "            .querySelector('[data-webio-mountpoint=\"1362092238083097403\"]')\n",
       "            .innerHTML = (\n",
       "                '<div style=\"padding: 1em; background-color: #f8d6da; border: 1px solid #f5c6cb\">' +\n",
       "                '<p><strong>WebIO not detected.</strong></p>' +\n",
       "                '<p>Please read ' +\n",
       "                '<a href=\"https://juliagizmos.github.io/WebIO.jl/latest/troubleshooting/not-detected/\" target=\"_blank\">the troubleshooting guide</a> ' +\n",
       "                'for more information on how to resolve this issue.</p>' +\n",
       "                '<p><a href=\"https://juliagizmos.github.io/WebIO.jl/latest/troubleshooting/not-detected/\" target=\"_blank\">https://juliagizmos.github.io/WebIO.jl/latest/troubleshooting/not-detected/</a></p>' +\n",
       "                '</div>'\n",
       "            );\n",
       "    }\n",
       "    </script>\n",
       "</div>\n"
      ],
      "text/plain": [
       "Node{WebIO.DOM}(WebIO.DOM(:html, :div), Any[Node{WebIO.DOM}(WebIO.DOM(:html, :div), Any[Scope(Node{WebIO.DOM}(WebIO.DOM(:html, :div), Any[Node{WebIO.DOM}(WebIO.DOM(:html, :div), Any[Node{WebIO.DOM}(WebIO.DOM(:html, :label), Any[\"N\"], Dict{Symbol,Any}(:className => \"interact \",:style => Dict{Any,Any}(:padding => \"5px 10px 0px 10px\")))], Dict{Symbol,Any}(:className => \"interact-flex-row-left\")), Node{WebIO.DOM}(WebIO.DOM(:html, :div), Any[Node{WebIO.DOM}(WebIO.DOM(:html, :input), Any[], Dict{Symbol,Any}(:max => 100,:min => 1,:attributes => Dict{Any,Any}(:type => \"range\",Symbol(\"data-bind\") => \"numericValue: index, valueUpdate: 'input', event: {change: function (){this.changes(this.changes()+1)}}\",\"orient\" => \"horizontal\"),:step => 1,:className => \"slider slider is-fullwidth\",:style => Dict{Any,Any}()))], Dict{Symbol,Any}(:className => \"interact-flex-row-center\")), Node{WebIO.DOM}(WebIO.DOM(:html, :div), Any[Node{WebIO.DOM}(WebIO.DOM(:html, :p), Any[], Dict{Symbol,Any}(:attributes => Dict(\"data-bind\" => \"text: formatted_val\")))], Dict{Symbol,Any}(:className => \"interact-flex-row-right\"))], Dict{Symbol,Any}(:className => \"interact-flex-row interact-widget\")), Dict{String,Tuple{Observables.AbstractObservable,Union{Nothing, Bool}}}(\"changes\" => (Observable{Int64} with 1 listeners. Value:\n",
       "0, nothing),\"index\" => (Observable{Int64} with 2 listeners. Value:\n",
       "50, nothing)), Set{String}(), nothing, Asset[Asset(\"js\", \"knockout\", \"/Users/dpsanders/.julia/packages/Knockout/IP1uR/src/../assets/knockout.js\"), Asset(\"js\", \"knockout_punches\", \"/Users/dpsanders/.julia/packages/Knockout/IP1uR/src/../assets/knockout_punches.js\"), Asset(\"js\", nothing, \"/Users/dpsanders/.julia/packages/InteractBase/sOe2Z/src/../assets/all.js\"), Asset(\"css\", nothing, \"/Users/dpsanders/.julia/packages/InteractBase/sOe2Z/src/../assets/style.css\"), Asset(\"css\", nothing, \"/Users/dpsanders/.julia/packages/Interact/SbgIk/src/../assets/bulma_confined.min.css\")], Dict{Any,Any}(\"changes\" => Any[WebIO.JSString(\"(function (val){return (val!=this.model[\\\"changes\\\"]()) ? (this.valueFromJulia[\\\"changes\\\"]=true, this.model[\\\"changes\\\"](val)) : undefined})\")],\"index\" => Any[WebIO.JSString(\"(function (val){return (val!=this.model[\\\"index\\\"]()) ? (this.valueFromJulia[\\\"index\\\"]=true, this.model[\\\"index\\\"](val)) : undefined})\")]), WebIO.ConnectionPool(Channel{Any}(sz_max:32,sz_curr:0), Set{AbstractConnection}(), Base.GenericCondition{Base.AlwaysLockedST}(Base.InvasiveLinkedList{Task}(Task (runnable) @0x000000010f51c6d0, Task (runnable) @0x000000010f51c6d0), Base.AlwaysLockedST(1))), WebIO.JSString[WebIO.JSString(\"function () {\\n    var handler = (function (ko, koPunches) {\\n    ko.punches.enableAll();\\n    ko.bindingHandlers.numericValue = {\\n        init: function(element, valueAccessor, allBindings, data, context) {\\n            var stringified = ko.observable(ko.unwrap(valueAccessor()));\\n            stringified.subscribe(function(value) {\\n                var val = parseFloat(value);\\n                if (!isNaN(val)) {\\n                    valueAccessor()(val);\\n                }\\n            });\\n            valueAccessor().subscribe(function(value) {\\n                var str = JSON.stringify(value);\\n                if ((str == \\\"0\\\") && ([\\\"-0\\\", \\\"-0.\\\"].indexOf(stringified()) >= 0))\\n                     return;\\n                 if ([\\\"null\\\", \\\"\\\"].indexOf(str) >= 0)\\n                     return;\\n                stringified(str);\\n            });\\n            ko.applyBindingsToNode(\\n                element,\\n                {\\n                    value: stringified,\\n                    valueUpdate: allBindings.get('valueUpdate'),\\n                },\\n                context,\\n            );\\n        }\\n    };\\n    var json_data = {\\\"formatted_vals\\\":[\\\"1\\\",\\\"2\\\",\\\"3\\\",\\\"4\\\",\\\"5\\\",\\\"6\\\",\\\"7\\\",\\\"8\\\",\\\"9\\\",\\\"10\\\",\\\"11\\\",\\\"12\\\",\\\"13\\\",\\\"14\\\",\\\"15\\\",\\\"16\\\",\\\"17\\\",\\\"18\\\",\\\"19\\\",\\\"20\\\",\\\"21\\\",\\\"22\\\",\\\"23\\\",\\\"24\\\",\\\"25\\\",\\\"26\\\",\\\"27\\\",\\\"28\\\",\\\"29\\\",\\\"30\\\",\\\"31\\\",\\\"32\\\",\\\"33\\\",\\\"34\\\",\\\"35\\\",\\\"36\\\",\\\"37\\\",\\\"38\\\",\\\"39\\\",\\\"40\\\",\\\"41\\\",\\\"42\\\",\\\"43\\\",\\\"44\\\",\\\"45\\\",\\\"46\\\",\\\"47\\\",\\\"48\\\",\\\"49\\\",\\\"50\\\",\\\"51\\\",\\\"52\\\",\\\"53\\\",\\\"54\\\",\\\"55\\\",\\\"56\\\",\\\"57\\\",\\\"58\\\",\\\"59\\\",\\\"60\\\",\\\"61\\\",\\\"62\\\",\\\"63\\\",\\\"64\\\",\\\"65\\\",\\\"66\\\",\\\"67\\\",\\\"68\\\",\\\"69\\\",\\\"70\\\",\\\"71\\\",\\\"72\\\",\\\"73\\\",\\\"74\\\",\\\"75\\\",\\\"76\\\",\\\"77\\\",\\\"78\\\",\\\"79\\\",\\\"80\\\",\\\"81\\\",\\\"82\\\",\\\"83\\\",\\\"84\\\",\\\"85\\\",\\\"86\\\",\\\"87\\\",\\\"88\\\",\\\"89\\\",\\\"90\\\",\\\"91\\\",\\\"92\\\",\\\"93\\\",\\\"94\\\",\\\"95\\\",\\\"96\\\",\\\"97\\\",\\\"98\\\",\\\"99\\\",\\\"100\\\"],\\\"changes\\\":WebIO.getval({\\\"name\\\":\\\"changes\\\",\\\"scope\\\":\\\"2452752760793113435\\\",\\\"id\\\":\\\"1582346011846543928\\\",\\\"type\\\":\\\"observable\\\"}),\\\"index\\\":WebIO.getval({\\\"name\\\":\\\"index\\\",\\\"scope\\\":\\\"2452752760793113435\\\",\\\"id\\\":\\\"4904240259624211723\\\",\\\"type\\\":\\\"observable\\\"})};\\n    var self = this;\\n    function AppViewModel() {\\n        for (var key in json_data) {\\n            var el = json_data[key];\\n            this[key] = Array.isArray(el) ? ko.observableArray(el) : ko.observable(el);\\n        }\\n        \\n        [this[\\\"formatted_val\\\"]=ko.computed(    function(){\\n        return this.formatted_vals()[parseInt(this.index())-(1)];\\n    }\\n,this)]\\n        [this[\\\"changes\\\"].subscribe((function (val){!(this.valueFromJulia[\\\"changes\\\"]) ? (WebIO.setval({\\\"name\\\":\\\"changes\\\",\\\"scope\\\":\\\"2452752760793113435\\\",\\\"id\\\":\\\"1582346011846543928\\\",\\\"type\\\":\\\"observable\\\"},val)) : undefined; return this.valueFromJulia[\\\"changes\\\"]=false}),self),this[\\\"index\\\"].subscribe((function (val){!(this.valueFromJulia[\\\"index\\\"]) ? (WebIO.setval({\\\"name\\\":\\\"index\\\",\\\"scope\\\":\\\"2452752760793113435\\\",\\\"id\\\":\\\"4904240259624211723\\\",\\\"type\\\":\\\"observable\\\"},val)) : undefined; return this.valueFromJulia[\\\"index\\\"]=false}),self)]\\n        \\n    }\\n    self.model = new AppViewModel();\\n    self.valueFromJulia = {};\\n    for (var key in json_data) {\\n        self.valueFromJulia[key] = false;\\n    }\\n    ko.applyBindings(self.model, self.dom);\\n}\\n);\\n    (WebIO.importBlock({\\\"data\\\":[{\\\"name\\\":\\\"knockout\\\",\\\"type\\\":\\\"js\\\",\\\"url\\\":\\\"/assetserver/800fa077652c804a9c5f68b6c1e29c6c61f85df7-knockout.js\\\"},{\\\"name\\\":\\\"knockout_punches\\\",\\\"type\\\":\\\"js\\\",\\\"url\\\":\\\"/assetserver/81e3f253b58efa296c3c65b00e2bf7b25de6cca9-knockout_punches.js\\\"}],\\\"type\\\":\\\"async_block\\\"})).then((imports) => handler.apply(this, imports));\\n}\\n\")])], Dict{Symbol,Any}(:className => \"field interact-widget\")), Observable{Any} with 0 listeners. Value:\n",
       "Node{WebIO.DOM}(WebIO.DOM(:html, :div), Any[Plot{Plots.GRBackend() n=2}], Dict{Symbol,Any}(:className => \"interact-flex-row interact-widget\"))], Dict{Symbol,Any}())"
      ]
     },
     "execution_count": 47,
     "metadata": {
      "application/vnd.webio.node+json": {
       "kernelId": "31118cd0-c19e-47ef-918d-db1fc154c232"
      }
     },
     "output_type": "execute_result"
    }
   ],
   "source": [
    " \n",
    "@manipulate for N in 1:100\n",
    "    Xs = mince(X, N)\n",
    "    \n",
    "    plot(f, -5, 5)\n",
    "    plot!(IntervalBox.(Xs, f.(Xs)))\n",
    "    \n",
    "    ylims!(-10, 20)\n",
    "end\n",
    "    "
   ]
  },
  {
   "cell_type": "code",
   "execution_count": 43,
   "metadata": {},
   "outputs": [
    {
     "data": {
      "image/svg+xml": [
       "<?xml version=\"1.0\" encoding=\"utf-8\"?>\n",
       "<svg xmlns=\"http://www.w3.org/2000/svg\" xmlns:xlink=\"http://www.w3.org/1999/xlink\" width=\"600\" height=\"400\" viewBox=\"0 0 2400 1600\">\n",
       "<defs>\n",
       "  <clipPath id=\"clip550\">\n",
       "    <rect x=\"0\" y=\"0\" width=\"2400\" height=\"1600\"/>\n",
       "  </clipPath>\n",
       "</defs>\n",
       "<path clip-path=\"url(#clip550)\" d=\"\n",
       "M0 1600 L2400 1600 L2400 0 L0 0  Z\n",
       "  \" fill=\"#ffffff\" fill-rule=\"evenodd\" fill-opacity=\"1\"/>\n",
       "<defs>\n",
       "  <clipPath id=\"clip551\">\n",
       "    <rect x=\"480\" y=\"0\" width=\"1681\" height=\"1600\"/>\n",
       "  </clipPath>\n",
       "</defs>\n",
       "<path clip-path=\"url(#clip550)\" d=\"\n",
       "M136.76 1486.45 L2352.76 1486.45 L2352.76 47.2441 L136.76 47.2441  Z\n",
       "  \" fill=\"#ffffff\" fill-rule=\"evenodd\" fill-opacity=\"1\"/>\n",
       "<defs>\n",
       "  <clipPath id=\"clip552\">\n",
       "    <rect x=\"136\" y=\"47\" width=\"2217\" height=\"1440\"/>\n",
       "  </clipPath>\n",
       "</defs>\n",
       "<polyline clip-path=\"url(#clip552)\" style=\"stroke:#000000; stroke-width:2; stroke-opacity:0.1; fill:none\" points=\"\n",
       "  408.533,1486.45 408.533,47.2441 \n",
       "  \"/>\n",
       "<polyline clip-path=\"url(#clip552)\" style=\"stroke:#000000; stroke-width:2; stroke-opacity:0.1; fill:none\" points=\"\n",
       "  826.646,1486.45 826.646,47.2441 \n",
       "  \"/>\n",
       "<polyline clip-path=\"url(#clip552)\" style=\"stroke:#000000; stroke-width:2; stroke-opacity:0.1; fill:none\" points=\"\n",
       "  1244.76,1486.45 1244.76,47.2441 \n",
       "  \"/>\n",
       "<polyline clip-path=\"url(#clip552)\" style=\"stroke:#000000; stroke-width:2; stroke-opacity:0.1; fill:none\" points=\"\n",
       "  1662.87,1486.45 1662.87,47.2441 \n",
       "  \"/>\n",
       "<polyline clip-path=\"url(#clip552)\" style=\"stroke:#000000; stroke-width:2; stroke-opacity:0.1; fill:none\" points=\"\n",
       "  2080.98,1486.45 2080.98,47.2441 \n",
       "  \"/>\n",
       "<polyline clip-path=\"url(#clip552)\" style=\"stroke:#000000; stroke-width:2; stroke-opacity:0.1; fill:none\" points=\"\n",
       "  136.76,1366.79 2352.76,1366.79 \n",
       "  \"/>\n",
       "<polyline clip-path=\"url(#clip552)\" style=\"stroke:#000000; stroke-width:2; stroke-opacity:0.1; fill:none\" points=\"\n",
       "  136.76,1001.42 2352.76,1001.42 \n",
       "  \"/>\n",
       "<polyline clip-path=\"url(#clip552)\" style=\"stroke:#000000; stroke-width:2; stroke-opacity:0.1; fill:none\" points=\"\n",
       "  136.76,636.041 2352.76,636.041 \n",
       "  \"/>\n",
       "<polyline clip-path=\"url(#clip552)\" style=\"stroke:#000000; stroke-width:2; stroke-opacity:0.1; fill:none\" points=\"\n",
       "  136.76,270.665 2352.76,270.665 \n",
       "  \"/>\n",
       "<polyline clip-path=\"url(#clip550)\" style=\"stroke:#000000; stroke-width:4; stroke-opacity:1; fill:none\" points=\"\n",
       "  136.76,1486.45 2352.76,1486.45 \n",
       "  \"/>\n",
       "<polyline clip-path=\"url(#clip550)\" style=\"stroke:#000000; stroke-width:4; stroke-opacity:1; fill:none\" points=\"\n",
       "  136.76,1486.45 136.76,47.2441 \n",
       "  \"/>\n",
       "<polyline clip-path=\"url(#clip550)\" style=\"stroke:#000000; stroke-width:4; stroke-opacity:1; fill:none\" points=\"\n",
       "  408.533,1486.45 408.533,1469.18 \n",
       "  \"/>\n",
       "<polyline clip-path=\"url(#clip550)\" style=\"stroke:#000000; stroke-width:4; stroke-opacity:1; fill:none\" points=\"\n",
       "  826.646,1486.45 826.646,1469.18 \n",
       "  \"/>\n",
       "<polyline clip-path=\"url(#clip550)\" style=\"stroke:#000000; stroke-width:4; stroke-opacity:1; fill:none\" points=\"\n",
       "  1244.76,1486.45 1244.76,1469.18 \n",
       "  \"/>\n",
       "<polyline clip-path=\"url(#clip550)\" style=\"stroke:#000000; stroke-width:4; stroke-opacity:1; fill:none\" points=\"\n",
       "  1662.87,1486.45 1662.87,1469.18 \n",
       "  \"/>\n",
       "<polyline clip-path=\"url(#clip550)\" style=\"stroke:#000000; stroke-width:4; stroke-opacity:1; fill:none\" points=\"\n",
       "  2080.98,1486.45 2080.98,1469.18 \n",
       "  \"/>\n",
       "<polyline clip-path=\"url(#clip550)\" style=\"stroke:#000000; stroke-width:4; stroke-opacity:1; fill:none\" points=\"\n",
       "  136.76,1366.79 163.352,1366.79 \n",
       "  \"/>\n",
       "<polyline clip-path=\"url(#clip550)\" style=\"stroke:#000000; stroke-width:4; stroke-opacity:1; fill:none\" points=\"\n",
       "  136.76,1001.42 163.352,1001.42 \n",
       "  \"/>\n",
       "<polyline clip-path=\"url(#clip550)\" style=\"stroke:#000000; stroke-width:4; stroke-opacity:1; fill:none\" points=\"\n",
       "  136.76,636.041 163.352,636.041 \n",
       "  \"/>\n",
       "<polyline clip-path=\"url(#clip550)\" style=\"stroke:#000000; stroke-width:4; stroke-opacity:1; fill:none\" points=\"\n",
       "  136.76,270.665 163.352,270.665 \n",
       "  \"/>\n",
       "<path clip-path=\"url(#clip550)\" d=\"M 0 0 M388.545 1525.04 L401.022 1525.04 L401.022 1528.83 L388.545 1528.83 L388.545 1525.04 Z\" fill=\"#000000\" fill-rule=\"evenodd\" fill-opacity=\"1\" /><path clip-path=\"url(#clip550)\" d=\"M 0 0 M418.938 1509.43 L407.133 1527.88 L418.938 1527.88 L418.938 1509.43 M417.712 1505.36 L423.591 1505.36 L423.591 1527.88 L428.522 1527.88 L428.522 1531.77 L423.591 1531.77 L423.591 1539.92 L418.938 1539.92 L418.938 1531.77 L403.337 1531.77 L403.337 1527.26 L417.712 1505.36 Z\" fill=\"#000000\" fill-rule=\"evenodd\" fill-opacity=\"1\" /><path clip-path=\"url(#clip550)\" d=\"M 0 0 M807.699 1525.04 L820.176 1525.04 L820.176 1528.83 L807.699 1528.83 L807.699 1525.04 Z\" fill=\"#000000\" fill-rule=\"evenodd\" fill-opacity=\"1\" /><path clip-path=\"url(#clip550)\" d=\"M 0 0 M829.273 1535.98 L845.592 1535.98 L845.592 1539.92 L823.648 1539.92 L823.648 1535.98 Q826.31 1533.23 830.893 1528.6 Q835.5 1523.95 836.68 1522.61 Q838.926 1520.08 839.805 1518.35 Q840.708 1516.59 840.708 1514.9 Q840.708 1512.14 838.764 1510.41 Q836.842 1508.67 833.741 1508.67 Q831.542 1508.67 829.088 1509.43 Q826.657 1510.2 823.88 1511.75 L823.88 1507.03 Q826.704 1505.89 829.157 1505.31 Q831.611 1504.73 833.648 1504.73 Q839.018 1504.73 842.213 1507.42 Q845.407 1510.11 845.407 1514.6 Q845.407 1516.73 844.597 1518.65 Q843.81 1520.54 841.704 1523.14 Q841.125 1523.81 838.023 1527.03 Q834.921 1530.22 829.273 1535.98 Z\" fill=\"#000000\" fill-rule=\"evenodd\" fill-opacity=\"1\" /><path clip-path=\"url(#clip550)\" d=\"M 0 0 M1244.76 1508.44 Q1241.15 1508.44 1239.32 1512 Q1237.51 1515.55 1237.51 1522.67 Q1237.51 1529.78 1239.32 1533.35 Q1241.15 1536.89 1244.76 1536.89 Q1248.39 1536.89 1250.2 1533.35 Q1252.03 1529.78 1252.03 1522.67 Q1252.03 1515.55 1250.2 1512 Q1248.39 1508.44 1244.76 1508.44 M1244.76 1504.73 Q1250.57 1504.73 1253.62 1509.34 Q1256.7 1513.92 1256.7 1522.67 Q1256.7 1531.4 1253.62 1536.01 Q1250.57 1540.59 1244.76 1540.59 Q1238.95 1540.59 1235.87 1536.01 Q1232.81 1531.4 1232.81 1522.67 Q1232.81 1513.92 1235.87 1509.34 Q1238.95 1504.73 1244.76 1504.73 Z\" fill=\"#000000\" fill-rule=\"evenodd\" fill-opacity=\"1\" /><path clip-path=\"url(#clip550)\" d=\"M 0 0 M1657.52 1535.98 L1673.84 1535.98 L1673.84 1539.92 L1651.9 1539.92 L1651.9 1535.98 Q1654.56 1533.23 1659.14 1528.6 Q1663.75 1523.95 1664.93 1522.61 Q1667.18 1520.08 1668.06 1518.35 Q1668.96 1516.59 1668.96 1514.9 Q1668.96 1512.14 1667.01 1510.41 Q1665.09 1508.67 1661.99 1508.67 Q1659.79 1508.67 1657.34 1509.43 Q1654.91 1510.2 1652.13 1511.75 L1652.13 1507.03 Q1654.95 1505.89 1657.41 1505.31 Q1659.86 1504.73 1661.9 1504.73 Q1667.27 1504.73 1670.46 1507.42 Q1673.66 1510.11 1673.66 1514.6 Q1673.66 1516.73 1672.85 1518.65 Q1672.06 1520.54 1669.95 1523.14 Q1669.38 1523.81 1666.27 1527.03 Q1663.17 1530.22 1657.52 1535.98 Z\" fill=\"#000000\" fill-rule=\"evenodd\" fill-opacity=\"1\" /><path clip-path=\"url(#clip550)\" d=\"M 0 0 M2083.99 1509.43 L2072.19 1527.88 L2083.99 1527.88 L2083.99 1509.43 M2082.77 1505.36 L2088.64 1505.36 L2088.64 1527.88 L2093.58 1527.88 L2093.58 1531.77 L2088.64 1531.77 L2088.64 1539.92 L2083.99 1539.92 L2083.99 1531.77 L2068.39 1531.77 L2068.39 1527.26 L2082.77 1505.36 Z\" fill=\"#000000\" fill-rule=\"evenodd\" fill-opacity=\"1\" /><path clip-path=\"url(#clip550)\" d=\"M 0 0 M100.816 1352.59 Q97.2049 1352.59 95.3762 1356.16 Q93.5707 1359.7 93.5707 1366.83 Q93.5707 1373.94 95.3762 1377.5 Q97.2049 1381.04 100.816 1381.04 Q104.45 1381.04 106.256 1377.5 Q108.084 1373.94 108.084 1366.83 Q108.084 1359.7 106.256 1356.16 Q104.45 1352.59 100.816 1352.59 M100.816 1348.89 Q106.626 1348.89 109.682 1353.5 Q112.76 1358.08 112.76 1366.83 Q112.76 1375.56 109.682 1380.16 Q106.626 1384.75 100.816 1384.75 Q95.0058 1384.75 91.9272 1380.16 Q88.8716 1375.56 88.8716 1366.83 Q88.8716 1358.08 91.9272 1353.5 Q95.0058 1348.89 100.816 1348.89 Z\" fill=\"#000000\" fill-rule=\"evenodd\" fill-opacity=\"1\" /><path clip-path=\"url(#clip550)\" d=\"M 0 0 M65.8393 1014.76 L73.4782 1014.76 L73.4782 988.397 L65.168 990.064 L65.168 985.804 L73.4319 984.138 L78.1078 984.138 L78.1078 1014.76 L85.7466 1014.76 L85.7466 1018.7 L65.8393 1018.7 L65.8393 1014.76 Z\" fill=\"#000000\" fill-rule=\"evenodd\" fill-opacity=\"1\" /><path clip-path=\"url(#clip550)\" d=\"M 0 0 M100.816 987.216 Q97.2049 987.216 95.3762 990.781 Q93.5707 994.323 93.5707 1001.45 Q93.5707 1008.56 95.3762 1012.12 Q97.2049 1015.67 100.816 1015.67 Q104.45 1015.67 106.256 1012.12 Q108.084 1008.56 108.084 1001.45 Q108.084 994.323 106.256 990.781 Q104.45 987.216 100.816 987.216 M100.816 983.513 Q106.626 983.513 109.682 988.119 Q112.76 992.703 112.76 1001.45 Q112.76 1010.18 109.682 1014.79 Q106.626 1019.37 100.816 1019.37 Q95.0058 1019.37 91.9272 1014.79 Q88.8716 1010.18 88.8716 1001.45 Q88.8716 992.703 91.9272 988.119 Q95.0058 983.513 100.816 983.513 Z\" fill=\"#000000\" fill-rule=\"evenodd\" fill-opacity=\"1\" /><path clip-path=\"url(#clip550)\" d=\"M 0 0 M69.4273 649.386 L85.7466 649.386 L85.7466 653.321 L63.8023 653.321 L63.8023 649.386 Q66.4643 646.631 71.0476 642.002 Q75.6541 637.349 76.8346 636.006 Q79.08 633.483 79.9596 631.747 Q80.8624 629.988 80.8624 628.298 Q80.8624 625.544 78.918 623.807 Q76.9967 622.071 73.8948 622.071 Q71.6958 622.071 69.2421 622.835 Q66.8115 623.599 64.0338 625.15 L64.0338 620.428 Q66.8578 619.294 69.3115 618.715 Q71.7652 618.136 73.8023 618.136 Q79.1726 618.136 82.367 620.821 Q85.5614 623.507 85.5614 627.997 Q85.5614 630.127 84.7513 632.048 Q83.9642 633.946 81.8578 636.539 Q81.2791 637.21 78.1772 640.428 Q75.0754 643.622 69.4273 649.386 Z\" fill=\"#000000\" fill-rule=\"evenodd\" fill-opacity=\"1\" /><path clip-path=\"url(#clip550)\" d=\"M 0 0 M100.816 621.84 Q97.2049 621.84 95.3762 625.405 Q93.5707 628.946 93.5707 636.076 Q93.5707 643.182 95.3762 646.747 Q97.2049 650.289 100.816 650.289 Q104.45 650.289 106.256 646.747 Q108.084 643.182 108.084 636.076 Q108.084 628.946 106.256 625.405 Q104.45 621.84 100.816 621.84 M100.816 618.136 Q106.626 618.136 109.682 622.743 Q112.76 627.326 112.76 636.076 Q112.76 644.803 109.682 649.409 Q106.626 653.992 100.816 653.992 Q95.0058 653.992 91.9272 649.409 Q88.8716 644.803 88.8716 636.076 Q88.8716 627.326 91.9272 622.743 Q95.0058 618.136 100.816 618.136 Z\" fill=\"#000000\" fill-rule=\"evenodd\" fill-opacity=\"1\" /><path clip-path=\"url(#clip550)\" d=\"M 0 0 M78.617 269.31 Q81.9735 270.028 83.8485 272.297 Q85.7466 274.565 85.7466 277.898 Q85.7466 283.014 82.2281 285.815 Q78.7096 288.616 72.2282 288.616 Q70.0523 288.616 67.7375 288.176 Q65.4458 287.759 62.9921 286.903 L62.9921 282.389 Q64.9366 283.523 67.2514 284.102 Q69.5662 284.681 72.0893 284.681 Q76.4874 284.681 78.7791 282.945 Q81.0939 281.208 81.0939 277.898 Q81.0939 274.843 78.9411 273.13 Q76.8115 271.394 72.9921 271.394 L68.9643 271.394 L68.9643 267.551 L73.1773 267.551 Q76.6263 267.551 78.455 266.185 Q80.2837 264.797 80.2837 262.204 Q80.2837 259.542 78.3856 258.13 Q76.5106 256.695 72.9921 256.695 Q71.0708 256.695 68.8717 257.111 Q66.6727 257.528 64.0338 258.408 L64.0338 254.241 Q66.6958 253.5 69.0106 253.13 Q71.3486 252.76 73.4087 252.76 Q78.7328 252.76 81.8346 255.19 Q84.9365 257.598 84.9365 261.718 Q84.9365 264.588 83.2929 266.579 Q81.6494 268.547 78.617 269.31 Z\" fill=\"#000000\" fill-rule=\"evenodd\" fill-opacity=\"1\" /><path clip-path=\"url(#clip550)\" d=\"M 0 0 M100.816 256.463 Q97.2049 256.463 95.3762 260.028 Q93.5707 263.57 93.5707 270.699 Q93.5707 277.806 95.3762 281.371 Q97.2049 284.912 100.816 284.912 Q104.45 284.912 106.256 281.371 Q108.084 277.806 108.084 270.699 Q108.084 263.57 106.256 260.028 Q104.45 256.463 100.816 256.463 M100.816 252.76 Q106.626 252.76 109.682 257.366 Q112.76 261.949 112.76 270.699 Q112.76 279.426 109.682 284.033 Q106.626 288.616 100.816 288.616 Q95.0058 288.616 91.9272 284.033 Q88.8716 279.426 88.8716 270.699 Q88.8716 261.949 91.9272 257.366 Q95.0058 252.76 100.816 252.76 Z\" fill=\"#000000\" fill-rule=\"evenodd\" fill-opacity=\"1\" /><polyline clip-path=\"url(#clip552)\" style=\"stroke:#009af9; stroke-width:4; stroke-opacity:1; fill:none\" points=\"\n",
       "  199.477,818.729 209.685,832.915 219.893,846.927 314.281,968.229 408.669,1074.64 465.392,1131.42 522.116,1182.82 570.074,1222.08 618.033,1257.49 722.226,1321.18 \n",
       "  818.283,1363.81 869.775,1380.32 921.267,1392.38 980.925,1400.82 1040.58,1403.31 1093.6,1400.53 1146.62,1393.05 1193.11,1382.62 1239.6,1368.58 1340.98,1325.42 \n",
       "  1442.95,1264.68 1499.33,1223.63 1555.7,1177.27 1609.34,1128.23 1662.98,1074.38 1774.53,946.982 1868.42,823.616 1925.74,741.062 1983.06,653.014 2036.94,565.238 \n",
       "  2090.83,472.608 2177.15,314.088 2263.47,143.11 2276.75,115.69 2290.04,87.9763 \n",
       "  \"/>\n",
       "<path clip-path=\"url(#clip552)\" d=\"\n",
       "M617.59 1375.56 L743.023 1375.56 L743.023 1213.34 L617.59 1213.34 L617.59 1375.56  Z\n",
       "  \" fill=\"#e26f46\" fill-rule=\"evenodd\" fill-opacity=\"0.5\"/>\n",
       "<polyline clip-path=\"url(#clip552)\" style=\"stroke:#000000; stroke-width:4; stroke-opacity:0.5; fill:none\" points=\"\n",
       "  617.59,1375.56 743.023,1375.56 743.023,1213.34 617.59,1213.34 617.59,1375.56 \n",
       "  \"/>\n",
       "<path clip-path=\"url(#clip552)\" d=\"\n",
       "M743.023 1423.79 L868.457 1423.79 L868.457 1287.87 L743.023 1287.87 L743.023 1423.79  Z\n",
       "  \" fill=\"#e26f46\" fill-rule=\"evenodd\" fill-opacity=\"0.5\"/>\n",
       "<polyline clip-path=\"url(#clip552)\" style=\"stroke:#000000; stroke-width:4; stroke-opacity:0.5; fill:none\" points=\"\n",
       "  743.023,1423.79 868.457,1423.79 868.457,1287.87 743.023,1287.87 743.023,1423.79 \n",
       "  \"/>\n",
       "<path clip-path=\"url(#clip552)\" d=\"\n",
       "M868.457 1445.72 L993.891 1445.72 L993.891 1336.1 L868.457 1336.1 L868.457 1445.72  Z\n",
       "  \" fill=\"#e26f46\" fill-rule=\"evenodd\" fill-opacity=\"0.5\"/>\n",
       "<polyline clip-path=\"url(#clip552)\" style=\"stroke:#000000; stroke-width:4; stroke-opacity:0.5; fill:none\" points=\"\n",
       "  868.457,1445.72 993.891,1445.72 993.891,1336.1 868.457,1336.1 868.457,1445.72 \n",
       "  \"/>\n",
       "<path clip-path=\"url(#clip552)\" d=\"\n",
       "M993.891 1441.33 L1119.32 1441.33 L1119.32 1358.03 L993.891 1358.03 L993.891 1441.33  Z\n",
       "  \" fill=\"#e26f46\" fill-rule=\"evenodd\" fill-opacity=\"0.5\"/>\n",
       "<polyline clip-path=\"url(#clip552)\" style=\"stroke:#000000; stroke-width:4; stroke-opacity:0.5; fill:none\" points=\"\n",
       "  993.891,1441.33 1119.32,1441.33 1119.32,1358.03 993.891,1358.03 993.891,1441.33 \n",
       "  \"/>\n",
       "<path clip-path=\"url(#clip552)\" d=\"\n",
       "M1119.32 1410.64 L1244.76 1410.64 L1244.76 1353.64 L1119.32 1353.64 L1119.32 1410.64  Z\n",
       "  \" fill=\"#e26f46\" fill-rule=\"evenodd\" fill-opacity=\"0.5\"/>\n",
       "<polyline clip-path=\"url(#clip552)\" style=\"stroke:#000000; stroke-width:4; stroke-opacity:0.5; fill:none\" points=\"\n",
       "  1119.32,1410.64 1244.76,1410.64 1244.76,1353.64 1119.32,1353.64 1119.32,1410.64 \n",
       "  \"/>\n",
       "<path clip-path=\"url(#clip552)\" d=\"\n",
       "M1244.76 1366.79 L1370.19 1366.79 L1370.19 1309.8 L1244.76 1309.8 L1244.76 1366.79  Z\n",
       "  \" fill=\"#e26f46\" fill-rule=\"evenodd\" fill-opacity=\"0.5\"/>\n",
       "<polyline clip-path=\"url(#clip552)\" style=\"stroke:#000000; stroke-width:4; stroke-opacity:0.5; fill:none\" points=\"\n",
       "  1244.76,1366.79 1370.19,1366.79 1370.19,1309.8 1244.76,1309.8 1244.76,1366.79 \n",
       "  \"/>\n",
       "<path clip-path=\"url(#clip552)\" d=\"\n",
       "M1370.19 1309.8 L1495.63 1309.8 L1495.63 1226.49 L1370.19 1226.49 L1370.19 1309.8  Z\n",
       "  \" fill=\"#e26f46\" fill-rule=\"evenodd\" fill-opacity=\"0.5\"/>\n",
       "<polyline clip-path=\"url(#clip552)\" style=\"stroke:#000000; stroke-width:4; stroke-opacity:0.5; fill:none\" points=\"\n",
       "  1370.19,1309.8 1495.63,1309.8 1495.63,1226.49 1370.19,1226.49 1370.19,1309.8 \n",
       "  \"/>\n",
       "<path clip-path=\"url(#clip552)\" d=\"\n",
       "M1495.63 1226.49 L1621.06 1226.49 L1621.06 1116.88 L1495.63 1116.88 L1495.63 1226.49  Z\n",
       "  \" fill=\"#e26f46\" fill-rule=\"evenodd\" fill-opacity=\"0.5\"/>\n",
       "<polyline clip-path=\"url(#clip552)\" style=\"stroke:#000000; stroke-width:4; stroke-opacity:0.5; fill:none\" points=\"\n",
       "  1495.63,1226.49 1621.06,1226.49 1621.06,1116.88 1495.63,1116.88 1495.63,1226.49 \n",
       "  \"/>\n",
       "<path clip-path=\"url(#clip552)\" d=\"\n",
       "M1621.06 1116.88 L1746.49 1116.88 L1746.49 980.957 L1621.06 980.957 L1621.06 1116.88  Z\n",
       "  \" fill=\"#e26f46\" fill-rule=\"evenodd\" fill-opacity=\"0.5\"/>\n",
       "<polyline clip-path=\"url(#clip552)\" style=\"stroke:#000000; stroke-width:4; stroke-opacity:0.5; fill:none\" points=\"\n",
       "  1621.06,1116.88 1746.49,1116.88 1746.49,980.957 1621.06,980.957 1621.06,1116.88 \n",
       "  \"/>\n",
       "<path clip-path=\"url(#clip552)\" d=\"\n",
       "M1746.49 980.957 L1871.93 980.957 L1871.93 818.729 L1746.49 818.729 L1746.49 980.957  Z\n",
       "  \" fill=\"#e26f46\" fill-rule=\"evenodd\" fill-opacity=\"0.5\"/>\n",
       "<polyline clip-path=\"url(#clip552)\" style=\"stroke:#000000; stroke-width:4; stroke-opacity:0.5; fill:none\" points=\"\n",
       "  1746.49,980.957 1871.93,980.957 1871.93,818.729 1746.49,818.729 1746.49,980.957 \n",
       "  \"/>\n",
       "<path clip-path=\"url(#clip550)\" d=\"\n",
       "M1981.65 276.658 L2278.89 276.658 L2278.89 95.2176 L1981.65 95.2176  Z\n",
       "  \" fill=\"#ffffff\" fill-rule=\"evenodd\" fill-opacity=\"1\"/>\n",
       "<polyline clip-path=\"url(#clip550)\" style=\"stroke:#000000; stroke-width:4; stroke-opacity:1; fill:none\" points=\"\n",
       "  1981.65,276.658 2278.89,276.658 2278.89,95.2176 1981.65,95.2176 1981.65,276.658 \n",
       "  \"/>\n",
       "<polyline clip-path=\"url(#clip550)\" style=\"stroke:#009af9; stroke-width:4; stroke-opacity:1; fill:none\" points=\"\n",
       "  2006.27,155.698 2154,155.698 \n",
       "  \"/>\n",
       "<path clip-path=\"url(#clip550)\" d=\"M 0 0 M2192.47 175.385 Q2190.66 180.015 2188.95 181.427 Q2187.24 182.839 2184.37 182.839 L2180.96 182.839 L2180.96 179.274 L2183.46 179.274 Q2185.22 179.274 2186.2 178.44 Q2187.17 177.607 2188.35 174.505 L2189.11 172.561 L2178.63 147.052 L2183.14 147.052 L2191.24 167.329 L2199.34 147.052 L2203.86 147.052 L2192.47 175.385 Z\" fill=\"#000000\" fill-rule=\"evenodd\" fill-opacity=\"1\" /><path clip-path=\"url(#clip550)\" d=\"M 0 0 M2209.74 169.042 L2217.38 169.042 L2217.38 142.677 L2209.07 144.343 L2209.07 140.084 L2217.33 138.418 L2222.01 138.418 L2222.01 169.042 L2229.65 169.042 L2229.65 172.978 L2209.74 172.978 L2209.74 169.042 Z\" fill=\"#000000\" fill-rule=\"evenodd\" fill-opacity=\"1\" /><path clip-path=\"url(#clip550)\" d=\"\n",
       "M2006.27 240.37 L2154 240.37 L2154 191.986 L2006.27 191.986 L2006.27 240.37  Z\n",
       "  \" fill=\"#e26f46\" fill-rule=\"evenodd\" fill-opacity=\"0.5\"/>\n",
       "<polyline clip-path=\"url(#clip550)\" style=\"stroke:#000000; stroke-width:4; stroke-opacity:1; fill:none\" points=\"\n",
       "  2006.27,240.37 2154,240.37 2154,191.986 2006.27,191.986 2006.27,240.37 \n",
       "  \"/>\n",
       "<path clip-path=\"url(#clip550)\" d=\"M 0 0 M2192.47 235.865 Q2190.66 240.495 2188.95 241.907 Q2187.24 243.319 2184.37 243.319 L2180.96 243.319 L2180.96 239.754 L2183.46 239.754 Q2185.22 239.754 2186.2 238.92 Q2187.17 238.087 2188.35 234.985 L2189.11 233.041 L2178.63 207.532 L2183.14 207.532 L2191.24 227.809 L2199.34 207.532 L2203.86 207.532 L2192.47 235.865 Z\" fill=\"#000000\" fill-rule=\"evenodd\" fill-opacity=\"1\" /><path clip-path=\"url(#clip550)\" d=\"M 0 0 M2212.96 229.522 L2229.27 229.522 L2229.27 233.458 L2207.33 233.458 L2207.33 229.522 Q2209.99 226.768 2214.58 222.138 Q2219.18 217.485 2220.36 216.143 Q2222.61 213.62 2223.49 211.884 Q2224.39 210.124 2224.39 208.435 Q2224.39 205.68 2222.45 203.944 Q2220.52 202.208 2217.42 202.208 Q2215.22 202.208 2212.77 202.972 Q2210.34 203.735 2207.56 205.286 L2207.56 200.564 Q2210.39 199.43 2212.84 198.851 Q2215.29 198.273 2217.33 198.273 Q2222.7 198.273 2225.9 200.958 Q2229.09 203.643 2229.09 208.134 Q2229.09 210.263 2228.28 212.185 Q2227.49 214.083 2225.39 216.675 Q2224.81 217.347 2221.71 220.564 Q2218.6 223.759 2212.96 229.522 Z\" fill=\"#000000\" fill-rule=\"evenodd\" fill-opacity=\"1\" /></svg>\n"
      ]
     },
     "execution_count": 43,
     "metadata": {},
     "output_type": "execute_result"
    }
   ],
   "source": [
    "plot(f, -5, 5)\n",
    "plot!(IntervalBox.(Xs, f.(Xs)))"
   ]
  },
  {
   "cell_type": "code",
   "execution_count": 48,
   "metadata": {},
   "outputs": [
    {
     "data": {
      "text/plain": [
       "kahan (generic function with 1 method)"
      ]
     },
     "execution_count": 48,
     "metadata": {},
     "output_type": "execute_result"
    }
   ],
   "source": [
    "kahan(x) = (1/80) * log(abs(3*(1 - x) + 1)) + x^2 + 1"
   ]
  },
  {
   "cell_type": "code",
   "execution_count": 49,
   "metadata": {},
   "outputs": [
    {
     "data": {
      "text/plain": [
       "[-∞, 2.93989]"
      ]
     },
     "execution_count": 49,
     "metadata": {},
     "output_type": "execute_result"
    }
   ],
   "source": [
    "kahan(1.3..1.4)"
   ]
  },
  {
   "cell_type": "code",
   "execution_count": null,
   "metadata": {},
   "outputs": [],
   "source": [
    " \n",
    "@manipulate for N in 1:100\n",
    "    Xs = mince(X, N)\n",
    "    \n",
    "    plot(f, -5, 5)\n",
    "    outputs = f.(Xs)\n",
    "    \n",
    "    ylims!(-10, 20)\n",
    "end\n",
    "    "
   ]
  },
  {
   "cell_type": "markdown",
   "metadata": {},
   "source": [
    "## Application: Numerical integration"
   ]
  },
  {
   "cell_type": "markdown",
   "metadata": {},
   "source": [
    "A nice, simple application of interval arithmetic is to calculate integrals of functions numerically. For simplicity let's restrict ourselves to functions $f: \\mathbb{R} \\to \\mathbb{R}$, although in principal the same idea extends to higher dimensions."
   ]
  },
  {
   "cell_type": "markdown",
   "metadata": {},
   "source": [
    "Recall that the integral\n",
    "$$I := \\int_a^b f(x) \\, dx$$\n",
    "represents the set $A$ between the function $f$ and the $x$-axis between $a$ and $b$.\n",
    "    \n",
    "We can approximate this by splitting up the interval $[a, b]$ into pieces and using a set of rectangles of the right height. Which is the right height? Standard numerical methods take e.g. $f(m)$, where $m$ is the midpoint.\n",
    "\n",
    "Instead, having intervals at our disposal, we can *evaluate $f$ over the whole interval*! This will give us guaranteed lower and upper bounds for $f$ over that interval. Taking those lower and upper bounds gives two possible rectangles: one which is contained in $A$, and one which contains the part of $A$ that lies between $a$ and $b$.\n",
    "\n",
    "In other words, interval arithmetic immediately gives us Riemann lower and upper sums, and hence rigorous bounds for $I$!"
   ]
  },
  {
   "cell_type": "markdown",
   "metadata": {},
   "source": [
    "#### Exercise\n",
    "\n",
    "1. Implement this. Apply it to different functions.\n",
    "\n",
    "\n",
    "2. How fast does the approximation improve as you take more sub-intervals?"
   ]
  },
  {
   "cell_type": "code",
   "execution_count": 50,
   "metadata": {},
   "outputs": [
    {
     "data": {
      "text/plain": [
       "[3, 15]"
      ]
     },
     "execution_count": 50,
     "metadata": {},
     "output_type": "execute_result"
    }
   ],
   "source": [
    "f(1..3)"
   ]
  },
  {
   "cell_type": "code",
   "execution_count": 53,
   "metadata": {},
   "outputs": [],
   "source": [
    "z = Complex(1..2, 3..4);"
   ]
  },
  {
   "cell_type": "code",
   "execution_count": 58,
   "metadata": {},
   "outputs": [],
   "source": [
    "z * z;"
   ]
  },
  {
   "cell_type": "code",
   "execution_count": 55,
   "metadata": {},
   "outputs": [
    {
     "data": {
      "text/plain": [
       "[1, 2]"
      ]
     },
     "execution_count": 55,
     "metadata": {},
     "output_type": "execute_result"
    }
   ],
   "source": [
    "z.re"
   ]
  },
  {
   "cell_type": "code",
   "execution_count": 56,
   "metadata": {},
   "outputs": [
    {
     "data": {
      "text/plain": [
       "[3, 4]"
      ]
     },
     "execution_count": 56,
     "metadata": {},
     "output_type": "execute_result"
    }
   ],
   "source": [
    "z.im"
   ]
  },
  {
   "cell_type": "code",
   "execution_count": 60,
   "metadata": {},
   "outputs": [
    {
     "data": {
      "text/plain": [
       "integrate (generic function with 1 method)"
      ]
     },
     "execution_count": 60,
     "metadata": {},
     "output_type": "execute_result"
    }
   ],
   "source": [
    "function integrate(f, X, N)\n",
    "    Xs = mince(X, N)\n",
    "    \n",
    "    return sum(diam.(Xs) .* f.(Xs))\n",
    "end"
   ]
  },
  {
   "cell_type": "code",
   "execution_count": 62,
   "metadata": {},
   "outputs": [
    {
     "data": {
      "text/plain": [
       "[0.284999, 0.385001]"
      ]
     },
     "execution_count": 62,
     "metadata": {},
     "output_type": "execute_result"
    }
   ],
   "source": [
    "integrate(x->x^2, 0..1, 10)"
   ]
  },
  {
   "cell_type": "code",
   "execution_count": 63,
   "metadata": {},
   "outputs": [
    {
     "data": {
      "text/plain": [
       "[0.328349, 0.338351]"
      ]
     },
     "execution_count": 63,
     "metadata": {},
     "output_type": "execute_result"
    }
   ],
   "source": [
    "integrate(x->x^2, 0..1, 100)"
   ]
  },
  {
   "cell_type": "code",
   "execution_count": 64,
   "metadata": {},
   "outputs": [
    {
     "data": {
      "text/plain": [
       "[0.333283, 0.333384]"
      ]
     },
     "execution_count": 64,
     "metadata": {},
     "output_type": "execute_result"
    }
   ],
   "source": [
    "integrate(x->x^2, 0..1, 10000)"
   ]
  },
  {
   "cell_type": "markdown",
   "metadata": {},
   "source": [
    "#### Exercise"
   ]
  },
  {
   "cell_type": "markdown",
   "metadata": {},
   "source": [
    "## Formatting"
   ]
  },
  {
   "cell_type": "markdown",
   "metadata": {},
   "source": [
    "The `@format` macro changes the way that intervals are displayed:"
   ]
  },
  {
   "cell_type": "code",
   "execution_count": 66,
   "metadata": {},
   "outputs": [
    {
     "data": {
      "text/plain": [
       "[0.0999999, 0.300001]"
      ]
     },
     "execution_count": 66,
     "metadata": {},
     "output_type": "execute_result"
    }
   ],
   "source": [
    "X = 0.1..0.3  # default is standard mode with 6 significant figures"
   ]
  },
  {
   "cell_type": "code",
   "execution_count": 67,
   "metadata": {},
   "outputs": [
    {
     "data": {
      "text/plain": [
       "Display parameters:\n",
       "- format: midpoint\n",
       "- decorations: false\n",
       "- significant figures: 3"
      ]
     },
     "execution_count": 67,
     "metadata": {},
     "output_type": "execute_result"
    }
   ],
   "source": [
    "@format midpoint 3"
   ]
  },
  {
   "cell_type": "code",
   "execution_count": 68,
   "metadata": {},
   "outputs": [
    {
     "data": {
      "text/plain": [
       "0.2 ± 0.101"
      ]
     },
     "execution_count": 68,
     "metadata": {},
     "output_type": "execute_result"
    }
   ],
   "source": [
    "X"
   ]
  },
  {
   "cell_type": "code",
   "execution_count": 69,
   "metadata": {},
   "outputs": [
    {
     "data": {
      "text/plain": [
       "Display parameters:\n",
       "- format: full\n",
       "- decorations: false\n",
       "- significant figures: 3"
      ]
     },
     "execution_count": 69,
     "metadata": {},
     "output_type": "execute_result"
    }
   ],
   "source": [
    "@format full"
   ]
  },
  {
   "cell_type": "code",
   "execution_count": 70,
   "metadata": {},
   "outputs": [
    {
     "data": {
      "text/plain": [
       "Interval(0.09999999999999999, 0.30000000000000004)"
      ]
     },
     "execution_count": 70,
     "metadata": {},
     "output_type": "execute_result"
    }
   ],
   "source": [
    "X"
   ]
  },
  {
   "cell_type": "code",
   "execution_count": 71,
   "metadata": {},
   "outputs": [
    {
     "data": {
      "text/plain": [
       "Display parameters:\n",
       "- format: standard\n",
       "- decorations: false\n",
       "- significant figures: 10"
      ]
     },
     "execution_count": 71,
     "metadata": {},
     "output_type": "execute_result"
    }
   ],
   "source": [
    "@format standard 10"
   ]
  },
  {
   "cell_type": "code",
   "execution_count": 72,
   "metadata": {},
   "outputs": [
    {
     "data": {
      "text/plain": [
       "[0.09999999999, 0.3000000001]"
      ]
     },
     "execution_count": 72,
     "metadata": {},
     "output_type": "execute_result"
    }
   ],
   "source": [
    "X"
   ]
  },
  {
   "cell_type": "markdown",
   "metadata": {},
   "source": [
    "In standard mode the displayed result is always an *enclosure* of the interval.\n",
    "In `full` mode the floating-point endpoints are displayed using the usual Julia algorithm."
   ]
  },
  {
   "cell_type": "markdown",
   "metadata": {},
   "source": [
    "## In progress:"
   ]
  },
  {
   "cell_type": "code",
   "execution_count": 73,
   "metadata": {},
   "outputs": [
    {
     "ename": "UndefVarError",
     "evalue": "UndefVarError: configure! not defined",
     "output_type": "error",
     "traceback": [
      "UndefVarError: configure! not defined",
      "",
      "Stacktrace:",
      " [1] getproperty(::Module, ::Symbol) at ./Base.jl:26",
      " [2] top-level scope at In[73]:1"
     ]
    }
   ],
   "source": [
    "IntervalArithmetic.configure!(directed_rounding=:fast, powers=:fast)"
   ]
  },
  {
   "cell_type": "code",
   "execution_count": null,
   "metadata": {},
   "outputs": [],
   "source": []
  }
 ],
 "metadata": {
  "@webio": {
   "lastCommId": "9ce0a34486eb4b2499ea5570f3205859",
   "lastKernelId": "31118cd0-c19e-47ef-918d-db1fc154c232"
  },
  "kernelspec": {
   "display_name": "Julia 1.5.0-beta1",
   "language": "julia",
   "name": "julia-1.5"
  },
  "language_info": {
   "file_extension": ".jl",
   "mimetype": "application/julia",
   "name": "julia",
   "version": "1.5.0"
  }
 },
 "nbformat": 4,
 "nbformat_minor": 4
}
