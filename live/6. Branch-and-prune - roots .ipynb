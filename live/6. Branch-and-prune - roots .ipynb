{
 "cells": [
  {
   "cell_type": "markdown",
   "metadata": {},
   "source": [
    "# Branch-and-prune: roots and constraints"
   ]
  },
  {
   "cell_type": "markdown",
   "metadata": {},
   "source": [
    "Let's go back to the problem of root finding.\n",
    "How can we find *all* the roots of a function $f$ over an interval or box $X$ in a guaranteed way?\n",
    "\n",
    "Standard numerical methods are unable to do this for general functions. [There are methods for polynomials, but they are tricky do implement. [Homotopy continuation](https://www.juliahomotopycontinuation.org) is a particularly powerful technique.]\n",
    "\n",
    "The combination of working with sets and having Newton-type techniques for verifying (certifying) existence and uniqueness of a simple root in a box allows interval methods to calculate and verify all simple roots."
   ]
  },
  {
   "cell_type": "markdown",
   "metadata": {},
   "source": [
    "## Branch and prune"
   ]
  },
  {
   "cell_type": "markdown",
   "metadata": {},
   "source": [
    "If we wish to locate all of the roots inside a box, we somehow have to *break up* the whole of $X$ into small enough *pieces* $X_i$, such that in each piece we can either:\n",
    "\n",
    "- Exclude $X_i$ (show there is no root there)\n",
    "- Prove existence and uniqueness of a root in $X_i$; or\n",
    "- Give up and say that we don't know"
   ]
  },
  {
   "cell_type": "markdown",
   "metadata": {},
   "source": [
    "In notebook 4 we saw one way to do this to characterize the sets that do or don't satisfy a **constraint** (inequality): Split up $X$ into tiny boxes of a uniform size. \n",
    "\n",
    "Is it possible to improve on that method? We expect neighbouring regions of space to usually \"behave the same\", so we are doing a lot of unnecessary calculations. In particular when discarding / excluding regions, we want those regions to be as *large* as possible."
   ]
  },
  {
   "cell_type": "markdown",
   "metadata": {},
   "source": [
    "### Branching: Bisection\n",
    "\n",
    "Let's start with the whole of $X$. It is possible that we can exclude the whole of $X$ in one go if $f(X)$ does not contain $0$. \n",
    "\n",
    "If $0 \\in f(X)$ then as usual we cannot say anything, so let us **bisect** $X$ in that case. The simplest method to bisect a box is to choose the largest dimension and split $X$ in half along that direction. [More sophisticated strategies, such as the **smear heuristic**, which checks which direction is expanded most by $f$, may be superior.]"
   ]
  },
  {
   "cell_type": "markdown",
   "metadata": {},
   "source": [
    "### Pruning: Exclusion\n",
    "\n",
    "Once we have bisected, we check each sub-box to see if either can be excluded (or if we can prove that there is a unique root). If it can be excluded we **prune** it, i.e. remove it from consideration."
   ]
  },
  {
   "cell_type": "markdown",
   "metadata": {},
   "source": [
    "We repeat these bisection and pruning steps until we reach boxes whose size is some predefined tolerance."
   ]
  },
  {
   "cell_type": "markdown",
   "metadata": {},
   "source": [
    "Note that this same technique works for the set inversion problem we saw earlier. Indeed, the condition $f(x) = 0$ for finding a root is special case of an inequality (constraint)."
   ]
  },
  {
   "cell_type": "markdown",
   "metadata": {},
   "source": [
    "## Regular pavings"
   ]
  },
  {
   "cell_type": "markdown",
   "metadata": {},
   "source": [
    "We end up with a collection of boxes, which are usually *not* of a uniform size. This is called a **regular paving**: we have \"paved\" (covered) the set of interest.\n",
    "\n",
    "In fact, if we keep track of which boxes give rise to which child boxes, we end up building a **binary tree**. It is then possible at the end of the process to unify boxes again to reduce the complexity."
   ]
  },
  {
   "cell_type": "markdown",
   "metadata": {},
   "source": [
    "## Implementation"
   ]
  },
  {
   "cell_type": "markdown",
   "metadata": {},
   "source": [
    "To implement a branch-and-prune algorithm we need to keep track of the boxes that are produced along the way in some kind of data structure. \n",
    "\n",
    "A simple way to do this is to have a working vector of boxes. We take a box, say from the start or the end of the vector, that we will work on next. After bisecting, we push the new boxes back onto that working vector. When the working vector is empty, we are done."
   ]
  },
  {
   "cell_type": "markdown",
   "metadata": {},
   "source": [
    "#### Exercise\n",
    "1. Implement this working vector method. You should impose a minimum tolerance. \n",
    "You can use the `diam` function to \n",
    "\n",
    "\n",
    "2. Use this to locate all roots of $f(x) = x^2 - 2$ and $g(x, y) = (x^2 + y^2 - 1, x + y)$.\n",
    "\n",
    "\n",
    "\n",
    "3. Add in a check using the Newton method to distinguish those boxes where they *may* be a root from those where there *definitely is* a root."
   ]
  },
  {
   "cell_type": "code",
   "execution_count": null,
   "metadata": {},
   "outputs": [],
   "source": []
  },
  {
   "cell_type": "markdown",
   "metadata": {},
   "source": [
    "## Software"
   ]
  },
  {
   "cell_type": "markdown",
   "metadata": {},
   "source": [
    "The [`IntervalRootFinding.jl`](https://github.com/JuliaIntervals/IntervalRootFinding.jl) package has a careful and reasonably comprehensive implementation of these algorithms. Currently it returns a list of `Root` objects, containing an interval or box, together with a symbolic label indicating whether a unique root was proved to be contained inside the box or not. \n",
    "\n",
    "Here are some examples:"
   ]
  },
  {
   "cell_type": "code",
   "execution_count": 1,
   "metadata": {},
   "outputs": [],
   "source": [
    "using IntervalRootFinding, IntervalArithmetic"
   ]
  },
  {
   "cell_type": "code",
   "execution_count": 2,
   "metadata": {},
   "outputs": [
    {
     "data": {
      "text/plain": [
       "2-element Array{Root{Interval{Float64}},1}:\n",
       " Root([1.41421, 1.41422], :unique)\n",
       " Root([-1.41422, -1.41421], :unique)"
      ]
     },
     "execution_count": 2,
     "metadata": {},
     "output_type": "execute_result"
    }
   ],
   "source": [
    "rts = roots(x -> x^2 - 2, -10..10)"
   ]
  },
  {
   "cell_type": "markdown",
   "metadata": {},
   "source": [
    "This proves that there are 2 unique roots in the interval $[-10, 10]$ for the given function. You can extract the intervals with"
   ]
  },
  {
   "cell_type": "code",
   "execution_count": 3,
   "metadata": {},
   "outputs": [
    {
     "data": {
      "text/plain": [
       "2-element Array{Interval{Float64},1}:\n",
       "  [1.41421, 1.41422]\n",
       " [-1.41422, -1.41421]"
      ]
     },
     "execution_count": 3,
     "metadata": {},
     "output_type": "execute_result"
    }
   ],
   "source": [
    "interval.(rts)"
   ]
  },
  {
   "cell_type": "code",
   "execution_count": 4,
   "metadata": {},
   "outputs": [
    {
     "data": {
      "text/plain": [
       "2-element Array{Float64,1}:\n",
       "  1.414213562373095\n",
       " -1.4142135623733048"
      ]
     },
     "execution_count": 4,
     "metadata": {},
     "output_type": "execute_result"
    }
   ],
   "source": [
    "mid.(interval.(rts))"
   ]
  },
  {
   "cell_type": "markdown",
   "metadata": {},
   "source": [
    "and the statuses with"
   ]
  },
  {
   "cell_type": "code",
   "execution_count": 5,
   "metadata": {},
   "outputs": [
    {
     "data": {
      "text/plain": [
       "2-element Array{Symbol,1}:\n",
       " :unique\n",
       " :unique"
      ]
     },
     "execution_count": 5,
     "metadata": {},
     "output_type": "execute_result"
    }
   ],
   "source": [
    "root_status.(rts)"
   ]
  },
  {
   "cell_type": "markdown",
   "metadata": {},
   "source": [
    "In some cases it is possible to do this over the *whole real line*:"
   ]
  },
  {
   "cell_type": "code",
   "execution_count": 6,
   "metadata": {},
   "outputs": [
    {
     "data": {
      "text/plain": [
       "2-element Array{Root{Interval{Float64}},1}:\n",
       " Root([1.41421, 1.41422], :unique)\n",
       " Root([-1.41422, -1.41421], :unique)"
      ]
     },
     "execution_count": 6,
     "metadata": {},
     "output_type": "execute_result"
    }
   ],
   "source": [
    " rts = roots(x -> x^2 - 2, -∞..∞)   # \\infty<TAB>"
   ]
  },
  {
   "cell_type": "code",
   "execution_count": 7,
   "metadata": {},
   "outputs": [
    {
     "data": {
      "text/plain": [
       "2-element Array{Root{Interval{Float64}},1}:\n",
       " Root([1.41421, 1.41422], :unique)\n",
       " Root([-1.41422, -1.41421], :unique)"
      ]
     },
     "execution_count": 7,
     "metadata": {},
     "output_type": "execute_result"
    }
   ],
   "source": [
    " rts = roots(x -> x^2 - 2, entireinterval())   # \\infty<TAB>"
   ]
  },
  {
   "cell_type": "markdown",
   "metadata": {},
   "source": [
    "This is possible since it can exclude the regions \"at infinity\", as we saw in notebook 2."
   ]
  },
  {
   "cell_type": "markdown",
   "metadata": {},
   "source": [
    "The roots are located in intervals of width"
   ]
  },
  {
   "cell_type": "code",
   "execution_count": null,
   "metadata": {},
   "outputs": [],
   "source": [
    "diam.(interval.(rts))"
   ]
  },
  {
   "cell_type": "markdown",
   "metadata": {},
   "source": [
    "We can modify the tolerance to get more precise results:"
   ]
  },
  {
   "cell_type": "code",
   "execution_count": null,
   "metadata": {},
   "outputs": [],
   "source": [
    " rts = roots(x -> x^2 - 2, -∞..∞, Newton, 1e-10)   # \\infty<TAB>"
   ]
  },
  {
   "cell_type": "code",
   "execution_count": null,
   "metadata": {},
   "outputs": [],
   "source": [
    "diam.(interval.(rts))"
   ]
  },
  {
   "cell_type": "markdown",
   "metadata": {},
   "source": [
    "And we can use `BigFloat`s to refine the results:"
   ]
  },
  {
   "cell_type": "code",
   "execution_count": null,
   "metadata": {},
   "outputs": [],
   "source": [
    " rts2 = roots(x -> x^2 - 2, big.(rts), Newton, 1e-50)   # \\infty<TAB>"
   ]
  },
  {
   "cell_type": "code",
   "execution_count": null,
   "metadata": {},
   "outputs": [],
   "source": [
    "diam.(interval.(rts2))"
   ]
  },
  {
   "cell_type": "markdown",
   "metadata": {},
   "source": [
    "The ability to use infinite intervals depends on the function; for example, the following currently hangs (which should be fixed) since it is unable to exclude regions at infinity:"
   ]
  },
  {
   "cell_type": "code",
   "execution_count": null,
   "metadata": {},
   "outputs": [],
   "source": [
    " # rts = roots(x -> x^2 - 2x, -∞..∞)   # HANGS!"
   ]
  },
  {
   "cell_type": "markdown",
   "metadata": {},
   "source": [
    "It is not clear (to me) how to robustly exclude regions at infinity, especially for functions in more dimensions."
   ]
  },
  {
   "cell_type": "markdown",
   "metadata": {},
   "source": [
    "What happens for complicated functions? For example, $x \\mapsto \\sin(1/x)$ has an *infinite* number of roots converging to $0$:"
   ]
  },
  {
   "cell_type": "code",
   "execution_count": 9,
   "metadata": {},
   "outputs": [
    {
     "data": {
      "text/plain": [
       "424-element Array{Root{Interval{Float64}},1}:\n",
       " Root([0.000214991, 0.000222211], :unknown)\n",
       " Root([0.000341073, 0.000348071], :unknown)\n",
       " Root([0.00156501, 0.00157236], :unknown)\n",
       " Root([0.00423739, 0.00424437], :unknown)\n",
       " Root([0.000524354, 0.000531462], :unknown)\n",
       " Root([0.00454715, 0.00455238], :unique)\n",
       " Root([0.019894, 0.0198945], :unique)\n",
       " Root([0.00131398, 0.00132121], :unknown)\n",
       " Root([0.000801472, 0.000808581], :unknown)\n",
       " Root([0.00111405, 0.00112128], :unknown)\n",
       " Root([0.000958444, 0.000965334], :unknown)\n",
       " Root([0.00122778, 0.00123501], :unknown)\n",
       " Root([0.000951337, 0.000958445], :unknown)\n",
       " ⋮\n",
       " Root([0.000130797, 0.000137796], :unknown)\n",
       " Root([0.000426148, 0.000433368], :unknown)\n",
       " Root([0.000390608, 0.000397606], :unknown)\n",
       " Root([0.000383388, 0.000390609], :unknown)\n",
       " Root([0.00103575, 0.00104287], :unknown)\n",
       " Root([0.00289362, 0.00289383], :unknown)\n",
       " Root([0.000158678, 0.000165787], :unknown)\n",
       " Root([0.00481931, 0.00482299], :unique)\n",
       " Root([0.000144684, 0.000151682], :unknown)\n",
       " Root([0.0795774, 0.0795775], :unique)\n",
       " Root([0.00108539, 0.00109251], :unknown)\n",
       " Root([0.00636608, 0.00637067], :unique)"
      ]
     },
     "execution_count": 9,
     "metadata": {},
     "output_type": "execute_result"
    }
   ],
   "source": [
    "f(x) = sin(1 / x)\n",
    "\n",
    "rts = roots(f, 0..1, Newton, 1e-5)"
   ]
  },
  {
   "cell_type": "markdown",
   "metadata": {},
   "source": [
    "Let's plot the function and the roots that it has isolated:"
   ]
  },
  {
   "cell_type": "code",
   "execution_count": 10,
   "metadata": {},
   "outputs": [],
   "source": [
    "using Plots"
   ]
  },
  {
   "cell_type": "code",
   "execution_count": 11,
   "metadata": {},
   "outputs": [
    {
     "data": {
      "text/plain": [
       "114"
      ]
     },
     "execution_count": 11,
     "metadata": {},
     "output_type": "execute_result"
    }
   ],
   "source": [
    "unique_roots = interval.(rts)[isunique.(rts)];\n",
    "\n",
    "length(unique_roots)"
   ]
  },
  {
   "cell_type": "code",
   "execution_count": 12,
   "metadata": {},
   "outputs": [
    {
     "data": {
      "image/svg+xml": [
       "<?xml version=\"1.0\" encoding=\"utf-8\"?>\n",
       "<svg xmlns=\"http://www.w3.org/2000/svg\" xmlns:xlink=\"http://www.w3.org/1999/xlink\" width=\"600\" height=\"400\" viewBox=\"0 0 2400 1600\">\n",
       "<defs>\n",
       "  <clipPath id=\"clip010\">\n",
       "    <rect x=\"0\" y=\"0\" width=\"2400\" height=\"1600\"/>\n",
       "  </clipPath>\n",
       "</defs>\n",
       "<path clip-path=\"url(#clip010)\" d=\"\n",
       "M0 1600 L2400 1600 L2400 0 L0 0  Z\n",
       "  \" fill=\"#ffffff\" fill-rule=\"evenodd\" fill-opacity=\"1\"/>\n",
       "<defs>\n",
       "  <clipPath id=\"clip011\">\n",
       "    <rect x=\"480\" y=\"0\" width=\"1681\" height=\"1600\"/>\n",
       "  </clipPath>\n",
       "</defs>\n",
       "<path clip-path=\"url(#clip010)\" d=\"\n",
       "M162.455 1486.45 L2352.76 1486.45 L2352.76 47.2441 L162.455 47.2441  Z\n",
       "  \" fill=\"#ffffff\" fill-rule=\"evenodd\" fill-opacity=\"1\"/>\n",
       "<defs>\n",
       "  <clipPath id=\"clip012\">\n",
       "    <rect x=\"162\" y=\"47\" width=\"2191\" height=\"1440\"/>\n",
       "  </clipPath>\n",
       "</defs>\n",
       "<polyline clip-path=\"url(#clip012)\" style=\"stroke:#000000; stroke-width:2; stroke-opacity:0.1; fill:none\" points=\"\n",
       "  224.444,1486.45 224.444,47.2441 \n",
       "  \"/>\n",
       "<polyline clip-path=\"url(#clip012)\" style=\"stroke:#000000; stroke-width:2; stroke-opacity:0.1; fill:none\" points=\"\n",
       "  741.025,1486.45 741.025,47.2441 \n",
       "  \"/>\n",
       "<polyline clip-path=\"url(#clip012)\" style=\"stroke:#000000; stroke-width:2; stroke-opacity:0.1; fill:none\" points=\"\n",
       "  1257.61,1486.45 1257.61,47.2441 \n",
       "  \"/>\n",
       "<polyline clip-path=\"url(#clip012)\" style=\"stroke:#000000; stroke-width:2; stroke-opacity:0.1; fill:none\" points=\"\n",
       "  1774.19,1486.45 1774.19,47.2441 \n",
       "  \"/>\n",
       "<polyline clip-path=\"url(#clip012)\" style=\"stroke:#000000; stroke-width:2; stroke-opacity:0.1; fill:none\" points=\"\n",
       "  2290.77,1486.45 2290.77,47.2441 \n",
       "  \"/>\n",
       "<polyline clip-path=\"url(#clip012)\" style=\"stroke:#000000; stroke-width:2; stroke-opacity:0.1; fill:none\" points=\"\n",
       "  162.455,1445.73 2352.76,1445.73 \n",
       "  \"/>\n",
       "<polyline clip-path=\"url(#clip012)\" style=\"stroke:#000000; stroke-width:2; stroke-opacity:0.1; fill:none\" points=\"\n",
       "  162.455,1106.29 2352.76,1106.29 \n",
       "  \"/>\n",
       "<polyline clip-path=\"url(#clip012)\" style=\"stroke:#000000; stroke-width:2; stroke-opacity:0.1; fill:none\" points=\"\n",
       "  162.455,766.85 2352.76,766.85 \n",
       "  \"/>\n",
       "<polyline clip-path=\"url(#clip012)\" style=\"stroke:#000000; stroke-width:2; stroke-opacity:0.1; fill:none\" points=\"\n",
       "  162.455,427.411 2352.76,427.411 \n",
       "  \"/>\n",
       "<polyline clip-path=\"url(#clip012)\" style=\"stroke:#000000; stroke-width:2; stroke-opacity:0.1; fill:none\" points=\"\n",
       "  162.455,87.9713 2352.76,87.9713 \n",
       "  \"/>\n",
       "<polyline clip-path=\"url(#clip010)\" style=\"stroke:#000000; stroke-width:4; stroke-opacity:1; fill:none\" points=\"\n",
       "  162.455,1486.45 2352.76,1486.45 \n",
       "  \"/>\n",
       "<polyline clip-path=\"url(#clip010)\" style=\"stroke:#000000; stroke-width:4; stroke-opacity:1; fill:none\" points=\"\n",
       "  162.455,1486.45 162.455,47.2441 \n",
       "  \"/>\n",
       "<polyline clip-path=\"url(#clip010)\" style=\"stroke:#000000; stroke-width:4; stroke-opacity:1; fill:none\" points=\"\n",
       "  224.444,1486.45 224.444,1469.18 \n",
       "  \"/>\n",
       "<polyline clip-path=\"url(#clip010)\" style=\"stroke:#000000; stroke-width:4; stroke-opacity:1; fill:none\" points=\"\n",
       "  741.025,1486.45 741.025,1469.18 \n",
       "  \"/>\n",
       "<polyline clip-path=\"url(#clip010)\" style=\"stroke:#000000; stroke-width:4; stroke-opacity:1; fill:none\" points=\"\n",
       "  1257.61,1486.45 1257.61,1469.18 \n",
       "  \"/>\n",
       "<polyline clip-path=\"url(#clip010)\" style=\"stroke:#000000; stroke-width:4; stroke-opacity:1; fill:none\" points=\"\n",
       "  1774.19,1486.45 1774.19,1469.18 \n",
       "  \"/>\n",
       "<polyline clip-path=\"url(#clip010)\" style=\"stroke:#000000; stroke-width:4; stroke-opacity:1; fill:none\" points=\"\n",
       "  2290.77,1486.45 2290.77,1469.18 \n",
       "  \"/>\n",
       "<polyline clip-path=\"url(#clip010)\" style=\"stroke:#000000; stroke-width:4; stroke-opacity:1; fill:none\" points=\"\n",
       "  162.455,1445.73 188.738,1445.73 \n",
       "  \"/>\n",
       "<polyline clip-path=\"url(#clip010)\" style=\"stroke:#000000; stroke-width:4; stroke-opacity:1; fill:none\" points=\"\n",
       "  162.455,1106.29 188.738,1106.29 \n",
       "  \"/>\n",
       "<polyline clip-path=\"url(#clip010)\" style=\"stroke:#000000; stroke-width:4; stroke-opacity:1; fill:none\" points=\"\n",
       "  162.455,766.85 188.738,766.85 \n",
       "  \"/>\n",
       "<polyline clip-path=\"url(#clip010)\" style=\"stroke:#000000; stroke-width:4; stroke-opacity:1; fill:none\" points=\"\n",
       "  162.455,427.411 188.738,427.411 \n",
       "  \"/>\n",
       "<polyline clip-path=\"url(#clip010)\" style=\"stroke:#000000; stroke-width:4; stroke-opacity:1; fill:none\" points=\"\n",
       "  162.455,87.9713 188.738,87.9713 \n",
       "  \"/>\n",
       "<path clip-path=\"url(#clip010)\" d=\"M 0 0 M192.454 1508.44 Q188.843 1508.44 187.014 1512 Q185.208 1515.55 185.208 1522.67 Q185.208 1529.78 187.014 1533.35 Q188.843 1536.89 192.454 1536.89 Q196.088 1536.89 197.894 1533.35 Q199.722 1529.78 199.722 1522.67 Q199.722 1515.55 197.894 1512 Q196.088 1508.44 192.454 1508.44 M192.454 1504.73 Q198.264 1504.73 201.319 1509.34 Q204.398 1513.92 204.398 1522.67 Q204.398 1531.4 201.319 1536.01 Q198.264 1540.59 192.454 1540.59 Q186.644 1540.59 183.565 1536.01 Q180.509 1531.4 180.509 1522.67 Q180.509 1513.92 183.565 1509.34 Q186.644 1504.73 192.454 1504.73 Z\" fill=\"#000000\" fill-rule=\"evenodd\" fill-opacity=\"1\" /><path clip-path=\"url(#clip010)\" d=\"M 0 0 M209.468 1534.04 L214.352 1534.04 L214.352 1539.92 L209.468 1539.92 L209.468 1534.04 Z\" fill=\"#000000\" fill-rule=\"evenodd\" fill-opacity=\"1\" /><path clip-path=\"url(#clip010)\" d=\"M 0 0 M229.421 1508.44 Q225.81 1508.44 223.981 1512 Q222.176 1515.55 222.176 1522.67 Q222.176 1529.78 223.981 1533.35 Q225.81 1536.89 229.421 1536.89 Q233.055 1536.89 234.861 1533.35 Q236.69 1529.78 236.69 1522.67 Q236.69 1515.55 234.861 1512 Q233.055 1508.44 229.421 1508.44 M229.421 1504.73 Q235.231 1504.73 238.287 1509.34 Q241.366 1513.92 241.366 1522.67 Q241.366 1531.4 238.287 1536.01 Q235.231 1540.59 229.421 1540.59 Q223.611 1540.59 220.532 1536.01 Q217.477 1531.4 217.477 1522.67 Q217.477 1513.92 220.532 1509.34 Q223.611 1504.73 229.421 1504.73 Z\" fill=\"#000000\" fill-rule=\"evenodd\" fill-opacity=\"1\" /><path clip-path=\"url(#clip010)\" d=\"M 0 0 M256.435 1508.44 Q252.824 1508.44 250.995 1512 Q249.19 1515.55 249.19 1522.67 Q249.19 1529.78 250.995 1533.35 Q252.824 1536.89 256.435 1536.89 Q260.069 1536.89 261.875 1533.35 Q263.703 1529.78 263.703 1522.67 Q263.703 1515.55 261.875 1512 Q260.069 1508.44 256.435 1508.44 M256.435 1504.73 Q262.245 1504.73 265.301 1509.34 Q268.379 1513.92 268.379 1522.67 Q268.379 1531.4 265.301 1536.01 Q262.245 1540.59 256.435 1540.59 Q250.625 1540.59 247.546 1536.01 Q244.491 1531.4 244.491 1522.67 Q244.491 1513.92 247.546 1509.34 Q250.625 1504.73 256.435 1504.73 Z\" fill=\"#000000\" fill-rule=\"evenodd\" fill-opacity=\"1\" /><path clip-path=\"url(#clip010)\" d=\"M 0 0 M710.331 1508.44 Q706.719 1508.44 704.891 1512 Q703.085 1515.55 703.085 1522.67 Q703.085 1529.78 704.891 1533.35 Q706.719 1536.89 710.331 1536.89 Q713.965 1536.89 715.77 1533.35 Q717.599 1529.78 717.599 1522.67 Q717.599 1515.55 715.77 1512 Q713.965 1508.44 710.331 1508.44 M710.331 1504.73 Q716.141 1504.73 719.196 1509.34 Q722.275 1513.92 722.275 1522.67 Q722.275 1531.4 719.196 1536.01 Q716.141 1540.59 710.331 1540.59 Q704.52 1540.59 701.442 1536.01 Q698.386 1531.4 698.386 1522.67 Q698.386 1513.92 701.442 1509.34 Q704.52 1504.73 710.331 1504.73 Z\" fill=\"#000000\" fill-rule=\"evenodd\" fill-opacity=\"1\" /><path clip-path=\"url(#clip010)\" d=\"M 0 0 M727.344 1534.04 L732.229 1534.04 L732.229 1539.92 L727.344 1539.92 L727.344 1534.04 Z\" fill=\"#000000\" fill-rule=\"evenodd\" fill-opacity=\"1\" /><path clip-path=\"url(#clip010)\" d=\"M 0 0 M741.326 1535.98 L757.645 1535.98 L757.645 1539.92 L735.701 1539.92 L735.701 1535.98 Q738.363 1533.23 742.946 1528.6 Q747.553 1523.95 748.733 1522.61 Q750.978 1520.08 751.858 1518.35 Q752.761 1516.59 752.761 1514.9 Q752.761 1512.14 750.816 1510.41 Q748.895 1508.67 745.793 1508.67 Q743.594 1508.67 741.141 1509.43 Q738.71 1510.2 735.932 1511.75 L735.932 1507.03 Q738.756 1505.89 741.21 1505.31 Q743.664 1504.73 745.701 1504.73 Q751.071 1504.73 754.265 1507.42 Q757.46 1510.11 757.46 1514.6 Q757.46 1516.73 756.65 1518.65 Q755.863 1520.54 753.756 1523.14 Q753.178 1523.81 750.076 1527.03 Q746.974 1530.22 741.326 1535.98 Z\" fill=\"#000000\" fill-rule=\"evenodd\" fill-opacity=\"1\" /><path clip-path=\"url(#clip010)\" d=\"M 0 0 M762.761 1505.36 L781.117 1505.36 L781.117 1509.3 L767.043 1509.3 L767.043 1517.77 Q768.062 1517.42 769.08 1517.26 Q770.099 1517.07 771.117 1517.07 Q776.904 1517.07 780.284 1520.24 Q783.663 1523.42 783.663 1528.83 Q783.663 1534.41 780.191 1537.51 Q776.719 1540.59 770.4 1540.59 Q768.224 1540.59 765.955 1540.22 Q763.71 1539.85 761.302 1539.11 L761.302 1534.41 Q763.386 1535.54 765.608 1536.1 Q767.83 1536.66 770.307 1536.66 Q774.312 1536.66 776.65 1534.55 Q778.988 1532.44 778.988 1528.83 Q778.988 1525.22 776.65 1523.11 Q774.312 1521.01 770.307 1521.01 Q768.432 1521.01 766.557 1521.42 Q764.705 1521.84 762.761 1522.72 L762.761 1505.36 Z\" fill=\"#000000\" fill-rule=\"evenodd\" fill-opacity=\"1\" /><path clip-path=\"url(#clip010)\" d=\"M 0 0 M1226.11 1508.44 Q1222.5 1508.44 1220.67 1512 Q1218.87 1515.55 1218.87 1522.67 Q1218.87 1529.78 1220.67 1533.35 Q1222.5 1536.89 1226.11 1536.89 Q1229.75 1536.89 1231.55 1533.35 Q1233.38 1529.78 1233.38 1522.67 Q1233.38 1515.55 1231.55 1512 Q1229.75 1508.44 1226.11 1508.44 M1226.11 1504.73 Q1231.92 1504.73 1234.98 1509.34 Q1238.06 1513.92 1238.06 1522.67 Q1238.06 1531.4 1234.98 1536.01 Q1231.92 1540.59 1226.11 1540.59 Q1220.3 1540.59 1217.22 1536.01 Q1214.17 1531.4 1214.17 1522.67 Q1214.17 1513.92 1217.22 1509.34 Q1220.3 1504.73 1226.11 1504.73 Z\" fill=\"#000000\" fill-rule=\"evenodd\" fill-opacity=\"1\" /><path clip-path=\"url(#clip010)\" d=\"M 0 0 M1243.13 1534.04 L1248.01 1534.04 L1248.01 1539.92 L1243.13 1539.92 L1243.13 1534.04 Z\" fill=\"#000000\" fill-rule=\"evenodd\" fill-opacity=\"1\" /><path clip-path=\"url(#clip010)\" d=\"M 0 0 M1253.13 1505.36 L1271.48 1505.36 L1271.48 1509.3 L1257.41 1509.3 L1257.41 1517.77 Q1258.43 1517.42 1259.45 1517.26 Q1260.46 1517.07 1261.48 1517.07 Q1267.27 1517.07 1270.65 1520.24 Q1274.03 1523.42 1274.03 1528.83 Q1274.03 1534.41 1270.56 1537.51 Q1267.08 1540.59 1260.77 1540.59 Q1258.59 1540.59 1256.32 1540.22 Q1254.08 1539.85 1251.67 1539.11 L1251.67 1534.41 Q1253.75 1535.54 1255.97 1536.1 Q1258.2 1536.66 1260.67 1536.66 Q1264.68 1536.66 1267.01 1534.55 Q1269.35 1532.44 1269.35 1528.83 Q1269.35 1525.22 1267.01 1523.11 Q1264.68 1521.01 1260.67 1521.01 Q1258.8 1521.01 1256.92 1521.42 Q1255.07 1521.84 1253.13 1522.72 L1253.13 1505.36 Z\" fill=\"#000000\" fill-rule=\"evenodd\" fill-opacity=\"1\" /><path clip-path=\"url(#clip010)\" d=\"M 0 0 M1289.1 1508.44 Q1285.49 1508.44 1283.66 1512 Q1281.85 1515.55 1281.85 1522.67 Q1281.85 1529.78 1283.66 1533.35 Q1285.49 1536.89 1289.1 1536.89 Q1292.73 1536.89 1294.54 1533.35 Q1296.37 1529.78 1296.37 1522.67 Q1296.37 1515.55 1294.54 1512 Q1292.73 1508.44 1289.1 1508.44 M1289.1 1504.73 Q1294.91 1504.73 1297.96 1509.34 Q1301.04 1513.92 1301.04 1522.67 Q1301.04 1531.4 1297.96 1536.01 Q1294.91 1540.59 1289.1 1540.59 Q1283.29 1540.59 1280.21 1536.01 Q1277.15 1531.4 1277.15 1522.67 Q1277.15 1513.92 1280.21 1509.34 Q1283.29 1504.73 1289.1 1504.73 Z\" fill=\"#000000\" fill-rule=\"evenodd\" fill-opacity=\"1\" /><path clip-path=\"url(#clip010)\" d=\"M 0 0 M1743.14 1508.44 Q1739.53 1508.44 1737.7 1512 Q1735.9 1515.55 1735.9 1522.67 Q1735.9 1529.78 1737.7 1533.35 Q1739.53 1536.89 1743.14 1536.89 Q1746.78 1536.89 1748.58 1533.35 Q1750.41 1529.78 1750.41 1522.67 Q1750.41 1515.55 1748.58 1512 Q1746.78 1508.44 1743.14 1508.44 M1743.14 1504.73 Q1748.95 1504.73 1752.01 1509.34 Q1755.09 1513.92 1755.09 1522.67 Q1755.09 1531.4 1752.01 1536.01 Q1748.95 1540.59 1743.14 1540.59 Q1737.33 1540.59 1734.26 1536.01 Q1731.2 1531.4 1731.2 1522.67 Q1731.2 1513.92 1734.26 1509.34 Q1737.33 1504.73 1743.14 1504.73 Z\" fill=\"#000000\" fill-rule=\"evenodd\" fill-opacity=\"1\" /><path clip-path=\"url(#clip010)\" d=\"M 0 0 M1760.16 1534.04 L1765.04 1534.04 L1765.04 1539.92 L1760.16 1539.92 L1760.16 1534.04 Z\" fill=\"#000000\" fill-rule=\"evenodd\" fill-opacity=\"1\" /><path clip-path=\"url(#clip010)\" d=\"M 0 0 M1768.93 1505.36 L1791.15 1505.36 L1791.15 1507.35 L1778.61 1539.92 L1773.72 1539.92 L1785.53 1509.3 L1768.93 1509.3 L1768.93 1505.36 Z\" fill=\"#000000\" fill-rule=\"evenodd\" fill-opacity=\"1\" /><path clip-path=\"url(#clip010)\" d=\"M 0 0 M1796.27 1505.36 L1814.63 1505.36 L1814.63 1509.3 L1800.55 1509.3 L1800.55 1517.77 Q1801.57 1517.42 1802.59 1517.26 Q1803.61 1517.07 1804.63 1517.07 Q1810.41 1517.07 1813.79 1520.24 Q1817.17 1523.42 1817.17 1528.83 Q1817.17 1534.41 1813.7 1537.51 Q1810.23 1540.59 1803.91 1540.59 Q1801.73 1540.59 1799.46 1540.22 Q1797.22 1539.85 1794.81 1539.11 L1794.81 1534.41 Q1796.89 1535.54 1799.12 1536.1 Q1801.34 1536.66 1803.82 1536.66 Q1807.82 1536.66 1810.16 1534.55 Q1812.5 1532.44 1812.5 1528.83 Q1812.5 1525.22 1810.16 1523.11 Q1807.82 1521.01 1803.82 1521.01 Q1801.94 1521.01 1800.07 1521.42 Q1798.21 1521.84 1796.27 1522.72 L1796.27 1505.36 Z\" fill=\"#000000\" fill-rule=\"evenodd\" fill-opacity=\"1\" /><path clip-path=\"url(#clip010)\" d=\"M 0 0 M2249.16 1535.98 L2256.8 1535.98 L2256.8 1509.62 L2248.49 1511.29 L2248.49 1507.03 L2256.75 1505.36 L2261.43 1505.36 L2261.43 1535.98 L2269.06 1535.98 L2269.06 1539.92 L2249.16 1539.92 L2249.16 1535.98 Z\" fill=\"#000000\" fill-rule=\"evenodd\" fill-opacity=\"1\" /><path clip-path=\"url(#clip010)\" d=\"M 0 0 M2274.13 1534.04 L2279.02 1534.04 L2279.02 1539.92 L2274.13 1539.92 L2274.13 1534.04 Z\" fill=\"#000000\" fill-rule=\"evenodd\" fill-opacity=\"1\" /><path clip-path=\"url(#clip010)\" d=\"M 0 0 M2294.09 1508.44 Q2290.48 1508.44 2288.65 1512 Q2286.84 1515.55 2286.84 1522.67 Q2286.84 1529.78 2288.65 1533.35 Q2290.48 1536.89 2294.09 1536.89 Q2297.72 1536.89 2299.53 1533.35 Q2301.36 1529.78 2301.36 1522.67 Q2301.36 1515.55 2299.53 1512 Q2297.72 1508.44 2294.09 1508.44 M2294.09 1504.73 Q2299.9 1504.73 2302.95 1509.34 Q2306.03 1513.92 2306.03 1522.67 Q2306.03 1531.4 2302.95 1536.01 Q2299.9 1540.59 2294.09 1540.59 Q2288.28 1540.59 2285.2 1536.01 Q2282.14 1531.4 2282.14 1522.67 Q2282.14 1513.92 2285.2 1509.34 Q2288.28 1504.73 2294.09 1504.73 Z\" fill=\"#000000\" fill-rule=\"evenodd\" fill-opacity=\"1\" /><path clip-path=\"url(#clip010)\" d=\"M 0 0 M2321.1 1508.44 Q2317.49 1508.44 2315.66 1512 Q2313.86 1515.55 2313.86 1522.67 Q2313.86 1529.78 2315.66 1533.35 Q2317.49 1536.89 2321.1 1536.89 Q2324.74 1536.89 2326.54 1533.35 Q2328.37 1529.78 2328.37 1522.67 Q2328.37 1515.55 2326.54 1512 Q2324.74 1508.44 2321.1 1508.44 M2321.1 1504.73 Q2326.91 1504.73 2329.97 1509.34 Q2333.05 1513.92 2333.05 1522.67 Q2333.05 1531.4 2329.97 1536.01 Q2326.91 1540.59 2321.1 1540.59 Q2315.29 1540.59 2312.21 1536.01 Q2309.16 1531.4 2309.16 1522.67 Q2309.16 1513.92 2312.21 1509.34 Q2315.29 1504.73 2321.1 1504.73 Z\" fill=\"#000000\" fill-rule=\"evenodd\" fill-opacity=\"1\" /><path clip-path=\"url(#clip010)\" d=\"M 0 0 M63.2236 1448.12 L75.7004 1448.12 L75.7004 1451.92 L63.2236 1451.92 L63.2236 1448.12 Z\" fill=\"#000000\" fill-rule=\"evenodd\" fill-opacity=\"1\" /><path clip-path=\"url(#clip010)\" d=\"M 0 0 M81.58 1459.07 L89.2188 1459.07 L89.2188 1432.71 L80.9087 1434.37 L80.9087 1430.12 L89.1725 1428.45 L93.8484 1428.45 L93.8484 1459.07 L101.487 1459.07 L101.487 1463.01 L81.58 1463.01 L81.58 1459.07 Z\" fill=\"#000000\" fill-rule=\"evenodd\" fill-opacity=\"1\" /><path clip-path=\"url(#clip010)\" d=\"M 0 0 M106.557 1457.13 L111.441 1457.13 L111.441 1463.01 L106.557 1463.01 L106.557 1457.13 Z\" fill=\"#000000\" fill-rule=\"evenodd\" fill-opacity=\"1\" /><path clip-path=\"url(#clip010)\" d=\"M 0 0 M126.51 1431.53 Q122.899 1431.53 121.071 1435.09 Q119.265 1438.63 119.265 1445.76 Q119.265 1452.87 121.071 1456.43 Q122.899 1459.98 126.51 1459.98 Q130.145 1459.98 131.95 1456.43 Q133.779 1452.87 133.779 1445.76 Q133.779 1438.63 131.95 1435.09 Q130.145 1431.53 126.51 1431.53 M126.51 1427.82 Q132.32 1427.82 135.376 1432.43 Q138.455 1437.01 138.455 1445.76 Q138.455 1454.49 135.376 1459.1 Q132.32 1463.68 126.51 1463.68 Q120.7 1463.68 117.621 1459.1 Q114.566 1454.49 114.566 1445.76 Q114.566 1437.01 117.621 1432.43 Q120.7 1427.82 126.51 1427.82 Z\" fill=\"#000000\" fill-rule=\"evenodd\" fill-opacity=\"1\" /><path clip-path=\"url(#clip010)\" d=\"M 0 0 M62.9921 1108.69 L75.4689 1108.69 L75.4689 1112.48 L62.9921 1112.48 L62.9921 1108.69 Z\" fill=\"#000000\" fill-rule=\"evenodd\" fill-opacity=\"1\" /><path clip-path=\"url(#clip010)\" d=\"M 0 0 M90.5383 1092.09 Q86.9272 1092.09 85.0985 1095.65 Q83.2929 1099.19 83.2929 1106.32 Q83.2929 1113.43 85.0985 1117 Q86.9272 1120.54 90.5383 1120.54 Q94.1725 1120.54 95.9781 1117 Q97.8068 1113.43 97.8068 1106.32 Q97.8068 1099.19 95.9781 1095.65 Q94.1725 1092.09 90.5383 1092.09 M90.5383 1088.38 Q96.3484 1088.38 99.404 1092.99 Q102.483 1097.57 102.483 1106.32 Q102.483 1115.05 99.404 1119.66 Q96.3484 1124.24 90.5383 1124.24 Q84.7281 1124.24 81.6494 1119.66 Q78.5939 1115.05 78.5939 1106.32 Q78.5939 1097.57 81.6494 1092.99 Q84.7281 1088.38 90.5383 1088.38 Z\" fill=\"#000000\" fill-rule=\"evenodd\" fill-opacity=\"1\" /><path clip-path=\"url(#clip010)\" d=\"M 0 0 M107.552 1117.69 L112.436 1117.69 L112.436 1123.57 L107.552 1123.57 L107.552 1117.69 Z\" fill=\"#000000\" fill-rule=\"evenodd\" fill-opacity=\"1\" /><path clip-path=\"url(#clip010)\" d=\"M 0 0 M117.552 1089.01 L135.908 1089.01 L135.908 1092.94 L121.834 1092.94 L121.834 1101.42 Q122.853 1101.07 123.871 1100.91 Q124.89 1100.72 125.908 1100.72 Q131.695 1100.72 135.075 1103.89 Q138.455 1107.07 138.455 1112.48 Q138.455 1118.06 134.982 1121.16 Q131.51 1124.24 125.191 1124.24 Q123.015 1124.24 120.746 1123.87 Q118.501 1123.5 116.094 1122.76 L116.094 1118.06 Q118.177 1119.19 120.399 1119.75 Q122.621 1120.31 125.098 1120.31 Q129.103 1120.31 131.441 1118.2 Q133.779 1116.09 133.779 1112.48 Q133.779 1108.87 131.441 1106.76 Q129.103 1104.66 125.098 1104.66 Q123.223 1104.66 121.348 1105.07 Q119.496 1105.49 117.552 1106.37 L117.552 1089.01 Z\" fill=\"#000000\" fill-rule=\"evenodd\" fill-opacity=\"1\" /><path clip-path=\"url(#clip010)\" d=\"M 0 0 M89.5429 752.649 Q85.9318 752.649 84.1031 756.214 Q82.2976 759.755 82.2976 766.885 Q82.2976 773.991 84.1031 777.556 Q85.9318 781.098 89.5429 781.098 Q93.1771 781.098 94.9827 777.556 Q96.8114 773.991 96.8114 766.885 Q96.8114 759.755 94.9827 756.214 Q93.1771 752.649 89.5429 752.649 M89.5429 748.945 Q95.3531 748.945 98.4086 753.552 Q101.487 758.135 101.487 766.885 Q101.487 775.612 98.4086 780.218 Q95.3531 784.801 89.5429 784.801 Q83.7328 784.801 80.6541 780.218 Q77.5985 775.612 77.5985 766.885 Q77.5985 758.135 80.6541 753.552 Q83.7328 748.945 89.5429 748.945 Z\" fill=\"#000000\" fill-rule=\"evenodd\" fill-opacity=\"1\" /><path clip-path=\"url(#clip010)\" d=\"M 0 0 M106.557 778.251 L111.441 778.251 L111.441 784.13 L106.557 784.13 L106.557 778.251 Z\" fill=\"#000000\" fill-rule=\"evenodd\" fill-opacity=\"1\" /><path clip-path=\"url(#clip010)\" d=\"M 0 0 M126.51 752.649 Q122.899 752.649 121.071 756.214 Q119.265 759.755 119.265 766.885 Q119.265 773.991 121.071 777.556 Q122.899 781.098 126.51 781.098 Q130.145 781.098 131.95 777.556 Q133.779 773.991 133.779 766.885 Q133.779 759.755 131.95 756.214 Q130.145 752.649 126.51 752.649 M126.51 748.945 Q132.32 748.945 135.376 753.552 Q138.455 758.135 138.455 766.885 Q138.455 775.612 135.376 780.218 Q132.32 784.801 126.51 784.801 Q120.7 784.801 117.621 780.218 Q114.566 775.612 114.566 766.885 Q114.566 758.135 117.621 753.552 Q120.7 748.945 126.51 748.945 Z\" fill=\"#000000\" fill-rule=\"evenodd\" fill-opacity=\"1\" /><path clip-path=\"url(#clip010)\" d=\"M 0 0 M90.5383 413.209 Q86.9272 413.209 85.0985 416.774 Q83.2929 420.316 83.2929 427.445 Q83.2929 434.552 85.0985 438.117 Q86.9272 441.658 90.5383 441.658 Q94.1725 441.658 95.9781 438.117 Q97.8068 434.552 97.8068 427.445 Q97.8068 420.316 95.9781 416.774 Q94.1725 413.209 90.5383 413.209 M90.5383 409.506 Q96.3484 409.506 99.404 414.112 Q102.483 418.695 102.483 427.445 Q102.483 436.172 99.404 440.779 Q96.3484 445.362 90.5383 445.362 Q84.7281 445.362 81.6494 440.779 Q78.5939 436.172 78.5939 427.445 Q78.5939 418.695 81.6494 414.112 Q84.7281 409.506 90.5383 409.506 Z\" fill=\"#000000\" fill-rule=\"evenodd\" fill-opacity=\"1\" /><path clip-path=\"url(#clip010)\" d=\"M 0 0 M107.552 438.811 L112.436 438.811 L112.436 444.691 L107.552 444.691 L107.552 438.811 Z\" fill=\"#000000\" fill-rule=\"evenodd\" fill-opacity=\"1\" /><path clip-path=\"url(#clip010)\" d=\"M 0 0 M117.552 410.131 L135.908 410.131 L135.908 414.066 L121.834 414.066 L121.834 422.538 Q122.853 422.191 123.871 422.029 Q124.89 421.844 125.908 421.844 Q131.695 421.844 135.075 425.015 Q138.455 428.186 138.455 433.603 Q138.455 439.181 134.982 442.283 Q131.51 445.362 125.191 445.362 Q123.015 445.362 120.746 444.992 Q118.501 444.621 116.094 443.881 L116.094 439.181 Q118.177 440.316 120.399 440.871 Q122.621 441.427 125.098 441.427 Q129.103 441.427 131.441 439.32 Q133.779 437.214 133.779 433.603 Q133.779 429.992 131.441 427.885 Q129.103 425.779 125.098 425.779 Q123.223 425.779 121.348 426.195 Q119.496 426.612 117.552 427.492 L117.552 410.131 Z\" fill=\"#000000\" fill-rule=\"evenodd\" fill-opacity=\"1\" /><path clip-path=\"url(#clip010)\" d=\"M 0 0 M81.58 101.316 L89.2188 101.316 L89.2188 74.9505 L80.9087 76.6172 L80.9087 72.3579 L89.1725 70.6913 L93.8484 70.6913 L93.8484 101.316 L101.487 101.316 L101.487 105.251 L81.58 105.251 L81.58 101.316 Z\" fill=\"#000000\" fill-rule=\"evenodd\" fill-opacity=\"1\" /><path clip-path=\"url(#clip010)\" d=\"M 0 0 M106.557 99.3717 L111.441 99.3717 L111.441 105.251 L106.557 105.251 L106.557 99.3717 Z\" fill=\"#000000\" fill-rule=\"evenodd\" fill-opacity=\"1\" /><path clip-path=\"url(#clip010)\" d=\"M 0 0 M126.51 73.77 Q122.899 73.77 121.071 77.3348 Q119.265 80.8764 119.265 88.006 Q119.265 95.1124 121.071 98.6772 Q122.899 102.219 126.51 102.219 Q130.145 102.219 131.95 98.6772 Q133.779 95.1124 133.779 88.006 Q133.779 80.8764 131.95 77.3348 Q130.145 73.77 126.51 73.77 M126.51 70.0663 Q132.32 70.0663 135.376 74.6727 Q138.455 79.256 138.455 88.006 Q138.455 96.7328 135.376 101.339 Q132.32 105.923 126.51 105.923 Q120.7 105.923 117.621 101.339 Q114.566 96.7328 114.566 88.006 Q114.566 79.256 117.621 74.6727 Q120.7 70.0663 126.51 70.0663 Z\" fill=\"#000000\" fill-rule=\"evenodd\" fill-opacity=\"1\" /><polyline clip-path=\"url(#clip012)\" style=\"stroke:#009af9; stroke-width:4; stroke-opacity:1; fill:none\" points=\"\n",
       "  224.602,621.983 224.76,693.996 224.917,204.744 225.075,803.33 225.233,112.775 225.39,1366.56 225.548,745.998 225.706,1445.48 225.863,1432.41 226.021,1177.6 \n",
       "  226.179,1288.51 226.336,1348.6 226.494,615.309 226.651,756.423 226.809,481.863 226.967,293.305 227.124,1422.11 227.282,1196.98 227.44,1423.03 227.597,123.491 \n",
       "  227.755,182.431 227.913,1381.59 228.07,1408.63 228.228,1101.01 228.386,522.377 228.543,92.2673 228.701,89.4557 228.859,772.064 229.016,1047.33 229.174,912.753 \n",
       "  229.332,110.839 229.489,137.916 229.647,106.079 229.804,227.692 229.962,1169.25 230.12,995.226 230.277,299.964 230.435,1180.79 230.593,715.955 230.75,215.488 \n",
       "  230.908,1235.03 231.066,1356.51 231.223,819.791 231.381,402.616 231.539,233.89 231.696,214.063 231.854,313.777 232.012,594.083 232.169,1064.09 232.327,1434.25 \n",
       "  232.485,1156.75 232.642,314.573 232.8,241.424 232.957,1262.5 233.115,1064 233.273,87.9763 233.43,1155.78 233.588,910.33 233.746,234.408 233.903,1441.75 \n",
       "  234.061,124.874 234.219,1305.13 234.376,328.703 234.534,1145.91 234.692,392.939 234.849,1188.24 235.007,258.069 235.165,1375.51 235.322,92.1274 235.48,1411.85 \n",
       "  235.638,304.506 235.795,882.739 235.953,1078.13 236.111,136.193 236.268,1391.93 236.426,548.236 236.583,398.227 236.741,1445.25 236.899,387.017 237.056,457.021 \n",
       "  237.214,1445.56 237.372,514.726 237.529,263.462 237.687,1353.91 237.845,942.196 238.002,88.4883 238.16,862.907 238.318,1418.7 238.475,511.343 238.633,155.969 \n",
       "  238.791,1080.92 238.948,1370.35 239.106,479.634 239.264,132.777 239.421,942.88 239.579,1440.12 239.736,790.338 239.894,105.325 240.052,473.741 240.209,1289 \n",
       "  240.367,1325.45 240.525,562.411 240.682,88.0733 240.84,524.804 240.998,1270.42 241.155,1380.33 241.313,748.284 241.471,144.029 241.628,249.441 241.786,919.321 \n",
       "  241.944,1420.99 242.101,1247.81 242.259,600.003 242.417,119.308 242.574,245.323 242.732,838.999 242.89,1363.08 243.047,1377.91 243.205,892.8 243.362,313.496 \n",
       "  243.52,89.3237 243.678,372.519 243.835,937.218 243.993,1375.83 244.151,1395.31 244.308,1000.13 244.466,460.419 244.624,117.536 246.081,122.279 247.539,89.356 \n",
       "  248.997,348.727 250.455,1299.91 251.912,882.629 253.37,270.092 254.828,1373.88 256.285,168.599 257.743,1243.21 259.201,606.29 260.658,435.585 262.116,1440.23 \n",
       "  263.574,383.581 265.032,358.657 266.489,1377.91 267.947,1015.39 269.405,143.052 270.862,421.831 272.32,1264.26 273.778,1353.69 275.236,659.983 276.693,113.981 \n",
       "  278.151,291.781 279.609,929.263 281.066,1401.03 282.524,1345.24 283.982,867.423 285.44,339.584 286.897,91.3181 288.355,228.594 289.813,635.639 291.27,1089.36 \n",
       "  292.728,1387.92 294.186,1429.83 295.644,1228.29 297.101,878.426 298.559,506.08 300.017,221.824 301.474,92.963 302.932,135.612 304.39,322.33 305.848,598.199 \n",
       "  307.305,898.729 308.763,1164.95 310.221,1353.38 311.678,1440.42 313.136,1422.18 314.594,1311.02 316.052,1130.44 317.509,909.616 318.967,678.486 320.425,463.917 \n",
       "  321.882,287.184 323.34,162.692 324.798,97.7683 326.255,93.2441 327.713,144.562 329.171,243.144 330.629,377.821 332.086,536.177 333.544,705.696 335.002,874.686 \n",
       "  336.459,1032.93 337.917,1172.12 339.375,1286.03 340.833,1370.59 342.29,1423.72 343.748,1445.16 345.206,1436.17 346.663,1399.28 348.121,1337.91 349.579,1256.13 \n",
       "  351.037,1158.37 352.494,1049.16 353.952,932.997 355.41,814.102 356.867,696.36 358.325,583.209 359.783,477.592 361.241,381.93 362.698,298.116 364.156,227.533 \n",
       "  365.614,171.084 367.071,129.228 368.529,102.028 369.987,89.2016 371.445,90.1737 372.902,104.126 374.36,130.05 375.818,166.79 377.275,213.091 378.733,267.631 \n",
       "  380.191,329.065 381.648,396.045 383.106,467.253 384.564,541.415 387.479,693.856 390.395,844.702 393.31,986.772 396.226,1114.47 397.683,1171.61 399.141,1223.77 \n",
       "  400.599,1270.65 402.056,1312.05 403.514,1347.86 404.972,1378.01 406.43,1402.51 407.887,1421.4 409.345,1434.79 410.803,1442.84 412.26,1445.72 413.718,1443.64 \n",
       "  416.634,1425.61 419.549,1390.88 422.464,1341.79 425.38,1280.77 428.295,1210.22 431.211,1132.47 434.715,1032.59 438.219,928.957 441.723,824.643 445.227,722.278 \n",
       "  448.731,624.055 452.235,531.742 455.739,446.711 459.243,369.973 462.748,302.216 466.252,243.849 469.756,195.038 473.26,155.749 476.764,125.782 480.268,104.804 \n",
       "  483.772,92.3788 487.276,87.9918 490.78,91.0745 494.284,101.022 497.788,117.212 501.293,139.012 508.301,196.963 515.309,270.082 522.317,353.982 529.325,444.788 \n",
       "  536.333,539.176 543.342,634.375 555.192,791.125 567.043,936.035 572.968,1002.44 578.894,1064.29 584.819,1121.33 590.744,1173.43 596.67,1220.54 602.595,1262.7 \n",
       "  608.52,1299.98 614.446,1332.52 626.296,1384.04 638.147,1418.85 651.02,1439.86 663.893,1445.69 676.766,1438.69 689.64,1421.03 702.513,1394.71 715.386,1361.48 \n",
       "  728.259,1322.89 741.132,1280.26 788.604,1104.8 836.075,926.102 861.523,835.869 886.97,751.416 912.417,673.395 937.865,602.031 967.348,527.585 996.831,461.607 \n",
       "  1026.31,403.532 1055.8,352.713 1108.2,278.21 1160.6,220.885 1206.55,182.198 1252.51,152.38 1302.61,128.141 1352.71,110.897 1403.1,99.2225 1453.5,92.1063 \n",
       "  1564.95,88.2635 1670.98,94.8364 1781.23,107.998 1874.04,122.045 1987.35,141.214 2093.86,160.196 2264.51,190.919 2290.77,195.593 \n",
       "  \"/>\n",
       "<circle clip-path=\"url(#clip012)\" cx=\"233.846\" cy=\"766.85\" r=\"14\" fill=\"#e26f46\" fill-rule=\"evenodd\" fill-opacity=\"1\" stroke=\"#000000\" stroke-opacity=\"1\" stroke-width=\"3.2\"/>\n",
       "<circle clip-path=\"url(#clip012)\" cx=\"265.552\" cy=\"766.85\" r=\"14\" fill=\"#e26f46\" fill-rule=\"evenodd\" fill-opacity=\"1\" stroke=\"#000000\" stroke-opacity=\"1\" stroke-width=\"3.2\"/>\n",
       "<circle clip-path=\"url(#clip012)\" cx=\"250.759\" cy=\"766.85\" r=\"14\" fill=\"#e26f46\" fill-rule=\"evenodd\" fill-opacity=\"1\" stroke=\"#000000\" stroke-opacity=\"1\" stroke-width=\"3.2\"/>\n",
       "<circle clip-path=\"url(#clip012)\" cx=\"229.792\" cy=\"766.85\" r=\"14\" fill=\"#e26f46\" fill-rule=\"evenodd\" fill-opacity=\"1\" stroke=\"#000000\" stroke-opacity=\"1\" stroke-width=\"3.2\"/>\n",
       "<circle clip-path=\"url(#clip012)\" cx=\"228.634\" cy=\"766.85\" r=\"14\" fill=\"#e26f46\" fill-rule=\"evenodd\" fill-opacity=\"1\" stroke=\"#000000\" stroke-opacity=\"1\" stroke-width=\"3.2\"/>\n",
       "<circle clip-path=\"url(#clip012)\" cx=\"229.28\" cy=\"766.85\" r=\"14\" fill=\"#e26f46\" fill-rule=\"evenodd\" fill-opacity=\"1\" stroke=\"#000000\" stroke-opacity=\"1\" stroke-width=\"3.2\"/>\n",
       "<circle clip-path=\"url(#clip012)\" cx=\"239.389\" cy=\"766.85\" r=\"14\" fill=\"#e26f46\" fill-rule=\"evenodd\" fill-opacity=\"1\" stroke=\"#000000\" stroke-opacity=\"1\" stroke-width=\"3.2\"/>\n",
       "<circle clip-path=\"url(#clip012)\" cx=\"268.294\" cy=\"766.85\" r=\"14\" fill=\"#e26f46\" fill-rule=\"evenodd\" fill-opacity=\"1\" stroke=\"#000000\" stroke-opacity=\"1\" stroke-width=\"3.2\"/>\n",
       "<circle clip-path=\"url(#clip012)\" cx=\"253.046\" cy=\"766.85\" r=\"14\" fill=\"#e26f46\" fill-rule=\"evenodd\" fill-opacity=\"1\" stroke=\"#000000\" stroke-opacity=\"1\" stroke-width=\"3.2\"/>\n",
       "<circle clip-path=\"url(#clip012)\" cx=\"230.215\" cy=\"766.85\" r=\"14\" fill=\"#e26f46\" fill-rule=\"evenodd\" fill-opacity=\"1\" stroke=\"#000000\" stroke-opacity=\"1\" stroke-width=\"3.2\"/>\n",
       "<circle clip-path=\"url(#clip012)\" cx=\"882.175\" cy=\"766.85\" r=\"14\" fill=\"#e26f46\" fill-rule=\"evenodd\" fill-opacity=\"1\" stroke=\"#000000\" stroke-opacity=\"1\" stroke-width=\"3.2\"/>\n",
       "<circle clip-path=\"url(#clip012)\" cx=\"275.034\" cy=\"766.85\" r=\"14\" fill=\"#e26f46\" fill-rule=\"evenodd\" fill-opacity=\"1\" stroke=\"#000000\" stroke-opacity=\"1\" stroke-width=\"3.2\"/>\n",
       "<circle clip-path=\"url(#clip012)\" cx=\"229.972\" cy=\"766.85\" r=\"14\" fill=\"#e26f46\" fill-rule=\"evenodd\" fill-opacity=\"1\" stroke=\"#000000\" stroke-opacity=\"1\" stroke-width=\"3.2\"/>\n",
       "<circle clip-path=\"url(#clip012)\" cx=\"244.375\" cy=\"766.85\" r=\"14\" fill=\"#e26f46\" fill-rule=\"evenodd\" fill-opacity=\"1\" stroke=\"#000000\" stroke-opacity=\"1\" stroke-width=\"3.2\"/>\n",
       "<circle clip-path=\"url(#clip012)\" cx=\"236.193\" cy=\"766.85\" r=\"14\" fill=\"#e26f46\" fill-rule=\"evenodd\" fill-opacity=\"1\" stroke=\"#000000\" stroke-opacity=\"1\" stroke-width=\"3.2\"/>\n",
       "<circle clip-path=\"url(#clip012)\" cx=\"257.327\" cy=\"766.85\" r=\"14\" fill=\"#e26f46\" fill-rule=\"evenodd\" fill-opacity=\"1\" stroke=\"#000000\" stroke-opacity=\"1\" stroke-width=\"3.2\"/>\n",
       "<circle clip-path=\"url(#clip012)\" cx=\"229.042\" cy=\"766.85\" r=\"14\" fill=\"#e26f46\" fill-rule=\"evenodd\" fill-opacity=\"1\" stroke=\"#000000\" stroke-opacity=\"1\" stroke-width=\"3.2\"/>\n",
       "<circle clip-path=\"url(#clip012)\" cx=\"248.812\" cy=\"766.85\" r=\"14\" fill=\"#e26f46\" fill-rule=\"evenodd\" fill-opacity=\"1\" stroke=\"#000000\" stroke-opacity=\"1\" stroke-width=\"3.2\"/>\n",
       "<circle clip-path=\"url(#clip012)\" cx=\"244.996\" cy=\"766.85\" r=\"14\" fill=\"#e26f46\" fill-rule=\"evenodd\" fill-opacity=\"1\" stroke=\"#000000\" stroke-opacity=\"1\" stroke-width=\"3.2\"/>\n",
       "<circle clip-path=\"url(#clip012)\" cx=\"230.067\" cy=\"766.85\" r=\"14\" fill=\"#e26f46\" fill-rule=\"evenodd\" fill-opacity=\"1\" stroke=\"#000000\" stroke-opacity=\"1\" stroke-width=\"3.2\"/>\n",
       "<circle clip-path=\"url(#clip012)\" cx=\"251.846\" cy=\"766.85\" r=\"14\" fill=\"#e26f46\" fill-rule=\"evenodd\" fill-opacity=\"1\" stroke=\"#000000\" stroke-opacity=\"1\" stroke-width=\"3.2\"/>\n",
       "<circle clip-path=\"url(#clip012)\" cx=\"255.765\" cy=\"766.85\" r=\"14\" fill=\"#e26f46\" fill-rule=\"evenodd\" fill-opacity=\"1\" stroke=\"#000000\" stroke-opacity=\"1\" stroke-width=\"3.2\"/>\n",
       "<circle clip-path=\"url(#clip012)\" cx=\"247.935\" cy=\"766.85\" r=\"14\" fill=\"#e26f46\" fill-rule=\"evenodd\" fill-opacity=\"1\" stroke=\"#000000\" stroke-opacity=\"1\" stroke-width=\"3.2\"/>\n",
       "<circle clip-path=\"url(#clip012)\" cx=\"243.789\" cy=\"766.85\" r=\"14\" fill=\"#e26f46\" fill-rule=\"evenodd\" fill-opacity=\"1\" stroke=\"#000000\" stroke-opacity=\"1\" stroke-width=\"3.2\"/>\n",
       "<circle clip-path=\"url(#clip012)\" cx=\"254.34\" cy=\"766.85\" r=\"14\" fill=\"#e26f46\" fill-rule=\"evenodd\" fill-opacity=\"1\" stroke=\"#000000\" stroke-opacity=\"1\" stroke-width=\"3.2\"/>\n",
       "<circle clip-path=\"url(#clip012)\" cx=\"227.835\" cy=\"766.85\" r=\"14\" fill=\"#e26f46\" fill-rule=\"evenodd\" fill-opacity=\"1\" stroke=\"#000000\" stroke-opacity=\"1\" stroke-width=\"3.2\"/>\n",
       "<circle clip-path=\"url(#clip012)\" cx=\"246.369\" cy=\"766.85\" r=\"14\" fill=\"#e26f46\" fill-rule=\"evenodd\" fill-opacity=\"1\" stroke=\"#000000\" stroke-opacity=\"1\" stroke-width=\"3.2\"/>\n",
       "<circle clip-path=\"url(#clip012)\" cx=\"228.432\" cy=\"766.85\" r=\"14\" fill=\"#e26f46\" fill-rule=\"evenodd\" fill-opacity=\"1\" stroke=\"#000000\" stroke-opacity=\"1\" stroke-width=\"3.2\"/>\n",
       "<circle clip-path=\"url(#clip012)\" cx=\"230.268\" cy=\"766.85\" r=\"14\" fill=\"#e26f46\" fill-rule=\"evenodd\" fill-opacity=\"1\" stroke=\"#000000\" stroke-opacity=\"1\" stroke-width=\"3.2\"/>\n",
       "<circle clip-path=\"url(#clip012)\" cx=\"231.435\" cy=\"766.85\" r=\"14\" fill=\"#e26f46\" fill-rule=\"evenodd\" fill-opacity=\"1\" stroke=\"#000000\" stroke-opacity=\"1\" stroke-width=\"3.2\"/>\n",
       "<circle clip-path=\"url(#clip012)\" cx=\"233.708\" cy=\"766.85\" r=\"14\" fill=\"#e26f46\" fill-rule=\"evenodd\" fill-opacity=\"1\" stroke=\"#000000\" stroke-opacity=\"1\" stroke-width=\"3.2\"/>\n",
       "<circle clip-path=\"url(#clip012)\" cx=\"306.661\" cy=\"766.85\" r=\"14\" fill=\"#e26f46\" fill-rule=\"evenodd\" fill-opacity=\"1\" stroke=\"#000000\" stroke-opacity=\"1\" stroke-width=\"3.2\"/>\n",
       "<circle clip-path=\"url(#clip012)\" cx=\"241.309\" cy=\"766.85\" r=\"14\" fill=\"#e26f46\" fill-rule=\"evenodd\" fill-opacity=\"1\" stroke=\"#000000\" stroke-opacity=\"1\" stroke-width=\"3.2\"/>\n",
       "<circle clip-path=\"url(#clip012)\" cx=\"229.543\" cy=\"766.85\" r=\"14\" fill=\"#e26f46\" fill-rule=\"evenodd\" fill-opacity=\"1\" stroke=\"#000000\" stroke-opacity=\"1\" stroke-width=\"3.2\"/>\n",
       "<circle clip-path=\"url(#clip012)\" cx=\"233.577\" cy=\"766.85\" r=\"14\" fill=\"#e26f46\" fill-rule=\"evenodd\" fill-opacity=\"1\" stroke=\"#000000\" stroke-opacity=\"1\" stroke-width=\"3.2\"/>\n",
       "<circle clip-path=\"url(#clip012)\" cx=\"230.592\" cy=\"766.85\" r=\"14\" fill=\"#e26f46\" fill-rule=\"evenodd\" fill-opacity=\"1\" stroke=\"#000000\" stroke-opacity=\"1\" stroke-width=\"3.2\"/>\n",
       "<circle clip-path=\"url(#clip012)\" cx=\"231.672\" cy=\"766.85\" r=\"14\" fill=\"#e26f46\" fill-rule=\"evenodd\" fill-opacity=\"1\" stroke=\"#000000\" stroke-opacity=\"1\" stroke-width=\"3.2\"/>\n",
       "<circle clip-path=\"url(#clip012)\" cx=\"240.104\" cy=\"766.85\" r=\"14\" fill=\"#e26f46\" fill-rule=\"evenodd\" fill-opacity=\"1\" stroke=\"#000000\" stroke-opacity=\"1\" stroke-width=\"3.2\"/>\n",
       "<circle clip-path=\"url(#clip012)\" cx=\"284.238\" cy=\"766.85\" r=\"14\" fill=\"#e26f46\" fill-rule=\"evenodd\" fill-opacity=\"1\" stroke=\"#000000\" stroke-opacity=\"1\" stroke-width=\"3.2\"/>\n",
       "<circle clip-path=\"url(#clip012)\" cx=\"228.268\" cy=\"766.85\" r=\"14\" fill=\"#e26f46\" fill-rule=\"evenodd\" fill-opacity=\"1\" stroke=\"#000000\" stroke-opacity=\"1\" stroke-width=\"3.2\"/>\n",
       "<circle clip-path=\"url(#clip012)\" cx=\"443.688\" cy=\"766.85\" r=\"14\" fill=\"#e26f46\" fill-rule=\"evenodd\" fill-opacity=\"1\" stroke=\"#000000\" stroke-opacity=\"1\" stroke-width=\"3.2\"/>\n",
       "<circle clip-path=\"url(#clip012)\" cx=\"271.429\" cy=\"766.85\" r=\"14\" fill=\"#e26f46\" fill-rule=\"evenodd\" fill-opacity=\"1\" stroke=\"#000000\" stroke-opacity=\"1\" stroke-width=\"3.2\"/>\n",
       "<circle clip-path=\"url(#clip012)\" cx=\"236.627\" cy=\"766.85\" r=\"14\" fill=\"#e26f46\" fill-rule=\"evenodd\" fill-opacity=\"1\" stroke=\"#000000\" stroke-opacity=\"1\" stroke-width=\"3.2\"/>\n",
       "<circle clip-path=\"url(#clip012)\" cx=\"228\" cy=\"766.85\" r=\"14\" fill=\"#e26f46\" fill-rule=\"evenodd\" fill-opacity=\"1\" stroke=\"#000000\" stroke-opacity=\"1\" stroke-width=\"3.2\"/>\n",
       "<circle clip-path=\"url(#clip012)\" cx=\"240.487\" cy=\"766.85\" r=\"14\" fill=\"#e26f46\" fill-rule=\"evenodd\" fill-opacity=\"1\" stroke=\"#000000\" stroke-opacity=\"1\" stroke-width=\"3.2\"/>\n",
       "<circle clip-path=\"url(#clip012)\" cx=\"229.11\" cy=\"766.85\" r=\"14\" fill=\"#e26f46\" fill-rule=\"evenodd\" fill-opacity=\"1\" stroke=\"#000000\" stroke-opacity=\"1\" stroke-width=\"3.2\"/>\n",
       "<circle clip-path=\"url(#clip012)\" cx=\"232.468\" cy=\"766.85\" r=\"14\" fill=\"#e26f46\" fill-rule=\"evenodd\" fill-opacity=\"1\" stroke=\"#000000\" stroke-opacity=\"1\" stroke-width=\"3.2\"/>\n",
       "<circle clip-path=\"url(#clip012)\" cx=\"228.381\" cy=\"766.85\" r=\"14\" fill=\"#e26f46\" fill-rule=\"evenodd\" fill-opacity=\"1\" stroke=\"#000000\" stroke-opacity=\"1\" stroke-width=\"3.2\"/>\n",
       "<circle clip-path=\"url(#clip012)\" cx=\"230.895\" cy=\"766.85\" r=\"14\" fill=\"#e26f46\" fill-rule=\"evenodd\" fill-opacity=\"1\" stroke=\"#000000\" stroke-opacity=\"1\" stroke-width=\"3.2\"/>\n",
       "<circle clip-path=\"url(#clip012)\" cx=\"231.516\" cy=\"766.85\" r=\"14\" fill=\"#e26f46\" fill-rule=\"evenodd\" fill-opacity=\"1\" stroke=\"#000000\" stroke-opacity=\"1\" stroke-width=\"3.2\"/>\n",
       "<circle clip-path=\"url(#clip012)\" cx=\"355.99\" cy=\"766.85\" r=\"14\" fill=\"#e26f46\" fill-rule=\"evenodd\" fill-opacity=\"1\" stroke=\"#000000\" stroke-opacity=\"1\" stroke-width=\"3.2\"/>\n",
       "<circle clip-path=\"url(#clip012)\" cx=\"237.092\" cy=\"766.85\" r=\"14\" fill=\"#e26f46\" fill-rule=\"evenodd\" fill-opacity=\"1\" stroke=\"#000000\" stroke-opacity=\"1\" stroke-width=\"3.2\"/>\n",
       "<circle clip-path=\"url(#clip012)\" cx=\"229.39\" cy=\"766.85\" r=\"14\" fill=\"#e26f46\" fill-rule=\"evenodd\" fill-opacity=\"1\" stroke=\"#000000\" stroke-opacity=\"1\" stroke-width=\"3.2\"/>\n",
       "<circle clip-path=\"url(#clip012)\" cx=\"228.222\" cy=\"766.85\" r=\"14\" fill=\"#e26f46\" fill-rule=\"evenodd\" fill-opacity=\"1\" stroke=\"#000000\" stroke-opacity=\"1\" stroke-width=\"3.2\"/>\n",
       "<circle clip-path=\"url(#clip012)\" cx=\"229.211\" cy=\"766.85\" r=\"14\" fill=\"#e26f46\" fill-rule=\"evenodd\" fill-opacity=\"1\" stroke=\"#000000\" stroke-opacity=\"1\" stroke-width=\"3.2\"/>\n",
       "<circle clip-path=\"url(#clip012)\" cx=\"553.31\" cy=\"766.85\" r=\"14\" fill=\"#e26f46\" fill-rule=\"evenodd\" fill-opacity=\"1\" stroke=\"#000000\" stroke-opacity=\"1\" stroke-width=\"3.2\"/>\n",
       "<circle clip-path=\"url(#clip012)\" cx=\"229.583\" cy=\"766.85\" r=\"14\" fill=\"#e26f46\" fill-rule=\"evenodd\" fill-opacity=\"1\" stroke=\"#000000\" stroke-opacity=\"1\" stroke-width=\"3.2\"/>\n",
       "<circle clip-path=\"url(#clip012)\" cx=\"242.72\" cy=\"766.85\" r=\"14\" fill=\"#e26f46\" fill-rule=\"evenodd\" fill-opacity=\"1\" stroke=\"#000000\" stroke-opacity=\"1\" stroke-width=\"3.2\"/>\n",
       "<circle clip-path=\"url(#clip012)\" cx=\"229.88\" cy=\"766.85\" r=\"14\" fill=\"#e26f46\" fill-rule=\"evenodd\" fill-opacity=\"1\" stroke=\"#000000\" stroke-opacity=\"1\" stroke-width=\"3.2\"/>\n",
       "<circle clip-path=\"url(#clip012)\" cx=\"235.786\" cy=\"766.85\" r=\"14\" fill=\"#e26f46\" fill-rule=\"evenodd\" fill-opacity=\"1\" stroke=\"#000000\" stroke-opacity=\"1\" stroke-width=\"3.2\"/>\n",
       "<circle clip-path=\"url(#clip012)\" cx=\"231.155\" cy=\"766.85\" r=\"14\" fill=\"#e26f46\" fill-rule=\"evenodd\" fill-opacity=\"1\" stroke=\"#000000\" stroke-opacity=\"1\" stroke-width=\"3.2\"/>\n",
       "<circle clip-path=\"url(#clip012)\" cx=\"229.467\" cy=\"766.85\" r=\"14\" fill=\"#e26f46\" fill-rule=\"evenodd\" fill-opacity=\"1\" stroke=\"#000000\" stroke-opacity=\"1\" stroke-width=\"3.2\"/>\n",
       "<circle clip-path=\"url(#clip012)\" cx=\"232.092\" cy=\"766.85\" r=\"14\" fill=\"#e26f46\" fill-rule=\"evenodd\" fill-opacity=\"1\" stroke=\"#000000\" stroke-opacity=\"1\" stroke-width=\"3.2\"/>\n",
       "<circle clip-path=\"url(#clip012)\" cx=\"290.217\" cy=\"766.85\" r=\"14\" fill=\"#e26f46\" fill-rule=\"evenodd\" fill-opacity=\"1\" stroke=\"#000000\" stroke-opacity=\"1\" stroke-width=\"3.2\"/>\n",
       "<circle clip-path=\"url(#clip012)\" cx=\"229.318\" cy=\"766.85\" r=\"14\" fill=\"#e26f46\" fill-rule=\"evenodd\" fill-opacity=\"1\" stroke=\"#000000\" stroke-opacity=\"1\" stroke-width=\"3.2\"/>\n",
       "<circle clip-path=\"url(#clip012)\" cx=\"232.878\" cy=\"766.85\" r=\"14\" fill=\"#e26f46\" fill-rule=\"evenodd\" fill-opacity=\"1\" stroke=\"#000000\" stroke-opacity=\"1\" stroke-width=\"3.2\"/>\n",
       "<circle clip-path=\"url(#clip012)\" cx=\"236.403\" cy=\"766.85\" r=\"14\" fill=\"#e26f46\" fill-rule=\"evenodd\" fill-opacity=\"1\" stroke=\"#000000\" stroke-opacity=\"1\" stroke-width=\"3.2\"/>\n",
       "<circle clip-path=\"url(#clip012)\" cx=\"249.744\" cy=\"766.85\" r=\"14\" fill=\"#e26f46\" fill-rule=\"evenodd\" fill-opacity=\"1\" stroke=\"#000000\" stroke-opacity=\"1\" stroke-width=\"3.2\"/>\n",
       "<circle clip-path=\"url(#clip012)\" cx=\"227.924\" cy=\"766.85\" r=\"14\" fill=\"#e26f46\" fill-rule=\"evenodd\" fill-opacity=\"1\" stroke=\"#000000\" stroke-opacity=\"1\" stroke-width=\"3.2\"/>\n",
       "<circle clip-path=\"url(#clip012)\" cx=\"263.132\" cy=\"766.85\" r=\"14\" fill=\"#e26f46\" fill-rule=\"evenodd\" fill-opacity=\"1\" stroke=\"#000000\" stroke-opacity=\"1\" stroke-width=\"3.2\"/>\n",
       "<circle clip-path=\"url(#clip012)\" cx=\"238.44\" cy=\"766.85\" r=\"14\" fill=\"#e26f46\" fill-rule=\"evenodd\" fill-opacity=\"1\" stroke=\"#000000\" stroke-opacity=\"1\" stroke-width=\"3.2\"/>\n",
       "<circle clip-path=\"url(#clip012)\" cx=\"234.115\" cy=\"766.85\" r=\"14\" fill=\"#e26f46\" fill-rule=\"evenodd\" fill-opacity=\"1\" stroke=\"#000000\" stroke-opacity=\"1\" stroke-width=\"3.2\"/>\n",
       "<circle clip-path=\"url(#clip012)\" cx=\"235.053\" cy=\"766.85\" r=\"14\" fill=\"#e26f46\" fill-rule=\"evenodd\" fill-opacity=\"1\" stroke=\"#000000\" stroke-opacity=\"1\" stroke-width=\"3.2\"/>\n",
       "<circle clip-path=\"url(#clip012)\" cx=\"235.983\" cy=\"766.85\" r=\"14\" fill=\"#e26f46\" fill-rule=\"evenodd\" fill-opacity=\"1\" stroke=\"#000000\" stroke-opacity=\"1\" stroke-width=\"3.2\"/>\n",
       "<circle clip-path=\"url(#clip012)\" cx=\"235.398\" cy=\"766.85\" r=\"14\" fill=\"#e26f46\" fill-rule=\"evenodd\" fill-opacity=\"1\" stroke=\"#000000\" stroke-opacity=\"1\" stroke-width=\"3.2\"/>\n",
       "<circle clip-path=\"url(#clip012)\" cx=\"234.563\" cy=\"766.85\" r=\"14\" fill=\"#e26f46\" fill-rule=\"evenodd\" fill-opacity=\"1\" stroke=\"#000000\" stroke-opacity=\"1\" stroke-width=\"3.2\"/>\n",
       "<circle clip-path=\"url(#clip012)\" cx=\"245.661\" cy=\"766.85\" r=\"14\" fill=\"#e26f46\" fill-rule=\"evenodd\" fill-opacity=\"1\" stroke=\"#000000\" stroke-opacity=\"1\" stroke-width=\"3.2\"/>\n",
       "<circle clip-path=\"url(#clip012)\" cx=\"231.919\" cy=\"766.85\" r=\"14\" fill=\"#e26f46\" fill-rule=\"evenodd\" fill-opacity=\"1\" stroke=\"#000000\" stroke-opacity=\"1\" stroke-width=\"3.2\"/>\n",
       "<circle clip-path=\"url(#clip012)\" cx=\"228.181\" cy=\"766.85\" r=\"14\" fill=\"#e26f46\" fill-rule=\"evenodd\" fill-opacity=\"1\" stroke=\"#000000\" stroke-opacity=\"1\" stroke-width=\"3.2\"/>\n",
       "<circle clip-path=\"url(#clip012)\" cx=\"234.721\" cy=\"766.85\" r=\"14\" fill=\"#e26f46\" fill-rule=\"evenodd\" fill-opacity=\"1\" stroke=\"#000000\" stroke-opacity=\"1\" stroke-width=\"3.2\"/>\n",
       "<circle clip-path=\"url(#clip012)\" cx=\"233.974\" cy=\"766.85\" r=\"14\" fill=\"#e26f46\" fill-rule=\"evenodd\" fill-opacity=\"1\" stroke=\"#000000\" stroke-opacity=\"1\" stroke-width=\"3.2\"/>\n",
       "<circle clip-path=\"url(#clip012)\" cx=\"242.223\" cy=\"766.85\" r=\"14\" fill=\"#e26f46\" fill-rule=\"evenodd\" fill-opacity=\"1\" stroke=\"#000000\" stroke-opacity=\"1\" stroke-width=\"3.2\"/>\n",
       "<circle clip-path=\"url(#clip012)\" cx=\"230.769\" cy=\"766.85\" r=\"14\" fill=\"#e26f46\" fill-rule=\"evenodd\" fill-opacity=\"1\" stroke=\"#000000\" stroke-opacity=\"1\" stroke-width=\"3.2\"/>\n",
       "<circle clip-path=\"url(#clip012)\" cx=\"241.758\" cy=\"766.85\" r=\"14\" fill=\"#e26f46\" fill-rule=\"evenodd\" fill-opacity=\"1\" stroke=\"#000000\" stroke-opacity=\"1\" stroke-width=\"3.2\"/>\n",
       "<circle clip-path=\"url(#clip012)\" cx=\"247.125\" cy=\"766.85\" r=\"14\" fill=\"#e26f46\" fill-rule=\"evenodd\" fill-opacity=\"1\" stroke=\"#000000\" stroke-opacity=\"1\" stroke-width=\"3.2\"/>\n",
       "<circle clip-path=\"url(#clip012)\" cx=\"230.831\" cy=\"766.85\" r=\"14\" fill=\"#e26f46\" fill-rule=\"evenodd\" fill-opacity=\"1\" stroke=\"#000000\" stroke-opacity=\"1\" stroke-width=\"3.2\"/>\n",
       "<circle clip-path=\"url(#clip012)\" cx=\"229.503\" cy=\"766.85\" r=\"14\" fill=\"#e26f46\" fill-rule=\"evenodd\" fill-opacity=\"1\" stroke=\"#000000\" stroke-opacity=\"1\" stroke-width=\"3.2\"/>\n",
       "<circle clip-path=\"url(#clip012)\" cx=\"243.237\" cy=\"766.85\" r=\"14\" fill=\"#e26f46\" fill-rule=\"evenodd\" fill-opacity=\"1\" stroke=\"#000000\" stroke-opacity=\"1\" stroke-width=\"3.2\"/>\n",
       "<circle clip-path=\"url(#clip012)\" cx=\"230.114\" cy=\"766.85\" r=\"14\" fill=\"#e26f46\" fill-rule=\"evenodd\" fill-opacity=\"1\" stroke=\"#000000\" stroke-opacity=\"1\" stroke-width=\"3.2\"/>\n",
       "<circle clip-path=\"url(#clip012)\" cx=\"237.868\" cy=\"766.85\" r=\"14\" fill=\"#e26f46\" fill-rule=\"evenodd\" fill-opacity=\"1\" stroke=\"#000000\" stroke-opacity=\"1\" stroke-width=\"3.2\"/>\n",
       "<circle clip-path=\"url(#clip012)\" cx=\"231.762\" cy=\"766.85\" r=\"14\" fill=\"#e26f46\" fill-rule=\"evenodd\" fill-opacity=\"1\" stroke=\"#000000\" stroke-opacity=\"1\" stroke-width=\"3.2\"/>\n",
       "<circle clip-path=\"url(#clip012)\" cx=\"318.406\" cy=\"766.85\" r=\"14\" fill=\"#e26f46\" fill-rule=\"evenodd\" fill-opacity=\"1\" stroke=\"#000000\" stroke-opacity=\"1\" stroke-width=\"3.2\"/>\n",
       "<circle clip-path=\"url(#clip012)\" cx=\"229.666\" cy=\"766.85\" r=\"14\" fill=\"#e26f46\" fill-rule=\"evenodd\" fill-opacity=\"1\" stroke=\"#000000\" stroke-opacity=\"1\" stroke-width=\"3.2\"/>\n",
       "<circle clip-path=\"url(#clip012)\" cx=\"239.064\" cy=\"766.85\" r=\"14\" fill=\"#e26f46\" fill-rule=\"evenodd\" fill-opacity=\"1\" stroke=\"#000000\" stroke-opacity=\"1\" stroke-width=\"3.2\"/>\n",
       "<circle clip-path=\"url(#clip012)\" cx=\"228.314\" cy=\"766.85\" r=\"14\" fill=\"#e26f46\" fill-rule=\"evenodd\" fill-opacity=\"1\" stroke=\"#000000\" stroke-opacity=\"1\" stroke-width=\"3.2\"/>\n",
       "<circle clip-path=\"url(#clip012)\" cx=\"229.623\" cy=\"766.85\" r=\"14\" fill=\"#e26f46\" fill-rule=\"evenodd\" fill-opacity=\"1\" stroke=\"#000000\" stroke-opacity=\"1\" stroke-width=\"3.2\"/>\n",
       "<circle clip-path=\"url(#clip012)\" cx=\"231.368\" cy=\"766.85\" r=\"14\" fill=\"#e26f46\" fill-rule=\"evenodd\" fill-opacity=\"1\" stroke=\"#000000\" stroke-opacity=\"1\" stroke-width=\"3.2\"/>\n",
       "<circle clip-path=\"url(#clip012)\" cx=\"228.529\" cy=\"766.85\" r=\"14\" fill=\"#e26f46\" fill-rule=\"evenodd\" fill-opacity=\"1\" stroke=\"#000000\" stroke-opacity=\"1\" stroke-width=\"3.2\"/>\n",
       "<circle clip-path=\"url(#clip012)\" cx=\"231.228\" cy=\"766.85\" r=\"14\" fill=\"#e26f46\" fill-rule=\"evenodd\" fill-opacity=\"1\" stroke=\"#000000\" stroke-opacity=\"1\" stroke-width=\"3.2\"/>\n",
       "<circle clip-path=\"url(#clip012)\" cx=\"279.255\" cy=\"766.85\" r=\"14\" fill=\"#e26f46\" fill-rule=\"evenodd\" fill-opacity=\"1\" stroke=\"#000000\" stroke-opacity=\"1\" stroke-width=\"3.2\"/>\n",
       "<circle clip-path=\"url(#clip012)\" cx=\"230.709\" cy=\"766.85\" r=\"14\" fill=\"#e26f46\" fill-rule=\"evenodd\" fill-opacity=\"1\" stroke=\"#000000\" stroke-opacity=\"1\" stroke-width=\"3.2\"/>\n",
       "<circle clip-path=\"url(#clip012)\" cx=\"237.341\" cy=\"766.85\" r=\"14\" fill=\"#e26f46\" fill-rule=\"evenodd\" fill-opacity=\"1\" stroke=\"#000000\" stroke-opacity=\"1\" stroke-width=\"3.2\"/>\n",
       "<circle clip-path=\"url(#clip012)\" cx=\"236.853\" cy=\"766.85\" r=\"14\" fill=\"#e26f46\" fill-rule=\"evenodd\" fill-opacity=\"1\" stroke=\"#000000\" stroke-opacity=\"1\" stroke-width=\"3.2\"/>\n",
       "<circle clip-path=\"url(#clip012)\" cx=\"232.004\" cy=\"766.85\" r=\"14\" fill=\"#e26f46\" fill-rule=\"evenodd\" fill-opacity=\"1\" stroke=\"#000000\" stroke-opacity=\"1\" stroke-width=\"3.2\"/>\n",
       "<circle clip-path=\"url(#clip012)\" cx=\"229.076\" cy=\"766.85\" r=\"14\" fill=\"#e26f46\" fill-rule=\"evenodd\" fill-opacity=\"1\" stroke=\"#000000\" stroke-opacity=\"1\" stroke-width=\"3.2\"/>\n",
       "<circle clip-path=\"url(#clip012)\" cx=\"297.526\" cy=\"766.85\" r=\"14\" fill=\"#e26f46\" fill-rule=\"evenodd\" fill-opacity=\"1\" stroke=\"#000000\" stroke-opacity=\"1\" stroke-width=\"3.2\"/>\n",
       "<circle clip-path=\"url(#clip012)\" cx=\"334.066\" cy=\"766.85\" r=\"14\" fill=\"#e26f46\" fill-rule=\"evenodd\" fill-opacity=\"1\" stroke=\"#000000\" stroke-opacity=\"1\" stroke-width=\"3.2\"/>\n",
       "<circle clip-path=\"url(#clip012)\" cx=\"228.986\" cy=\"766.85\" r=\"14\" fill=\"#e26f46\" fill-rule=\"evenodd\" fill-opacity=\"1\" stroke=\"#000000\" stroke-opacity=\"1\" stroke-width=\"3.2\"/>\n",
       "<circle clip-path=\"url(#clip012)\" cx=\"230.315\" cy=\"766.85\" r=\"14\" fill=\"#e26f46\" fill-rule=\"evenodd\" fill-opacity=\"1\" stroke=\"#000000\" stroke-opacity=\"1\" stroke-width=\"3.2\"/>\n",
       "<circle clip-path=\"url(#clip012)\" cx=\"230.65\" cy=\"766.85\" r=\"14\" fill=\"#e26f46\" fill-rule=\"evenodd\" fill-opacity=\"1\" stroke=\"#000000\" stroke-opacity=\"1\" stroke-width=\"3.2\"/>\n",
       "<circle clip-path=\"url(#clip012)\" cx=\"232.983\" cy=\"766.85\" r=\"14\" fill=\"#e26f46\" fill-rule=\"evenodd\" fill-opacity=\"1\" stroke=\"#000000\" stroke-opacity=\"1\" stroke-width=\"3.2\"/>\n",
       "<circle clip-path=\"url(#clip012)\" cx=\"234.406\" cy=\"766.85\" r=\"14\" fill=\"#e26f46\" fill-rule=\"evenodd\" fill-opacity=\"1\" stroke=\"#000000\" stroke-opacity=\"1\" stroke-width=\"3.2\"/>\n",
       "<circle clip-path=\"url(#clip012)\" cx=\"388.877\" cy=\"766.85\" r=\"14\" fill=\"#e26f46\" fill-rule=\"evenodd\" fill-opacity=\"1\" stroke=\"#000000\" stroke-opacity=\"1\" stroke-width=\"3.2\"/>\n",
       "<circle clip-path=\"url(#clip012)\" cx=\"237.603\" cy=\"766.85\" r=\"14\" fill=\"#e26f46\" fill-rule=\"evenodd\" fill-opacity=\"1\" stroke=\"#000000\" stroke-opacity=\"1\" stroke-width=\"3.2\"/>\n",
       "<path clip-path=\"url(#clip010)\" d=\"\n",
       "M1985.36 276.658 L2279.75 276.658 L2279.75 95.2176 L1985.36 95.2176  Z\n",
       "  \" fill=\"#ffffff\" fill-rule=\"evenodd\" fill-opacity=\"1\"/>\n",
       "<polyline clip-path=\"url(#clip010)\" style=\"stroke:#000000; stroke-width:4; stroke-opacity:1; fill:none\" points=\"\n",
       "  1985.36,276.658 2279.75,276.658 2279.75,95.2176 1985.36,95.2176 1985.36,276.658 \n",
       "  \"/>\n",
       "<polyline clip-path=\"url(#clip010)\" style=\"stroke:#009af9; stroke-width:4; stroke-opacity:1; fill:none\" points=\"\n",
       "  2009.7,155.698 2155.72,155.698 \n",
       "  \"/>\n",
       "<path clip-path=\"url(#clip010)\" d=\"M 0 0 M2193.9 175.385 Q2192.09 180.015 2190.38 181.427 Q2188.67 182.839 2185.79 182.839 L2182.39 182.839 L2182.39 179.274 L2184.89 179.274 Q2186.65 179.274 2187.62 178.44 Q2188.6 177.607 2189.78 174.505 L2190.54 172.561 L2180.05 147.052 L2184.57 147.052 L2192.67 167.329 L2200.77 147.052 L2205.29 147.052 L2193.9 175.385 Z\" fill=\"#000000\" fill-rule=\"evenodd\" fill-opacity=\"1\" /><path clip-path=\"url(#clip010)\" d=\"M 0 0 M2211.17 169.042 L2218.8 169.042 L2218.8 142.677 L2210.49 144.343 L2210.49 140.084 L2218.76 138.418 L2223.43 138.418 L2223.43 169.042 L2231.07 169.042 L2231.07 172.978 L2211.17 172.978 L2211.17 169.042 Z\" fill=\"#000000\" fill-rule=\"evenodd\" fill-opacity=\"1\" /><circle clip-path=\"url(#clip010)\" cx=\"2082.71\" cy=\"216.178\" r=\"23\" fill=\"#e26f46\" fill-rule=\"evenodd\" fill-opacity=\"1\" stroke=\"#000000\" stroke-opacity=\"1\" stroke-width=\"5.12\"/>\n",
       "<circle clip-path=\"url(#clip010)\" cx=\"2082.71\" cy=\"216.178\" r=\"23\" fill=\"#e26f46\" fill-rule=\"evenodd\" fill-opacity=\"1\" stroke=\"#000000\" stroke-opacity=\"1\" stroke-width=\"5.12\"/>\n",
       "<circle clip-path=\"url(#clip010)\" cx=\"2082.71\" cy=\"216.178\" r=\"23\" fill=\"#e26f46\" fill-rule=\"evenodd\" fill-opacity=\"1\" stroke=\"#000000\" stroke-opacity=\"1\" stroke-width=\"5.12\"/>\n",
       "<circle clip-path=\"url(#clip010)\" cx=\"2082.71\" cy=\"216.178\" r=\"23\" fill=\"#e26f46\" fill-rule=\"evenodd\" fill-opacity=\"1\" stroke=\"#000000\" stroke-opacity=\"1\" stroke-width=\"5.12\"/>\n",
       "<circle clip-path=\"url(#clip010)\" cx=\"2082.71\" cy=\"216.178\" r=\"23\" fill=\"#e26f46\" fill-rule=\"evenodd\" fill-opacity=\"1\" stroke=\"#000000\" stroke-opacity=\"1\" stroke-width=\"5.12\"/>\n",
       "<circle clip-path=\"url(#clip010)\" cx=\"2082.71\" cy=\"216.178\" r=\"23\" fill=\"#e26f46\" fill-rule=\"evenodd\" fill-opacity=\"1\" stroke=\"#000000\" stroke-opacity=\"1\" stroke-width=\"5.12\"/>\n",
       "<circle clip-path=\"url(#clip010)\" cx=\"2082.71\" cy=\"216.178\" r=\"23\" fill=\"#e26f46\" fill-rule=\"evenodd\" fill-opacity=\"1\" stroke=\"#000000\" stroke-opacity=\"1\" stroke-width=\"5.12\"/>\n",
       "<circle clip-path=\"url(#clip010)\" cx=\"2082.71\" cy=\"216.178\" r=\"23\" fill=\"#e26f46\" fill-rule=\"evenodd\" fill-opacity=\"1\" stroke=\"#000000\" stroke-opacity=\"1\" stroke-width=\"5.12\"/>\n",
       "<circle clip-path=\"url(#clip010)\" cx=\"2082.71\" cy=\"216.178\" r=\"23\" fill=\"#e26f46\" fill-rule=\"evenodd\" fill-opacity=\"1\" stroke=\"#000000\" stroke-opacity=\"1\" stroke-width=\"5.12\"/>\n",
       "<circle clip-path=\"url(#clip010)\" cx=\"2082.71\" cy=\"216.178\" r=\"23\" fill=\"#e26f46\" fill-rule=\"evenodd\" fill-opacity=\"1\" stroke=\"#000000\" stroke-opacity=\"1\" stroke-width=\"5.12\"/>\n",
       "<circle clip-path=\"url(#clip010)\" cx=\"2082.71\" cy=\"216.178\" r=\"23\" fill=\"#e26f46\" fill-rule=\"evenodd\" fill-opacity=\"1\" stroke=\"#000000\" stroke-opacity=\"1\" stroke-width=\"5.12\"/>\n",
       "<circle clip-path=\"url(#clip010)\" cx=\"2082.71\" cy=\"216.178\" r=\"23\" fill=\"#e26f46\" fill-rule=\"evenodd\" fill-opacity=\"1\" stroke=\"#000000\" stroke-opacity=\"1\" stroke-width=\"5.12\"/>\n",
       "<circle clip-path=\"url(#clip010)\" cx=\"2082.71\" cy=\"216.178\" r=\"23\" fill=\"#e26f46\" fill-rule=\"evenodd\" fill-opacity=\"1\" stroke=\"#000000\" stroke-opacity=\"1\" stroke-width=\"5.12\"/>\n",
       "<circle clip-path=\"url(#clip010)\" cx=\"2082.71\" cy=\"216.178\" r=\"23\" fill=\"#e26f46\" fill-rule=\"evenodd\" fill-opacity=\"1\" stroke=\"#000000\" stroke-opacity=\"1\" stroke-width=\"5.12\"/>\n",
       "<circle clip-path=\"url(#clip010)\" cx=\"2082.71\" cy=\"216.178\" r=\"23\" fill=\"#e26f46\" fill-rule=\"evenodd\" fill-opacity=\"1\" stroke=\"#000000\" stroke-opacity=\"1\" stroke-width=\"5.12\"/>\n",
       "<circle clip-path=\"url(#clip010)\" cx=\"2082.71\" cy=\"216.178\" r=\"23\" fill=\"#e26f46\" fill-rule=\"evenodd\" fill-opacity=\"1\" stroke=\"#000000\" stroke-opacity=\"1\" stroke-width=\"5.12\"/>\n",
       "<circle clip-path=\"url(#clip010)\" cx=\"2082.71\" cy=\"216.178\" r=\"23\" fill=\"#e26f46\" fill-rule=\"evenodd\" fill-opacity=\"1\" stroke=\"#000000\" stroke-opacity=\"1\" stroke-width=\"5.12\"/>\n",
       "<circle clip-path=\"url(#clip010)\" cx=\"2082.71\" cy=\"216.178\" r=\"23\" fill=\"#e26f46\" fill-rule=\"evenodd\" fill-opacity=\"1\" stroke=\"#000000\" stroke-opacity=\"1\" stroke-width=\"5.12\"/>\n",
       "<circle clip-path=\"url(#clip010)\" cx=\"2082.71\" cy=\"216.178\" r=\"23\" fill=\"#e26f46\" fill-rule=\"evenodd\" fill-opacity=\"1\" stroke=\"#000000\" stroke-opacity=\"1\" stroke-width=\"5.12\"/>\n",
       "<circle clip-path=\"url(#clip010)\" cx=\"2082.71\" cy=\"216.178\" r=\"23\" fill=\"#e26f46\" fill-rule=\"evenodd\" fill-opacity=\"1\" stroke=\"#000000\" stroke-opacity=\"1\" stroke-width=\"5.12\"/>\n",
       "<circle clip-path=\"url(#clip010)\" cx=\"2082.71\" cy=\"216.178\" r=\"23\" fill=\"#e26f46\" fill-rule=\"evenodd\" fill-opacity=\"1\" stroke=\"#000000\" stroke-opacity=\"1\" stroke-width=\"5.12\"/>\n",
       "<circle clip-path=\"url(#clip010)\" cx=\"2082.71\" cy=\"216.178\" r=\"23\" fill=\"#e26f46\" fill-rule=\"evenodd\" fill-opacity=\"1\" stroke=\"#000000\" stroke-opacity=\"1\" stroke-width=\"5.12\"/>\n",
       "<circle clip-path=\"url(#clip010)\" cx=\"2082.71\" cy=\"216.178\" r=\"23\" fill=\"#e26f46\" fill-rule=\"evenodd\" fill-opacity=\"1\" stroke=\"#000000\" stroke-opacity=\"1\" stroke-width=\"5.12\"/>\n",
       "<circle clip-path=\"url(#clip010)\" cx=\"2082.71\" cy=\"216.178\" r=\"23\" fill=\"#e26f46\" fill-rule=\"evenodd\" fill-opacity=\"1\" stroke=\"#000000\" stroke-opacity=\"1\" stroke-width=\"5.12\"/>\n",
       "<circle clip-path=\"url(#clip010)\" cx=\"2082.71\" cy=\"216.178\" r=\"23\" fill=\"#e26f46\" fill-rule=\"evenodd\" fill-opacity=\"1\" stroke=\"#000000\" stroke-opacity=\"1\" stroke-width=\"5.12\"/>\n",
       "<circle clip-path=\"url(#clip010)\" cx=\"2082.71\" cy=\"216.178\" r=\"23\" fill=\"#e26f46\" fill-rule=\"evenodd\" fill-opacity=\"1\" stroke=\"#000000\" stroke-opacity=\"1\" stroke-width=\"5.12\"/>\n",
       "<circle clip-path=\"url(#clip010)\" cx=\"2082.71\" cy=\"216.178\" r=\"23\" fill=\"#e26f46\" fill-rule=\"evenodd\" fill-opacity=\"1\" stroke=\"#000000\" stroke-opacity=\"1\" stroke-width=\"5.12\"/>\n",
       "<circle clip-path=\"url(#clip010)\" cx=\"2082.71\" cy=\"216.178\" r=\"23\" fill=\"#e26f46\" fill-rule=\"evenodd\" fill-opacity=\"1\" stroke=\"#000000\" stroke-opacity=\"1\" stroke-width=\"5.12\"/>\n",
       "<circle clip-path=\"url(#clip010)\" cx=\"2082.71\" cy=\"216.178\" r=\"23\" fill=\"#e26f46\" fill-rule=\"evenodd\" fill-opacity=\"1\" stroke=\"#000000\" stroke-opacity=\"1\" stroke-width=\"5.12\"/>\n",
       "<circle clip-path=\"url(#clip010)\" cx=\"2082.71\" cy=\"216.178\" r=\"23\" fill=\"#e26f46\" fill-rule=\"evenodd\" fill-opacity=\"1\" stroke=\"#000000\" stroke-opacity=\"1\" stroke-width=\"5.12\"/>\n",
       "<circle clip-path=\"url(#clip010)\" cx=\"2082.71\" cy=\"216.178\" r=\"23\" fill=\"#e26f46\" fill-rule=\"evenodd\" fill-opacity=\"1\" stroke=\"#000000\" stroke-opacity=\"1\" stroke-width=\"5.12\"/>\n",
       "<circle clip-path=\"url(#clip010)\" cx=\"2082.71\" cy=\"216.178\" r=\"23\" fill=\"#e26f46\" fill-rule=\"evenodd\" fill-opacity=\"1\" stroke=\"#000000\" stroke-opacity=\"1\" stroke-width=\"5.12\"/>\n",
       "<circle clip-path=\"url(#clip010)\" cx=\"2082.71\" cy=\"216.178\" r=\"23\" fill=\"#e26f46\" fill-rule=\"evenodd\" fill-opacity=\"1\" stroke=\"#000000\" stroke-opacity=\"1\" stroke-width=\"5.12\"/>\n",
       "<circle clip-path=\"url(#clip010)\" cx=\"2082.71\" cy=\"216.178\" r=\"23\" fill=\"#e26f46\" fill-rule=\"evenodd\" fill-opacity=\"1\" stroke=\"#000000\" stroke-opacity=\"1\" stroke-width=\"5.12\"/>\n",
       "<circle clip-path=\"url(#clip010)\" cx=\"2082.71\" cy=\"216.178\" r=\"23\" fill=\"#e26f46\" fill-rule=\"evenodd\" fill-opacity=\"1\" stroke=\"#000000\" stroke-opacity=\"1\" stroke-width=\"5.12\"/>\n",
       "<circle clip-path=\"url(#clip010)\" cx=\"2082.71\" cy=\"216.178\" r=\"23\" fill=\"#e26f46\" fill-rule=\"evenodd\" fill-opacity=\"1\" stroke=\"#000000\" stroke-opacity=\"1\" stroke-width=\"5.12\"/>\n",
       "<circle clip-path=\"url(#clip010)\" cx=\"2082.71\" cy=\"216.178\" r=\"23\" fill=\"#e26f46\" fill-rule=\"evenodd\" fill-opacity=\"1\" stroke=\"#000000\" stroke-opacity=\"1\" stroke-width=\"5.12\"/>\n",
       "<circle clip-path=\"url(#clip010)\" cx=\"2082.71\" cy=\"216.178\" r=\"23\" fill=\"#e26f46\" fill-rule=\"evenodd\" fill-opacity=\"1\" stroke=\"#000000\" stroke-opacity=\"1\" stroke-width=\"5.12\"/>\n",
       "<circle clip-path=\"url(#clip010)\" cx=\"2082.71\" cy=\"216.178\" r=\"23\" fill=\"#e26f46\" fill-rule=\"evenodd\" fill-opacity=\"1\" stroke=\"#000000\" stroke-opacity=\"1\" stroke-width=\"5.12\"/>\n",
       "<circle clip-path=\"url(#clip010)\" cx=\"2082.71\" cy=\"216.178\" r=\"23\" fill=\"#e26f46\" fill-rule=\"evenodd\" fill-opacity=\"1\" stroke=\"#000000\" stroke-opacity=\"1\" stroke-width=\"5.12\"/>\n",
       "<circle clip-path=\"url(#clip010)\" cx=\"2082.71\" cy=\"216.178\" r=\"23\" fill=\"#e26f46\" fill-rule=\"evenodd\" fill-opacity=\"1\" stroke=\"#000000\" stroke-opacity=\"1\" stroke-width=\"5.12\"/>\n",
       "<circle clip-path=\"url(#clip010)\" cx=\"2082.71\" cy=\"216.178\" r=\"23\" fill=\"#e26f46\" fill-rule=\"evenodd\" fill-opacity=\"1\" stroke=\"#000000\" stroke-opacity=\"1\" stroke-width=\"5.12\"/>\n",
       "<circle clip-path=\"url(#clip010)\" cx=\"2082.71\" cy=\"216.178\" r=\"23\" fill=\"#e26f46\" fill-rule=\"evenodd\" fill-opacity=\"1\" stroke=\"#000000\" stroke-opacity=\"1\" stroke-width=\"5.12\"/>\n",
       "<circle clip-path=\"url(#clip010)\" cx=\"2082.71\" cy=\"216.178\" r=\"23\" fill=\"#e26f46\" fill-rule=\"evenodd\" fill-opacity=\"1\" stroke=\"#000000\" stroke-opacity=\"1\" stroke-width=\"5.12\"/>\n",
       "<circle clip-path=\"url(#clip010)\" cx=\"2082.71\" cy=\"216.178\" r=\"23\" fill=\"#e26f46\" fill-rule=\"evenodd\" fill-opacity=\"1\" stroke=\"#000000\" stroke-opacity=\"1\" stroke-width=\"5.12\"/>\n",
       "<circle clip-path=\"url(#clip010)\" cx=\"2082.71\" cy=\"216.178\" r=\"23\" fill=\"#e26f46\" fill-rule=\"evenodd\" fill-opacity=\"1\" stroke=\"#000000\" stroke-opacity=\"1\" stroke-width=\"5.12\"/>\n",
       "<circle clip-path=\"url(#clip010)\" cx=\"2082.71\" cy=\"216.178\" r=\"23\" fill=\"#e26f46\" fill-rule=\"evenodd\" fill-opacity=\"1\" stroke=\"#000000\" stroke-opacity=\"1\" stroke-width=\"5.12\"/>\n",
       "<circle clip-path=\"url(#clip010)\" cx=\"2082.71\" cy=\"216.178\" r=\"23\" fill=\"#e26f46\" fill-rule=\"evenodd\" fill-opacity=\"1\" stroke=\"#000000\" stroke-opacity=\"1\" stroke-width=\"5.12\"/>\n",
       "<circle clip-path=\"url(#clip010)\" cx=\"2082.71\" cy=\"216.178\" r=\"23\" fill=\"#e26f46\" fill-rule=\"evenodd\" fill-opacity=\"1\" stroke=\"#000000\" stroke-opacity=\"1\" stroke-width=\"5.12\"/>\n",
       "<circle clip-path=\"url(#clip010)\" cx=\"2082.71\" cy=\"216.178\" r=\"23\" fill=\"#e26f46\" fill-rule=\"evenodd\" fill-opacity=\"1\" stroke=\"#000000\" stroke-opacity=\"1\" stroke-width=\"5.12\"/>\n",
       "<circle clip-path=\"url(#clip010)\" cx=\"2082.71\" cy=\"216.178\" r=\"23\" fill=\"#e26f46\" fill-rule=\"evenodd\" fill-opacity=\"1\" stroke=\"#000000\" stroke-opacity=\"1\" stroke-width=\"5.12\"/>\n",
       "<circle clip-path=\"url(#clip010)\" cx=\"2082.71\" cy=\"216.178\" r=\"23\" fill=\"#e26f46\" fill-rule=\"evenodd\" fill-opacity=\"1\" stroke=\"#000000\" stroke-opacity=\"1\" stroke-width=\"5.12\"/>\n",
       "<circle clip-path=\"url(#clip010)\" cx=\"2082.71\" cy=\"216.178\" r=\"23\" fill=\"#e26f46\" fill-rule=\"evenodd\" fill-opacity=\"1\" stroke=\"#000000\" stroke-opacity=\"1\" stroke-width=\"5.12\"/>\n",
       "<circle clip-path=\"url(#clip010)\" cx=\"2082.71\" cy=\"216.178\" r=\"23\" fill=\"#e26f46\" fill-rule=\"evenodd\" fill-opacity=\"1\" stroke=\"#000000\" stroke-opacity=\"1\" stroke-width=\"5.12\"/>\n",
       "<circle clip-path=\"url(#clip010)\" cx=\"2082.71\" cy=\"216.178\" r=\"23\" fill=\"#e26f46\" fill-rule=\"evenodd\" fill-opacity=\"1\" stroke=\"#000000\" stroke-opacity=\"1\" stroke-width=\"5.12\"/>\n",
       "<circle clip-path=\"url(#clip010)\" cx=\"2082.71\" cy=\"216.178\" r=\"23\" fill=\"#e26f46\" fill-rule=\"evenodd\" fill-opacity=\"1\" stroke=\"#000000\" stroke-opacity=\"1\" stroke-width=\"5.12\"/>\n",
       "<circle clip-path=\"url(#clip010)\" cx=\"2082.71\" cy=\"216.178\" r=\"23\" fill=\"#e26f46\" fill-rule=\"evenodd\" fill-opacity=\"1\" stroke=\"#000000\" stroke-opacity=\"1\" stroke-width=\"5.12\"/>\n",
       "<circle clip-path=\"url(#clip010)\" cx=\"2082.71\" cy=\"216.178\" r=\"23\" fill=\"#e26f46\" fill-rule=\"evenodd\" fill-opacity=\"1\" stroke=\"#000000\" stroke-opacity=\"1\" stroke-width=\"5.12\"/>\n",
       "<circle clip-path=\"url(#clip010)\" cx=\"2082.71\" cy=\"216.178\" r=\"23\" fill=\"#e26f46\" fill-rule=\"evenodd\" fill-opacity=\"1\" stroke=\"#000000\" stroke-opacity=\"1\" stroke-width=\"5.12\"/>\n",
       "<circle clip-path=\"url(#clip010)\" cx=\"2082.71\" cy=\"216.178\" r=\"23\" fill=\"#e26f46\" fill-rule=\"evenodd\" fill-opacity=\"1\" stroke=\"#000000\" stroke-opacity=\"1\" stroke-width=\"5.12\"/>\n",
       "<circle clip-path=\"url(#clip010)\" cx=\"2082.71\" cy=\"216.178\" r=\"23\" fill=\"#e26f46\" fill-rule=\"evenodd\" fill-opacity=\"1\" stroke=\"#000000\" stroke-opacity=\"1\" stroke-width=\"5.12\"/>\n",
       "<circle clip-path=\"url(#clip010)\" cx=\"2082.71\" cy=\"216.178\" r=\"23\" fill=\"#e26f46\" fill-rule=\"evenodd\" fill-opacity=\"1\" stroke=\"#000000\" stroke-opacity=\"1\" stroke-width=\"5.12\"/>\n",
       "<circle clip-path=\"url(#clip010)\" cx=\"2082.71\" cy=\"216.178\" r=\"23\" fill=\"#e26f46\" fill-rule=\"evenodd\" fill-opacity=\"1\" stroke=\"#000000\" stroke-opacity=\"1\" stroke-width=\"5.12\"/>\n",
       "<circle clip-path=\"url(#clip010)\" cx=\"2082.71\" cy=\"216.178\" r=\"23\" fill=\"#e26f46\" fill-rule=\"evenodd\" fill-opacity=\"1\" stroke=\"#000000\" stroke-opacity=\"1\" stroke-width=\"5.12\"/>\n",
       "<circle clip-path=\"url(#clip010)\" cx=\"2082.71\" cy=\"216.178\" r=\"23\" fill=\"#e26f46\" fill-rule=\"evenodd\" fill-opacity=\"1\" stroke=\"#000000\" stroke-opacity=\"1\" stroke-width=\"5.12\"/>\n",
       "<circle clip-path=\"url(#clip010)\" cx=\"2082.71\" cy=\"216.178\" r=\"23\" fill=\"#e26f46\" fill-rule=\"evenodd\" fill-opacity=\"1\" stroke=\"#000000\" stroke-opacity=\"1\" stroke-width=\"5.12\"/>\n",
       "<circle clip-path=\"url(#clip010)\" cx=\"2082.71\" cy=\"216.178\" r=\"23\" fill=\"#e26f46\" fill-rule=\"evenodd\" fill-opacity=\"1\" stroke=\"#000000\" stroke-opacity=\"1\" stroke-width=\"5.12\"/>\n",
       "<circle clip-path=\"url(#clip010)\" cx=\"2082.71\" cy=\"216.178\" r=\"23\" fill=\"#e26f46\" fill-rule=\"evenodd\" fill-opacity=\"1\" stroke=\"#000000\" stroke-opacity=\"1\" stroke-width=\"5.12\"/>\n",
       "<circle clip-path=\"url(#clip010)\" cx=\"2082.71\" cy=\"216.178\" r=\"23\" fill=\"#e26f46\" fill-rule=\"evenodd\" fill-opacity=\"1\" stroke=\"#000000\" stroke-opacity=\"1\" stroke-width=\"5.12\"/>\n",
       "<circle clip-path=\"url(#clip010)\" cx=\"2082.71\" cy=\"216.178\" r=\"23\" fill=\"#e26f46\" fill-rule=\"evenodd\" fill-opacity=\"1\" stroke=\"#000000\" stroke-opacity=\"1\" stroke-width=\"5.12\"/>\n",
       "<circle clip-path=\"url(#clip010)\" cx=\"2082.71\" cy=\"216.178\" r=\"23\" fill=\"#e26f46\" fill-rule=\"evenodd\" fill-opacity=\"1\" stroke=\"#000000\" stroke-opacity=\"1\" stroke-width=\"5.12\"/>\n",
       "<circle clip-path=\"url(#clip010)\" cx=\"2082.71\" cy=\"216.178\" r=\"23\" fill=\"#e26f46\" fill-rule=\"evenodd\" fill-opacity=\"1\" stroke=\"#000000\" stroke-opacity=\"1\" stroke-width=\"5.12\"/>\n",
       "<circle clip-path=\"url(#clip010)\" cx=\"2082.71\" cy=\"216.178\" r=\"23\" fill=\"#e26f46\" fill-rule=\"evenodd\" fill-opacity=\"1\" stroke=\"#000000\" stroke-opacity=\"1\" stroke-width=\"5.12\"/>\n",
       "<circle clip-path=\"url(#clip010)\" cx=\"2082.71\" cy=\"216.178\" r=\"23\" fill=\"#e26f46\" fill-rule=\"evenodd\" fill-opacity=\"1\" stroke=\"#000000\" stroke-opacity=\"1\" stroke-width=\"5.12\"/>\n",
       "<circle clip-path=\"url(#clip010)\" cx=\"2082.71\" cy=\"216.178\" r=\"23\" fill=\"#e26f46\" fill-rule=\"evenodd\" fill-opacity=\"1\" stroke=\"#000000\" stroke-opacity=\"1\" stroke-width=\"5.12\"/>\n",
       "<circle clip-path=\"url(#clip010)\" cx=\"2082.71\" cy=\"216.178\" r=\"23\" fill=\"#e26f46\" fill-rule=\"evenodd\" fill-opacity=\"1\" stroke=\"#000000\" stroke-opacity=\"1\" stroke-width=\"5.12\"/>\n",
       "<circle clip-path=\"url(#clip010)\" cx=\"2082.71\" cy=\"216.178\" r=\"23\" fill=\"#e26f46\" fill-rule=\"evenodd\" fill-opacity=\"1\" stroke=\"#000000\" stroke-opacity=\"1\" stroke-width=\"5.12\"/>\n",
       "<circle clip-path=\"url(#clip010)\" cx=\"2082.71\" cy=\"216.178\" r=\"23\" fill=\"#e26f46\" fill-rule=\"evenodd\" fill-opacity=\"1\" stroke=\"#000000\" stroke-opacity=\"1\" stroke-width=\"5.12\"/>\n",
       "<circle clip-path=\"url(#clip010)\" cx=\"2082.71\" cy=\"216.178\" r=\"23\" fill=\"#e26f46\" fill-rule=\"evenodd\" fill-opacity=\"1\" stroke=\"#000000\" stroke-opacity=\"1\" stroke-width=\"5.12\"/>\n",
       "<circle clip-path=\"url(#clip010)\" cx=\"2082.71\" cy=\"216.178\" r=\"23\" fill=\"#e26f46\" fill-rule=\"evenodd\" fill-opacity=\"1\" stroke=\"#000000\" stroke-opacity=\"1\" stroke-width=\"5.12\"/>\n",
       "<circle clip-path=\"url(#clip010)\" cx=\"2082.71\" cy=\"216.178\" r=\"23\" fill=\"#e26f46\" fill-rule=\"evenodd\" fill-opacity=\"1\" stroke=\"#000000\" stroke-opacity=\"1\" stroke-width=\"5.12\"/>\n",
       "<circle clip-path=\"url(#clip010)\" cx=\"2082.71\" cy=\"216.178\" r=\"23\" fill=\"#e26f46\" fill-rule=\"evenodd\" fill-opacity=\"1\" stroke=\"#000000\" stroke-opacity=\"1\" stroke-width=\"5.12\"/>\n",
       "<circle clip-path=\"url(#clip010)\" cx=\"2082.71\" cy=\"216.178\" r=\"23\" fill=\"#e26f46\" fill-rule=\"evenodd\" fill-opacity=\"1\" stroke=\"#000000\" stroke-opacity=\"1\" stroke-width=\"5.12\"/>\n",
       "<circle clip-path=\"url(#clip010)\" cx=\"2082.71\" cy=\"216.178\" r=\"23\" fill=\"#e26f46\" fill-rule=\"evenodd\" fill-opacity=\"1\" stroke=\"#000000\" stroke-opacity=\"1\" stroke-width=\"5.12\"/>\n",
       "<circle clip-path=\"url(#clip010)\" cx=\"2082.71\" cy=\"216.178\" r=\"23\" fill=\"#e26f46\" fill-rule=\"evenodd\" fill-opacity=\"1\" stroke=\"#000000\" stroke-opacity=\"1\" stroke-width=\"5.12\"/>\n",
       "<circle clip-path=\"url(#clip010)\" cx=\"2082.71\" cy=\"216.178\" r=\"23\" fill=\"#e26f46\" fill-rule=\"evenodd\" fill-opacity=\"1\" stroke=\"#000000\" stroke-opacity=\"1\" stroke-width=\"5.12\"/>\n",
       "<circle clip-path=\"url(#clip010)\" cx=\"2082.71\" cy=\"216.178\" r=\"23\" fill=\"#e26f46\" fill-rule=\"evenodd\" fill-opacity=\"1\" stroke=\"#000000\" stroke-opacity=\"1\" stroke-width=\"5.12\"/>\n",
       "<circle clip-path=\"url(#clip010)\" cx=\"2082.71\" cy=\"216.178\" r=\"23\" fill=\"#e26f46\" fill-rule=\"evenodd\" fill-opacity=\"1\" stroke=\"#000000\" stroke-opacity=\"1\" stroke-width=\"5.12\"/>\n",
       "<circle clip-path=\"url(#clip010)\" cx=\"2082.71\" cy=\"216.178\" r=\"23\" fill=\"#e26f46\" fill-rule=\"evenodd\" fill-opacity=\"1\" stroke=\"#000000\" stroke-opacity=\"1\" stroke-width=\"5.12\"/>\n",
       "<circle clip-path=\"url(#clip010)\" cx=\"2082.71\" cy=\"216.178\" r=\"23\" fill=\"#e26f46\" fill-rule=\"evenodd\" fill-opacity=\"1\" stroke=\"#000000\" stroke-opacity=\"1\" stroke-width=\"5.12\"/>\n",
       "<circle clip-path=\"url(#clip010)\" cx=\"2082.71\" cy=\"216.178\" r=\"23\" fill=\"#e26f46\" fill-rule=\"evenodd\" fill-opacity=\"1\" stroke=\"#000000\" stroke-opacity=\"1\" stroke-width=\"5.12\"/>\n",
       "<circle clip-path=\"url(#clip010)\" cx=\"2082.71\" cy=\"216.178\" r=\"23\" fill=\"#e26f46\" fill-rule=\"evenodd\" fill-opacity=\"1\" stroke=\"#000000\" stroke-opacity=\"1\" stroke-width=\"5.12\"/>\n",
       "<circle clip-path=\"url(#clip010)\" cx=\"2082.71\" cy=\"216.178\" r=\"23\" fill=\"#e26f46\" fill-rule=\"evenodd\" fill-opacity=\"1\" stroke=\"#000000\" stroke-opacity=\"1\" stroke-width=\"5.12\"/>\n",
       "<circle clip-path=\"url(#clip010)\" cx=\"2082.71\" cy=\"216.178\" r=\"23\" fill=\"#e26f46\" fill-rule=\"evenodd\" fill-opacity=\"1\" stroke=\"#000000\" stroke-opacity=\"1\" stroke-width=\"5.12\"/>\n",
       "<circle clip-path=\"url(#clip010)\" cx=\"2082.71\" cy=\"216.178\" r=\"23\" fill=\"#e26f46\" fill-rule=\"evenodd\" fill-opacity=\"1\" stroke=\"#000000\" stroke-opacity=\"1\" stroke-width=\"5.12\"/>\n",
       "<circle clip-path=\"url(#clip010)\" cx=\"2082.71\" cy=\"216.178\" r=\"23\" fill=\"#e26f46\" fill-rule=\"evenodd\" fill-opacity=\"1\" stroke=\"#000000\" stroke-opacity=\"1\" stroke-width=\"5.12\"/>\n",
       "<circle clip-path=\"url(#clip010)\" cx=\"2082.71\" cy=\"216.178\" r=\"23\" fill=\"#e26f46\" fill-rule=\"evenodd\" fill-opacity=\"1\" stroke=\"#000000\" stroke-opacity=\"1\" stroke-width=\"5.12\"/>\n",
       "<circle clip-path=\"url(#clip010)\" cx=\"2082.71\" cy=\"216.178\" r=\"23\" fill=\"#e26f46\" fill-rule=\"evenodd\" fill-opacity=\"1\" stroke=\"#000000\" stroke-opacity=\"1\" stroke-width=\"5.12\"/>\n",
       "<circle clip-path=\"url(#clip010)\" cx=\"2082.71\" cy=\"216.178\" r=\"23\" fill=\"#e26f46\" fill-rule=\"evenodd\" fill-opacity=\"1\" stroke=\"#000000\" stroke-opacity=\"1\" stroke-width=\"5.12\"/>\n",
       "<circle clip-path=\"url(#clip010)\" cx=\"2082.71\" cy=\"216.178\" r=\"23\" fill=\"#e26f46\" fill-rule=\"evenodd\" fill-opacity=\"1\" stroke=\"#000000\" stroke-opacity=\"1\" stroke-width=\"5.12\"/>\n",
       "<circle clip-path=\"url(#clip010)\" cx=\"2082.71\" cy=\"216.178\" r=\"23\" fill=\"#e26f46\" fill-rule=\"evenodd\" fill-opacity=\"1\" stroke=\"#000000\" stroke-opacity=\"1\" stroke-width=\"5.12\"/>\n",
       "<circle clip-path=\"url(#clip010)\" cx=\"2082.71\" cy=\"216.178\" r=\"23\" fill=\"#e26f46\" fill-rule=\"evenodd\" fill-opacity=\"1\" stroke=\"#000000\" stroke-opacity=\"1\" stroke-width=\"5.12\"/>\n",
       "<circle clip-path=\"url(#clip010)\" cx=\"2082.71\" cy=\"216.178\" r=\"23\" fill=\"#e26f46\" fill-rule=\"evenodd\" fill-opacity=\"1\" stroke=\"#000000\" stroke-opacity=\"1\" stroke-width=\"5.12\"/>\n",
       "<circle clip-path=\"url(#clip010)\" cx=\"2082.71\" cy=\"216.178\" r=\"23\" fill=\"#e26f46\" fill-rule=\"evenodd\" fill-opacity=\"1\" stroke=\"#000000\" stroke-opacity=\"1\" stroke-width=\"5.12\"/>\n",
       "<circle clip-path=\"url(#clip010)\" cx=\"2082.71\" cy=\"216.178\" r=\"23\" fill=\"#e26f46\" fill-rule=\"evenodd\" fill-opacity=\"1\" stroke=\"#000000\" stroke-opacity=\"1\" stroke-width=\"5.12\"/>\n",
       "<circle clip-path=\"url(#clip010)\" cx=\"2082.71\" cy=\"216.178\" r=\"23\" fill=\"#e26f46\" fill-rule=\"evenodd\" fill-opacity=\"1\" stroke=\"#000000\" stroke-opacity=\"1\" stroke-width=\"5.12\"/>\n",
       "<circle clip-path=\"url(#clip010)\" cx=\"2082.71\" cy=\"216.178\" r=\"23\" fill=\"#e26f46\" fill-rule=\"evenodd\" fill-opacity=\"1\" stroke=\"#000000\" stroke-opacity=\"1\" stroke-width=\"5.12\"/>\n",
       "<circle clip-path=\"url(#clip010)\" cx=\"2082.71\" cy=\"216.178\" r=\"23\" fill=\"#e26f46\" fill-rule=\"evenodd\" fill-opacity=\"1\" stroke=\"#000000\" stroke-opacity=\"1\" stroke-width=\"5.12\"/>\n",
       "<circle clip-path=\"url(#clip010)\" cx=\"2082.71\" cy=\"216.178\" r=\"23\" fill=\"#e26f46\" fill-rule=\"evenodd\" fill-opacity=\"1\" stroke=\"#000000\" stroke-opacity=\"1\" stroke-width=\"5.12\"/>\n",
       "<circle clip-path=\"url(#clip010)\" cx=\"2082.71\" cy=\"216.178\" r=\"23\" fill=\"#e26f46\" fill-rule=\"evenodd\" fill-opacity=\"1\" stroke=\"#000000\" stroke-opacity=\"1\" stroke-width=\"5.12\"/>\n",
       "<circle clip-path=\"url(#clip010)\" cx=\"2082.71\" cy=\"216.178\" r=\"23\" fill=\"#e26f46\" fill-rule=\"evenodd\" fill-opacity=\"1\" stroke=\"#000000\" stroke-opacity=\"1\" stroke-width=\"5.12\"/>\n",
       "<circle clip-path=\"url(#clip010)\" cx=\"2082.71\" cy=\"216.178\" r=\"23\" fill=\"#e26f46\" fill-rule=\"evenodd\" fill-opacity=\"1\" stroke=\"#000000\" stroke-opacity=\"1\" stroke-width=\"5.12\"/>\n",
       "<circle clip-path=\"url(#clip010)\" cx=\"2082.71\" cy=\"216.178\" r=\"23\" fill=\"#e26f46\" fill-rule=\"evenodd\" fill-opacity=\"1\" stroke=\"#000000\" stroke-opacity=\"1\" stroke-width=\"5.12\"/>\n",
       "<circle clip-path=\"url(#clip010)\" cx=\"2082.71\" cy=\"216.178\" r=\"23\" fill=\"#e26f46\" fill-rule=\"evenodd\" fill-opacity=\"1\" stroke=\"#000000\" stroke-opacity=\"1\" stroke-width=\"5.12\"/>\n",
       "<path clip-path=\"url(#clip010)\" d=\"M 0 0 M2193.9 235.865 Q2192.09 240.495 2190.38 241.907 Q2188.67 243.319 2185.79 243.319 L2182.39 243.319 L2182.39 239.754 L2184.89 239.754 Q2186.65 239.754 2187.62 238.92 Q2188.6 238.087 2189.78 234.985 L2190.54 233.041 L2180.05 207.532 L2184.57 207.532 L2192.67 227.809 L2200.77 207.532 L2205.29 207.532 L2193.9 235.865 Z\" fill=\"#000000\" fill-rule=\"evenodd\" fill-opacity=\"1\" /><path clip-path=\"url(#clip010)\" d=\"M 0 0 M2214.38 229.522 L2230.7 229.522 L2230.7 233.458 L2208.76 233.458 L2208.76 229.522 Q2211.42 226.768 2216 222.138 Q2220.61 217.485 2221.79 216.143 Q2224.04 213.62 2224.92 211.884 Q2225.82 210.124 2225.82 208.435 Q2225.82 205.68 2223.87 203.944 Q2221.95 202.208 2218.85 202.208 Q2216.65 202.208 2214.2 202.972 Q2211.77 203.735 2208.99 205.286 L2208.99 200.564 Q2211.81 199.43 2214.27 198.851 Q2216.72 198.273 2218.76 198.273 Q2224.13 198.273 2227.32 200.958 Q2230.52 203.643 2230.52 208.134 Q2230.52 210.263 2229.71 212.185 Q2228.92 214.083 2226.81 216.675 Q2226.23 217.347 2223.13 220.564 Q2220.03 223.759 2214.38 229.522 Z\" fill=\"#000000\" fill-rule=\"evenodd\" fill-opacity=\"1\" /></svg>\n"
      ]
     },
     "execution_count": 12,
     "metadata": {},
     "output_type": "execute_result"
    }
   ],
   "source": [
    "plot(x -> sin(1/x), 0, 1)\n",
    "scatter!(mid.(unique_roots), zero)"
   ]
  },
  {
   "cell_type": "markdown",
   "metadata": {},
   "source": [
    "The region where no unique roots are found:"
   ]
  },
  {
   "cell_type": "code",
   "execution_count": 13,
   "metadata": {},
   "outputs": [
    {
     "data": {
      "text/plain": [
       "[0, 0.017687]"
      ]
     },
     "execution_count": 13,
     "metadata": {},
     "output_type": "execute_result"
    }
   ],
   "source": [
    "non_unique = rts[(!isunique).(rts)]\n",
    "\n",
    "reduce(∪, interval.(non_unique))"
   ]
  },
  {
   "cell_type": "markdown",
   "metadata": {},
   "source": [
    "We can increase the number of roots found by decreasing the tolerance:"
   ]
  },
  {
   "cell_type": "markdown",
   "metadata": {},
   "source": [
    "## Multi-dimensional functions"
   ]
  },
  {
   "cell_type": "markdown",
   "metadata": {},
   "source": [
    "The `roots` function can also be used to find roots in higher dimensions.\n"
   ]
  },
  {
   "cell_type": "markdown",
   "metadata": {},
   "source": [
    "#### Exercise\n",
    "\n",
    "Find all the roots of the following function taken from the [NLSolve.jl](https://github.com/JuliaNLSolvers/NLsolve.jl) README in the box $[-5, 5]^2$.\n",
    "\n",
    "$$g(x, y) = ( (x+3)(y^3-7)+18, \\sin(y \\exp(x)-1))$$\n",
    "\n",
    "Plot the zero level sets of the component functions and plot the roots. How many are there?"
   ]
  },
  {
   "cell_type": "markdown",
   "metadata": {},
   "source": [
    "## Iteration interface\n",
    "\n",
    "`IntervalRootFinding.jl` has a sophisticated iteration interface, thanks to Benoît Richard.\n",
    "This allows you to have fine control over the iteration process through the tree;\n",
    "see the docs for more details."
   ]
  }
 ],
 "metadata": {
  "kernelspec": {
   "display_name": "Julia 1.5.0-beta1",
   "language": "julia",
   "name": "julia-1.5"
  },
  "language_info": {
   "file_extension": ".jl",
   "mimetype": "application/julia",
   "name": "julia",
   "version": "1.5.0"
  }
 },
 "nbformat": 4,
 "nbformat_minor": 4
}
