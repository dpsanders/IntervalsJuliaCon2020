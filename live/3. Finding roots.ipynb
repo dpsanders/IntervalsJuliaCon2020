{
 "cells": [
  {
   "cell_type": "markdown",
   "metadata": {},
   "source": [
    "# 3. Finding roots"
   ]
  },
  {
   "cell_type": "code",
   "execution_count": 1,
   "metadata": {},
   "outputs": [],
   "source": [
    "using IntervalArithmetic"
   ]
  },
  {
   "cell_type": "markdown",
   "metadata": {},
   "source": [
    "We now know how to calculate an enclosure of the range of a function $f$ over an interval $X$: we evaluate $f(X)$ using interval arithmetic.\n",
    "\n",
    "How can we use this to do something useful?\n",
    "\n",
    "One key question that crops up all the time in scientific computing is finding the **roots** or **zeros** of a function $f$, i.e. the special values $x = x^*$ such that $f(x^*) = 0$. For example, to solve the equation $x = \\sin(x)$ we can rewrite this as $x - \\sin(x) = 0$, so that solutions of the equation correspond to roots of the function $f(x) = x - \\sin(x)$."
   ]
  },
  {
   "cell_type": "markdown",
   "metadata": {},
   "source": [
    "Let's start with a simple function:"
   ]
  },
  {
   "cell_type": "code",
   "execution_count": 2,
   "metadata": {},
   "outputs": [
    {
     "data": {
      "text/plain": [
       "f (generic function with 1 method)"
      ]
     },
     "execution_count": 2,
     "metadata": {},
     "output_type": "execute_result"
    }
   ],
   "source": [
    "f(x) = x^2 - 2"
   ]
  },
  {
   "cell_type": "code",
   "execution_count": 3,
   "metadata": {},
   "outputs": [],
   "source": [
    "using Plots"
   ]
  },
  {
   "cell_type": "code",
   "execution_count": 4,
   "metadata": {},
   "outputs": [
    {
     "data": {
      "image/svg+xml": [
       "<?xml version=\"1.0\" encoding=\"utf-8\"?>\n",
       "<svg xmlns=\"http://www.w3.org/2000/svg\" xmlns:xlink=\"http://www.w3.org/1999/xlink\" width=\"600\" height=\"400\" viewBox=\"0 0 2400 1600\">\n",
       "<defs>\n",
       "  <clipPath id=\"clip710\">\n",
       "    <rect x=\"0\" y=\"0\" width=\"2400\" height=\"1600\"/>\n",
       "  </clipPath>\n",
       "</defs>\n",
       "<path clip-path=\"url(#clip710)\" d=\"\n",
       "M0 1600 L2400 1600 L2400 0 L0 0  Z\n",
       "  \" fill=\"#ffffff\" fill-rule=\"evenodd\" fill-opacity=\"1\"/>\n",
       "<defs>\n",
       "  <clipPath id=\"clip711\">\n",
       "    <rect x=\"480\" y=\"0\" width=\"1681\" height=\"1600\"/>\n",
       "  </clipPath>\n",
       "</defs>\n",
       "<path clip-path=\"url(#clip710)\" d=\"\n",
       "M124.885 1486.45 L2352.76 1486.45 L2352.76 47.2441 L124.885 47.2441  Z\n",
       "  \" fill=\"#ffffff\" fill-rule=\"evenodd\" fill-opacity=\"1\"/>\n",
       "<defs>\n",
       "  <clipPath id=\"clip712\">\n",
       "    <rect x=\"124\" y=\"47\" width=\"2229\" height=\"1440\"/>\n",
       "  </clipPath>\n",
       "</defs>\n",
       "<polyline clip-path=\"url(#clip712)\" style=\"stroke:#000000; stroke-width:2; stroke-opacity:0.1; fill:none\" points=\"\n",
       "  187.938,1486.45 187.938,47.2441 \n",
       "  \"/>\n",
       "<polyline clip-path=\"url(#clip712)\" style=\"stroke:#000000; stroke-width:2; stroke-opacity:0.1; fill:none\" points=\"\n",
       "  538.232,1486.45 538.232,47.2441 \n",
       "  \"/>\n",
       "<polyline clip-path=\"url(#clip712)\" style=\"stroke:#000000; stroke-width:2; stroke-opacity:0.1; fill:none\" points=\"\n",
       "  888.527,1486.45 888.527,47.2441 \n",
       "  \"/>\n",
       "<polyline clip-path=\"url(#clip712)\" style=\"stroke:#000000; stroke-width:2; stroke-opacity:0.1; fill:none\" points=\"\n",
       "  1238.82,1486.45 1238.82,47.2441 \n",
       "  \"/>\n",
       "<polyline clip-path=\"url(#clip712)\" style=\"stroke:#000000; stroke-width:2; stroke-opacity:0.1; fill:none\" points=\"\n",
       "  1589.11,1486.45 1589.11,47.2441 \n",
       "  \"/>\n",
       "<polyline clip-path=\"url(#clip712)\" style=\"stroke:#000000; stroke-width:2; stroke-opacity:0.1; fill:none\" points=\"\n",
       "  1939.41,1486.45 1939.41,47.2441 \n",
       "  \"/>\n",
       "<polyline clip-path=\"url(#clip712)\" style=\"stroke:#000000; stroke-width:2; stroke-opacity:0.1; fill:none\" points=\"\n",
       "  2289.7,1486.45 2289.7,47.2441 \n",
       "  \"/>\n",
       "<polyline clip-path=\"url(#clip712)\" style=\"stroke:#000000; stroke-width:2; stroke-opacity:0.1; fill:none\" points=\"\n",
       "  124.885,1445.75 2352.76,1445.75 \n",
       "  \"/>\n",
       "<polyline clip-path=\"url(#clip712)\" style=\"stroke:#000000; stroke-width:2; stroke-opacity:0.1; fill:none\" points=\"\n",
       "  124.885,1144.02 2352.76,1144.02 \n",
       "  \"/>\n",
       "<polyline clip-path=\"url(#clip712)\" style=\"stroke:#000000; stroke-width:2; stroke-opacity:0.1; fill:none\" points=\"\n",
       "  124.885,842.294 2352.76,842.294 \n",
       "  \"/>\n",
       "<polyline clip-path=\"url(#clip712)\" style=\"stroke:#000000; stroke-width:2; stroke-opacity:0.1; fill:none\" points=\"\n",
       "  124.885,540.567 2352.76,540.567 \n",
       "  \"/>\n",
       "<polyline clip-path=\"url(#clip712)\" style=\"stroke:#000000; stroke-width:2; stroke-opacity:0.1; fill:none\" points=\"\n",
       "  124.885,238.84 2352.76,238.84 \n",
       "  \"/>\n",
       "<polyline clip-path=\"url(#clip710)\" style=\"stroke:#000000; stroke-width:4; stroke-opacity:1; fill:none\" points=\"\n",
       "  124.885,1486.45 2352.76,1486.45 \n",
       "  \"/>\n",
       "<polyline clip-path=\"url(#clip710)\" style=\"stroke:#000000; stroke-width:4; stroke-opacity:1; fill:none\" points=\"\n",
       "  124.885,1486.45 124.885,47.2441 \n",
       "  \"/>\n",
       "<polyline clip-path=\"url(#clip710)\" style=\"stroke:#000000; stroke-width:4; stroke-opacity:1; fill:none\" points=\"\n",
       "  187.938,1486.45 187.938,1469.18 \n",
       "  \"/>\n",
       "<polyline clip-path=\"url(#clip710)\" style=\"stroke:#000000; stroke-width:4; stroke-opacity:1; fill:none\" points=\"\n",
       "  538.232,1486.45 538.232,1469.18 \n",
       "  \"/>\n",
       "<polyline clip-path=\"url(#clip710)\" style=\"stroke:#000000; stroke-width:4; stroke-opacity:1; fill:none\" points=\"\n",
       "  888.527,1486.45 888.527,1469.18 \n",
       "  \"/>\n",
       "<polyline clip-path=\"url(#clip710)\" style=\"stroke:#000000; stroke-width:4; stroke-opacity:1; fill:none\" points=\"\n",
       "  1238.82,1486.45 1238.82,1469.18 \n",
       "  \"/>\n",
       "<polyline clip-path=\"url(#clip710)\" style=\"stroke:#000000; stroke-width:4; stroke-opacity:1; fill:none\" points=\"\n",
       "  1589.11,1486.45 1589.11,1469.18 \n",
       "  \"/>\n",
       "<polyline clip-path=\"url(#clip710)\" style=\"stroke:#000000; stroke-width:4; stroke-opacity:1; fill:none\" points=\"\n",
       "  1939.41,1486.45 1939.41,1469.18 \n",
       "  \"/>\n",
       "<polyline clip-path=\"url(#clip710)\" style=\"stroke:#000000; stroke-width:4; stroke-opacity:1; fill:none\" points=\"\n",
       "  2289.7,1486.45 2289.7,1469.18 \n",
       "  \"/>\n",
       "<polyline clip-path=\"url(#clip710)\" style=\"stroke:#000000; stroke-width:4; stroke-opacity:1; fill:none\" points=\"\n",
       "  124.885,1445.75 151.62,1445.75 \n",
       "  \"/>\n",
       "<polyline clip-path=\"url(#clip710)\" style=\"stroke:#000000; stroke-width:4; stroke-opacity:1; fill:none\" points=\"\n",
       "  124.885,1144.02 151.62,1144.02 \n",
       "  \"/>\n",
       "<polyline clip-path=\"url(#clip710)\" style=\"stroke:#000000; stroke-width:4; stroke-opacity:1; fill:none\" points=\"\n",
       "  124.885,842.294 151.62,842.294 \n",
       "  \"/>\n",
       "<polyline clip-path=\"url(#clip710)\" style=\"stroke:#000000; stroke-width:4; stroke-opacity:1; fill:none\" points=\"\n",
       "  124.885,540.567 151.62,540.567 \n",
       "  \"/>\n",
       "<polyline clip-path=\"url(#clip710)\" style=\"stroke:#000000; stroke-width:4; stroke-opacity:1; fill:none\" points=\"\n",
       "  124.885,238.84 151.62,238.84 \n",
       "  \"/>\n",
       "<path clip-path=\"url(#clip710)\" d=\"M 0 0 M168.517 1525.04 L180.994 1525.04 L180.994 1528.83 L168.517 1528.83 L168.517 1525.04 Z\" fill=\"#000000\" fill-rule=\"evenodd\" fill-opacity=\"1\" /><path clip-path=\"url(#clip710)\" d=\"M 0 0 M200.23 1521.29 Q203.586 1522 205.461 1524.27 Q207.36 1526.54 207.36 1529.87 Q207.36 1534.99 203.841 1537.79 Q200.323 1540.59 193.841 1540.59 Q191.665 1540.59 189.35 1540.15 Q187.059 1539.73 184.605 1538.88 L184.605 1534.36 Q186.549 1535.5 188.864 1536.08 Q191.179 1536.66 193.702 1536.66 Q198.1 1536.66 200.392 1534.92 Q202.707 1533.18 202.707 1529.87 Q202.707 1526.82 200.554 1525.11 Q198.424 1523.37 194.605 1523.37 L190.577 1523.37 L190.577 1519.53 L194.79 1519.53 Q198.239 1519.53 200.068 1518.16 Q201.897 1516.77 201.897 1514.18 Q201.897 1511.52 199.998 1510.11 Q198.124 1508.67 194.605 1508.67 Q192.684 1508.67 190.485 1509.09 Q188.286 1509.5 185.647 1510.38 L185.647 1506.22 Q188.309 1505.48 190.624 1505.11 Q192.962 1504.73 195.022 1504.73 Q200.346 1504.73 203.448 1507.17 Q206.549 1509.57 206.549 1513.69 Q206.549 1516.56 204.906 1518.55 Q203.262 1520.52 200.23 1521.29 Z\" fill=\"#000000\" fill-rule=\"evenodd\" fill-opacity=\"1\" /><path clip-path=\"url(#clip710)\" d=\"M 0 0 M519.286 1525.04 L531.763 1525.04 L531.763 1528.83 L519.286 1528.83 L519.286 1525.04 Z\" fill=\"#000000\" fill-rule=\"evenodd\" fill-opacity=\"1\" /><path clip-path=\"url(#clip710)\" d=\"M 0 0 M540.86 1535.98 L557.179 1535.98 L557.179 1539.92 L535.235 1539.92 L535.235 1535.98 Q537.897 1533.23 542.48 1528.6 Q547.087 1523.95 548.267 1522.61 Q550.513 1520.08 551.392 1518.35 Q552.295 1516.59 552.295 1514.9 Q552.295 1512.14 550.35 1510.41 Q548.429 1508.67 545.327 1508.67 Q543.128 1508.67 540.675 1509.43 Q538.244 1510.2 535.466 1511.75 L535.466 1507.03 Q538.29 1505.89 540.744 1505.31 Q543.198 1504.73 545.235 1504.73 Q550.605 1504.73 553.8 1507.42 Q556.994 1510.11 556.994 1514.6 Q556.994 1516.73 556.184 1518.65 Q555.397 1520.54 553.29 1523.14 Q552.712 1523.81 549.61 1527.03 Q546.508 1530.22 540.86 1535.98 Z\" fill=\"#000000\" fill-rule=\"evenodd\" fill-opacity=\"1\" /><path clip-path=\"url(#clip710)\" d=\"M 0 0 M869.395 1525.04 L881.872 1525.04 L881.872 1528.83 L869.395 1528.83 L869.395 1525.04 Z\" fill=\"#000000\" fill-rule=\"evenodd\" fill-opacity=\"1\" /><path clip-path=\"url(#clip710)\" d=\"M 0 0 M887.751 1535.98 L895.39 1535.98 L895.39 1509.62 L887.08 1511.29 L887.08 1507.03 L895.344 1505.36 L900.02 1505.36 L900.02 1535.98 L907.658 1535.98 L907.658 1539.92 L887.751 1539.92 L887.751 1535.98 Z\" fill=\"#000000\" fill-rule=\"evenodd\" fill-opacity=\"1\" /><path clip-path=\"url(#clip710)\" d=\"M 0 0 M1238.82 1508.44 Q1235.21 1508.44 1233.38 1512 Q1231.58 1515.55 1231.58 1522.67 Q1231.58 1529.78 1233.38 1533.35 Q1235.21 1536.89 1238.82 1536.89 Q1242.45 1536.89 1244.26 1533.35 Q1246.09 1529.78 1246.09 1522.67 Q1246.09 1515.55 1244.26 1512 Q1242.45 1508.44 1238.82 1508.44 M1238.82 1504.73 Q1244.63 1504.73 1247.69 1509.34 Q1250.77 1513.92 1250.77 1522.67 Q1250.77 1531.4 1247.69 1536.01 Q1244.63 1540.59 1238.82 1540.59 Q1233.01 1540.59 1229.93 1536.01 Q1226.88 1531.4 1226.88 1522.67 Q1226.88 1513.92 1229.93 1509.34 Q1233.01 1504.73 1238.82 1504.73 Z\" fill=\"#000000\" fill-rule=\"evenodd\" fill-opacity=\"1\" /><path clip-path=\"url(#clip710)\" d=\"M 0 0 M1579.5 1535.98 L1587.14 1535.98 L1587.14 1509.62 L1578.83 1511.29 L1578.83 1507.03 L1587.09 1505.36 L1591.77 1505.36 L1591.77 1535.98 L1599.4 1535.98 L1599.4 1539.92 L1579.5 1539.92 L1579.5 1535.98 Z\" fill=\"#000000\" fill-rule=\"evenodd\" fill-opacity=\"1\" /><path clip-path=\"url(#clip710)\" d=\"M 0 0 M1934.06 1535.98 L1950.38 1535.98 L1950.38 1539.92 L1928.44 1539.92 L1928.44 1535.98 Q1931.1 1533.23 1935.68 1528.6 Q1940.29 1523.95 1941.47 1522.61 Q1943.71 1520.08 1944.59 1518.35 Q1945.5 1516.59 1945.5 1514.9 Q1945.5 1512.14 1943.55 1510.41 Q1941.63 1508.67 1938.53 1508.67 Q1936.33 1508.67 1933.88 1509.43 Q1931.45 1510.2 1928.67 1511.75 L1928.67 1507.03 Q1931.49 1505.89 1933.95 1505.31 Q1936.4 1504.73 1938.44 1504.73 Q1943.81 1504.73 1947 1507.42 Q1950.2 1510.11 1950.2 1514.6 Q1950.2 1516.73 1949.39 1518.65 Q1948.6 1520.54 1946.49 1523.14 Q1945.91 1523.81 1942.81 1527.03 Q1939.71 1530.22 1934.06 1535.98 Z\" fill=\"#000000\" fill-rule=\"evenodd\" fill-opacity=\"1\" /><path clip-path=\"url(#clip710)\" d=\"M 0 0 M2293.95 1521.29 Q2297.31 1522 2299.18 1524.27 Q2301.08 1526.54 2301.08 1529.87 Q2301.08 1534.99 2297.56 1537.79 Q2294.04 1540.59 2287.56 1540.59 Q2285.39 1540.59 2283.07 1540.15 Q2280.78 1539.73 2278.33 1538.88 L2278.33 1534.36 Q2280.27 1535.5 2282.58 1536.08 Q2284.9 1536.66 2287.42 1536.66 Q2291.82 1536.66 2294.11 1534.92 Q2296.43 1533.18 2296.43 1529.87 Q2296.43 1526.82 2294.27 1525.11 Q2292.15 1523.37 2288.33 1523.37 L2284.3 1523.37 L2284.3 1519.53 L2288.51 1519.53 Q2291.96 1519.53 2293.79 1518.16 Q2295.62 1516.77 2295.62 1514.18 Q2295.62 1511.52 2293.72 1510.11 Q2291.84 1508.67 2288.33 1508.67 Q2286.4 1508.67 2284.21 1509.09 Q2282.01 1509.5 2279.37 1510.38 L2279.37 1506.22 Q2282.03 1505.48 2284.34 1505.11 Q2286.68 1504.73 2288.74 1504.73 Q2294.07 1504.73 2297.17 1507.17 Q2300.27 1509.57 2300.27 1513.69 Q2300.27 1516.56 2298.63 1518.55 Q2296.98 1520.52 2293.95 1521.29 Z\" fill=\"#000000\" fill-rule=\"evenodd\" fill-opacity=\"1\" /><path clip-path=\"url(#clip710)\" d=\"M 0 0 M62.9921 1448.14 L75.4689 1448.14 L75.4689 1451.94 L62.9921 1451.94 L62.9921 1448.14 Z\" fill=\"#000000\" fill-rule=\"evenodd\" fill-opacity=\"1\" /><path clip-path=\"url(#clip710)\" d=\"M 0 0 M84.5661 1459.09 L100.885 1459.09 L100.885 1463.03 L78.9411 1463.03 L78.9411 1459.09 Q81.6031 1456.34 86.1864 1451.71 Q90.7929 1447.06 91.9735 1445.71 Q94.2188 1443.19 95.0984 1441.45 Q96.0012 1439.7 96.0012 1438.01 Q96.0012 1435.25 94.0568 1433.52 Q92.1355 1431.78 89.0337 1431.78 Q86.8346 1431.78 84.3809 1432.54 Q81.9504 1433.31 79.1726 1434.86 L79.1726 1430.14 Q81.9967 1429 84.4503 1428.42 Q86.904 1427.84 88.9411 1427.84 Q94.3114 1427.84 97.5058 1430.53 Q100.7 1433.21 100.7 1437.7 Q100.7 1439.83 99.8901 1441.76 Q99.103 1443.65 96.9966 1446.25 Q96.4179 1446.92 93.316 1450.14 Q90.2142 1453.33 84.5661 1459.09 Z\" fill=\"#000000\" fill-rule=\"evenodd\" fill-opacity=\"1\" /><path clip-path=\"url(#clip710)\" d=\"M 0 0 M88.9411 1129.82 Q85.33 1129.82 83.5013 1133.39 Q81.6957 1136.93 81.6957 1144.06 Q81.6957 1151.16 83.5013 1154.73 Q85.33 1158.27 88.9411 1158.27 Q92.5753 1158.27 94.3808 1154.73 Q96.2095 1151.16 96.2095 1144.06 Q96.2095 1136.93 94.3808 1133.39 Q92.5753 1129.82 88.9411 1129.82 M88.9411 1126.12 Q94.7512 1126.12 97.8068 1130.72 Q100.885 1135.31 100.885 1144.06 Q100.885 1152.78 97.8068 1157.39 Q94.7512 1161.97 88.9411 1161.97 Q83.1309 1161.97 80.0522 1157.39 Q76.9967 1152.78 76.9967 1144.06 Q76.9967 1135.31 80.0522 1130.72 Q83.1309 1126.12 88.9411 1126.12 Z\" fill=\"#000000\" fill-rule=\"evenodd\" fill-opacity=\"1\" /><path clip-path=\"url(#clip710)\" d=\"M 0 0 M84.5661 855.639 L100.885 855.639 L100.885 859.574 L78.9411 859.574 L78.9411 855.639 Q81.6031 852.885 86.1864 848.255 Q90.7929 843.602 91.9735 842.26 Q94.2188 839.736 95.0984 838 Q96.0012 836.241 96.0012 834.551 Q96.0012 831.797 94.0568 830.061 Q92.1355 828.324 89.0337 828.324 Q86.8346 828.324 84.3809 829.088 Q81.9504 829.852 79.1726 831.403 L79.1726 826.681 Q81.9967 825.547 84.4503 824.968 Q86.904 824.389 88.9411 824.389 Q94.3114 824.389 97.5058 827.074 Q100.7 829.76 100.7 834.25 Q100.7 836.38 99.8901 838.301 Q99.103 840.199 96.9966 842.792 Q96.4179 843.463 93.316 846.681 Q90.2142 849.875 84.5661 855.639 Z\" fill=\"#000000\" fill-rule=\"evenodd\" fill-opacity=\"1\" /><path clip-path=\"url(#clip710)\" d=\"M 0 0 M91.3022 527.361 L79.4967 545.81 L91.3022 545.81 L91.3022 527.361 M90.0753 523.287 L95.9549 523.287 L95.9549 545.81 L100.885 545.81 L100.885 549.699 L95.9549 549.699 L95.9549 557.847 L91.3022 557.847 L91.3022 549.699 L75.7004 549.699 L75.7004 545.185 L90.0753 523.287 Z\" fill=\"#000000\" fill-rule=\"evenodd\" fill-opacity=\"1\" /><path clip-path=\"url(#clip710)\" d=\"M 0 0 M89.3577 236.976 Q86.2096 236.976 84.3578 239.129 Q82.5291 241.282 82.5291 245.032 Q82.5291 248.759 84.3578 250.935 Q86.2096 253.087 89.3577 253.087 Q92.5059 253.087 94.3346 250.935 Q96.1864 248.759 96.1864 245.032 Q96.1864 241.282 94.3346 239.129 Q92.5059 236.976 89.3577 236.976 M98.6401 222.324 L98.6401 226.583 Q96.8808 225.75 95.0753 225.31 Q93.2929 224.87 91.5336 224.87 Q86.904 224.87 84.4503 227.995 Q82.0198 231.12 81.6726 237.439 Q83.0383 235.426 85.0985 234.361 Q87.1587 233.273 89.6355 233.273 Q94.8438 233.273 97.8531 236.444 Q100.885 239.592 100.885 245.032 Q100.885 250.356 97.7373 253.574 Q94.5892 256.791 89.3577 256.791 Q83.3624 256.791 80.1911 252.208 Q77.0198 247.601 77.0198 238.875 Q77.0198 230.68 80.9087 225.819 Q84.7976 220.935 91.3485 220.935 Q93.1077 220.935 94.8901 221.282 Q96.6956 221.629 98.6401 222.324 Z\" fill=\"#000000\" fill-rule=\"evenodd\" fill-opacity=\"1\" /><polyline clip-path=\"url(#clip712)\" style=\"stroke:#009af9; stroke-width:4; stroke-opacity:1; fill:none\" points=\"\n",
       "  187.938,87.9763 198.201,114.366 208.464,140.497 303.358,369.848 398.251,577.056 455.278,690.928 512.306,796.803 560.521,880.081 608.737,957.642 661.113,1035.42 \n",
       "  713.489,1106.45 761.775,1165.95 810.06,1219.73 861.828,1271.01 913.596,1315.71 973.573,1359.25 1033.55,1393.94 1086.85,1417.35 1140.15,1433.78 1186.89,1442.43 \n",
       "  1233.63,1445.72 1284.59,1443.17 1335.55,1434.24 1386.82,1418.82 1438.08,1396.93 1494.76,1365.22 1551.43,1325.6 1605.36,1280.57 1659.29,1228.39 1715.36,1166.55 \n",
       "  1771.43,1096.98 1818.63,1032.43 1865.83,962.394 1923.46,869.465 1981.08,768.37 2035.25,665.892 2089.42,556.198 2176.21,365.421 2262.99,156.123 2276.35,122.269 \n",
       "  2289.7,87.9763 \n",
       "  \"/>\n",
       "<polyline clip-path=\"url(#clip712)\" style=\"stroke:#e26f46; stroke-width:4; stroke-opacity:1; fill:none\" stroke-dasharray=\"16, 10\" points=\"\n",
       "  -2102.99,1144.02 4580.63,1144.02 \n",
       "  \"/>\n",
       "</svg>\n"
      ]
     },
     "execution_count": 4,
     "metadata": {},
     "output_type": "execute_result"
    }
   ],
   "source": [
    "plot(f, -3, 3, leg=false)\n",
    "hline!([0], ls=:dash)"
   ]
  },
  {
   "cell_type": "markdown",
   "metadata": {},
   "source": [
    "We see that there are two roots; we know from algebra that these are at $\\pm \\sqrt{2} \\simeq \\pm 1.414\\ldots$. How could we find those roots without prior knowledge?"
   ]
  },
  {
   "cell_type": "markdown",
   "metadata": {},
   "source": [
    "Let's start near the root, for example with the interval"
   ]
  },
  {
   "cell_type": "code",
   "execution_count": 6,
   "metadata": {},
   "outputs": [
    {
     "data": {
      "text/plain": [
       "[1, 2]"
      ]
     },
     "execution_count": 6,
     "metadata": {},
     "output_type": "execute_result"
    }
   ],
   "source": [
    "X = 1..2"
   ]
  },
  {
   "cell_type": "markdown",
   "metadata": {},
   "source": [
    "We get"
   ]
  },
  {
   "cell_type": "code",
   "execution_count": 7,
   "metadata": {},
   "outputs": [
    {
     "data": {
      "text/plain": [
       "[-1, 2]"
      ]
     },
     "execution_count": 7,
     "metadata": {},
     "output_type": "execute_result"
    }
   ],
   "source": [
    "f(X)"
   ]
  },
  {
   "cell_type": "code",
   "execution_count": 8,
   "metadata": {},
   "outputs": [
    {
     "data": {
      "text/plain": [
       "true"
      ]
     },
     "execution_count": 8,
     "metadata": {},
     "output_type": "execute_result"
    }
   ],
   "source": [
    "0 ∈ f(X)   # \\in <TAB>"
   ]
  },
  {
   "cell_type": "markdown",
   "metadata": {},
   "source": [
    "So $0$ is contained in $f(X)$. However, we *cannot* conclude anything from this, since this enclosure may be an *over*-estimate of the true range."
   ]
  },
  {
   "cell_type": "markdown",
   "metadata": {},
   "source": [
    "#### Exercise: "
   ]
  },
  {
   "cell_type": "markdown",
   "metadata": {},
   "source": [
    "Find a quadratic function that you know is $> 0$ everywhere, but which gives an interval containing $0$ when evaluated using interval arithmetic."
   ]
  },
  {
   "cell_type": "markdown",
   "metadata": {},
   "source": [
    "$(x - 2)^2 + 1$"
   ]
  },
  {
   "cell_type": "code",
   "execution_count": 9,
   "metadata": {},
   "outputs": [
    {
     "data": {
      "text/plain": [
       "g (generic function with 1 method)"
      ]
     },
     "execution_count": 9,
     "metadata": {},
     "output_type": "execute_result"
    }
   ],
   "source": [
    "g(x) = x^2 - 4x + 5"
   ]
  },
  {
   "cell_type": "code",
   "execution_count": 10,
   "metadata": {},
   "outputs": [
    {
     "data": {
      "text/plain": [
       "[-15, 50]"
      ]
     },
     "execution_count": 10,
     "metadata": {},
     "output_type": "execute_result"
    }
   ],
   "source": [
    "g(-5..5)"
   ]
  },
  {
   "cell_type": "markdown",
   "metadata": {},
   "source": [
    "Now let's try a region away from the root:"
   ]
  },
  {
   "cell_type": "code",
   "execution_count": 11,
   "metadata": {},
   "outputs": [
    {
     "data": {
      "text/plain": [
       "[3, 4]"
      ]
     },
     "execution_count": 11,
     "metadata": {},
     "output_type": "execute_result"
    }
   ],
   "source": [
    "X = 3..4"
   ]
  },
  {
   "cell_type": "markdown",
   "metadata": {},
   "source": [
    "This gives the range"
   ]
  },
  {
   "cell_type": "code",
   "execution_count": 13,
   "metadata": {},
   "outputs": [
    {
     "data": {
      "text/plain": [
       "f (generic function with 1 method)"
      ]
     },
     "execution_count": 13,
     "metadata": {},
     "output_type": "execute_result"
    }
   ],
   "source": [
    "f(x) = x^2 - 2"
   ]
  },
  {
   "cell_type": "code",
   "execution_count": 14,
   "metadata": {},
   "outputs": [
    {
     "data": {
      "text/plain": [
       "[7, 14]"
      ]
     },
     "execution_count": 14,
     "metadata": {},
     "output_type": "execute_result"
    }
   ],
   "source": [
    "f(X)"
   ]
  },
  {
   "cell_type": "markdown",
   "metadata": {},
   "source": [
    "So"
   ]
  },
  {
   "cell_type": "code",
   "execution_count": 15,
   "metadata": {},
   "outputs": [
    {
     "data": {
      "text/plain": [
       "false"
      ]
     },
     "execution_count": 15,
     "metadata": {},
     "output_type": "execute_result"
    }
   ],
   "source": [
    "0 ∈ f(X)    # type \\in<TAB>"
   ]
  },
  {
   "cell_type": "markdown",
   "metadata": {},
   "source": [
    "Can we conclude anything from this? We see that $0 \\notin f(X)$, so $0 \\in f(X)^c$, where $Y^c := \\mathbb{R} \\setminus Y$ denotes the set complement of $Y$. But $\\text{range}(f; X) \\subseteq f(X)$, and hence $f(X)^c \\subseteq \\text{range}(f; X)^c$. Thus $0 \\in \\text{range}(f; X)^c$, i.e. $0 \\notin \\text{range}(f; X)$.\n",
    "\n",
    "Hence we see that our numerical calculation with floating-point arithmetic gives a *mathematically rigorous guarantee* that there cannot be any roots of $f$ in the interval $X$. We call this *excluding* a root."
   ]
  },
  {
   "cell_type": "markdown",
   "metadata": {},
   "source": [
    "#### Exercise\n",
    "1. Experiment with different intervals to see how far you can exclude roots."
   ]
  },
  {
   "cell_type": "code",
   "execution_count": 16,
   "metadata": {},
   "outputs": [
    {
     "data": {
      "text/plain": [
       "7.0"
      ]
     },
     "execution_count": 16,
     "metadata": {},
     "output_type": "execute_result"
    }
   ],
   "source": [
    "diam(f(X))"
   ]
  },
  {
   "cell_type": "code",
   "execution_count": 17,
   "metadata": {},
   "outputs": [
    {
     "data": {
      "text/plain": [
       "[7, 23]"
      ]
     },
     "execution_count": 17,
     "metadata": {},
     "output_type": "execute_result"
    }
   ],
   "source": [
    "f(3..5)"
   ]
  },
  {
   "cell_type": "code",
   "execution_count": 18,
   "metadata": {},
   "outputs": [
    {
     "data": {
      "text/plain": [
       "[7, 9998]"
      ]
     },
     "execution_count": 18,
     "metadata": {},
     "output_type": "execute_result"
    }
   ],
   "source": [
    "f(3..100)"
   ]
  },
  {
   "cell_type": "code",
   "execution_count": 19,
   "metadata": {},
   "outputs": [
    {
     "data": {
      "text/plain": [
       "[7, 1e+16]"
      ]
     },
     "execution_count": 19,
     "metadata": {},
     "output_type": "execute_result"
    }
   ],
   "source": [
    "f(3..1e8)"
   ]
  },
  {
   "cell_type": "code",
   "execution_count": 20,
   "metadata": {},
   "outputs": [
    {
     "data": {
      "text/plain": [
       "[7, ∞]"
      ]
     },
     "execution_count": 20,
     "metadata": {},
     "output_type": "execute_result"
    }
   ],
   "source": [
    "f(3..∞)  # \\infty<TAB>"
   ]
  },
  {
   "cell_type": "code",
   "execution_count": 21,
   "metadata": {},
   "outputs": [
    {
     "data": {
      "text/plain": [
       "false"
      ]
     },
     "execution_count": 21,
     "metadata": {},
     "output_type": "execute_result"
    }
   ],
   "source": [
    "0 ∈ f(3..∞)"
   ]
  },
  {
   "cell_type": "code",
   "execution_count": 22,
   "metadata": {},
   "outputs": [
    {
     "data": {
      "text/plain": [
       "false"
      ]
     },
     "execution_count": 22,
     "metadata": {},
     "output_type": "execute_result"
    }
   ],
   "source": [
    "0 ∈ f(-∞..(-3))"
   ]
  },
  {
   "cell_type": "code",
   "execution_count": 23,
   "metadata": {},
   "outputs": [
    {
     "ename": "ArgumentError",
     "evalue": "ArgumentError: start and stop must be finite, got 3.0 and Inf",
     "output_type": "error",
     "traceback": [
      "ArgumentError: start and stop must be finite, got 3.0 and Inf",
      "",
      "Stacktrace:",
      " [1] _linspace(::Float64, ::Float64, ::Int64) at ./twiceprecision.jl:617",
      " [2] _range(::Float64, ::Nothing, ::Float64, ::Int64) at ./twiceprecision.jl:613",
      " [3] _range2 at ./range.jl:100 [inlined]",
      " [4] #range#44 at ./range.jl:94 [inlined]",
      " [5] mince(::Interval{Float64}, ::Int64) at /Users/dpsanders/.julia/packages/IntervalArithmetic/sRFlx/src/intervals/arithmetic.jl:579",
      " [6] top-level scope at In[23]:1"
     ]
    }
   ],
   "source": [
    "mince(3..∞, 10)"
   ]
  },
  {
   "cell_type": "code",
   "execution_count": 24,
   "metadata": {},
   "outputs": [
    {
     "data": {
      "text/plain": [
       "[1.79769e+308, ∞]"
      ]
     },
     "execution_count": 24,
     "metadata": {},
     "output_type": "execute_result"
    }
   ],
   "source": [
    "interval(prevfloat(Inf), Inf)"
   ]
  },
  {
   "cell_type": "markdown",
   "metadata": {},
   "source": [
    "## Existence and uniqueness of a root"
   ]
  },
  {
   "cell_type": "markdown",
   "metadata": {},
   "source": [
    "So far we have found an **exclusion region**, where we have been able to show that $f$ has *no* roots. How could we prove that $f$ *does* have a root?\n",
    "\n",
    "In 1D there is a well-known test for this."
   ]
  },
  {
   "cell_type": "markdown",
   "metadata": {},
   "source": [
    "#### Exercise"
   ]
  },
  {
   "cell_type": "markdown",
   "metadata": {},
   "source": [
    "1. Recall from calculus (if you have taken it) that there is a theorem that guarantees that a 1D function crosses $0$. Which theorem is it and what are the conditions for it to be satisfied.\n",
    "\n",
    "\n",
    "2. However, this result could allow for there to be *many* roots in the given interval. What mathematical condition will guarantee that there is a *unique* root? How could we use this on the computer?"
   ]
  },
  {
   "cell_type": "markdown",
   "metadata": {},
   "source": [
    "Intermediate value thm for continuous functions:"
   ]
  },
  {
   "cell_type": "code",
   "execution_count": 25,
   "metadata": {},
   "outputs": [
    {
     "data": {
      "text/plain": [
       "(-1, 2)"
      ]
     },
     "execution_count": 25,
     "metadata": {},
     "output_type": "execute_result"
    }
   ],
   "source": [
    "f(1), f(2)"
   ]
  },
  {
   "cell_type": "code",
   "execution_count": 26,
   "metadata": {},
   "outputs": [
    {
     "data": {
      "text/plain": [
       "true"
      ]
     },
     "execution_count": 26,
     "metadata": {},
     "output_type": "execute_result"
    }
   ],
   "source": [
    "sign(f(1)) != sign(f(2))"
   ]
  },
  {
   "cell_type": "markdown",
   "metadata": {},
   "source": [
    "Unique if $f'$ is bounded away from 0, i.e. $f'(x) \\neq 0$ for all $x \\in X$"
   ]
  },
  {
   "cell_type": "code",
   "execution_count": 27,
   "metadata": {},
   "outputs": [
    {
     "data": {
      "text/plain": [
       "f′ (generic function with 1 method)"
      ]
     },
     "execution_count": 27,
     "metadata": {},
     "output_type": "execute_result"
    }
   ],
   "source": [
    "f′(x) = 2x"
   ]
  },
  {
   "cell_type": "code",
   "execution_count": 29,
   "metadata": {},
   "outputs": [
    {
     "data": {
      "text/plain": [
       "[6, 8]"
      ]
     },
     "execution_count": 29,
     "metadata": {},
     "output_type": "execute_result"
    }
   ],
   "source": [
    "f′(X)"
   ]
  },
  {
   "cell_type": "code",
   "execution_count": 30,
   "metadata": {},
   "outputs": [
    {
     "data": {
      "text/plain": [
       "false"
      ]
     },
     "execution_count": 30,
     "metadata": {},
     "output_type": "execute_result"
    }
   ],
   "source": [
    "0 ∈ f′(X)"
   ]
  },
  {
   "cell_type": "markdown",
   "metadata": {},
   "source": [
    "So monotone, so unique root!"
   ]
  },
  {
   "cell_type": "markdown",
   "metadata": {},
   "source": [
    "## Algorithmic differentiation"
   ]
  },
  {
   "cell_type": "markdown",
   "metadata": {},
   "source": [
    "In order to prove uniqueness of a root for a 1D function in a given interval $X$, we need to know that the function is **strictly monotone**, either increasing or decreasing. That is (assuming differentiability) we need to show that $f'(x) \\neq 0$ for all $x \\in X$, where $f'(x)$ is the derivative of $f$ at $x$.\n",
    "\n",
    "This is just the same problem as excluding roots: now we need to exclude roots of the function $f'$ on the interval $X$! The \"only\" difficulty, then, is how to calculate $f'$. \n",
    "\n",
    "Fortunately, the technique of **algorithm differentiation** (or **automatic differentiation**) provides the solution. We don't have time to go over how this technique works: we will just treat it as a **black box**, provided by a Julia package.\n",
    "\n",
    "There are several possible Julia packages that implement both forward- and reverse-mode algorithmic differentiation. We will use `ForwardDiff.jl`, which uses the algebra of **dual numbers**, $a + b \\epsilon$ with $\\epsilon^2 = 0$, to calculate *exact* derivatives numerically (up to floating-point round-off error)."
   ]
  },
  {
   "cell_type": "code",
   "execution_count": 31,
   "metadata": {},
   "outputs": [],
   "source": [
    "using ForwardDiff"
   ]
  },
  {
   "cell_type": "markdown",
   "metadata": {},
   "source": [
    "For a Julia function `f` we can calculate its derivative at `x` using"
   ]
  },
  {
   "cell_type": "code",
   "execution_count": 32,
   "metadata": {},
   "outputs": [
    {
     "data": {
      "text/plain": [
       "6.0"
      ]
     },
     "execution_count": 32,
     "metadata": {},
     "output_type": "execute_result"
    }
   ],
   "source": [
    "f(x) = x^2 - 2\n",
    "x = 3.0\n",
    "\n",
    "ForwardDiff.derivative(f, x)    # should be 2x"
   ]
  },
  {
   "cell_type": "markdown",
   "metadata": {},
   "source": [
    "We can make a higher-order derivative function as follows:"
   ]
  },
  {
   "cell_type": "code",
   "execution_count": 33,
   "metadata": {},
   "outputs": [
    {
     "data": {
      "text/plain": [
       "derivative (generic function with 1 method)"
      ]
     },
     "execution_count": 33,
     "metadata": {},
     "output_type": "execute_result"
    }
   ],
   "source": [
    "derivative(f) = x -> ForwardDiff.derivative(f, x)  "
   ]
  },
  {
   "cell_type": "markdown",
   "metadata": {},
   "source": [
    "[It is possible to extend `'` to mean derivative, as is done e.g. in `ApproxFun.jl`.]"
   ]
  },
  {
   "cell_type": "markdown",
   "metadata": {},
   "source": [
    "The amazing thing is that we can now use `ForwardDiff` and pass in an *interval* for `x`. Due to the way that algorithmic differentiation works, and the fact that the package has been written in a very generic way, each internal calculation will now produce intervals with the enclosure property, *also* for the derivatives. The end result is:"
   ]
  },
  {
   "cell_type": "code",
   "execution_count": 34,
   "metadata": {},
   "outputs": [
    {
     "data": {
      "text/plain": [
       "[2, 4]"
      ]
     },
     "execution_count": 34,
     "metadata": {},
     "output_type": "execute_result"
    }
   ],
   "source": [
    "ForwardDiff.derivative(f, 1..2)"
   ]
  },
  {
   "cell_type": "markdown",
   "metadata": {},
   "source": [
    "which is guaranteed to be an *enclosure* of $\\text{range}(f', X)$, the range of the derivative over $X$."
   ]
  },
  {
   "cell_type": "markdown",
   "metadata": {},
   "source": [
    "Since this interval is strictly positive, we have proved that $f$ is strictly increasing in that interval. \n",
    "Since it is also continuous and changes sign:"
   ]
  },
  {
   "cell_type": "code",
   "execution_count": null,
   "metadata": {},
   "outputs": [],
   "source": [
    "f(1), f(2)"
   ]
  },
  {
   "cell_type": "markdown",
   "metadata": {},
   "source": [
    "we have *proved* that there is a unique root of $f$ in $[1, 2]$!"
   ]
  },
  {
   "cell_type": "code",
   "execution_count": null,
   "metadata": {},
   "outputs": [],
   "source": []
  }
 ],
 "metadata": {
  "kernelspec": {
   "display_name": "Julia 1.5.0-beta1",
   "language": "julia",
   "name": "julia-1.5"
  },
  "language_info": {
   "file_extension": ".jl",
   "mimetype": "application/julia",
   "name": "julia",
   "version": "1.5.0"
  }
 },
 "nbformat": 4,
 "nbformat_minor": 4
}
